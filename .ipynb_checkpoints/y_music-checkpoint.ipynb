{
 "cells": [
  {
   "cell_type": "markdown",
   "id": "2df6361d",
   "metadata": {
    "id": "2df6361d",
    "toc": true
   },
   "source": [
    "<h1>Table of Contents<span class=\"tocSkip\"></span></h1>\n",
    "<div class=\"toc\"><ul class=\"toc-item\"><li><span><a href=\"#EDA\" data-toc-modified-id=\"EDA-1\"><span class=\"toc-item-num\">1&nbsp;&nbsp;</span>EDA</a></span><ul class=\"toc-item\"><li><span><a href=\"#downloads\" data-toc-modified-id=\"downloads-1.1\"><span class=\"toc-item-num\">1.1&nbsp;&nbsp;</span>downloads</a></span></li><li><span><a href=\"#imports\" data-toc-modified-id=\"imports-1.2\"><span class=\"toc-item-num\">1.2&nbsp;&nbsp;</span>imports</a></span></li><li><span><a href=\"#load_date\" data-toc-modified-id=\"load_date-1.3\"><span class=\"toc-item-num\">1.3&nbsp;&nbsp;</span>load_date</a></span></li><li><span><a href=\"#Lyrics\" data-toc-modified-id=\"Lyrics-1.4\"><span class=\"toc-item-num\">1.4&nbsp;&nbsp;</span>Lyrics</a></span></li><li><span><a href=\"#Covers\" data-toc-modified-id=\"Covers-1.5\"><span class=\"toc-item-num\">1.5&nbsp;&nbsp;</span>Covers</a></span></li><li><span><a href=\"#Meta\" data-toc-modified-id=\"Meta-1.6\"><span class=\"toc-item-num\">1.6&nbsp;&nbsp;</span>Meta</a></span><ul class=\"toc-item\"><li><span><a href=\"#meta.track_id\" data-toc-modified-id=\"meta.track_id-1.6.1\"><span class=\"toc-item-num\">1.6.1&nbsp;&nbsp;</span>meta.track_id</a></span></li><li><span><a href=\"#meta.isrc\" data-toc-modified-id=\"meta.isrc-1.6.2\"><span class=\"toc-item-num\">1.6.2&nbsp;&nbsp;</span>meta.isrc</a></span></li><li><span><a href=\"#meta.title\" data-toc-modified-id=\"meta.title-1.6.3\"><span class=\"toc-item-num\">1.6.3&nbsp;&nbsp;</span>meta.title</a></span></li><li><span><a href=\"#meta.duration\" data-toc-modified-id=\"meta.duration-1.6.4\"><span class=\"toc-item-num\">1.6.4&nbsp;&nbsp;</span>meta.duration</a></span></li><li><span><a href=\"#meta.dttm\" data-toc-modified-id=\"meta.dttm-1.6.5\"><span class=\"toc-item-num\">1.6.5&nbsp;&nbsp;</span>meta.dttm</a></span></li><li><span><a href=\"#meta.genres\" data-toc-modified-id=\"meta.genres-1.6.6\"><span class=\"toc-item-num\">1.6.6&nbsp;&nbsp;</span>meta.genres</a></span></li><li><span><a href=\"#meta.language\" data-toc-modified-id=\"meta.language-1.6.7\"><span class=\"toc-item-num\">1.6.7&nbsp;&nbsp;</span>meta.language</a></span></li><li><span><a href=\"#Зависимость-признака-кавер-или-оригинал-от-длины-текста\" data-toc-modified-id=\"Зависимость-признака-кавер-или-оригинал-от-длины-текста-1.6.8\"><span class=\"toc-item-num\">1.6.8&nbsp;&nbsp;</span>Зависимость признака кавер или оригинал от длины текста</a></span></li></ul></li><li><span><a href=\"#Выводы:\" data-toc-modified-id=\"Выводы:-1.7\"><span class=\"toc-item-num\">1.7&nbsp;&nbsp;</span>Выводы:</a></span></li></ul></li><li><span><a href=\"#Предоработка-данных\" data-toc-modified-id=\"Предоработка-данных-2\"><span class=\"toc-item-num\">2&nbsp;&nbsp;</span>Предоработка данных</a></span><ul class=\"toc-item\"><li><span><a href=\"#Заполним-пропуски-в-колонке-'language'\" data-toc-modified-id=\"Заполним-пропуски-в-колонке-'language'-2.1\"><span class=\"toc-item-num\">2.1&nbsp;&nbsp;</span>Заполним пропуски в колонке 'language'</a></span></li><li><span><a href=\"#Удалим-дубликаты-текстов-для-lyrics.track_id\" data-toc-modified-id=\"Удалим-дубликаты-текстов-для-lyrics.track_id-2.2\"><span class=\"toc-item-num\">2.2&nbsp;&nbsp;</span>Удалим дубликаты текстов для lyrics.track_id</a></span></li><li><span><a href=\"#Выводы:\" data-toc-modified-id=\"Выводы:-2.3\"><span class=\"toc-item-num\">2.3&nbsp;&nbsp;</span>Выводы:</a></span></li></ul></li><li><span><a href=\"#Фича-инжиниринг:-сгенерировать-дополнительные-признаки\" data-toc-modified-id=\"Фича-инжиниринг:-сгенерировать-дополнительные-признаки-3\"><span class=\"toc-item-num\">3&nbsp;&nbsp;</span>Фича-инжиниринг: сгенерировать дополнительные признаки</a></span><ul class=\"toc-item\"><li><span><a href=\"#Признак-&quot;кавер&quot;-в-наименовании-трека\" data-toc-modified-id=\"Признак-&quot;кавер&quot;-в-наименовании-трека-3.1\"><span class=\"toc-item-num\">3.1&nbsp;&nbsp;</span>Признак \"кавер\" в наименовании трека</a></span></li></ul></li><li><span><a href=\"#Задача:-Классификация-оригинал/кавер\" data-toc-modified-id=\"Задача:-Классификация-оригинал/кавер-4\"><span class=\"toc-item-num\">4&nbsp;&nbsp;</span>Задача: Классификация оригинал/кавер</a></span></li><li><span><a href=\"#Задача:-Определение-&quot;связности&quot;-треков\" data-toc-modified-id=\"Задача:-Определение-&quot;связности&quot;-треков-5\"><span class=\"toc-item-num\">5&nbsp;&nbsp;</span>Задача: Определение \"связности\" треков</a></span><ul class=\"toc-item\"><li><span><a href=\"#Сборка-датасета-с-разметкой\" data-toc-modified-id=\"Сборка-датасета-с-разметкой-5.1\"><span class=\"toc-item-num\">5.1&nbsp;&nbsp;</span>Сборка датасета с разметкой</a></span><ul class=\"toc-item\"><li><span><a href=\"#Positive\" data-toc-modified-id=\"Positive-5.1.1\"><span class=\"toc-item-num\">5.1.1&nbsp;&nbsp;</span>Positive</a></span></li><li><span><a href=\"#Negative\" data-toc-modified-id=\"Negative-5.1.2\"><span class=\"toc-item-num\">5.1.2&nbsp;&nbsp;</span>Negative</a></span></li><li><span><a href=\"#Concat\" data-toc-modified-id=\"Concat-5.1.3\"><span class=\"toc-item-num\">5.1.3&nbsp;&nbsp;</span>Concat</a></span></li></ul></li><li><span><a href=\"#Модель\" data-toc-modified-id=\"Модель-5.2\"><span class=\"toc-item-num\">5.2&nbsp;&nbsp;</span>Модель</a></span></li></ul></li><li><span><a href=\"#Задача:-Поиск-связанных-треков\" data-toc-modified-id=\"Задача:-Поиск-связанных-треков-6\"><span class=\"toc-item-num\">6&nbsp;&nbsp;</span>Задача: Поиск связанных треков</a></span></li><li><span><a href=\"#Итоговый-вывод:\" data-toc-modified-id=\"Итоговый-вывод:-7\"><span class=\"toc-item-num\">7&nbsp;&nbsp;</span>Итоговый вывод:</a></span></li></ul></div>"
   ]
  },
  {
   "cell_type": "markdown",
   "id": "5f98fc24",
   "metadata": {
    "id": "5f98fc24"
   },
   "source": [
    "# ЯндексМузыка.Поиск каверов\n",
    "\n",
    "Обнаружение треков каверов - важная продуктовая задача, которая может значительно улучшить качество рекомендаций музыкального сервиса и повысить счастье наших пользователей. Если мы умеем с высокой точностью классифицировать каверы и связывать их между собой, то можно предложить пользователю новые возможности для управления потоком треков. Например:\n",
    "\n",
    "- по желанию пользователя можем полностью исключить каверы из рекомендаций;\n",
    "- показать все каверы на любимый трек пользователя;\n",
    "- контролировать долю каверов в ленте пользователя."
   ]
  },
  {
   "cell_type": "markdown",
   "id": "fa90ee9a",
   "metadata": {
    "id": "fa90ee9a"
   },
   "source": [
    "**Цель проекта:**\n",
    "\n",
    "Улучшение качества рекомендаций музыкального сервиса путем точного определения и\n",
    "классификации каверов.\n",
    "\n",
    "**Задача:**\n",
    "\n",
    "Разработка ML-модели для сопоставления текстов музыкальных произведений и для поиска каверов (вариации обработки оригинала с элементами новой аранжировки) по их текстам"
   ]
  },
  {
   "cell_type": "markdown",
   "id": "bc4accc3",
   "metadata": {
    "id": "bc4accc3"
   },
   "source": [
    "**Гипотеза 1:**\n",
    "\n",
    "По названию трека можно определить оригинал или НЕ ОРИГИНАЛ с точностью не менее 70%.\n",
    "\n",
    "**Постановка задачи:**\n",
    "Построить модели бинарной классификации, которая будет определять, является ли трек кавером или оригиналом на основании наименования и других имеющихся признаков.\n",
    "\n",
    "**Метрика:**\n",
    "\n",
    "**Предлагаемое решение:**\n",
    "\n",
    "Добавить бинарный признак \"содержит синоним слова \"кавер\" \" и используя регулярки заполнить, например если есть что-то из (см. ниже), то ставим единицу, в противном случае -0:\n",
    "\n",
    "- cover version/cover,\n",
    "- интерпретация, обработка, перепевка,\n",
    "- Interpretation\n",
    "- Version\n",
    "- Remake\n",
    "- Re-Recording\n",
    "- Revisitation\n",
    "- Remix\n",
    "- Updated Version и т.д.\n",
    "\n",
    "Само поле с названием тоже оставить как признак.\n",
    "Использовать катбуст"
   ]
  },
  {
   "cell_type": "markdown",
   "id": "3366c72b",
   "metadata": {
    "id": "3366c72b"
   },
   "source": [
    "**Гипотеза 2а:**\n",
    "\n",
    "По тексту песни и другим имеющимся признакам можно определить (для пары: оригинал и кавер), является оригинал исходной песней для кавера - или нет. Бинарная классификация  \n",
    "\n",
    "**Гипотеза 2б:**\n",
    "\n",
    "Для каждого заданного трека (неважно, дан кавер или оригинал) найти все близкие к нему из имеющейся базы. По тексту песни.\n",
    "\n",
    "Понятие \"Близкие\" еще надо расписать , по какому критерию. Например, схожесть по Левенштейну (или евклидовому расстоянию)>0.9\n"
   ]
  },
  {
   "cell_type": "markdown",
   "id": "0cc7845b",
   "metadata": {
    "id": "0cc7845b"
   },
   "source": [
    "## EDA"
   ]
  },
  {
   "cell_type": "markdown",
   "id": "161191ab",
   "metadata": {
    "id": "161191ab"
   },
   "source": [
    "### downloads"
   ]
  },
  {
   "cell_type": "code",
   "execution_count": 1,
   "id": "5f572a13",
   "metadata": {
    "colab": {
     "base_uri": "https://localhost:8080/"
    },
    "id": "5f572a13",
    "outputId": "2fc41f31-3f1d-425a-f98d-455ee3c27be7"
   },
   "outputs": [],
   "source": [
    "!pip install -q langdetect\n",
    "!pip install catboost -q"
   ]
  },
  {
   "cell_type": "markdown",
   "id": "c308f46d",
   "metadata": {
    "id": "c308f46d"
   },
   "source": [
    "### imports"
   ]
  },
  {
   "cell_type": "code",
   "execution_count": 84,
   "id": "b9a76421",
   "metadata": {
    "id": "b9a76421"
   },
   "outputs": [],
   "source": [
    "import pandas as pd\n",
    "import time\n",
    "from langdetect import detect\n",
    "import random\n",
    "from matplotlib import pyplot as plt\n",
    "\n",
    "from catboost import CatBoostClassifier,Pool\n",
    "\n",
    "from sklearn.metrics import f1_score, roc_curve, roc_auc_score\n",
    "from sklearn.model_selection import train_test_split, StratifiedKFold, RandomizedSearchCV\n",
    "\n",
    "RS = 4132"
   ]
  },
  {
   "cell_type": "markdown",
   "id": "5126ccf9",
   "metadata": {
    "id": "5126ccf9"
   },
   "source": [
    "### load_date"
   ]
  },
  {
   "cell_type": "code",
   "execution_count": 3,
   "id": "3a499208",
   "metadata": {
    "id": "3a499208",
    "scrolled": true
   },
   "outputs": [],
   "source": [
    "covers = pd.read_json('data/covers.json', lines = True)\n",
    "meta = pd.read_json('data/meta.json', lines = True, convert_dates=['dttm'])\n",
    "lyrics = pd.read_json('data/lyrics.json', lines = True)"
   ]
  },
  {
   "cell_type": "markdown",
   "id": "84d57008",
   "metadata": {
    "id": "84d57008"
   },
   "source": [
    "### Lyrics\n",
    "Рассмотрим подробнее датасет \"Текст песен\"\n",
    "- track_id - уникальный идентификатор трека;\n",
    "\n",
    "- lyricId - уникальный идентификатор текста;\n",
    "\n",
    "- text - текст трека."
   ]
  },
  {
   "cell_type": "code",
   "execution_count": 4,
   "id": "6e3c75a2",
   "metadata": {
    "colab": {
     "base_uri": "https://localhost:8080/",
     "height": 430
    },
    "id": "6e3c75a2",
    "outputId": "52c514bc-e197-4e85-bfcb-5e529b3badc6",
    "scrolled": false
   },
   "outputs": [
    {
     "name": "stdout",
     "output_type": "stream",
     "text": [
      "<class 'pandas.core.frame.DataFrame'>\n",
      "RangeIndex: 11414 entries, 0 to 11413\n",
      "Data columns (total 3 columns):\n",
      " #   Column    Non-Null Count  Dtype \n",
      "---  ------    --------------  ----- \n",
      " 0   lyricId   11414 non-null  object\n",
      " 1   text      11414 non-null  object\n",
      " 2   track_id  11414 non-null  object\n",
      "dtypes: object(3)\n",
      "memory usage: 267.6+ KB\n"
     ]
    },
    {
     "data": {
      "text/html": [
       "<div>\n",
       "<style scoped>\n",
       "    .dataframe tbody tr th:only-of-type {\n",
       "        vertical-align: middle;\n",
       "    }\n",
       "\n",
       "    .dataframe tbody tr th {\n",
       "        vertical-align: top;\n",
       "    }\n",
       "\n",
       "    .dataframe thead th {\n",
       "        text-align: right;\n",
       "    }\n",
       "</style>\n",
       "<table border=\"1\" class=\"dataframe\">\n",
       "  <thead>\n",
       "    <tr style=\"text-align: right;\">\n",
       "      <th></th>\n",
       "      <th>lyricId</th>\n",
       "      <th>text</th>\n",
       "      <th>track_id</th>\n",
       "    </tr>\n",
       "  </thead>\n",
       "  <tbody>\n",
       "    <tr>\n",
       "      <th>0</th>\n",
       "      <td>a951f9504e89759e9d23039b7b17ec14</td>\n",
       "      <td>Живу сейчас обломами, обломками не той любви\\n...</td>\n",
       "      <td>1c4b1230f937e4c548ff732523214dcd</td>\n",
       "    </tr>\n",
       "    <tr>\n",
       "      <th>1</th>\n",
       "      <td>0c749bc3f01eb8e6cf986fa14ccfc585</td>\n",
       "      <td>Tell me your fable\\nA fable\\nTell me your fabl...</td>\n",
       "      <td>0faea89b0d7d6235b5b74def72511bd8</td>\n",
       "    </tr>\n",
       "    <tr>\n",
       "      <th>2</th>\n",
       "      <td>e2c8830fbc86e5964478243099eec23a</td>\n",
       "      <td>You're ashamed about all your fears and doubts...</td>\n",
       "      <td>9c6dc41d5ccd9968d07f055da5d8f741</td>\n",
       "    </tr>\n",
       "  </tbody>\n",
       "</table>\n",
       "</div>"
      ],
      "text/plain": [
       "                            lyricId  \\\n",
       "0  a951f9504e89759e9d23039b7b17ec14   \n",
       "1  0c749bc3f01eb8e6cf986fa14ccfc585   \n",
       "2  e2c8830fbc86e5964478243099eec23a   \n",
       "\n",
       "                                                text  \\\n",
       "0  Живу сейчас обломами, обломками не той любви\\n...   \n",
       "1  Tell me your fable\\nA fable\\nTell me your fabl...   \n",
       "2  You're ashamed about all your fears and doubts...   \n",
       "\n",
       "                           track_id  \n",
       "0  1c4b1230f937e4c548ff732523214dcd  \n",
       "1  0faea89b0d7d6235b5b74def72511bd8  \n",
       "2  9c6dc41d5ccd9968d07f055da5d8f741  "
      ]
     },
     "execution_count": 4,
     "metadata": {},
     "output_type": "execute_result"
    }
   ],
   "source": [
    "lyrics.info()\n",
    "lyrics.head(3)"
   ]
  },
  {
   "cell_type": "code",
   "execution_count": 5,
   "id": "bd4663b3",
   "metadata": {
    "colab": {
     "base_uri": "https://localhost:8080/"
    },
    "id": "bd4663b3",
    "outputId": "0b310a66-3bc1-46ce-8d93-d587cab1f522"
   },
   "outputs": [
    {
     "data": {
      "text/plain": [
       "(0, 1137)"
      ]
     },
     "execution_count": 5,
     "metadata": {},
     "output_type": "execute_result"
    }
   ],
   "source": [
    "# Пропуски и дубликаты в track_id\n",
    "lyrics['track_id'].isna().sum(), lyrics['track_id'].duplicated().sum()"
   ]
  },
  {
   "cell_type": "code",
   "execution_count": 6,
   "id": "f10ea7ef",
   "metadata": {
    "colab": {
     "base_uri": "https://localhost:8080/",
     "height": 840
    },
    "id": "f10ea7ef",
    "outputId": "1b9d13d1-8c72-467c-d40c-9dad76cec710"
   },
   "outputs": [
    {
     "data": {
      "text/html": [
       "<div>\n",
       "<style scoped>\n",
       "    .dataframe tbody tr th:only-of-type {\n",
       "        vertical-align: middle;\n",
       "    }\n",
       "\n",
       "    .dataframe tbody tr th {\n",
       "        vertical-align: top;\n",
       "    }\n",
       "\n",
       "    .dataframe thead th {\n",
       "        text-align: right;\n",
       "    }\n",
       "</style>\n",
       "<table border=\"1\" class=\"dataframe\">\n",
       "  <thead>\n",
       "    <tr style=\"text-align: right;\">\n",
       "      <th></th>\n",
       "      <th>lyricId</th>\n",
       "      <th>text</th>\n",
       "      <th>track_id</th>\n",
       "    </tr>\n",
       "  </thead>\n",
       "  <tbody>\n",
       "    <tr>\n",
       "      <th>3305</th>\n",
       "      <td>23fc4e63cb643861138fc62c83c77e99</td>\n",
       "      <td>\"Show me show me show me how you do that trick...</td>\n",
       "      <td>701dc20b28f07b952812d182278a5e55</td>\n",
       "    </tr>\n",
       "    <tr>\n",
       "      <th>3304</th>\n",
       "      <td>23fc4e63cb643861138fc62c83c77e99</td>\n",
       "      <td>\"Show me show me show me how you do that trick...</td>\n",
       "      <td>b6f3fcfc0ca3c5ac84cdb55f916d6b25</td>\n",
       "    </tr>\n",
       "    <tr>\n",
       "      <th>4852</th>\n",
       "      <td>53c10cb6921925856eeefdfa84eb6806</td>\n",
       "      <td>\"Ничто\" на дне, помоги достать мне, и я помогу...</td>\n",
       "      <td>98b6810d5545436a156c7df7f3a861be</td>\n",
       "    </tr>\n",
       "    <tr>\n",
       "      <th>4851</th>\n",
       "      <td>53c10cb6921925856eeefdfa84eb6806</td>\n",
       "      <td>\"Ничто\" на дне, помоги достать мне, и я помогу...</td>\n",
       "      <td>ca85692f15021f3e58ccf518d7ba3c97</td>\n",
       "    </tr>\n",
       "    <tr>\n",
       "      <th>4850</th>\n",
       "      <td>53c10cb6921925856eeefdfa84eb6806</td>\n",
       "      <td>\"Ничто\" на дне, помоги достать мне, и я помогу...</td>\n",
       "      <td>7eaba8513b9401fc1d3d01107ee6a3c6</td>\n",
       "    </tr>\n",
       "    <tr>\n",
       "      <th>...</th>\n",
       "      <td>...</td>\n",
       "      <td>...</td>\n",
       "      <td>...</td>\n",
       "    </tr>\n",
       "    <tr>\n",
       "      <th>4260</th>\n",
       "      <td>2bcd1f2f81ca13348de05d563998af00</td>\n",
       "      <td>Ярость глубинная оживает,\\nСталью сияя, рвётся...</td>\n",
       "      <td>814e2dc18df877e6ccefd95428565973</td>\n",
       "    </tr>\n",
       "    <tr>\n",
       "      <th>2882</th>\n",
       "      <td>93060f74359a18c4d775f39424e3d7d8</td>\n",
       "      <td>รู้ ขอแค่เวลาอีกหน่อย\\nที่จะทำให้ความวุ่นวาย\\n...</td>\n",
       "      <td>2777f6f213a535155f10ccb46014f0e3</td>\n",
       "    </tr>\n",
       "    <tr>\n",
       "      <th>2883</th>\n",
       "      <td>93060f74359a18c4d775f39424e3d7d8</td>\n",
       "      <td>รู้ ขอแค่เวลาอีกหน่อย\\nที่จะทำให้ความวุ่นวาย\\n...</td>\n",
       "      <td>c9010a9e75b9ec48dcf952ef8e268ea9</td>\n",
       "    </tr>\n",
       "    <tr>\n",
       "      <th>9477</th>\n",
       "      <td>5171df14636ba3b6620dc2dd9d6984d0</td>\n",
       "      <td>故事的小黄花\\n从出生那年就飘着\\n童年的荡秋千\\n随记忆一直晃到现在\\nRui sou s...</td>\n",
       "      <td>ef745b6be5ec40b4ae697fc0c7630c73</td>\n",
       "    </tr>\n",
       "    <tr>\n",
       "      <th>9476</th>\n",
       "      <td>5171df14636ba3b6620dc2dd9d6984d0</td>\n",
       "      <td>故事的小黄花\\n从出生那年就飘着\\n童年的荡秋千\\n随记忆一直晃到现在\\nRui sou s...</td>\n",
       "      <td>1fdaca39f72a007ea652d86c35e70c8d</td>\n",
       "    </tr>\n",
       "  </tbody>\n",
       "</table>\n",
       "<p>873 rows × 3 columns</p>\n",
       "</div>"
      ],
      "text/plain": [
       "                               lyricId  \\\n",
       "3305  23fc4e63cb643861138fc62c83c77e99   \n",
       "3304  23fc4e63cb643861138fc62c83c77e99   \n",
       "4852  53c10cb6921925856eeefdfa84eb6806   \n",
       "4851  53c10cb6921925856eeefdfa84eb6806   \n",
       "4850  53c10cb6921925856eeefdfa84eb6806   \n",
       "...                                ...   \n",
       "4260  2bcd1f2f81ca13348de05d563998af00   \n",
       "2882  93060f74359a18c4d775f39424e3d7d8   \n",
       "2883  93060f74359a18c4d775f39424e3d7d8   \n",
       "9477  5171df14636ba3b6620dc2dd9d6984d0   \n",
       "9476  5171df14636ba3b6620dc2dd9d6984d0   \n",
       "\n",
       "                                                   text  \\\n",
       "3305  \"Show me show me show me how you do that trick...   \n",
       "3304  \"Show me show me show me how you do that trick...   \n",
       "4852  \"Ничто\" на дне, помоги достать мне, и я помогу...   \n",
       "4851  \"Ничто\" на дне, помоги достать мне, и я помогу...   \n",
       "4850  \"Ничто\" на дне, помоги достать мне, и я помогу...   \n",
       "...                                                 ...   \n",
       "4260  Ярость глубинная оживает,\\nСталью сияя, рвётся...   \n",
       "2882  รู้ ขอแค่เวลาอีกหน่อย\\nที่จะทำให้ความวุ่นวาย\\n...   \n",
       "2883  รู้ ขอแค่เวลาอีกหน่อย\\nที่จะทำให้ความวุ่นวาย\\n...   \n",
       "9477  故事的小黄花\\n从出生那年就飘着\\n童年的荡秋千\\n随记忆一直晃到现在\\nRui sou s...   \n",
       "9476  故事的小黄花\\n从出生那年就飘着\\n童年的荡秋千\\n随记忆一直晃到现在\\nRui sou s...   \n",
       "\n",
       "                              track_id  \n",
       "3305  701dc20b28f07b952812d182278a5e55  \n",
       "3304  b6f3fcfc0ca3c5ac84cdb55f916d6b25  \n",
       "4852  98b6810d5545436a156c7df7f3a861be  \n",
       "4851  ca85692f15021f3e58ccf518d7ba3c97  \n",
       "4850  7eaba8513b9401fc1d3d01107ee6a3c6  \n",
       "...                                ...  \n",
       "4260  814e2dc18df877e6ccefd95428565973  \n",
       "2882  2777f6f213a535155f10ccb46014f0e3  \n",
       "2883  c9010a9e75b9ec48dcf952ef8e268ea9  \n",
       "9477  ef745b6be5ec40b4ae697fc0c7630c73  \n",
       "9476  1fdaca39f72a007ea652d86c35e70c8d  \n",
       "\n",
       "[873 rows x 3 columns]"
      ]
     },
     "execution_count": 6,
     "metadata": {},
     "output_type": "execute_result"
    }
   ],
   "source": [
    "# не дублированы только track_id\n",
    "lyrics[lyrics['text'].duplicated(keep=False) & lyrics['lyricId'].duplicated(keep=False)].sort_values(by='text')"
   ]
  },
  {
   "cell_type": "code",
   "execution_count": 7,
   "id": "e0560a45",
   "metadata": {
    "colab": {
     "base_uri": "https://localhost:8080/",
     "height": 909
    },
    "id": "e0560a45",
    "outputId": "3c1aedd6-f16f-4774-ecc8-b9f06becb4e3"
   },
   "outputs": [
    {
     "data": {
      "text/html": [
       "<div>\n",
       "<style scoped>\n",
       "    .dataframe tbody tr th:only-of-type {\n",
       "        vertical-align: middle;\n",
       "    }\n",
       "\n",
       "    .dataframe tbody tr th {\n",
       "        vertical-align: top;\n",
       "    }\n",
       "\n",
       "    .dataframe thead th {\n",
       "        text-align: right;\n",
       "    }\n",
       "</style>\n",
       "<table border=\"1\" class=\"dataframe\">\n",
       "  <thead>\n",
       "    <tr style=\"text-align: right;\">\n",
       "      <th></th>\n",
       "      <th>lyricId</th>\n",
       "      <th>text</th>\n",
       "      <th>track_id</th>\n",
       "    </tr>\n",
       "  </thead>\n",
       "  <tbody>\n",
       "    <tr>\n",
       "      <th>10681</th>\n",
       "      <td>039236cf5355b4a81a7d5e689dbbf00a</td>\n",
       "      <td>Hearts go astray\\nLeaving hurt when they go\\nI...</td>\n",
       "      <td>0021519c8533f1116591948bbb349aef</td>\n",
       "    </tr>\n",
       "    <tr>\n",
       "      <th>10686</th>\n",
       "      <td>0abe3bb343894590423064dee2d2a114</td>\n",
       "      <td>Hearts go astray\\nLeaving hurt when they go\\nI...</td>\n",
       "      <td>0021519c8533f1116591948bbb349aef</td>\n",
       "    </tr>\n",
       "    <tr>\n",
       "      <th>10676</th>\n",
       "      <td>745f700051961898c65ffdafd9793584</td>\n",
       "      <td>Hearts go astray\\nLeaving hurt when they go\\nI...</td>\n",
       "      <td>0021519c8533f1116591948bbb349aef</td>\n",
       "    </tr>\n",
       "    <tr>\n",
       "      <th>4796</th>\n",
       "      <td>9ee5ee7522b5b6d045a2d276a040d00c</td>\n",
       "      <td>If I stay with you, if I'm choosing wrong\\nI d...</td>\n",
       "      <td>0102189356af15ad0be804eddd9bc24a</td>\n",
       "    </tr>\n",
       "    <tr>\n",
       "      <th>11306</th>\n",
       "      <td>1682f991cfa94d1440bef2aa417edec7</td>\n",
       "      <td>If I stay with you, if I'm choosing wrong\\nI d...</td>\n",
       "      <td>0102189356af15ad0be804eddd9bc24a</td>\n",
       "    </tr>\n",
       "    <tr>\n",
       "      <th>...</th>\n",
       "      <td>...</td>\n",
       "      <td>...</td>\n",
       "      <td>...</td>\n",
       "    </tr>\n",
       "    <tr>\n",
       "      <th>11229</th>\n",
       "      <td>b2bd7e1c3e5b8987b0a7df143a2c3c0f</td>\n",
       "      <td>I cover the waterfront,\\nI'm watching the sea,...</td>\n",
       "      <td>ff54e3bcd7ef7aeb41c91f9abeac9c68</td>\n",
       "    </tr>\n",
       "    <tr>\n",
       "      <th>11228</th>\n",
       "      <td>ed694fc7bdf247b249020ef155514173</td>\n",
       "      <td>I cover the waterfront,\\nI'm watching the sea,...</td>\n",
       "      <td>ff54e3bcd7ef7aeb41c91f9abeac9c68</td>\n",
       "    </tr>\n",
       "    <tr>\n",
       "      <th>8895</th>\n",
       "      <td>c8af153ec09b0a087e79a0f77f7310bd</td>\n",
       "      <td>Don't go tonight\\nStay here one more time\\nRem...</td>\n",
       "      <td>ff77df3ccccd54654ea4b2209dd6e38c</td>\n",
       "    </tr>\n",
       "    <tr>\n",
       "      <th>8881</th>\n",
       "      <td>d9107cc98fb6dc91853ea69ac98f1d58</td>\n",
       "      <td>Don't go tonight\\nStay here one more time\\nRem...</td>\n",
       "      <td>ff77df3ccccd54654ea4b2209dd6e38c</td>\n",
       "    </tr>\n",
       "    <tr>\n",
       "      <th>8053</th>\n",
       "      <td>6a50f88b4e071c780fa48e059fa9e60b</td>\n",
       "      <td>Don't go tonight\\nStay here one more time\\nRem...</td>\n",
       "      <td>ff77df3ccccd54654ea4b2209dd6e38c</td>\n",
       "    </tr>\n",
       "  </tbody>\n",
       "</table>\n",
       "<p>1774 rows × 3 columns</p>\n",
       "</div>"
      ],
      "text/plain": [
       "                                lyricId  \\\n",
       "10681  039236cf5355b4a81a7d5e689dbbf00a   \n",
       "10686  0abe3bb343894590423064dee2d2a114   \n",
       "10676  745f700051961898c65ffdafd9793584   \n",
       "4796   9ee5ee7522b5b6d045a2d276a040d00c   \n",
       "11306  1682f991cfa94d1440bef2aa417edec7   \n",
       "...                                 ...   \n",
       "11229  b2bd7e1c3e5b8987b0a7df143a2c3c0f   \n",
       "11228  ed694fc7bdf247b249020ef155514173   \n",
       "8895   c8af153ec09b0a087e79a0f77f7310bd   \n",
       "8881   d9107cc98fb6dc91853ea69ac98f1d58   \n",
       "8053   6a50f88b4e071c780fa48e059fa9e60b   \n",
       "\n",
       "                                                    text  \\\n",
       "10681  Hearts go astray\\nLeaving hurt when they go\\nI...   \n",
       "10686  Hearts go astray\\nLeaving hurt when they go\\nI...   \n",
       "10676  Hearts go astray\\nLeaving hurt when they go\\nI...   \n",
       "4796   If I stay with you, if I'm choosing wrong\\nI d...   \n",
       "11306  If I stay with you, if I'm choosing wrong\\nI d...   \n",
       "...                                                  ...   \n",
       "11229  I cover the waterfront,\\nI'm watching the sea,...   \n",
       "11228  I cover the waterfront,\\nI'm watching the sea,...   \n",
       "8895   Don't go tonight\\nStay here one more time\\nRem...   \n",
       "8881   Don't go tonight\\nStay here one more time\\nRem...   \n",
       "8053   Don't go tonight\\nStay here one more time\\nRem...   \n",
       "\n",
       "                               track_id  \n",
       "10681  0021519c8533f1116591948bbb349aef  \n",
       "10686  0021519c8533f1116591948bbb349aef  \n",
       "10676  0021519c8533f1116591948bbb349aef  \n",
       "4796   0102189356af15ad0be804eddd9bc24a  \n",
       "11306  0102189356af15ad0be804eddd9bc24a  \n",
       "...                                 ...  \n",
       "11229  ff54e3bcd7ef7aeb41c91f9abeac9c68  \n",
       "11228  ff54e3bcd7ef7aeb41c91f9abeac9c68  \n",
       "8895   ff77df3ccccd54654ea4b2209dd6e38c  \n",
       "8881   ff77df3ccccd54654ea4b2209dd6e38c  \n",
       "8053   ff77df3ccccd54654ea4b2209dd6e38c  \n",
       "\n",
       "[1774 rows x 3 columns]"
      ]
     },
     "execution_count": 7,
     "metadata": {},
     "output_type": "execute_result"
    }
   ],
   "source": [
    "# Дубли по track_id\n",
    "# при одтнаковых track_id текст разный\n",
    "lyrics[lyrics['track_id'].duplicated(keep=False)].sort_values(by='track_id')"
   ]
  },
  {
   "cell_type": "markdown",
   "id": "51016fa4",
   "metadata": {
    "id": "51016fa4"
   },
   "source": [
    "Заметили, что есть дубликаты текста при этом разные track_id. Пока решили, что это может быть загружена одна песня несколько раз и поэтому, пока не стали удалять, позже выберем те track_id, для которых есть разметка."
   ]
  },
  {
   "cell_type": "markdown",
   "id": "8609e7f3",
   "metadata": {
    "id": "8609e7f3"
   },
   "source": [
    "### Covers\n",
    "Файл covers.json содержит разметку каверов, сделанную редакторами сервиса:\n",
    "- track_id - уникальный идентификатор трека;\n",
    "- track_remake_type - метка, присвоенная редакторами. Может принимать значения ORIGINAL и COVER;\n",
    "- original_track_id - уникальный идентификатор исходного трека."
   ]
  },
  {
   "cell_type": "markdown",
   "id": "d6094087",
   "metadata": {
    "id": "d6094087"
   },
   "source": [
    "Посмотрим долю каверов в датасете"
   ]
  },
  {
   "cell_type": "code",
   "execution_count": 8,
   "id": "a3355a7c",
   "metadata": {
    "colab": {
     "base_uri": "https://localhost:8080/",
     "height": 479
    },
    "id": "a3355a7c",
    "outputId": "78c914c6-1243-4c72-9c7e-b8be008a611d",
    "scrolled": true
   },
   "outputs": [
    {
     "name": "stdout",
     "output_type": "stream",
     "text": [
      "COVER       67304\n",
      "ORIGINAL     4293\n",
      "Name: track_remake_type, dtype: int64\n"
     ]
    },
    {
     "data": {
      "image/png": "[encoded data removed]",
      "text/plain": [
       "<Figure size 500x600 with 1 Axes>"
      ]
     },
     "metadata": {},
     "output_type": "display_data"
    }
   ],
   "source": [
    "print(covers.track_remake_type.value_counts())\n",
    "covers.track_remake_type.value_counts().plot(kind='pie', figsize=(5,6), label='type');"
   ]
  },
  {
   "cell_type": "markdown",
   "id": "8a6a445c",
   "metadata": {
    "id": "8a6a445c"
   },
   "source": [
    "Проверим, сколько из всех каверов имеют заполненное поле с оригинальным треком:"
   ]
  },
  {
   "cell_type": "code",
   "execution_count": 9,
   "id": "119fa3b2",
   "metadata": {
    "colab": {
     "base_uri": "https://localhost:8080/",
     "height": 443
    },
    "id": "119fa3b2",
    "outputId": "b6b9b293-e28e-49aa-8824-429f43fa7a78",
    "scrolled": true
   },
   "outputs": [
    {
     "data": {
      "text/html": [
       "<div>\n",
       "<style scoped>\n",
       "    .dataframe tbody tr th:only-of-type {\n",
       "        vertical-align: middle;\n",
       "    }\n",
       "\n",
       "    .dataframe tbody tr th {\n",
       "        vertical-align: top;\n",
       "    }\n",
       "\n",
       "    .dataframe thead th {\n",
       "        text-align: right;\n",
       "    }\n",
       "</style>\n",
       "<table border=\"1\" class=\"dataframe\">\n",
       "  <thead>\n",
       "    <tr style=\"text-align: right;\">\n",
       "      <th></th>\n",
       "      <th>original_track_id</th>\n",
       "      <th>track_id</th>\n",
       "      <th>track_remake_type</th>\n",
       "    </tr>\n",
       "  </thead>\n",
       "  <tbody>\n",
       "    <tr>\n",
       "      <th>33</th>\n",
       "      <td>b9213d37c37deffe8b8af0dac5d0c3c4</td>\n",
       "      <td>58a293c4c86b4c0000b0e683c77432a8</td>\n",
       "      <td>COVER</td>\n",
       "    </tr>\n",
       "    <tr>\n",
       "      <th>40</th>\n",
       "      <td>deb9b9598176a0bab1212d430b10bd04</td>\n",
       "      <td>bfa9c5c62c08a0db763e2a2284e3d1b2</td>\n",
       "      <td>COVER</td>\n",
       "    </tr>\n",
       "    <tr>\n",
       "      <th>51</th>\n",
       "      <td>b9213d37c37deffe8b8af0dac5d0c3c4</td>\n",
       "      <td>79eb48bb4409051aab1602e390c98736</td>\n",
       "      <td>COVER</td>\n",
       "    </tr>\n",
       "    <tr>\n",
       "      <th>60</th>\n",
       "      <td>b9213d37c37deffe8b8af0dac5d0c3c4</td>\n",
       "      <td>a106cea5c02ed8a70b421831cc4e7192</td>\n",
       "      <td>COVER</td>\n",
       "    </tr>\n",
       "    <tr>\n",
       "      <th>67</th>\n",
       "      <td>b9213d37c37deffe8b8af0dac5d0c3c4</td>\n",
       "      <td>7c9052caed90949c46c171951cd9dc3d</td>\n",
       "      <td>COVER</td>\n",
       "    </tr>\n",
       "    <tr>\n",
       "      <th>...</th>\n",
       "      <td>...</td>\n",
       "      <td>...</td>\n",
       "      <td>...</td>\n",
       "    </tr>\n",
       "    <tr>\n",
       "      <th>70720</th>\n",
       "      <td>25b8e40b7fa4df88af70590ee44bb820</td>\n",
       "      <td>af95d0aa50dc1934de870c7cc0adafc7</td>\n",
       "      <td>COVER</td>\n",
       "    </tr>\n",
       "    <tr>\n",
       "      <th>70721</th>\n",
       "      <td>8eb966d9b7b88b0816b70f7d47a963df</td>\n",
       "      <td>0a89e59f9216b80f5619b4faa8e3753a</td>\n",
       "      <td>COVER</td>\n",
       "    </tr>\n",
       "    <tr>\n",
       "      <th>70932</th>\n",
       "      <td>efb09c8e01086753d9ed9119a88d8748</td>\n",
       "      <td>ddcaf83d03b764f17bf3adb35fd93dcf</td>\n",
       "      <td>COVER</td>\n",
       "    </tr>\n",
       "    <tr>\n",
       "      <th>71003</th>\n",
       "      <td>a6bea0f1418b5e768b689604e11d111d</td>\n",
       "      <td>4db9bfa70567a07578ad151df3b7f36c</td>\n",
       "      <td>COVER</td>\n",
       "    </tr>\n",
       "    <tr>\n",
       "      <th>71323</th>\n",
       "      <td>96437a3517f1f408381363bc8d539718</td>\n",
       "      <td>16cd4a1aabf7870afda93320dbd4698c</td>\n",
       "      <td>COVER</td>\n",
       "    </tr>\n",
       "  </tbody>\n",
       "</table>\n",
       "<p>528 rows × 3 columns</p>\n",
       "</div>"
      ],
      "text/plain": [
       "                      original_track_id                          track_id  \\\n",
       "33     b9213d37c37deffe8b8af0dac5d0c3c4  58a293c4c86b4c0000b0e683c77432a8   \n",
       "40     deb9b9598176a0bab1212d430b10bd04  bfa9c5c62c08a0db763e2a2284e3d1b2   \n",
       "51     b9213d37c37deffe8b8af0dac5d0c3c4  79eb48bb4409051aab1602e390c98736   \n",
       "60     b9213d37c37deffe8b8af0dac5d0c3c4  a106cea5c02ed8a70b421831cc4e7192   \n",
       "67     b9213d37c37deffe8b8af0dac5d0c3c4  7c9052caed90949c46c171951cd9dc3d   \n",
       "...                                 ...                               ...   \n",
       "70720  25b8e40b7fa4df88af70590ee44bb820  af95d0aa50dc1934de870c7cc0adafc7   \n",
       "70721  8eb966d9b7b88b0816b70f7d47a963df  0a89e59f9216b80f5619b4faa8e3753a   \n",
       "70932  efb09c8e01086753d9ed9119a88d8748  ddcaf83d03b764f17bf3adb35fd93dcf   \n",
       "71003  a6bea0f1418b5e768b689604e11d111d  4db9bfa70567a07578ad151df3b7f36c   \n",
       "71323  96437a3517f1f408381363bc8d539718  16cd4a1aabf7870afda93320dbd4698c   \n",
       "\n",
       "      track_remake_type  \n",
       "33                COVER  \n",
       "40                COVER  \n",
       "51                COVER  \n",
       "60                COVER  \n",
       "67                COVER  \n",
       "...                 ...  \n",
       "70720             COVER  \n",
       "70721             COVER  \n",
       "70932             COVER  \n",
       "71003             COVER  \n",
       "71323             COVER  \n",
       "\n",
       "[528 rows x 3 columns]"
      ]
     },
     "execution_count": 9,
     "metadata": {},
     "output_type": "execute_result"
    }
   ],
   "source": [
    "covers.loc[(covers.track_remake_type=='COVER') & (covers.original_track_id.isnull()==False)]"
   ]
  },
  {
   "cell_type": "markdown",
   "id": "29215edc",
   "metadata": {
    "id": "29215edc"
   },
   "source": [
    "Выводы:\n",
    "Всего дано 67304 каверов, из низ с известным (размеченным) оригиналом - только 528"
   ]
  },
  {
   "cell_type": "markdown",
   "id": "2fc7a849",
   "metadata": {
    "id": "2fc7a849"
   },
   "source": [
    "### Meta\n",
    "Рассмотрим подробнее датасет - Метаинформация:\n",
    "- track_id - уникальный идентификатор трека;\n",
    "- dttm - первая дата появления информации о треке;\n",
    "- title - название трека;\n",
    "- language - язык исполнения;\n",
    "- isrc - международный уникальный идентификатор трека;\n",
    "- genres - жанры;\n",
    "- duration - длительность трека;"
   ]
  },
  {
   "cell_type": "code",
   "execution_count": 10,
   "id": "e1e835b5",
   "metadata": {
    "colab": {
     "base_uri": "https://localhost:8080/",
     "height": 267
    },
    "id": "e1e835b5",
    "outputId": "93d677d3-bdb8-44c5-f4a0-a7e10333e810"
   },
   "outputs": [
    {
     "data": {
      "text/html": [
       "<div>\n",
       "<style scoped>\n",
       "    .dataframe tbody tr th:only-of-type {\n",
       "        vertical-align: middle;\n",
       "    }\n",
       "\n",
       "    .dataframe tbody tr th {\n",
       "        vertical-align: top;\n",
       "    }\n",
       "\n",
       "    .dataframe thead th {\n",
       "        text-align: right;\n",
       "    }\n",
       "</style>\n",
       "<table border=\"1\" class=\"dataframe\">\n",
       "  <thead>\n",
       "    <tr style=\"text-align: right;\">\n",
       "      <th></th>\n",
       "      <th>track_id</th>\n",
       "      <th>dttm</th>\n",
       "      <th>title</th>\n",
       "      <th>language</th>\n",
       "      <th>isrc</th>\n",
       "      <th>genres</th>\n",
       "      <th>duration</th>\n",
       "    </tr>\n",
       "  </thead>\n",
       "  <tbody>\n",
       "    <tr>\n",
       "      <th>0</th>\n",
       "      <td>c3b9d6a354ca008aa4518329aaa21380</td>\n",
       "      <td>2021-12-16 21:00:00</td>\n",
       "      <td>Happy New Year</td>\n",
       "      <td>EN</td>\n",
       "      <td>RUB422103970</td>\n",
       "      <td>[DANCE]</td>\n",
       "      <td>161120.0</td>\n",
       "    </tr>\n",
       "    <tr>\n",
       "      <th>1</th>\n",
       "      <td>c57e3d13bbbf5322584a7e92e6f1f7ff</td>\n",
       "      <td>2021-11-24 14:00:33</td>\n",
       "      <td>Bad Habits</td>\n",
       "      <td>EN</td>\n",
       "      <td>QZN882178276</td>\n",
       "      <td>[ELECTRONICS]</td>\n",
       "      <td>362260.0</td>\n",
       "    </tr>\n",
       "    <tr>\n",
       "      <th>2</th>\n",
       "      <td>955f2aafe8717908c140bf122ba4172d</td>\n",
       "      <td>2021-11-24 15:37:03</td>\n",
       "      <td>Por Esa Loca Vanidad</td>\n",
       "      <td>None</td>\n",
       "      <td>QZNJZ2122549</td>\n",
       "      <td>[FOLK, LATINFOLK]</td>\n",
       "      <td>260000.0</td>\n",
       "    </tr>\n",
       "  </tbody>\n",
       "</table>\n",
       "</div>"
      ],
      "text/plain": [
       "                           track_id                dttm                 title  \\\n",
       "0  c3b9d6a354ca008aa4518329aaa21380 2021-12-16 21:00:00        Happy New Year   \n",
       "1  c57e3d13bbbf5322584a7e92e6f1f7ff 2021-11-24 14:00:33            Bad Habits   \n",
       "2  955f2aafe8717908c140bf122ba4172d 2021-11-24 15:37:03  Por Esa Loca Vanidad   \n",
       "\n",
       "  language          isrc             genres  duration  \n",
       "0       EN  RUB422103970            [DANCE]  161120.0  \n",
       "1       EN  QZN882178276      [ELECTRONICS]  362260.0  \n",
       "2     None  QZNJZ2122549  [FOLK, LATINFOLK]  260000.0  "
      ]
     },
     "execution_count": 10,
     "metadata": {},
     "output_type": "execute_result"
    }
   ],
   "source": [
    "meta.head(3)"
   ]
  },
  {
   "cell_type": "code",
   "execution_count": 11,
   "id": "59968e30",
   "metadata": {
    "colab": {
     "base_uri": "https://localhost:8080/"
    },
    "id": "59968e30",
    "outputId": "6b58851d-b546-4846-e384-11ba0a692d4c",
    "scrolled": true
   },
   "outputs": [
    {
     "name": "stdout",
     "output_type": "stream",
     "text": [
      "<class 'pandas.core.frame.DataFrame'>\n",
      "RangeIndex: 71769 entries, 0 to 71768\n",
      "Data columns (total 7 columns):\n",
      " #   Column    Non-Null Count  Dtype         \n",
      "---  ------    --------------  -----         \n",
      " 0   track_id  71768 non-null  object        \n",
      " 1   dttm      71768 non-null  datetime64[ns]\n",
      " 2   title     71768 non-null  object        \n",
      " 3   language  21969 non-null  object        \n",
      " 4   isrc      71455 non-null  object        \n",
      " 5   genres    71768 non-null  object        \n",
      " 6   duration  71768 non-null  float64       \n",
      "dtypes: datetime64[ns](1), float64(1), object(5)\n",
      "memory usage: 3.8+ MB\n"
     ]
    }
   ],
   "source": [
    "meta.info()"
   ]
  },
  {
   "cell_type": "markdown",
   "id": "2cbd141d",
   "metadata": {
    "id": "2cbd141d"
   },
   "source": [
    "Есть большое кол-во пропусков в колонке language и немного в isrc."
   ]
  },
  {
   "cell_type": "markdown",
   "id": "11e8e43c",
   "metadata": {
    "id": "11e8e43c"
   },
   "source": [
    "#### meta.track_id"
   ]
  },
  {
   "cell_type": "markdown",
   "id": "343b6ebd",
   "metadata": {
    "id": "343b6ebd"
   },
   "source": [
    "Посмотрим дубли в уникальном идентификаторе track_id:"
   ]
  },
  {
   "cell_type": "code",
   "execution_count": 12,
   "id": "a60d7928",
   "metadata": {
    "colab": {
     "base_uri": "https://localhost:8080/"
    },
    "id": "a60d7928",
    "outputId": "1702acaf-bf3d-4fa6-9eff-595fb2c77a2c"
   },
   "outputs": [
    {
     "data": {
      "text/plain": [
       "0"
      ]
     },
     "execution_count": 12,
     "metadata": {},
     "output_type": "execute_result"
    }
   ],
   "source": [
    " meta['track_id'].duplicated().sum()"
   ]
  },
  {
   "cell_type": "markdown",
   "id": "580ea4d3",
   "metadata": {
    "id": "580ea4d3"
   },
   "source": [
    "#### meta.isrc"
   ]
  },
  {
   "cell_type": "markdown",
   "id": "f18735ba",
   "metadata": {
    "id": "f18735ba"
   },
   "source": [
    "Посмотрим дубли в международном уникальном идентификаторе isrc:"
   ]
  },
  {
   "cell_type": "code",
   "execution_count": 13,
   "id": "df2bd9d0",
   "metadata": {
    "colab": {
     "base_uri": "https://localhost:8080/",
     "height": 790
    },
    "id": "df2bd9d0",
    "outputId": "5609c8f9-9d32-4647-db54-ed42d23d8519",
    "scrolled": true
   },
   "outputs": [
    {
     "data": {
      "text/html": [
       "<div>\n",
       "<style scoped>\n",
       "    .dataframe tbody tr th:only-of-type {\n",
       "        vertical-align: middle;\n",
       "    }\n",
       "\n",
       "    .dataframe tbody tr th {\n",
       "        vertical-align: top;\n",
       "    }\n",
       "\n",
       "    .dataframe thead th {\n",
       "        text-align: right;\n",
       "    }\n",
       "</style>\n",
       "<table border=\"1\" class=\"dataframe\">\n",
       "  <thead>\n",
       "    <tr style=\"text-align: right;\">\n",
       "      <th></th>\n",
       "      <th>track_id</th>\n",
       "      <th>dttm</th>\n",
       "      <th>title</th>\n",
       "      <th>language</th>\n",
       "      <th>isrc</th>\n",
       "      <th>genres</th>\n",
       "      <th>duration</th>\n",
       "    </tr>\n",
       "  </thead>\n",
       "  <tbody>\n",
       "    <tr>\n",
       "      <th>27012</th>\n",
       "      <td>be0233f57dbb59079929ac646b0b9d5c</td>\n",
       "      <td>2021-07-06 16:38:30</td>\n",
       "      <td>Zivot da stane ne sme</td>\n",
       "      <td>None</td>\n",
       "      <td>ATAJ12100470</td>\n",
       "      <td>[FOLK]</td>\n",
       "      <td>151190.0</td>\n",
       "    </tr>\n",
       "    <tr>\n",
       "      <th>26955</th>\n",
       "      <td>8aff9d28865aaf1fa44e46b82cba0f63</td>\n",
       "      <td>2021-07-06 15:38:37</td>\n",
       "      <td>Burma</td>\n",
       "      <td>None</td>\n",
       "      <td>ATAJ12100470</td>\n",
       "      <td>[FOLK]</td>\n",
       "      <td>179300.0</td>\n",
       "    </tr>\n",
       "    <tr>\n",
       "      <th>51052</th>\n",
       "      <td>196a0973d73122891a426f8334105ce7</td>\n",
       "      <td>2019-03-29 21:00:00</td>\n",
       "      <td>Inní mér syngur vitleysingur</td>\n",
       "      <td>EN</td>\n",
       "      <td>ATN261668711</td>\n",
       "      <td>[FOLKMETAL, METAL]</td>\n",
       "      <td>237010.0</td>\n",
       "    </tr>\n",
       "    <tr>\n",
       "      <th>66395</th>\n",
       "      <td>425761c88ebc69e89c748eb537671953</td>\n",
       "      <td>2018-04-28 19:08:26</td>\n",
       "      <td>Inni Mer Syngur Vitleysingur</td>\n",
       "      <td>None</td>\n",
       "      <td>ATN261668711</td>\n",
       "      <td>[FOLKMETAL, METAL]</td>\n",
       "      <td>237010.0</td>\n",
       "    </tr>\n",
       "    <tr>\n",
       "      <th>51053</th>\n",
       "      <td>aa4a1d4d44890cbc7aae285842bd3ce2</td>\n",
       "      <td>2019-03-29 21:00:00</td>\n",
       "      <td>Nattfödd</td>\n",
       "      <td>EN</td>\n",
       "      <td>ATN261668712</td>\n",
       "      <td>[FOLKMETAL, METAL]</td>\n",
       "      <td>255320.0</td>\n",
       "    </tr>\n",
       "    <tr>\n",
       "      <th>...</th>\n",
       "      <td>...</td>\n",
       "      <td>...</td>\n",
       "      <td>...</td>\n",
       "      <td>...</td>\n",
       "      <td>...</td>\n",
       "      <td>...</td>\n",
       "      <td>...</td>\n",
       "    </tr>\n",
       "    <tr>\n",
       "      <th>42673</th>\n",
       "      <td>9ca51834e2b6a7266ebcb10cf9a00409</td>\n",
       "      <td>2014-09-23 12:08:24</td>\n",
       "      <td>How Far We've Come</td>\n",
       "      <td>None</td>\n",
       "      <td>USTCF1018560</td>\n",
       "      <td>[ROCK, ALLROCK]</td>\n",
       "      <td>200820.0</td>\n",
       "    </tr>\n",
       "    <tr>\n",
       "      <th>42671</th>\n",
       "      <td>2e04e2ca902c24028b3a7bcded51deeb</td>\n",
       "      <td>2014-09-23 12:08:24</td>\n",
       "      <td>Angel</td>\n",
       "      <td>None</td>\n",
       "      <td>USTCF1018563</td>\n",
       "      <td>[ROCK, ALLROCK]</td>\n",
       "      <td>261490.0</td>\n",
       "    </tr>\n",
       "    <tr>\n",
       "      <th>67314</th>\n",
       "      <td>7eb1ce7b0e7ce4c053c1c9af0ebd9634</td>\n",
       "      <td>2018-11-08 18:31:51</td>\n",
       "      <td>Angel (2009)</td>\n",
       "      <td>EN</td>\n",
       "      <td>USTCF1018563</td>\n",
       "      <td>[ROCK, ALLROCK]</td>\n",
       "      <td>261450.0</td>\n",
       "    </tr>\n",
       "    <tr>\n",
       "      <th>67315</th>\n",
       "      <td>90117fc7a8a5ef80c4d3e1e6e39b4f06</td>\n",
       "      <td>2018-11-08 18:31:51</td>\n",
       "      <td>Breathe (2009)</td>\n",
       "      <td>EN</td>\n",
       "      <td>USTCF1018565</td>\n",
       "      <td>[ROCK, ALLROCK]</td>\n",
       "      <td>221970.0</td>\n",
       "    </tr>\n",
       "    <tr>\n",
       "      <th>42675</th>\n",
       "      <td>734cfd17d9b91ed5e6040aeef988d8cc</td>\n",
       "      <td>2014-09-23 12:08:24</td>\n",
       "      <td>Breathe</td>\n",
       "      <td>None</td>\n",
       "      <td>USTCF1018565</td>\n",
       "      <td>[ROCK, ALLROCK]</td>\n",
       "      <td>222010.0</td>\n",
       "    </tr>\n",
       "  </tbody>\n",
       "</table>\n",
       "<p>292 rows × 7 columns</p>\n",
       "</div>"
      ],
      "text/plain": [
       "                               track_id                dttm  \\\n",
       "27012  be0233f57dbb59079929ac646b0b9d5c 2021-07-06 16:38:30   \n",
       "26955  8aff9d28865aaf1fa44e46b82cba0f63 2021-07-06 15:38:37   \n",
       "51052  196a0973d73122891a426f8334105ce7 2019-03-29 21:00:00   \n",
       "66395  425761c88ebc69e89c748eb537671953 2018-04-28 19:08:26   \n",
       "51053  aa4a1d4d44890cbc7aae285842bd3ce2 2019-03-29 21:00:00   \n",
       "...                                 ...                 ...   \n",
       "42673  9ca51834e2b6a7266ebcb10cf9a00409 2014-09-23 12:08:24   \n",
       "42671  2e04e2ca902c24028b3a7bcded51deeb 2014-09-23 12:08:24   \n",
       "67314  7eb1ce7b0e7ce4c053c1c9af0ebd9634 2018-11-08 18:31:51   \n",
       "67315  90117fc7a8a5ef80c4d3e1e6e39b4f06 2018-11-08 18:31:51   \n",
       "42675  734cfd17d9b91ed5e6040aeef988d8cc 2014-09-23 12:08:24   \n",
       "\n",
       "                              title language          isrc  \\\n",
       "27012         Zivot da stane ne sme     None  ATAJ12100470   \n",
       "26955                         Burma     None  ATAJ12100470   \n",
       "51052  Inní mér syngur vitleysingur       EN  ATN261668711   \n",
       "66395  Inni Mer Syngur Vitleysingur     None  ATN261668711   \n",
       "51053                      Nattfödd       EN  ATN261668712   \n",
       "...                             ...      ...           ...   \n",
       "42673            How Far We've Come     None  USTCF1018560   \n",
       "42671                         Angel     None  USTCF1018563   \n",
       "67314                  Angel (2009)       EN  USTCF1018563   \n",
       "67315                Breathe (2009)       EN  USTCF1018565   \n",
       "42675                       Breathe     None  USTCF1018565   \n",
       "\n",
       "                   genres  duration  \n",
       "27012              [FOLK]  151190.0  \n",
       "26955              [FOLK]  179300.0  \n",
       "51052  [FOLKMETAL, METAL]  237010.0  \n",
       "66395  [FOLKMETAL, METAL]  237010.0  \n",
       "51053  [FOLKMETAL, METAL]  255320.0  \n",
       "...                   ...       ...  \n",
       "42673     [ROCK, ALLROCK]  200820.0  \n",
       "42671     [ROCK, ALLROCK]  261490.0  \n",
       "67314     [ROCK, ALLROCK]  261450.0  \n",
       "67315     [ROCK, ALLROCK]  221970.0  \n",
       "42675     [ROCK, ALLROCK]  222010.0  \n",
       "\n",
       "[292 rows x 7 columns]"
      ]
     },
     "execution_count": 13,
     "metadata": {},
     "output_type": "execute_result"
    }
   ],
   "source": [
    "# Все дубли (кроме nan) с длительностью больше 0\n",
    "meta[meta['isrc'].duplicated(keep=False) & meta['isrc'].notna() & meta['duration'] > 0].sort_values(by='isrc')"
   ]
  },
  {
   "cell_type": "markdown",
   "id": "7b696af8",
   "metadata": {
    "id": "7b696af8"
   },
   "source": [
    "#### meta.title"
   ]
  },
  {
   "cell_type": "markdown",
   "id": "ffff22dc",
   "metadata": {
    "id": "ffff22dc"
   },
   "source": [
    "Посмотрим дубли в названии:"
   ]
  },
  {
   "cell_type": "code",
   "execution_count": 14,
   "id": "b3978b34",
   "metadata": {
    "colab": {
     "base_uri": "https://localhost:8080/",
     "height": 790
    },
    "id": "b3978b34",
    "outputId": "178777d8-f9aa-4b46-9dbb-86a34c3f12bf",
    "scrolled": false
   },
   "outputs": [
    {
     "data": {
      "text/html": [
       "<div>\n",
       "<style scoped>\n",
       "    .dataframe tbody tr th:only-of-type {\n",
       "        vertical-align: middle;\n",
       "    }\n",
       "\n",
       "    .dataframe tbody tr th {\n",
       "        vertical-align: top;\n",
       "    }\n",
       "\n",
       "    .dataframe thead th {\n",
       "        text-align: right;\n",
       "    }\n",
       "</style>\n",
       "<table border=\"1\" class=\"dataframe\">\n",
       "  <thead>\n",
       "    <tr style=\"text-align: right;\">\n",
       "      <th></th>\n",
       "      <th>track_id</th>\n",
       "      <th>dttm</th>\n",
       "      <th>title</th>\n",
       "      <th>language</th>\n",
       "      <th>isrc</th>\n",
       "      <th>genres</th>\n",
       "      <th>duration</th>\n",
       "    </tr>\n",
       "  </thead>\n",
       "  <tbody>\n",
       "    <tr>\n",
       "      <th>71227</th>\n",
       "      <td>467627a4db0315da8f62791aed705083</td>\n",
       "      <td>2019-05-06 21:20:38</td>\n",
       "      <td>(Don't Fear) The Reaper</td>\n",
       "      <td>None</td>\n",
       "      <td>PLS921753188</td>\n",
       "      <td>[]</td>\n",
       "      <td>186570.0</td>\n",
       "    </tr>\n",
       "    <tr>\n",
       "      <th>71220</th>\n",
       "      <td>48509facf3b4e038527a22fc779bc915</td>\n",
       "      <td>2019-05-06 21:20:23</td>\n",
       "      <td>(Don't Fear) The Reaper</td>\n",
       "      <td>None</td>\n",
       "      <td>PLS921753315</td>\n",
       "      <td>[]</td>\n",
       "      <td>191820.0</td>\n",
       "    </tr>\n",
       "    <tr>\n",
       "      <th>71486</th>\n",
       "      <td>aed647e8d9166429c77e1b0e5342d4e0</td>\n",
       "      <td>2019-05-17 17:51:08</td>\n",
       "      <td>(Don't Fear) The Reaper</td>\n",
       "      <td>None</td>\n",
       "      <td>PLS921753236</td>\n",
       "      <td>[]</td>\n",
       "      <td>200730.0</td>\n",
       "    </tr>\n",
       "    <tr>\n",
       "      <th>70573</th>\n",
       "      <td>0f0f37bab3de6ca18a5930d9ed8c0f38</td>\n",
       "      <td>2019-04-09 21:37:34</td>\n",
       "      <td>(Don't Fear) The Reaper</td>\n",
       "      <td>None</td>\n",
       "      <td>PLS921753271</td>\n",
       "      <td>[RELAX]</td>\n",
       "      <td>243090.0</td>\n",
       "    </tr>\n",
       "    <tr>\n",
       "      <th>58782</th>\n",
       "      <td>60558452b17f2a1ef1ee12627d45a320</td>\n",
       "      <td>2021-03-11 21:00:00</td>\n",
       "      <td>(Everything I Do) I Do It for You</td>\n",
       "      <td>None</td>\n",
       "      <td>TCACT1626721</td>\n",
       "      <td>[POP]</td>\n",
       "      <td>123280.0</td>\n",
       "    </tr>\n",
       "    <tr>\n",
       "      <th>...</th>\n",
       "      <td>...</td>\n",
       "      <td>...</td>\n",
       "      <td>...</td>\n",
       "      <td>...</td>\n",
       "      <td>...</td>\n",
       "      <td>...</td>\n",
       "      <td>...</td>\n",
       "    </tr>\n",
       "    <tr>\n",
       "      <th>24940</th>\n",
       "      <td>5075581209bc27ff20452168285b96c8</td>\n",
       "      <td>2021-06-16 09:50:02</td>\n",
       "      <td>银河与星斗</td>\n",
       "      <td>ZH</td>\n",
       "      <td>FRX202173646</td>\n",
       "      <td>[POP]</td>\n",
       "      <td>155100.0</td>\n",
       "    </tr>\n",
       "    <tr>\n",
       "      <th>33684</th>\n",
       "      <td>361397a39eccdd74f09044769d50d096</td>\n",
       "      <td>2021-09-14 21:00:00</td>\n",
       "      <td>거리에서</td>\n",
       "      <td>None</td>\n",
       "      <td>KRF632104051</td>\n",
       "      <td>[JAZZ]</td>\n",
       "      <td>290940.0</td>\n",
       "    </tr>\n",
       "    <tr>\n",
       "      <th>31735</th>\n",
       "      <td>94dd2de0e572e122fb4b6dd41fdb8402</td>\n",
       "      <td>2021-08-29 21:00:00</td>\n",
       "      <td>거리에서</td>\n",
       "      <td>None</td>\n",
       "      <td>KRF632103686</td>\n",
       "      <td>[JAZZ]</td>\n",
       "      <td>291890.0</td>\n",
       "    </tr>\n",
       "    <tr>\n",
       "      <th>33685</th>\n",
       "      <td>3c306bdc546a89d71c40e549c33e6369</td>\n",
       "      <td>2021-09-14 21:00:00</td>\n",
       "      <td>내 마음에 비친 내 모습</td>\n",
       "      <td>None</td>\n",
       "      <td>KRF632104052</td>\n",
       "      <td>[JAZZ]</td>\n",
       "      <td>279250.0</td>\n",
       "    </tr>\n",
       "    <tr>\n",
       "      <th>31734</th>\n",
       "      <td>0609788efbd5edd0954bbeeb39d2c469</td>\n",
       "      <td>2021-08-29 21:00:00</td>\n",
       "      <td>내 마음에 비친 내 모습</td>\n",
       "      <td>None</td>\n",
       "      <td>KRF632103685</td>\n",
       "      <td>[JAZZ]</td>\n",
       "      <td>280370.0</td>\n",
       "    </tr>\n",
       "  </tbody>\n",
       "</table>\n",
       "<p>35336 rows × 7 columns</p>\n",
       "</div>"
      ],
      "text/plain": [
       "                               track_id                dttm  \\\n",
       "71227  467627a4db0315da8f62791aed705083 2019-05-06 21:20:38   \n",
       "71220  48509facf3b4e038527a22fc779bc915 2019-05-06 21:20:23   \n",
       "71486  aed647e8d9166429c77e1b0e5342d4e0 2019-05-17 17:51:08   \n",
       "70573  0f0f37bab3de6ca18a5930d9ed8c0f38 2019-04-09 21:37:34   \n",
       "58782  60558452b17f2a1ef1ee12627d45a320 2021-03-11 21:00:00   \n",
       "...                                 ...                 ...   \n",
       "24940  5075581209bc27ff20452168285b96c8 2021-06-16 09:50:02   \n",
       "33684  361397a39eccdd74f09044769d50d096 2021-09-14 21:00:00   \n",
       "31735  94dd2de0e572e122fb4b6dd41fdb8402 2021-08-29 21:00:00   \n",
       "33685  3c306bdc546a89d71c40e549c33e6369 2021-09-14 21:00:00   \n",
       "31734  0609788efbd5edd0954bbeeb39d2c469 2021-08-29 21:00:00   \n",
       "\n",
       "                                   title language          isrc   genres  \\\n",
       "71227            (Don't Fear) The Reaper     None  PLS921753188       []   \n",
       "71220            (Don't Fear) The Reaper     None  PLS921753315       []   \n",
       "71486            (Don't Fear) The Reaper     None  PLS921753236       []   \n",
       "70573            (Don't Fear) The Reaper     None  PLS921753271  [RELAX]   \n",
       "58782  (Everything I Do) I Do It for You     None  TCACT1626721    [POP]   \n",
       "...                                  ...      ...           ...      ...   \n",
       "24940                              银河与星斗       ZH  FRX202173646    [POP]   \n",
       "33684                               거리에서     None  KRF632104051   [JAZZ]   \n",
       "31735                               거리에서     None  KRF632103686   [JAZZ]   \n",
       "33685                      내 마음에 비친 내 모습     None  KRF632104052   [JAZZ]   \n",
       "31734                      내 마음에 비친 내 모습     None  KRF632103685   [JAZZ]   \n",
       "\n",
       "       duration  \n",
       "71227  186570.0  \n",
       "71220  191820.0  \n",
       "71486  200730.0  \n",
       "70573  243090.0  \n",
       "58782  123280.0  \n",
       "...         ...  \n",
       "24940  155100.0  \n",
       "33684  290940.0  \n",
       "31735  291890.0  \n",
       "33685  279250.0  \n",
       "31734  280370.0  \n",
       "\n",
       "[35336 rows x 7 columns]"
      ]
     },
     "execution_count": 14,
     "metadata": {},
     "output_type": "execute_result"
    }
   ],
   "source": [
    "meta[meta['title'].duplicated(keep=False)].sort_values(by='title')"
   ]
  },
  {
   "cell_type": "markdown",
   "id": "31335433",
   "metadata": {
    "id": "31335433"
   },
   "source": [
    "#### meta.duration"
   ]
  },
  {
   "cell_type": "code",
   "execution_count": 15,
   "id": "13ffd067",
   "metadata": {
    "colab": {
     "base_uri": "https://localhost:8080/"
    },
    "id": "13ffd067",
    "outputId": "0cd4ba73-071a-4a3f-c7fb-f926d67cafc2"
   },
   "outputs": [
    {
     "data": {
      "text/plain": [
       "count    7.176800e+04\n",
       "mean     2.049187e+05\n",
       "std      8.559854e+04\n",
       "min      0.000000e+00\n",
       "25%      1.613700e+05\n",
       "50%      1.993950e+05\n",
       "75%      2.390700e+05\n",
       "max      5.487300e+06\n",
       "Name: duration, dtype: float64"
      ]
     },
     "execution_count": 15,
     "metadata": {},
     "output_type": "execute_result"
    }
   ],
   "source": [
    "meta['duration'].describe()"
   ]
  },
  {
   "cell_type": "code",
   "execution_count": 16,
   "id": "0216d110",
   "metadata": {
    "colab": {
     "base_uri": "https://localhost:8080/",
     "height": 430
    },
    "id": "0216d110",
    "outputId": "38acca56-b127-4381-d60c-510a9c832204",
    "scrolled": true
   },
   "outputs": [
    {
     "data": {
      "image/png": "[encoded data removed]",
      "text/plain": [
       "<Figure size 640x480 with 1 Axes>"
      ]
     },
     "metadata": {},
     "output_type": "display_data"
    }
   ],
   "source": [
    "# До Q1\n",
    "meta[meta['duration'] < 161370]['duration'].hist(bins=100);"
   ]
  },
  {
   "cell_type": "code",
   "execution_count": 17,
   "id": "1162785e",
   "metadata": {
    "colab": {
     "base_uri": "https://localhost:8080/",
     "height": 451
    },
    "id": "1162785e",
    "outputId": "99813b75-cdb5-4794-8af8-eb0387588ec9"
   },
   "outputs": [
    {
     "data": {
      "image/png": "[encoded data removed]",
      "text/plain": [
       "<Figure size 640x480 with 1 Axes>"
      ]
     },
     "metadata": {},
     "output_type": "display_data"
    }
   ],
   "source": [
    "# После Q3\n",
    "meta[meta['duration'] > 239070]['duration'].hist(bins=50);"
   ]
  },
  {
   "cell_type": "code",
   "execution_count": 18,
   "id": "f346e403",
   "metadata": {
    "colab": {
     "base_uri": "https://localhost:8080/"
    },
    "id": "f346e403",
    "outputId": "1e68482b-3003-4d6d-d8ce-17d977cf548a"
   },
   "outputs": [
    {
     "data": {
      "text/plain": [
       "369"
      ]
     },
     "execution_count": 18,
     "metadata": {},
     "output_type": "execute_result"
    }
   ],
   "source": [
    "#  длит.трека==0\n",
    "len(meta.loc[meta['duration']==0])"
   ]
  },
  {
   "cell_type": "code",
   "execution_count": 19,
   "id": "c11c7be3",
   "metadata": {
    "colab": {
     "base_uri": "https://localhost:8080/"
    },
    "id": "c11c7be3",
    "outputId": "caf88d44-455b-4180-f541-524f35a5edbf"
   },
   "outputs": [
    {
     "data": {
      "text/plain": [
       "382"
      ]
     },
     "execution_count": 19,
     "metadata": {},
     "output_type": "execute_result"
    }
   ],
   "source": [
    "# длит.трека < 10 sec\n",
    "len(meta[meta['duration'] < 10000]['duration'])"
   ]
  },
  {
   "cell_type": "code",
   "execution_count": 20,
   "id": "dd1b07d7",
   "metadata": {
    "colab": {
     "base_uri": "https://localhost:8080/"
    },
    "id": "dd1b07d7",
    "outputId": "c4701860-6659-4f71-d778-80ceb287b0c9"
   },
   "outputs": [
    {
     "data": {
      "text/plain": [
       "186"
      ]
     },
     "execution_count": 20,
     "metadata": {},
     "output_type": "execute_result"
    }
   ],
   "source": [
    "# длит.трека > 10 min\n",
    "len(meta[meta['duration'] > 600000]['duration'])"
   ]
  },
  {
   "cell_type": "markdown",
   "id": "f3c9d413",
   "metadata": {
    "id": "f3c9d413"
   },
   "source": [
    "#### meta.dttm"
   ]
  },
  {
   "cell_type": "code",
   "execution_count": 21,
   "id": "677787a3",
   "metadata": {
    "colab": {
     "base_uri": "https://localhost:8080/"
    },
    "id": "677787a3",
    "outputId": "97c7feea-d902-4792-f538-1556d237d3f2"
   },
   "outputs": [
    {
     "data": {
      "text/plain": [
       "count                            71768\n",
       "mean     2020-03-15 15:43:11.983502080\n",
       "min                2009-08-10 17:32:06\n",
       "25%         2019-10-03 22:18:39.500000\n",
       "50%                2021-05-07 16:32:40\n",
       "75%                2021-11-16 08:14:16\n",
       "max                2023-10-18 21:00:00\n",
       "Name: dttm, dtype: object"
      ]
     },
     "execution_count": 21,
     "metadata": {},
     "output_type": "execute_result"
    }
   ],
   "source": [
    "meta['dttm'].describe(datetime_is_numeric=True)"
   ]
  },
  {
   "cell_type": "markdown",
   "id": "53437507",
   "metadata": {
    "id": "53437507"
   },
   "source": [
    "#### meta.genres"
   ]
  },
  {
   "cell_type": "code",
   "execution_count": 22,
   "id": "48d0a8e7",
   "metadata": {
    "colab": {
     "base_uri": "https://localhost:8080/"
    },
    "id": "48d0a8e7",
    "outputId": "cf0ae868-ca53-43eb-80a5-5b569a95e830"
   },
   "outputs": [
    {
     "data": {
      "text/plain": [
       "[FOLK, LATINFOLK]    18391\n",
       "[POP]                13157\n",
       "[ROCK, ALLROCK]       5898\n",
       "[ALTERNATIVE]         3570\n",
       "[FOLK]                2645\n",
       "[]                    2352\n",
       "[ELECTRONICS]         2231\n",
       "[SOUNDTRACK]          2181\n",
       "[DANCE]               2166\n",
       "[SPIRITUAL]           1552\n",
       "Name: genres, dtype: int64"
      ]
     },
     "execution_count": 22,
     "metadata": {},
     "output_type": "execute_result"
    }
   ],
   "source": [
    "meta.genres.value_counts().head(10)"
   ]
  },
  {
   "cell_type": "markdown",
   "id": "8e5582b8",
   "metadata": {
    "id": "8e5582b8"
   },
   "source": [
    "#### meta.language"
   ]
  },
  {
   "cell_type": "code",
   "execution_count": 23,
   "id": "717c2adb",
   "metadata": {
    "colab": {
     "base_uri": "https://localhost:8080/"
    },
    "id": "717c2adb",
    "outputId": "665720a1-b00c-4386-c5f5-a88fca386f01"
   },
   "outputs": [
    {
     "data": {
      "text/plain": [
       "EN    15322\n",
       "ES     1747\n",
       "RU     1558\n",
       "IT      907\n",
       "HI      285\n",
       "DE      238\n",
       "ZH      212\n",
       "FR      210\n",
       "Name: language, dtype: int64"
      ]
     },
     "execution_count": 23,
     "metadata": {},
     "output_type": "execute_result"
    }
   ],
   "source": [
    "meta.language.value_counts().head(8)"
   ]
  },
  {
   "cell_type": "markdown",
   "id": "9e7be02e",
   "metadata": {
    "id": "9e7be02e"
   },
   "source": [
    "#### Зависимость признака кавер или оригинал от длины текста"
   ]
  },
  {
   "cell_type": "code",
   "execution_count": 24,
   "id": "f5b93610",
   "metadata": {
    "id": "f5b93610"
   },
   "outputs": [],
   "source": [
    "covers_met=pd.merge(covers, meta, how='left', on='track_id')"
   ]
  },
  {
   "cell_type": "code",
   "execution_count": 25,
   "id": "25c57e34",
   "metadata": {
    "colab": {
     "base_uri": "https://localhost:8080/",
     "height": 73
    },
    "id": "25c57e34",
    "outputId": "53b8386b-37d0-452b-8f1a-10823b1de5aa"
   },
   "outputs": [
    {
     "data": {
      "text/html": [
       "<div>\n",
       "<style scoped>\n",
       "    .dataframe tbody tr th:only-of-type {\n",
       "        vertical-align: middle;\n",
       "    }\n",
       "\n",
       "    .dataframe tbody tr th {\n",
       "        vertical-align: top;\n",
       "    }\n",
       "\n",
       "    .dataframe thead th {\n",
       "        text-align: right;\n",
       "    }\n",
       "</style>\n",
       "<table border=\"1\" class=\"dataframe\">\n",
       "  <thead>\n",
       "    <tr style=\"text-align: right;\">\n",
       "      <th></th>\n",
       "      <th>original_track_id</th>\n",
       "      <th>track_id</th>\n",
       "      <th>track_remake_type</th>\n",
       "      <th>dttm</th>\n",
       "      <th>title</th>\n",
       "      <th>language</th>\n",
       "      <th>isrc</th>\n",
       "      <th>genres</th>\n",
       "      <th>duration</th>\n",
       "    </tr>\n",
       "  </thead>\n",
       "  <tbody>\n",
       "  </tbody>\n",
       "</table>\n",
       "</div>"
      ],
      "text/plain": [
       "Empty DataFrame\n",
       "Columns: [original_track_id, track_id, track_remake_type, dttm, title, language, isrc, genres, duration]\n",
       "Index: []"
      ]
     },
     "execution_count": 25,
     "metadata": {},
     "output_type": "execute_result"
    }
   ],
   "source": [
    "covers_met.loc[covers_met['track_id'].duplicated(keep=False)] #check"
   ]
  },
  {
   "cell_type": "code",
   "execution_count": 26,
   "id": "76a009ab",
   "metadata": {
    "colab": {
     "base_uri": "https://localhost:8080/",
     "height": 236
    },
    "id": "76a009ab",
    "outputId": "94727b6b-8f38-4cc1-e1b1-351814cb0768"
   },
   "outputs": [
    {
     "data": {
      "text/html": [
       "<div>\n",
       "<style scoped>\n",
       "    .dataframe tbody tr th:only-of-type {\n",
       "        vertical-align: middle;\n",
       "    }\n",
       "\n",
       "    .dataframe tbody tr th {\n",
       "        vertical-align: top;\n",
       "    }\n",
       "\n",
       "    .dataframe thead th {\n",
       "        text-align: right;\n",
       "    }\n",
       "</style>\n",
       "<table border=\"1\" class=\"dataframe\">\n",
       "  <thead>\n",
       "    <tr style=\"text-align: right;\">\n",
       "      <th></th>\n",
       "      <th>original_track_id</th>\n",
       "      <th>track_id</th>\n",
       "      <th>track_remake_type</th>\n",
       "      <th>dttm</th>\n",
       "      <th>title</th>\n",
       "      <th>language</th>\n",
       "      <th>isrc</th>\n",
       "      <th>genres</th>\n",
       "      <th>duration</th>\n",
       "      <th>lyricId</th>\n",
       "      <th>text</th>\n",
       "    </tr>\n",
       "  </thead>\n",
       "  <tbody>\n",
       "    <tr>\n",
       "      <th>0</th>\n",
       "      <td>eeb69a3cb92300456b6a5f4162093851</td>\n",
       "      <td>eeb69a3cb92300456b6a5f4162093851</td>\n",
       "      <td>ORIGINAL</td>\n",
       "      <td>2009-11-11 21:00:00</td>\n",
       "      <td>Proud Mary</td>\n",
       "      <td>EN</td>\n",
       "      <td>USFI86900049</td>\n",
       "      <td>[ROCK, ALLROCK]</td>\n",
       "      <td>187220.0</td>\n",
       "      <td>260f21d9f48e8de874a6e844159ddf28</td>\n",
       "      <td>Left a good job in the city\\nWorkin' for the m...</td>\n",
       "    </tr>\n",
       "    <tr>\n",
       "      <th>1</th>\n",
       "      <td>eeb69a3cb92300456b6a5f4162093851</td>\n",
       "      <td>eeb69a3cb92300456b6a5f4162093851</td>\n",
       "      <td>ORIGINAL</td>\n",
       "      <td>2009-11-11 21:00:00</td>\n",
       "      <td>Proud Mary</td>\n",
       "      <td>EN</td>\n",
       "      <td>USFI86900049</td>\n",
       "      <td>[ROCK, ALLROCK]</td>\n",
       "      <td>187220.0</td>\n",
       "      <td>f3331cf99637ee24559242d13d8cf259</td>\n",
       "      <td>Left a good job in the city\\nWorkin' for the m...</td>\n",
       "    </tr>\n",
       "  </tbody>\n",
       "</table>\n",
       "</div>"
      ],
      "text/plain": [
       "                  original_track_id                          track_id  \\\n",
       "0  eeb69a3cb92300456b6a5f4162093851  eeb69a3cb92300456b6a5f4162093851   \n",
       "1  eeb69a3cb92300456b6a5f4162093851  eeb69a3cb92300456b6a5f4162093851   \n",
       "\n",
       "  track_remake_type                dttm       title language          isrc  \\\n",
       "0          ORIGINAL 2009-11-11 21:00:00  Proud Mary       EN  USFI86900049   \n",
       "1          ORIGINAL 2009-11-11 21:00:00  Proud Mary       EN  USFI86900049   \n",
       "\n",
       "            genres  duration                           lyricId  \\\n",
       "0  [ROCK, ALLROCK]  187220.0  260f21d9f48e8de874a6e844159ddf28   \n",
       "1  [ROCK, ALLROCK]  187220.0  f3331cf99637ee24559242d13d8cf259   \n",
       "\n",
       "                                                text  \n",
       "0  Left a good job in the city\\nWorkin' for the m...  \n",
       "1  Left a good job in the city\\nWorkin' for the m...  "
      ]
     },
     "execution_count": 26,
     "metadata": {},
     "output_type": "execute_result"
    }
   ],
   "source": [
    "covers_met_lyrics=pd.merge(covers_met, lyrics, how='inner', on='track_id')\n",
    "covers_met_lyrics.head(2)"
   ]
  },
  {
   "cell_type": "code",
   "execution_count": 27,
   "id": "0710d8eb",
   "metadata": {
    "id": "0710d8eb"
   },
   "outputs": [],
   "source": [
    "covers_met_lyrics['len_text']=covers_met_lyrics['text'].apply(lambda x: len(x) )"
   ]
  },
  {
   "cell_type": "code",
   "execution_count": 28,
   "id": "799aadd4",
   "metadata": {
    "colab": {
     "base_uri": "https://localhost:8080/",
     "height": 449
    },
    "id": "799aadd4",
    "outputId": "a7980601-cb69-4825-ffd1-f0fbf8e58c38"
   },
   "outputs": [
    {
     "name": "stderr",
     "output_type": "stream",
     "text": [
      "C:\\Users\\zoika\\anaconda3\\lib\\site-packages\\pandas\\plotting\\_matplotlib\\core.py:1114: UserWarning: No data for colormapping provided via 'c'. Parameters 'cmap' will be ignored\n",
      "  scatter = ax.scatter(\n"
     ]
    },
    {
     "data": {
      "image/png": "[encoded data removed]",
      "text/plain": [
       "<Figure size 640x480 with 1 Axes>"
      ]
     },
     "metadata": {},
     "output_type": "display_data"
    }
   ],
   "source": [
    "covers_met_lyrics.plot(x='duration', y='track_remake_type', kind='scatter');"
   ]
  },
  {
   "cell_type": "markdown",
   "id": "cfc1a188",
   "metadata": {
    "id": "cfc1a188"
   },
   "source": [
    "у каверов больше дисперсия и диапазон максималных и минимальных значений длительности трека"
   ]
  },
  {
   "cell_type": "markdown",
   "id": "02306449",
   "metadata": {
    "id": "02306449"
   },
   "source": [
    "### Выводы:\n",
    "\n",
    "Провели тщательный анализ имеющихся признаков.\n",
    "Выяснили, что очень мало размечено исходников для каверов, всего 528 строк.\n",
    "\n",
    "У каверов больше дисперсия и диапазон максималных и минимальных значений длительности трека"
   ]
  },
  {
   "cell_type": "markdown",
   "id": "0b6d229d",
   "metadata": {
    "id": "0b6d229d"
   },
   "source": [
    "## Предоработка данных"
   ]
  },
  {
   "cell_type": "code",
   "execution_count": 29,
   "id": "fd40d734",
   "metadata": {
    "colab": {
     "base_uri": "https://localhost:8080/"
    },
    "id": "fd40d734",
    "outputId": "2e1fab4b-b307-4b04-d6ee-37ed51f5bf48"
   },
   "outputs": [
    {
     "data": {
      "text/plain": [
       "(71769, 7)"
      ]
     },
     "execution_count": 29,
     "metadata": {},
     "output_type": "execute_result"
    }
   ],
   "source": [
    "meta.shape #check"
   ]
  },
  {
   "cell_type": "markdown",
   "id": "5a33d823",
   "metadata": {
    "id": "5a33d823"
   },
   "source": [
    "Удалим композиции продолжительностью больше 10 минут и менее 10 секунд, т.к. это скорее всего - не музыкальные треки и их немного"
   ]
  },
  {
   "cell_type": "code",
   "execution_count": 30,
   "id": "23e5a48a",
   "metadata": {
    "colab": {
     "base_uri": "https://localhost:8080/"
    },
    "id": "23e5a48a",
    "outputId": "f4c780f8-415d-4223-f3a7-ca36daa448c0",
    "scrolled": true
   },
   "outputs": [
    {
     "data": {
      "text/plain": [
       "(71198, 7)"
      ]
     },
     "execution_count": 30,
     "metadata": {},
     "output_type": "execute_result"
    }
   ],
   "source": [
    "meta=meta.loc[(meta['duration'] < 600000) & (meta['duration'] > 10000) ]\n",
    "meta.shape #check"
   ]
  },
  {
   "cell_type": "markdown",
   "id": "c1f5c530",
   "metadata": {
    "id": "c1f5c530"
   },
   "source": [
    "Также есть полностью пропущенная строка, удалим ее."
   ]
  },
  {
   "cell_type": "code",
   "execution_count": 31,
   "id": "dc4fb35f",
   "metadata": {
    "colab": {
     "base_uri": "https://localhost:8080/",
     "height": 53
    },
    "id": "dc4fb35f",
    "outputId": "89b0ca17-bde4-4468-ad8f-457c4ca26ba2",
    "scrolled": false
   },
   "outputs": [
    {
     "data": {
      "text/html": [
       "<div>\n",
       "<style scoped>\n",
       "    .dataframe tbody tr th:only-of-type {\n",
       "        vertical-align: middle;\n",
       "    }\n",
       "\n",
       "    .dataframe tbody tr th {\n",
       "        vertical-align: top;\n",
       "    }\n",
       "\n",
       "    .dataframe thead th {\n",
       "        text-align: right;\n",
       "    }\n",
       "</style>\n",
       "<table border=\"1\" class=\"dataframe\">\n",
       "  <thead>\n",
       "    <tr style=\"text-align: right;\">\n",
       "      <th></th>\n",
       "      <th>track_id</th>\n",
       "      <th>dttm</th>\n",
       "      <th>title</th>\n",
       "      <th>language</th>\n",
       "      <th>isrc</th>\n",
       "      <th>genres</th>\n",
       "      <th>duration</th>\n",
       "    </tr>\n",
       "  </thead>\n",
       "  <tbody>\n",
       "  </tbody>\n",
       "</table>\n",
       "</div>"
      ],
      "text/plain": [
       "Empty DataFrame\n",
       "Columns: [track_id, dttm, title, language, isrc, genres, duration]\n",
       "Index: []"
      ]
     },
     "execution_count": 31,
     "metadata": {},
     "output_type": "execute_result"
    }
   ],
   "source": [
    "meta[meta['track_id'].isna()]"
   ]
  },
  {
   "cell_type": "code",
   "execution_count": 32,
   "id": "44888003",
   "metadata": {
    "colab": {
     "base_uri": "https://localhost:8080/"
    },
    "id": "44888003",
    "outputId": "c0843e45-e738-4090-c5f2-e312b4bd1fce"
   },
   "outputs": [
    {
     "data": {
      "text/plain": [
       "(71198, 7)"
      ]
     },
     "execution_count": 32,
     "metadata": {},
     "output_type": "execute_result"
    }
   ],
   "source": [
    "meta = meta.dropna(subset=['track_id'])\n",
    "meta.shape #check"
   ]
  },
  {
   "cell_type": "markdown",
   "id": "8a8adfb2",
   "metadata": {
    "id": "8a8adfb2"
   },
   "source": [
    "###  Заполним пропуски в колонке 'language'"
   ]
  },
  {
   "cell_type": "code",
   "execution_count": 33,
   "id": "38a8a67d",
   "metadata": {
    "colab": {
     "base_uri": "https://localhost:8080/"
    },
    "id": "38a8a67d",
    "outputId": "3ac94da7-7e6e-4dbe-d357-6ace29a6b0ba"
   },
   "outputs": [
    {
     "data": {
      "text/plain": [
       "49454"
      ]
     },
     "execution_count": 33,
     "metadata": {},
     "output_type": "execute_result"
    }
   ],
   "source": [
    "meta['language'].isna().sum()"
   ]
  },
  {
   "cell_type": "code",
   "execution_count": 34,
   "id": "93d1baa2",
   "metadata": {
    "id": "93d1baa2"
   },
   "outputs": [],
   "source": [
    "def detect_language(text, label):\n",
    "    \"\"\"\n",
    "    Заполняет пропуски.\n",
    "    Определяет язык текста и возвращает метку языка (ISO 639-1), если 'label' равно NaN.\n",
    "\n",
    "    Args:\n",
    "        text (str): Текст, для которого нужно определить язык.\n",
    "        label (str): Столбец, в котором нужно обновить значение, если 'label' равно NaN.\n",
    "    Returns:\n",
    "        str: Метка языка в вернем регистре (ISO 639-1)\n",
    "    \"\"\"\n",
    "    if pd.isna(label):\n",
    "        try:\n",
    "            return detect(text).upper()\n",
    "        except:\n",
    "            return None\n",
    "    else:\n",
    "        return label"
   ]
  },
  {
   "cell_type": "code",
   "execution_count": 35,
   "id": "2a7b7f2f",
   "metadata": {
    "colab": {
     "base_uri": "https://localhost:8080/"
    },
    "id": "2a7b7f2f",
    "outputId": "0eaf964c-ae6c-454c-aa0c-ec3da76e94c8"
   },
   "outputs": [
    {
     "name": "stdout",
     "output_type": "stream",
     "text": [
      "CPU times: total: 0 ns\n",
      "Wall time: 0 ns\n"
     ]
    }
   ],
   "source": [
    "%%time\n",
    "#meta['language'] = meta.apply(lambda row: detect_language(row['title'], row['language']), axis=1)\n",
    "#meta['language'].isna().sum()"
   ]
  },
  {
   "cell_type": "code",
   "execution_count": 36,
   "id": "1bf9bb4a",
   "metadata": {
    "colab": {
     "base_uri": "https://localhost:8080/"
    },
    "id": "1bf9bb4a",
    "outputId": "dcbc4a4b-af2e-4831-f76f-e797098e7519"
   },
   "outputs": [
    {
     "data": {
      "text/plain": [
       "(11414, 3)"
      ]
     },
     "execution_count": 36,
     "metadata": {},
     "output_type": "execute_result"
    }
   ],
   "source": [
    "lyrics.shape"
   ]
  },
  {
   "cell_type": "code",
   "execution_count": 37,
   "id": "edfd1a03",
   "metadata": {
    "colab": {
     "base_uri": "https://localhost:8080/"
    },
    "id": "edfd1a03",
    "outputId": "da9c0601-f291-4cc1-8779-a045dc1cdec5"
   },
   "outputs": [
    {
     "data": {
      "text/plain": [
       "(71198, 7)"
      ]
     },
     "execution_count": 37,
     "metadata": {},
     "output_type": "execute_result"
    }
   ],
   "source": [
    "meta.shape"
   ]
  },
  {
   "cell_type": "code",
   "execution_count": 38,
   "id": "26cb37c6",
   "metadata": {
    "colab": {
     "base_uri": "https://localhost:8080/"
    },
    "id": "26cb37c6",
    "outputId": "602edc1d-1156-4fe6-ca42-aa1bc62acbe7"
   },
   "outputs": [
    {
     "data": {
      "text/plain": [
       "(71597, 3)"
      ]
     },
     "execution_count": 38,
     "metadata": {},
     "output_type": "execute_result"
    }
   ],
   "source": [
    "covers.shape"
   ]
  },
  {
   "cell_type": "markdown",
   "id": "7e1b55f0",
   "metadata": {
    "id": "7e1b55f0"
   },
   "source": [
    "### Удалим дубликаты текстов для lyrics.track_id"
   ]
  },
  {
   "cell_type": "code",
   "execution_count": 39,
   "id": "116fa578",
   "metadata": {
    "id": "116fa578"
   },
   "outputs": [],
   "source": [
    "# Функция для выбора самого длинного текста из текстов в строках с одинаковым track_id.\n",
    "\n",
    "def max_row(track):\n",
    "    max_text = ''                                                          # Переменная со значением длины максимального текста\n",
    "    data_id = lyrics[lyrics['track_id'] == track].reset_index(drop=True)   # Временный датасет из строк с одинаковым track_id\n",
    "    for i in range(len(data_id)):                                          # --> (со сбросом индексов)\n",
    "        if len(data_id['text'][i]) > len(max_text):                        # Сравнение длины текстов с максимальным в max_text\n",
    "            max_text = data_id['text'][i]\n",
    "    return max_text"
   ]
  },
  {
   "cell_type": "code",
   "execution_count": 40,
   "id": "543ccb4c",
   "metadata": {
    "colab": {
     "base_uri": "https://localhost:8080/",
     "height": 660
    },
    "id": "543ccb4c",
    "outputId": "f1849884-6484-4396-dca9-64c534d18d7d"
   },
   "outputs": [
    {
     "data": {
      "text/html": [
       "<div>\n",
       "<style scoped>\n",
       "    .dataframe tbody tr th:only-of-type {\n",
       "        vertical-align: middle;\n",
       "    }\n",
       "\n",
       "    .dataframe tbody tr th {\n",
       "        vertical-align: top;\n",
       "    }\n",
       "\n",
       "    .dataframe thead th {\n",
       "        text-align: right;\n",
       "    }\n",
       "</style>\n",
       "<table border=\"1\" class=\"dataframe\">\n",
       "  <thead>\n",
       "    <tr style=\"text-align: right;\">\n",
       "      <th></th>\n",
       "      <th>lyricId</th>\n",
       "      <th>text</th>\n",
       "      <th>track_id</th>\n",
       "      <th>max_text</th>\n",
       "    </tr>\n",
       "  </thead>\n",
       "  <tbody>\n",
       "    <tr>\n",
       "      <th>0</th>\n",
       "      <td>a951f9504e89759e9d23039b7b17ec14</td>\n",
       "      <td>Живу сейчас обломами, обломками не той любви\\n...</td>\n",
       "      <td>1c4b1230f937e4c548ff732523214dcd</td>\n",
       "      <td>Живу сейчас обломами, обломками не той любви\\n...</td>\n",
       "    </tr>\n",
       "    <tr>\n",
       "      <th>1</th>\n",
       "      <td>0c749bc3f01eb8e6cf986fa14ccfc585</td>\n",
       "      <td>Tell me your fable\\nA fable\\nTell me your fabl...</td>\n",
       "      <td>0faea89b0d7d6235b5b74def72511bd8</td>\n",
       "      <td>Tell me your fable\\nA fable\\nTell me your fabl...</td>\n",
       "    </tr>\n",
       "    <tr>\n",
       "      <th>2</th>\n",
       "      <td>e2c8830fbc86e5964478243099eec23a</td>\n",
       "      <td>You're ashamed about all your fears and doubts...</td>\n",
       "      <td>9c6dc41d5ccd9968d07f055da5d8f741</td>\n",
       "      <td>You're ashamed about all your fears and doubts...</td>\n",
       "    </tr>\n",
       "    <tr>\n",
       "      <th>3</th>\n",
       "      <td>e2c8830fbc86e5964478243099eec23a</td>\n",
       "      <td>You're ashamed about all your fears and doubts...</td>\n",
       "      <td>bfd04a73e9cffdf0e282c92219a86ea1</td>\n",
       "      <td>You're ashamed about all your fears and doubts...</td>\n",
       "    </tr>\n",
       "    <tr>\n",
       "      <th>4</th>\n",
       "      <td>7624653ca8522ba93470843c74961b7d</td>\n",
       "      <td>You showed him all the best of you,\\nBut I'm a...</td>\n",
       "      <td>8d70930d09cd239c948408d1317d8659</td>\n",
       "      <td>You showed him all the best of you,\\nBut I'm a...</td>\n",
       "    </tr>\n",
       "  </tbody>\n",
       "</table>\n",
       "</div>"
      ],
      "text/plain": [
       "                            lyricId  \\\n",
       "0  a951f9504e89759e9d23039b7b17ec14   \n",
       "1  0c749bc3f01eb8e6cf986fa14ccfc585   \n",
       "2  e2c8830fbc86e5964478243099eec23a   \n",
       "3  e2c8830fbc86e5964478243099eec23a   \n",
       "4  7624653ca8522ba93470843c74961b7d   \n",
       "\n",
       "                                                text  \\\n",
       "0  Живу сейчас обломами, обломками не той любви\\n...   \n",
       "1  Tell me your fable\\nA fable\\nTell me your fabl...   \n",
       "2  You're ashamed about all your fears and doubts...   \n",
       "3  You're ashamed about all your fears and doubts...   \n",
       "4  You showed him all the best of you,\\nBut I'm a...   \n",
       "\n",
       "                           track_id  \\\n",
       "0  1c4b1230f937e4c548ff732523214dcd   \n",
       "1  0faea89b0d7d6235b5b74def72511bd8   \n",
       "2  9c6dc41d5ccd9968d07f055da5d8f741   \n",
       "3  bfd04a73e9cffdf0e282c92219a86ea1   \n",
       "4  8d70930d09cd239c948408d1317d8659   \n",
       "\n",
       "                                            max_text  \n",
       "0  Живу сейчас обломами, обломками не той любви\\n...  \n",
       "1  Tell me your fable\\nA fable\\nTell me your fabl...  \n",
       "2  You're ashamed about all your fears and doubts...  \n",
       "3  You're ashamed about all your fears and doubts...  \n",
       "4  You showed him all the best of you,\\nBut I'm a...  "
      ]
     },
     "execution_count": 40,
     "metadata": {},
     "output_type": "execute_result"
    }
   ],
   "source": [
    "# Создание колонки max_text с самым длинным текстом из текстов в строках с одинаковым track_id.\n",
    "\n",
    "lyrics['max_text'] = lyrics['track_id'].apply(max_row)\n",
    "lyrics.head()"
   ]
  },
  {
   "cell_type": "code",
   "execution_count": 41,
   "id": "71c3cb20",
   "metadata": {
    "colab": {
     "base_uri": "https://localhost:8080/"
    },
    "id": "71c3cb20",
    "outputId": "faaab31a-62e9-423e-905e-89ff360ba381"
   },
   "outputs": [
    {
     "data": {
      "text/plain": [
       "(11414, 4)"
      ]
     },
     "execution_count": 41,
     "metadata": {},
     "output_type": "execute_result"
    }
   ],
   "source": [
    "lyrics.shape"
   ]
  },
  {
   "cell_type": "code",
   "execution_count": 42,
   "id": "2b4f1687",
   "metadata": {
    "colab": {
     "base_uri": "https://localhost:8080/",
     "height": 397
    },
    "id": "2b4f1687",
    "outputId": "42511e5c-169a-410c-f4b5-ed959c8c7dab"
   },
   "outputs": [
    {
     "data": {
      "text/html": [
       "<div>\n",
       "<style scoped>\n",
       "    .dataframe tbody tr th:only-of-type {\n",
       "        vertical-align: middle;\n",
       "    }\n",
       "\n",
       "    .dataframe tbody tr th {\n",
       "        vertical-align: top;\n",
       "    }\n",
       "\n",
       "    .dataframe thead th {\n",
       "        text-align: right;\n",
       "    }\n",
       "</style>\n",
       "<table border=\"1\" class=\"dataframe\">\n",
       "  <thead>\n",
       "    <tr style=\"text-align: right;\">\n",
       "      <th></th>\n",
       "      <th>lyricId</th>\n",
       "      <th>track_id</th>\n",
       "      <th>max_text</th>\n",
       "    </tr>\n",
       "  </thead>\n",
       "  <tbody>\n",
       "    <tr>\n",
       "      <th>0</th>\n",
       "      <td>a951f9504e89759e9d23039b7b17ec14</td>\n",
       "      <td>1c4b1230f937e4c548ff732523214dcd</td>\n",
       "      <td>Живу сейчас обломами, обломками не той любви\\n...</td>\n",
       "    </tr>\n",
       "    <tr>\n",
       "      <th>1</th>\n",
       "      <td>0c749bc3f01eb8e6cf986fa14ccfc585</td>\n",
       "      <td>0faea89b0d7d6235b5b74def72511bd8</td>\n",
       "      <td>Tell me your fable\\nA fable\\nTell me your fabl...</td>\n",
       "    </tr>\n",
       "    <tr>\n",
       "      <th>2</th>\n",
       "      <td>e2c8830fbc86e5964478243099eec23a</td>\n",
       "      <td>9c6dc41d5ccd9968d07f055da5d8f741</td>\n",
       "      <td>You're ashamed about all your fears and doubts...</td>\n",
       "    </tr>\n",
       "    <tr>\n",
       "      <th>3</th>\n",
       "      <td>e2c8830fbc86e5964478243099eec23a</td>\n",
       "      <td>bfd04a73e9cffdf0e282c92219a86ea1</td>\n",
       "      <td>You're ashamed about all your fears and doubts...</td>\n",
       "    </tr>\n",
       "    <tr>\n",
       "      <th>4</th>\n",
       "      <td>7624653ca8522ba93470843c74961b7d</td>\n",
       "      <td>8d70930d09cd239c948408d1317d8659</td>\n",
       "      <td>You showed him all the best of you,\\nBut I'm a...</td>\n",
       "    </tr>\n",
       "  </tbody>\n",
       "</table>\n",
       "</div>"
      ],
      "text/plain": [
       "                            lyricId                          track_id  \\\n",
       "0  a951f9504e89759e9d23039b7b17ec14  1c4b1230f937e4c548ff732523214dcd   \n",
       "1  0c749bc3f01eb8e6cf986fa14ccfc585  0faea89b0d7d6235b5b74def72511bd8   \n",
       "2  e2c8830fbc86e5964478243099eec23a  9c6dc41d5ccd9968d07f055da5d8f741   \n",
       "3  e2c8830fbc86e5964478243099eec23a  bfd04a73e9cffdf0e282c92219a86ea1   \n",
       "4  7624653ca8522ba93470843c74961b7d  8d70930d09cd239c948408d1317d8659   \n",
       "\n",
       "                                            max_text  \n",
       "0  Живу сейчас обломами, обломками не той любви\\n...  \n",
       "1  Tell me your fable\\nA fable\\nTell me your fabl...  \n",
       "2  You're ashamed about all your fears and doubts...  \n",
       "3  You're ashamed about all your fears and doubts...  \n",
       "4  You showed him all the best of you,\\nBut I'm a...  "
      ]
     },
     "execution_count": 42,
     "metadata": {},
     "output_type": "execute_result"
    }
   ],
   "source": [
    "# Временный датасет, где дропаем столбец с исходным текстом text.\n",
    "dataset_temp = lyrics.drop(['text'], axis=1)\n",
    "\n",
    "# Итоговый датасет lyrics, где удалили дубликаты по столбцу track_id.\n",
    "result_lyrics = dataset_temp.drop_duplicates(subset=['track_id'], keep='first')\n",
    "result_lyrics.head()"
   ]
  },
  {
   "cell_type": "code",
   "execution_count": 43,
   "id": "5f88f7f4",
   "metadata": {
    "colab": {
     "base_uri": "https://localhost:8080/"
    },
    "id": "5f88f7f4",
    "outputId": "6dec0afd-2f49-4165-b30b-0bcc9a0314f7"
   },
   "outputs": [
    {
     "data": {
      "text/plain": [
       "(10277, 3)"
      ]
     },
     "execution_count": 43,
     "metadata": {},
     "output_type": "execute_result"
    }
   ],
   "source": [
    "result_lyrics.shape"
   ]
  },
  {
   "cell_type": "code",
   "execution_count": 44,
   "id": "1b4a56c9",
   "metadata": {
    "id": "1b4a56c9"
   },
   "outputs": [],
   "source": [
    "# Сборка общего датасета для обработки текстов (без пропусков в max_text и title )\n",
    "covers_met=pd.merge(covers, meta, how='inner', on='track_id')\n",
    "df = covers_met.merge(result_lyrics, how='inner', on='track_id')"
   ]
  },
  {
   "cell_type": "code",
   "execution_count": 45,
   "id": "176fb0f5",
   "metadata": {
    "colab": {
     "base_uri": "https://localhost:8080/"
    },
    "id": "176fb0f5",
    "outputId": "8b56d928-3834-45ae-d1ee-6c88cc7bd3aa"
   },
   "outputs": [
    {
     "name": "stdout",
     "output_type": "stream",
     "text": [
      "<class 'pandas.core.frame.DataFrame'>\n",
      "Int64Index: 10076 entries, 0 to 10075\n",
      "Data columns (total 11 columns):\n",
      " #   Column             Non-Null Count  Dtype         \n",
      "---  ------             --------------  -----         \n",
      " 0   original_track_id  3041 non-null   object        \n",
      " 1   track_id           10076 non-null  object        \n",
      " 2   track_remake_type  10076 non-null  object        \n",
      " 3   dttm               10076 non-null  datetime64[ns]\n",
      " 4   title              10076 non-null  object        \n",
      " 5   language           6266 non-null   object        \n",
      " 6   isrc               10016 non-null  object        \n",
      " 7   genres             10076 non-null  object        \n",
      " 8   duration           10076 non-null  float64       \n",
      " 9   lyricId            10076 non-null  object        \n",
      " 10  max_text           10076 non-null  object        \n",
      "dtypes: datetime64[ns](1), float64(1), object(9)\n",
      "memory usage: 944.6+ KB\n"
     ]
    }
   ],
   "source": [
    "df.info()"
   ]
  },
  {
   "cell_type": "markdown",
   "id": "77785d1e",
   "metadata": {
    "id": "77785d1e"
   },
   "source": [
    "### Выводы:\n",
    "Удалили строки с очень короткой и очень длинной продолжительностью трека, также удалили некоторые дубликаты и пропуски."
   ]
  },
  {
   "cell_type": "markdown",
   "id": "0275fc63",
   "metadata": {
    "id": "0275fc63"
   },
   "source": [
    "## Фича-инжиниринг: сгенерировать дополнительные признаки"
   ]
  },
  {
   "cell_type": "markdown",
   "id": "0951e54a",
   "metadata": {
    "id": "0951e54a"
   },
   "source": [
    "### Признак \"кавер\" в наименовании трека"
   ]
  },
  {
   "cell_type": "code",
   "execution_count": 46,
   "id": "f7fc43b9",
   "metadata": {
    "id": "f7fc43b9"
   },
   "outputs": [],
   "source": [
    "keywords = pd.read_json('keywords.json', typ='series').tolist()"
   ]
  },
  {
   "cell_type": "code",
   "execution_count": 47,
   "id": "6c2b45bc",
   "metadata": {
    "id": "6c2b45bc"
   },
   "outputs": [],
   "source": [
    "def contains_words(text, word_list):\n",
    "    \"\"\"\n",
    "    Проверяет, содержит ли текст хотя бы одно слово из заданного списка.\n",
    "\n",
    "    Args:\n",
    "        text (str): Текст для проверки.\n",
    "        word_list (list): Список слов, которые нужно найти в тексте.\n",
    "\n",
    "    Returns:\n",
    "        int: Возвращает 1, если хотя бы одно слово из списка найдено в тексте, и 0 в противном случае.\n",
    "    \"\"\"\n",
    "    text = text.lower()  # Приводим весь текст к нижнему регистру\n",
    "    words = text.split()  # Разделяем текст на слова\n",
    "    for word in words:\n",
    "        if word in word_list:\n",
    "            return 1\n",
    "    return 0"
   ]
  },
  {
   "cell_type": "code",
   "execution_count": 48,
   "id": "0a260a5e",
   "metadata": {
    "colab": {
     "base_uri": "https://localhost:8080/"
    },
    "id": "0a260a5e",
    "outputId": "271efd2f-5414-4153-d99b-669b9fb9b0f5"
   },
   "outputs": [
    {
     "name": "stdout",
     "output_type": "stream",
     "text": [
      "CPU times: total: 78.1 ms\n",
      "Wall time: 68 ms\n"
     ]
    }
   ],
   "source": [
    "%%time\n",
    "df['cov_in_title'] = df['title'].apply(lambda x: contains_words(x, keywords))"
   ]
  },
  {
   "cell_type": "code",
   "execution_count": 49,
   "id": "114675ce",
   "metadata": {
    "colab": {
     "base_uri": "https://localhost:8080/"
    },
    "id": "114675ce",
    "outputId": "e7a476b6-695f-42eb-ea65-c7c9eda934e0",
    "scrolled": true
   },
   "outputs": [
    {
     "data": {
      "text/plain": [
       "0    10069\n",
       "1        7\n",
       "Name: cov_in_title, dtype: int64"
      ]
     },
     "execution_count": 49,
     "metadata": {},
     "output_type": "execute_result"
    }
   ],
   "source": [
    "df['cov_in_title'].value_counts()"
   ]
  },
  {
   "cell_type": "code",
   "execution_count": 50,
   "id": "2a52c959",
   "metadata": {
    "colab": {
     "base_uri": "https://localhost:8080/"
    },
    "id": "2a52c959",
    "outputId": "93329e1c-ff9c-4df1-dcc6-fb00af50c612"
   },
   "outputs": [
    {
     "data": {
      "text/plain": [
       "0    71108\n",
       "1       90\n",
       "Name: cov_in_title, dtype: int64"
      ]
     },
     "execution_count": 50,
     "metadata": {},
     "output_type": "execute_result"
    }
   ],
   "source": [
    "meta['cov_in_title'] = meta['title'].apply(lambda x: contains_words(x, keywords))\n",
    "meta['cov_in_title'].value_counts()"
   ]
  },
  {
   "cell_type": "markdown",
   "id": "53418d2e",
   "metadata": {
    "id": "53418d2e"
   },
   "source": [
    " Выводы: гипотеза 1 не подтвердилась. По имеющимся у нас данным, пометку \"кавер\" в наименовании трека делают в менее 1% случаев. Но, все равно оставим этот признак для классификации каверов"
   ]
  },
  {
   "cell_type": "markdown",
   "id": "127a6858",
   "metadata": {
    "id": "127a6858"
   },
   "source": [
    "## Задача: Классификация оригинал/кавер"
   ]
  },
  {
   "cell_type": "code",
   "execution_count": 51,
   "id": "96b8b5ae",
   "metadata": {
    "id": "96b8b5ae"
   },
   "outputs": [],
   "source": [
    "# скопируем датасет для бустинга\n",
    "cat_df = df.copy()"
   ]
  },
  {
   "cell_type": "code",
   "execution_count": 52,
   "id": "daf76d55",
   "metadata": {
    "id": "daf76d55"
   },
   "outputs": [],
   "source": [
    "# добавим признак с количеством жанров\n",
    "cat_df['genres_count'] = cat_df['genres'].apply(len)\n",
    "\n",
    "# раздление жанров на отдельные столбцы\n",
    "genres = cat_df['genres'].apply(lambda x: ','.join(x))\n",
    "genres = genres.str.get_dummies(',')\n",
    "cat_df = pd.concat([cat_df, genres], axis=1)\n",
    "genres_columns = genres.columns"
   ]
  },
  {
   "cell_type": "code",
   "execution_count": 53,
   "id": "27cb95ef",
   "metadata": {
    "id": "27cb95ef"
   },
   "outputs": [],
   "source": [
    "# Меняем COVER и ORIGINAL на 1 и 0\n",
    "cat_df['track_remake_type'].replace({'COVER':1,'ORIGINAL':0},inplace=True)"
   ]
  },
  {
   "cell_type": "code",
   "execution_count": 54,
   "id": "af864fb5",
   "metadata": {
    "id": "af864fb5"
   },
   "outputs": [],
   "source": [
    "# разделим выборки и удалим лишние признаки\n",
    "X = cat_df.drop(['track_remake_type','dttm', 'original_track_id', 'track_id', 'isrc', 'lyricId', 'genres', 'language'],axis=1)\n",
    "y = cat_df['track_remake_type']"
   ]
  },
  {
   "cell_type": "code",
   "execution_count": 55,
   "id": "7414b258",
   "metadata": {
    "id": "7414b258"
   },
   "outputs": [],
   "source": [
    "# выделим тестовую выборку\n",
    "X_train, X_test, y_train, y_test = train_test_split(X, y, test_size=0.3, random_state=RS)\n",
    "\n",
    "categorical_features = ['cov_in_title', 'genres_count']\n",
    "categorical_features.extend(genres_columns)\n",
    "\n",
    "text_features = ['title', 'max_text']\n",
    "numeric_features = ['duration']"
   ]
  },
  {
   "cell_type": "markdown",
   "id": "11746b83",
   "metadata": {
    "id": "11746b83"
   },
   "source": [
    "Обучим модель"
   ]
  },
  {
   "cell_type": "code",
   "execution_count": 58,
   "id": "eb4f6a59",
   "metadata": {
    "colab": {
     "base_uri": "https://localhost:8080/"
    },
    "id": "eb4f6a59",
    "outputId": "694cc4cb-430e-4d01-b9b4-6bfae9102960"
   },
   "outputs": [
    {
     "name": "stdout",
     "output_type": "stream",
     "text": [
      "F1 Score on Train Set: 0.9211394855564167\n",
      "CPU times: total: 12min 54s\n",
      "Wall time: 22min 4s\n"
     ]
    }
   ],
   "source": [
    "%%time\n",
    "\n",
    "param_dist = {\n",
    "   # 'iterations' : range(100, 101, 100),\n",
    "  #  'learning_rate': [0.01, 0.05, 0.1],\n",
    "    'depth': [6, 8],\n",
    "}\n",
    "\n",
    "model = CatBoostClassifier(\n",
    "    verbose=False,\n",
    "    random_seed=RS,\n",
    "    text_features=text_features,\n",
    "    cat_features=categorical_features,\n",
    ")\n",
    "\n",
    "\n",
    "cv = StratifiedKFold(n_splits=4, shuffle=True, random_state=RS)\n",
    "\n",
    "random_search = RandomizedSearchCV(\n",
    "    estimator=model,\n",
    "    param_distributions=param_dist,\n",
    "    n_iter=2,\n",
    "    scoring='f1',\n",
    "    n_jobs=-1,\n",
    "    cv=cv,\n",
    "    verbose=0,\n",
    "    random_state=RS,\n",
    "    \n",
    ")\n",
    "\n",
    "cat = random_search.fit(X_train, y_train)\n",
    " \n",
    "print('F1 Score on Train Set:', cat.best_score_)"
   ]
  },
  {
   "cell_type": "code",
   "execution_count": 59,
   "id": "b3240da2",
   "metadata": {
    "colab": {
     "base_uri": "https://localhost:8080/"
    },
    "id": "b3240da2",
    "outputId": "272c5819-a200-48ce-a37b-0a091dbbdb2b"
   },
   "outputs": [
    {
     "data": {
      "text/plain": [
       "{'depth': 6}"
      ]
     },
     "execution_count": 59,
     "metadata": {},
     "output_type": "execute_result"
    }
   ],
   "source": [
    "cat.best_params_"
   ]
  },
  {
   "cell_type": "code",
   "execution_count": 60,
   "id": "5a5ef1e4",
   "metadata": {
    "colab": {
     "base_uri": "https://localhost:8080/"
    },
    "id": "5a5ef1e4",
    "outputId": "fb966aee-e7bc-45ae-910b-9ad2fcea0c09"
   },
   "outputs": [
    {
     "name": "stdout",
     "output_type": "stream",
     "text": [
      "F1 Score on Test Set: 0.9210697977821265\n"
     ]
    }
   ],
   "source": [
    "# посмотрим рeзультат на тeстовой выборке\n",
    "y_pred = cat.predict(X_test)\n",
    "f1 = f1_score(y_test, y_pred)\n",
    "print('F1 Score on Test Set:', f1)"
   ]
  },
  {
   "cell_type": "markdown",
   "id": "76cbe497",
   "metadata": {
    "id": "76cbe497"
   },
   "source": [
    "Посмотрим feature_importances"
   ]
  },
  {
   "cell_type": "code",
   "execution_count": 61,
   "id": "c1cf59cb",
   "metadata": {
    "colab": {
     "base_uri": "https://localhost:8080/",
     "height": 540
    },
    "id": "c1cf59cb",
    "outputId": "575f24c3-eef0-4cce-e3e4-7f3d7c3015cc"
   },
   "outputs": [
    {
     "data": {
      "image/png": "[encoded data removed]",
      "text/plain": [
       "<Figure size 640x480 with 1 Axes>"
      ]
     },
     "metadata": {},
     "output_type": "display_data"
    }
   ],
   "source": [
    "best_model = cat.best_estimator_\n",
    "\n",
    "feature_importances = pd.DataFrame(index = X_train.columns,\n",
    "                                   data = best_model.feature_importances_)\n",
    "top_feature = feature_importances.sort_values(by = [0], ascending=False).head(20)\n",
    "\n",
    "plt.bar(top_feature.index , top_feature[0]);\n",
    "plt.title('feature importances')\n",
    "plt.xticks(rotation=90)\n",
    "\n",
    "plt.show()"
   ]
  },
  {
   "cell_type": "markdown",
   "id": "2e01f081",
   "metadata": {
    "id": "2e01f081"
   },
   "source": [
    "Построим график"
   ]
  },
  {
   "cell_type": "code",
   "execution_count": 62,
   "id": "222b9e9b",
   "metadata": {
    "colab": {
     "base_uri": "https://localhost:8080/",
     "height": 490
    },
    "id": "222b9e9b",
    "outputId": "714f82aa-6fe6-4d8a-962d-72a26c66659f"
   },
   "outputs": [
    {
     "data": {
      "image/png": "[encoded data removed]",
      "text/plain": [
       "<Figure size 640x480 with 1 Axes>"
      ]
     },
     "metadata": {},
     "output_type": "display_data"
    },
    {
     "name": "stdout",
     "output_type": "stream",
     "text": [
      "roc_auc_score:  0.9225415148738351\n"
     ]
    }
   ],
   "source": [
    "probabilities_valid = cat.predict_proba(X_test)\n",
    "probabilities_one_valid = probabilities_valid[:, 1]\n",
    "\n",
    "fpr, tpr, thresholds = roc_curve(y_test, probabilities_one_valid)\n",
    "\n",
    "plt.figure()\n",
    "plt.plot(fpr, tpr)\n",
    "plt.plot([0, 1], [0, 1], linestyle='--')\n",
    "plt.xlim([0.0, 1.0])\n",
    "plt.ylim([0.0, 1.0])\n",
    "plt.xlabel('False Positive Rate')\n",
    "plt.ylabel('True Positive Rate')\n",
    "plt.title('ROC-curve')\n",
    "plt.show()\n",
    "\n",
    "print('roc_auc_score: ',roc_auc_score(y_test, probabilities_one_valid))"
   ]
  },
  {
   "cell_type": "markdown",
   "id": "883e311c",
   "metadata": {
    "id": "883e311c"
   },
   "source": [
    "## Задача: Определение \"связности\" треков\n",
    "\n",
    "**Гипотеза:** на основании текстов треков можно определить, связаны ли треки между собой или нет.\n",
    "\n",
    "Под \"связностью\" понимаем:\n",
    "\n",
    "Пусть дана пара треков. Если это кавер и оригинал одной песни то считаем их связанными. \n",
    "Если два кавера одной песни, то тоже.\n",
    "\n",
    "Во всех остальных случаях - треки не связаны.\n",
    "\n",
    "**Задача:**  бинарная классификация\n",
    "\n",
    "**Модель:** CatBoostClassifier, с параметром text_features\n",
    "\n",
    "**Метрика:** F1, мы выбрали данную метрику, т.к. имеем несбалансированную выборку."
   ]
  },
  {
   "cell_type": "markdown",
   "id": "905b2f9d",
   "metadata": {},
   "source": [
    "### Сборка датасета с разметкой\n",
    "\n",
    "Для проверки качества модели составим датасет, состоящий из пар track_id и разметкой, где будут колонки:\n",
    "\n",
    "- query_id (уникальный идентификатор трека запроса) \n",
    "- cand_id (уникальный идентификатор трека кандидата) \n",
    "- target (1, если кандидат является кавером или оригиналом запроса, 0 - в противном случае )\n",
    "\n",
    "т.е. дана пара треков. Если это кавер и оригинал одной песни то таргет = 1.\n",
    "Если два кавера одной песни, то тоже 1. Во всех остальных случаях - 0.\n",
    "\n",
    "Отдельно соберем данные с позитивным и негативным таргетом, а потом соединим и перемешаем строки \n"
   ]
  },
  {
   "cell_type": "code",
   "execution_count": 94,
   "id": "2abd191d",
   "metadata": {},
   "outputs": [],
   "source": [
    "lyrics = pd.read_json('data/lyrics.json', lines = True)  #обновляю"
   ]
  },
  {
   "cell_type": "markdown",
   "id": "19a1d394",
   "metadata": {},
   "source": [
    "#### Positive"
   ]
  },
  {
   "cell_type": "code",
   "execution_count": 112,
   "id": "4307fcdf",
   "metadata": {},
   "outputs": [
    {
     "data": {
      "text/html": [
       "<div>\n",
       "<style scoped>\n",
       "    .dataframe tbody tr th:only-of-type {\n",
       "        vertical-align: middle;\n",
       "    }\n",
       "\n",
       "    .dataframe tbody tr th {\n",
       "        vertical-align: top;\n",
       "    }\n",
       "\n",
       "    .dataframe thead th {\n",
       "        text-align: right;\n",
       "    }\n",
       "</style>\n",
       "<table border=\"1\" class=\"dataframe\">\n",
       "  <thead>\n",
       "    <tr style=\"text-align: right;\">\n",
       "      <th></th>\n",
       "      <th>original_track_id</th>\n",
       "      <th>track_id</th>\n",
       "      <th>track_remake_type</th>\n",
       "    </tr>\n",
       "  </thead>\n",
       "  <tbody>\n",
       "    <tr>\n",
       "      <th>0</th>\n",
       "      <td>b9213d37c37deffe8b8af0dac5d0c3c4</td>\n",
       "      <td>58a293c4c86b4c0000b0e683c77432a8</td>\n",
       "      <td>COVER</td>\n",
       "    </tr>\n",
       "    <tr>\n",
       "      <th>1</th>\n",
       "      <td>deb9b9598176a0bab1212d430b10bd04</td>\n",
       "      <td>bfa9c5c62c08a0db763e2a2284e3d1b2</td>\n",
       "      <td>COVER</td>\n",
       "    </tr>\n",
       "  </tbody>\n",
       "</table>\n",
       "</div>"
      ],
      "text/plain": [
       "                  original_track_id                          track_id  \\\n",
       "0  b9213d37c37deffe8b8af0dac5d0c3c4  58a293c4c86b4c0000b0e683c77432a8   \n",
       "1  deb9b9598176a0bab1212d430b10bd04  bfa9c5c62c08a0db763e2a2284e3d1b2   \n",
       "\n",
       "  track_remake_type  \n",
       "0             COVER  \n",
       "1             COVER  "
      ]
     },
     "execution_count": 112,
     "metadata": {},
     "output_type": "execute_result"
    }
   ],
   "source": [
    "# Для начала, выделим каверы, для которых уже известен оригинал и разметим эти пары 1\n",
    "\n",
    "df_positive=\\\n",
    "    covers.loc[(covers.track_remake_type=='COVER') & (covers.original_track_id.isnull()==False)].reset_index(drop=True).copy()\n",
    "df_positive.head(2)"
   ]
  },
  {
   "cell_type": "code",
   "execution_count": 113,
   "id": "18ee8e57",
   "metadata": {},
   "outputs": [
    {
     "data": {
      "text/html": [
       "<div>\n",
       "<style scoped>\n",
       "    .dataframe tbody tr th:only-of-type {\n",
       "        vertical-align: middle;\n",
       "    }\n",
       "\n",
       "    .dataframe tbody tr th {\n",
       "        vertical-align: top;\n",
       "    }\n",
       "\n",
       "    .dataframe thead th {\n",
       "        text-align: right;\n",
       "    }\n",
       "</style>\n",
       "<table border=\"1\" class=\"dataframe\">\n",
       "  <thead>\n",
       "    <tr style=\"text-align: right;\">\n",
       "      <th></th>\n",
       "      <th>query_id</th>\n",
       "      <th>cand_id</th>\n",
       "      <th>target</th>\n",
       "    </tr>\n",
       "  </thead>\n",
       "  <tbody>\n",
       "    <tr>\n",
       "      <th>0</th>\n",
       "      <td>b9213d37c37deffe8b8af0dac5d0c3c4</td>\n",
       "      <td>58a293c4c86b4c0000b0e683c77432a8</td>\n",
       "      <td>1</td>\n",
       "    </tr>\n",
       "    <tr>\n",
       "      <th>1</th>\n",
       "      <td>deb9b9598176a0bab1212d430b10bd04</td>\n",
       "      <td>bfa9c5c62c08a0db763e2a2284e3d1b2</td>\n",
       "      <td>1</td>\n",
       "    </tr>\n",
       "  </tbody>\n",
       "</table>\n",
       "</div>"
      ],
      "text/plain": [
       "                           query_id                           cand_id  target\n",
       "0  b9213d37c37deffe8b8af0dac5d0c3c4  58a293c4c86b4c0000b0e683c77432a8       1\n",
       "1  deb9b9598176a0bab1212d430b10bd04  bfa9c5c62c08a0db763e2a2284e3d1b2       1"
      ]
     },
     "execution_count": 113,
     "metadata": {},
     "output_type": "execute_result"
    }
   ],
   "source": [
    "df_positive.columns=['query_id','cand_id','target'] #переименуем столбцы\n",
    "df_positive['target']=1  #разметим эти пары 1\n",
    "df_positive.head(2)"
   ]
  },
  {
   "cell_type": "code",
   "execution_count": 114,
   "id": "a1b6c70d",
   "metadata": {},
   "outputs": [
    {
     "data": {
      "text/html": [
       "<div>\n",
       "<style scoped>\n",
       "    .dataframe tbody tr th:only-of-type {\n",
       "        vertical-align: middle;\n",
       "    }\n",
       "\n",
       "    .dataframe tbody tr th {\n",
       "        vertical-align: top;\n",
       "    }\n",
       "\n",
       "    .dataframe thead th {\n",
       "        text-align: right;\n",
       "    }\n",
       "</style>\n",
       "<table border=\"1\" class=\"dataframe\">\n",
       "  <thead>\n",
       "    <tr style=\"text-align: right;\">\n",
       "      <th></th>\n",
       "      <th>query_id</th>\n",
       "      <th>cand_id</th>\n",
       "      <th>target</th>\n",
       "      <th>lyricId</th>\n",
       "      <th>text</th>\n",
       "    </tr>\n",
       "  </thead>\n",
       "  <tbody>\n",
       "    <tr>\n",
       "      <th>0</th>\n",
       "      <td>b9213d37c37deffe8b8af0dac5d0c3c4</td>\n",
       "      <td>58a293c4c86b4c0000b0e683c77432a8</td>\n",
       "      <td>1</td>\n",
       "      <td>e3d8c89c71b34be0f4f28ae62c8f40e8</td>\n",
       "      <td>Hearts go astray, leaving hurt when they go\\nI...</td>\n",
       "    </tr>\n",
       "    <tr>\n",
       "      <th>1</th>\n",
       "      <td>b9213d37c37deffe8b8af0dac5d0c3c4</td>\n",
       "      <td>79eb48bb4409051aab1602e390c98736</td>\n",
       "      <td>1</td>\n",
       "      <td>e3d8c89c71b34be0f4f28ae62c8f40e8</td>\n",
       "      <td>Hearts go astray, leaving hurt when they go\\nI...</td>\n",
       "    </tr>\n",
       "  </tbody>\n",
       "</table>\n",
       "</div>"
      ],
      "text/plain": [
       "                           query_id                           cand_id  target  \\\n",
       "0  b9213d37c37deffe8b8af0dac5d0c3c4  58a293c4c86b4c0000b0e683c77432a8       1   \n",
       "1  b9213d37c37deffe8b8af0dac5d0c3c4  79eb48bb4409051aab1602e390c98736       1   \n",
       "\n",
       "                            lyricId  \\\n",
       "0  e3d8c89c71b34be0f4f28ae62c8f40e8   \n",
       "1  e3d8c89c71b34be0f4f28ae62c8f40e8   \n",
       "\n",
       "                                                text  \n",
       "0  Hearts go astray, leaving hurt when they go\\nI...  \n",
       "1  Hearts go astray, leaving hurt when they go\\nI...  "
      ]
     },
     "execution_count": 114,
     "metadata": {},
     "output_type": "execute_result"
    }
   ],
   "source": [
    "#присоединим тексты для запроса и посмотрим, сколько будет записей\n",
    "df_positive=df_positive.merge(lyrics, how='inner' , left_on='query_id', right_on='track_id').drop(columns=['track_id'], axis=1) \n",
    "df_positive.head(2)"
   ]
  },
  {
   "cell_type": "code",
   "execution_count": 115,
   "id": "b1d368cd",
   "metadata": {},
   "outputs": [
    {
     "data": {
      "text/plain": [
       "17a163f6ab3de102b49599f5577866fc    155\n",
       "53a04991308c2cc9179fdd401fea83a3    120\n",
       "f3e5e9db509f9b6f6d93b9c38e4e1324     74\n",
       "0fcb82fec458a0993f848200548eaaa0     64\n",
       "9050384cce6c221c39d6e25d02561612     48\n",
       "Name: query_id, dtype: int64"
      ]
     },
     "execution_count": 115,
     "metadata": {},
     "output_type": "execute_result"
    }
   ],
   "source": [
    "df_positive.query_id.value_counts().head(5)"
   ]
  },
  {
   "cell_type": "code",
   "execution_count": 116,
   "id": "c74a1b02",
   "metadata": {},
   "outputs": [
    {
     "name": "stdout",
     "output_type": "stream",
     "text": [
      "(1094, 5)\n"
     ]
    }
   ],
   "source": [
    "print(df_positive.shape)"
   ]
  },
  {
   "cell_type": "code",
   "execution_count": 117,
   "id": "49a37a39",
   "metadata": {},
   "outputs": [
    {
     "data": {
      "text/html": [
       "<div>\n",
       "<style scoped>\n",
       "    .dataframe tbody tr th:only-of-type {\n",
       "        vertical-align: middle;\n",
       "    }\n",
       "\n",
       "    .dataframe tbody tr th {\n",
       "        vertical-align: top;\n",
       "    }\n",
       "\n",
       "    .dataframe thead th {\n",
       "        text-align: right;\n",
       "    }\n",
       "</style>\n",
       "<table border=\"1\" class=\"dataframe\">\n",
       "  <thead>\n",
       "    <tr style=\"text-align: right;\">\n",
       "      <th></th>\n",
       "      <th>query_id</th>\n",
       "      <th>cand_id</th>\n",
       "      <th>target</th>\n",
       "      <th>lyricId</th>\n",
       "      <th>text</th>\n",
       "      <th>lyricId_cand</th>\n",
       "      <th>text_cand</th>\n",
       "    </tr>\n",
       "  </thead>\n",
       "  <tbody>\n",
       "    <tr>\n",
       "      <th>0</th>\n",
       "      <td>b9213d37c37deffe8b8af0dac5d0c3c4</td>\n",
       "      <td>58a293c4c86b4c0000b0e683c77432a8</td>\n",
       "      <td>1</td>\n",
       "      <td>e3d8c89c71b34be0f4f28ae62c8f40e8</td>\n",
       "      <td>Hearts go astray, leaving hurt when they go\\nI...</td>\n",
       "      <td>f400505b257315a8eb73cb85e04c4cdc</td>\n",
       "      <td>Hearts go astray, leaving hurt when they go.\\n...</td>\n",
       "    </tr>\n",
       "    <tr>\n",
       "      <th>1</th>\n",
       "      <td>b9213d37c37deffe8b8af0dac5d0c3c4</td>\n",
       "      <td>79eb48bb4409051aab1602e390c98736</td>\n",
       "      <td>1</td>\n",
       "      <td>e3d8c89c71b34be0f4f28ae62c8f40e8</td>\n",
       "      <td>Hearts go astray, leaving hurt when they go\\nI...</td>\n",
       "      <td>198d57da43f98d1602f4e49df5537c72</td>\n",
       "      <td>Hearts gone astray\\nDeep in her when they go\\n...</td>\n",
       "    </tr>\n",
       "  </tbody>\n",
       "</table>\n",
       "</div>"
      ],
      "text/plain": [
       "                           query_id                           cand_id  target  \\\n",
       "0  b9213d37c37deffe8b8af0dac5d0c3c4  58a293c4c86b4c0000b0e683c77432a8       1   \n",
       "1  b9213d37c37deffe8b8af0dac5d0c3c4  79eb48bb4409051aab1602e390c98736       1   \n",
       "\n",
       "                            lyricId  \\\n",
       "0  e3d8c89c71b34be0f4f28ae62c8f40e8   \n",
       "1  e3d8c89c71b34be0f4f28ae62c8f40e8   \n",
       "\n",
       "                                                text  \\\n",
       "0  Hearts go astray, leaving hurt when they go\\nI...   \n",
       "1  Hearts go astray, leaving hurt when they go\\nI...   \n",
       "\n",
       "                       lyricId_cand  \\\n",
       "0  f400505b257315a8eb73cb85e04c4cdc   \n",
       "1  198d57da43f98d1602f4e49df5537c72   \n",
       "\n",
       "                                           text_cand  \n",
       "0  Hearts go astray, leaving hurt when they go.\\n...  \n",
       "1  Hearts gone astray\\nDeep in her when they go\\n...  "
      ]
     },
     "execution_count": 117,
     "metadata": {},
     "output_type": "execute_result"
    }
   ],
   "source": [
    "#присоединим тексты для кандидатов \n",
    "df_positive=df_positive.merge(lyrics, how='inner' , left_on='cand_id', right_on='track_id',suffixes=('', '_cand') ).drop(columns=['track_id'], axis=1) \n",
    "df_positive.head(2)"
   ]
  },
  {
   "cell_type": "code",
   "execution_count": 118,
   "id": "ab9f18b3",
   "metadata": {},
   "outputs": [
    {
     "name": "stdout",
     "output_type": "stream",
     "text": [
      "<class 'pandas.core.frame.DataFrame'>\n",
      "Int64Index: 892 entries, 0 to 891\n",
      "Data columns (total 7 columns):\n",
      " #   Column        Non-Null Count  Dtype \n",
      "---  ------        --------------  ----- \n",
      " 0   query_id      892 non-null    object\n",
      " 1   cand_id       892 non-null    object\n",
      " 2   target        892 non-null    int64 \n",
      " 3   lyricId       892 non-null    object\n",
      " 4   text          892 non-null    object\n",
      " 5   lyricId_cand  892 non-null    object\n",
      " 6   text_cand     892 non-null    object\n",
      "dtypes: int64(1), object(6)\n",
      "memory usage: 55.8+ KB\n"
     ]
    }
   ],
   "source": [
    "df_positive.info()"
   ]
  },
  {
   "cell_type": "markdown",
   "id": "105f1112",
   "metadata": {},
   "source": [
    "#### Negative\n",
    "Для создания базы с негативным таргетом, можно взять и случайно сопоставить пары, у которых признак ORIGINAL и не равны lyricId и track_id. Будем считать, что два оригинала - не могут быть кавром и оригиналом или двумя каверами - одной песни "
   ]
  },
  {
   "cell_type": "code",
   "execution_count": 119,
   "id": "a5fab9df",
   "metadata": {},
   "outputs": [
    {
     "name": "stdout",
     "output_type": "stream",
     "text": [
      "(4293, 1)\n"
     ]
    },
    {
     "data": {
      "text/html": [
       "<div>\n",
       "<style scoped>\n",
       "    .dataframe tbody tr th:only-of-type {\n",
       "        vertical-align: middle;\n",
       "    }\n",
       "\n",
       "    .dataframe tbody tr th {\n",
       "        vertical-align: top;\n",
       "    }\n",
       "\n",
       "    .dataframe thead th {\n",
       "        text-align: right;\n",
       "    }\n",
       "</style>\n",
       "<table border=\"1\" class=\"dataframe\">\n",
       "  <thead>\n",
       "    <tr style=\"text-align: right;\">\n",
       "      <th></th>\n",
       "      <th>track_id</th>\n",
       "    </tr>\n",
       "  </thead>\n",
       "  <tbody>\n",
       "    <tr>\n",
       "      <th>0</th>\n",
       "      <td>eeb69a3cb92300456b6a5f4162093851</td>\n",
       "    </tr>\n",
       "    <tr>\n",
       "      <th>1</th>\n",
       "      <td>fe7ee8fc1959cc7214fa21c4840dff0a</td>\n",
       "    </tr>\n",
       "  </tbody>\n",
       "</table>\n",
       "</div>"
      ],
      "text/plain": [
       "                           track_id\n",
       "0  eeb69a3cb92300456b6a5f4162093851\n",
       "1  fe7ee8fc1959cc7214fa21c4840dff0a"
      ]
     },
     "execution_count": 119,
     "metadata": {},
     "output_type": "execute_result"
    }
   ],
   "source": [
    "df_neg= covers.loc[(covers.track_remake_type=='ORIGINAL')].reset_index(drop=True).drop(columns=['original_track_id','track_remake_type'], axis=1).copy()\n",
    "df_neg=df_neg.drop_duplicates()\n",
    "print(df_neg.shape)\n",
    "df_neg.head(2)"
   ]
  },
  {
   "cell_type": "code",
   "execution_count": 120,
   "id": "f6a458b8",
   "metadata": {},
   "outputs": [
    {
     "name": "stdout",
     "output_type": "stream",
     "text": [
      "(2717, 3)\n"
     ]
    },
    {
     "data": {
      "text/html": [
       "<div>\n",
       "<style scoped>\n",
       "    .dataframe tbody tr th:only-of-type {\n",
       "        vertical-align: middle;\n",
       "    }\n",
       "\n",
       "    .dataframe tbody tr th {\n",
       "        vertical-align: top;\n",
       "    }\n",
       "\n",
       "    .dataframe thead th {\n",
       "        text-align: right;\n",
       "    }\n",
       "</style>\n",
       "<table border=\"1\" class=\"dataframe\">\n",
       "  <thead>\n",
       "    <tr style=\"text-align: right;\">\n",
       "      <th></th>\n",
       "      <th>track_id</th>\n",
       "      <th>lyricId</th>\n",
       "      <th>text</th>\n",
       "    </tr>\n",
       "  </thead>\n",
       "  <tbody>\n",
       "    <tr>\n",
       "      <th>0</th>\n",
       "      <td>eeb69a3cb92300456b6a5f4162093851</td>\n",
       "      <td>260f21d9f48e8de874a6e844159ddf28</td>\n",
       "      <td>Left a good job in the city\\nWorkin' for the m...</td>\n",
       "    </tr>\n",
       "    <tr>\n",
       "      <th>1</th>\n",
       "      <td>fe7ee8fc1959cc7214fa21c4840dff0a</td>\n",
       "      <td>2498827bd11eca5846270487e4960080</td>\n",
       "      <td>Some folks are born made to wave the flag\\nOoh...</td>\n",
       "    </tr>\n",
       "  </tbody>\n",
       "</table>\n",
       "</div>"
      ],
      "text/plain": [
       "                           track_id                           lyricId  \\\n",
       "0  eeb69a3cb92300456b6a5f4162093851  260f21d9f48e8de874a6e844159ddf28   \n",
       "1  fe7ee8fc1959cc7214fa21c4840dff0a  2498827bd11eca5846270487e4960080   \n",
       "\n",
       "                                                text  \n",
       "0  Left a good job in the city\\nWorkin' for the m...  \n",
       "1  Some folks are born made to wave the flag\\nOoh...  "
      ]
     },
     "execution_count": 120,
     "metadata": {},
     "output_type": "execute_result"
    }
   ],
   "source": [
    "df_neg=df_neg.merge(lyrics, how='inner',on='track_id').drop_duplicates(subset=['track_id']).reset_index(drop=True) \n",
    "print(df_neg.shape)\n",
    "df_neg.head(2)"
   ]
  },
  {
   "cell_type": "code",
   "execution_count": 121,
   "id": "b34ac692",
   "metadata": {},
   "outputs": [
    {
     "name": "stdout",
     "output_type": "stream",
     "text": [
      "CPU times: total: 1.47 s\n",
      "Wall time: 1.48 s\n"
     ]
    }
   ],
   "source": [
    "%%time\n",
    "#Создадим шаблон, куда будем добавлять случайные пары из отобранных ранее айдишников\n",
    "df_negative=pd.DataFrame(columns=['query_id','cand_id','target'] )\n",
    "df_negative\n",
    "\n",
    "for i in range(3000):\n",
    "    index_query=random.randint(0,len(df_neg)-1)\n",
    "    index_cand=random.randint(0,len(df_neg)-1)\n",
    "    query_id=df_neg['track_id'][index_query]\n",
    "    cand_id=df_neg['track_id'][index_cand]\n",
    "    if query_id!=cand_id:\n",
    "        df_negative = pd.concat([df_negative,pd.DataFrame(\n",
    "            {'query_id':query_id,\n",
    "             'cand_id':cand_id,\n",
    "             'target':[0]}) ], ignore_index=True)\n"
   ]
  },
  {
   "cell_type": "code",
   "execution_count": 122,
   "id": "13747e44",
   "metadata": {},
   "outputs": [
    {
     "data": {
      "text/html": [
       "<div>\n",
       "<style scoped>\n",
       "    .dataframe tbody tr th:only-of-type {\n",
       "        vertical-align: middle;\n",
       "    }\n",
       "\n",
       "    .dataframe tbody tr th {\n",
       "        vertical-align: top;\n",
       "    }\n",
       "\n",
       "    .dataframe thead th {\n",
       "        text-align: right;\n",
       "    }\n",
       "</style>\n",
       "<table border=\"1\" class=\"dataframe\">\n",
       "  <thead>\n",
       "    <tr style=\"text-align: right;\">\n",
       "      <th></th>\n",
       "      <th>query_id</th>\n",
       "      <th>cand_id</th>\n",
       "      <th>target</th>\n",
       "    </tr>\n",
       "  </thead>\n",
       "  <tbody>\n",
       "    <tr>\n",
       "      <th>0</th>\n",
       "      <td>cf058b265ea49c99fcb068127a9b8d47</td>\n",
       "      <td>38cda8f56074ea398210ce8b3a344571</td>\n",
       "      <td>0</td>\n",
       "    </tr>\n",
       "    <tr>\n",
       "      <th>1</th>\n",
       "      <td>3acfe1080840ae06cb973f6d15ce4c04</td>\n",
       "      <td>d5f0f5e4b0018d0f16d561ccd14b8bd2</td>\n",
       "      <td>0</td>\n",
       "    </tr>\n",
       "    <tr>\n",
       "      <th>2</th>\n",
       "      <td>6607edf22076b3bcf9dfa56e30dd3d14</td>\n",
       "      <td>04eb0319f23cfc8ea5f4e6cbc217e6f4</td>\n",
       "      <td>0</td>\n",
       "    </tr>\n",
       "    <tr>\n",
       "      <th>3</th>\n",
       "      <td>75c883588c57d2f445a06276d4301f51</td>\n",
       "      <td>64f2c46398ee1ebf31071e15a4b60c20</td>\n",
       "      <td>0</td>\n",
       "    </tr>\n",
       "    <tr>\n",
       "      <th>4</th>\n",
       "      <td>c4715989f74a8bc84e7b3f286d51a908</td>\n",
       "      <td>c8b106cc946f7454e0177f6f9d2bb41e</td>\n",
       "      <td>0</td>\n",
       "    </tr>\n",
       "    <tr>\n",
       "      <th>...</th>\n",
       "      <td>...</td>\n",
       "      <td>...</td>\n",
       "      <td>...</td>\n",
       "    </tr>\n",
       "    <tr>\n",
       "      <th>2995</th>\n",
       "      <td>301b5c9d85b13ea09f9f0e952ef49039</td>\n",
       "      <td>e64648eeae51d122d2d0a2d61955dc58</td>\n",
       "      <td>0</td>\n",
       "    </tr>\n",
       "    <tr>\n",
       "      <th>2996</th>\n",
       "      <td>0d48784f92cf9a307a196f77e553955a</td>\n",
       "      <td>cf302685c6e8a2012a2b6e7557c78804</td>\n",
       "      <td>0</td>\n",
       "    </tr>\n",
       "    <tr>\n",
       "      <th>2997</th>\n",
       "      <td>3716307d2ede6813c2e7511b2cb957cd</td>\n",
       "      <td>e1c13138d55fee26eb2e10e067872f1d</td>\n",
       "      <td>0</td>\n",
       "    </tr>\n",
       "    <tr>\n",
       "      <th>2998</th>\n",
       "      <td>8950d49e158df08f771ca228f7f69744</td>\n",
       "      <td>7da0563de7f9e148f090fb1e0ef76d8b</td>\n",
       "      <td>0</td>\n",
       "    </tr>\n",
       "    <tr>\n",
       "      <th>2999</th>\n",
       "      <td>83b87801aa0d58d2b8129ffefc428e4b</td>\n",
       "      <td>1412cee16e893711ef210c04a27e1f16</td>\n",
       "      <td>0</td>\n",
       "    </tr>\n",
       "  </tbody>\n",
       "</table>\n",
       "<p>3000 rows × 3 columns</p>\n",
       "</div>"
      ],
      "text/plain": [
       "                              query_id                           cand_id  \\\n",
       "0     cf058b265ea49c99fcb068127a9b8d47  38cda8f56074ea398210ce8b3a344571   \n",
       "1     3acfe1080840ae06cb973f6d15ce4c04  d5f0f5e4b0018d0f16d561ccd14b8bd2   \n",
       "2     6607edf22076b3bcf9dfa56e30dd3d14  04eb0319f23cfc8ea5f4e6cbc217e6f4   \n",
       "3     75c883588c57d2f445a06276d4301f51  64f2c46398ee1ebf31071e15a4b60c20   \n",
       "4     c4715989f74a8bc84e7b3f286d51a908  c8b106cc946f7454e0177f6f9d2bb41e   \n",
       "...                                ...                               ...   \n",
       "2995  301b5c9d85b13ea09f9f0e952ef49039  e64648eeae51d122d2d0a2d61955dc58   \n",
       "2996  0d48784f92cf9a307a196f77e553955a  cf302685c6e8a2012a2b6e7557c78804   \n",
       "2997  3716307d2ede6813c2e7511b2cb957cd  e1c13138d55fee26eb2e10e067872f1d   \n",
       "2998  8950d49e158df08f771ca228f7f69744  7da0563de7f9e148f090fb1e0ef76d8b   \n",
       "2999  83b87801aa0d58d2b8129ffefc428e4b  1412cee16e893711ef210c04a27e1f16   \n",
       "\n",
       "     target  \n",
       "0         0  \n",
       "1         0  \n",
       "2         0  \n",
       "3         0  \n",
       "4         0  \n",
       "...     ...  \n",
       "2995      0  \n",
       "2996      0  \n",
       "2997      0  \n",
       "2998      0  \n",
       "2999      0  \n",
       "\n",
       "[3000 rows x 3 columns]"
      ]
     },
     "execution_count": 122,
     "metadata": {},
     "output_type": "execute_result"
    }
   ],
   "source": [
    "df_negative"
   ]
  },
  {
   "cell_type": "code",
   "execution_count": 123,
   "id": "ef2fe668",
   "metadata": {},
   "outputs": [
    {
     "data": {
      "text/html": [
       "<div>\n",
       "<style scoped>\n",
       "    .dataframe tbody tr th:only-of-type {\n",
       "        vertical-align: middle;\n",
       "    }\n",
       "\n",
       "    .dataframe tbody tr th {\n",
       "        vertical-align: top;\n",
       "    }\n",
       "\n",
       "    .dataframe thead th {\n",
       "        text-align: right;\n",
       "    }\n",
       "</style>\n",
       "<table border=\"1\" class=\"dataframe\">\n",
       "  <thead>\n",
       "    <tr style=\"text-align: right;\">\n",
       "      <th></th>\n",
       "      <th>query_id</th>\n",
       "      <th>cand_id</th>\n",
       "      <th>target</th>\n",
       "      <th>lyricId</th>\n",
       "      <th>text</th>\n",
       "      <th>lyricId_cand</th>\n",
       "      <th>text_cand</th>\n",
       "    </tr>\n",
       "  </thead>\n",
       "  <tbody>\n",
       "    <tr>\n",
       "      <th>0</th>\n",
       "      <td>cf058b265ea49c99fcb068127a9b8d47</td>\n",
       "      <td>38cda8f56074ea398210ce8b3a344571</td>\n",
       "      <td>0</td>\n",
       "      <td>af713465a799b371befc173cb38671ca</td>\n",
       "      <td>А на кухне суп мой стынет, в голове одно: Я те...</td>\n",
       "      <td>23484b593dcdffeedec7bf1abdc93b42</td>\n",
       "      <td>Путёвку дали в чужие дали\\nВ самолёте не поспа...</td>\n",
       "    </tr>\n",
       "    <tr>\n",
       "      <th>1</th>\n",
       "      <td>cf058b265ea49c99fcb068127a9b8d47</td>\n",
       "      <td>974765acd6dcfe38490a0306f6619a39</td>\n",
       "      <td>0</td>\n",
       "      <td>af713465a799b371befc173cb38671ca</td>\n",
       "      <td>А на кухне суп мой стынет, в голове одно: Я те...</td>\n",
       "      <td>ac155ce55c2f176460e841d8f9d372d0</td>\n",
       "      <td>Knockin' on your door\\nBaby I want more\\nSit a...</td>\n",
       "    </tr>\n",
       "  </tbody>\n",
       "</table>\n",
       "</div>"
      ],
      "text/plain": [
       "                           query_id                           cand_id target  \\\n",
       "0  cf058b265ea49c99fcb068127a9b8d47  38cda8f56074ea398210ce8b3a344571      0   \n",
       "1  cf058b265ea49c99fcb068127a9b8d47  974765acd6dcfe38490a0306f6619a39      0   \n",
       "\n",
       "                            lyricId  \\\n",
       "0  af713465a799b371befc173cb38671ca   \n",
       "1  af713465a799b371befc173cb38671ca   \n",
       "\n",
       "                                                text  \\\n",
       "0  А на кухне суп мой стынет, в голове одно: Я те...   \n",
       "1  А на кухне суп мой стынет, в голове одно: Я те...   \n",
       "\n",
       "                       lyricId_cand  \\\n",
       "0  23484b593dcdffeedec7bf1abdc93b42   \n",
       "1  ac155ce55c2f176460e841d8f9d372d0   \n",
       "\n",
       "                                           text_cand  \n",
       "0  Путёвку дали в чужие дали\\nВ самолёте не поспа...  \n",
       "1  Knockin' on your door\\nBaby I want more\\nSit a...  "
      ]
     },
     "execution_count": 123,
     "metadata": {},
     "output_type": "execute_result"
    }
   ],
   "source": [
    "# присоединим тексты \n",
    "df_negative=df_negative\\\n",
    "  .merge(lyrics, how='inner' , left_on='query_id', right_on='track_id').drop(columns=['track_id'], axis=1) \\\n",
    "    .merge(lyrics, how='inner' , left_on='cand_id', right_on='track_id',suffixes=('', '_cand') )\\\n",
    "        .drop(columns=['track_id'], axis=1) \n",
    "df_negative.head(2)"
   ]
  },
  {
   "cell_type": "markdown",
   "id": "b960180b",
   "metadata": {},
   "source": [
    "#### Concat"
   ]
  },
  {
   "cell_type": "code",
   "execution_count": 124,
   "id": "c5998263",
   "metadata": {},
   "outputs": [
    {
     "data": {
      "text/html": [
       "<div>\n",
       "<style scoped>\n",
       "    .dataframe tbody tr th:only-of-type {\n",
       "        vertical-align: middle;\n",
       "    }\n",
       "\n",
       "    .dataframe tbody tr th {\n",
       "        vertical-align: top;\n",
       "    }\n",
       "\n",
       "    .dataframe thead th {\n",
       "        text-align: right;\n",
       "    }\n",
       "</style>\n",
       "<table border=\"1\" class=\"dataframe\">\n",
       "  <thead>\n",
       "    <tr style=\"text-align: right;\">\n",
       "      <th></th>\n",
       "      <th>query_id</th>\n",
       "      <th>cand_id</th>\n",
       "      <th>target</th>\n",
       "      <th>lyricId</th>\n",
       "      <th>text</th>\n",
       "      <th>lyricId_cand</th>\n",
       "      <th>text_cand</th>\n",
       "    </tr>\n",
       "  </thead>\n",
       "  <tbody>\n",
       "    <tr>\n",
       "      <th>0</th>\n",
       "      <td>6dd02e23de1d286eaf77395efa103dcf</td>\n",
       "      <td>8e0235cf2a39eacc4c78885ca7dd4de3</td>\n",
       "      <td>0</td>\n",
       "      <td>47c936e5831d882bb78c62e0e6f3b448</td>\n",
       "      <td>Лакоста за\\nНет Лакоста против\\n\\nСкоро весна\\...</td>\n",
       "      <td>f03bb4e6d48a6a7f9c8641d5a02196ce</td>\n",
       "      <td>I heard he sang a good song,\\nI heard he had a...</td>\n",
       "    </tr>\n",
       "    <tr>\n",
       "      <th>1</th>\n",
       "      <td>2398589f134c0086c4f33519285b2b35</td>\n",
       "      <td>584769d116e613e99d5c69a76b8daadd</td>\n",
       "      <td>0</td>\n",
       "      <td>a780efeb908292fe5ea656b5b6812d54</td>\n",
       "      <td>Decisions as I go, to anywhere I flow\\nSometim...</td>\n",
       "      <td>c5620df630b0c2b842bd520656abc4b3</td>\n",
       "      <td>Show me how to lie, you're getting better all ...</td>\n",
       "    </tr>\n",
       "  </tbody>\n",
       "</table>\n",
       "</div>"
      ],
      "text/plain": [
       "                           query_id                           cand_id target  \\\n",
       "0  6dd02e23de1d286eaf77395efa103dcf  8e0235cf2a39eacc4c78885ca7dd4de3      0   \n",
       "1  2398589f134c0086c4f33519285b2b35  584769d116e613e99d5c69a76b8daadd      0   \n",
       "\n",
       "                            lyricId  \\\n",
       "0  47c936e5831d882bb78c62e0e6f3b448   \n",
       "1  a780efeb908292fe5ea656b5b6812d54   \n",
       "\n",
       "                                                text  \\\n",
       "0  Лакоста за\\nНет Лакоста против\\n\\nСкоро весна\\...   \n",
       "1  Decisions as I go, to anywhere I flow\\nSometim...   \n",
       "\n",
       "                       lyricId_cand  \\\n",
       "0  f03bb4e6d48a6a7f9c8641d5a02196ce   \n",
       "1  c5620df630b0c2b842bd520656abc4b3   \n",
       "\n",
       "                                           text_cand  \n",
       "0  I heard he sang a good song,\\nI heard he had a...  \n",
       "1  Show me how to lie, you're getting better all ...  "
      ]
     },
     "execution_count": 124,
     "metadata": {},
     "output_type": "execute_result"
    }
   ],
   "source": [
    "train_text=pd.concat([df_positive,df_negative], ignore_index=True).sample(frac=1).reset_index(drop=True)\n",
    "train_text.head(2)"
   ]
  },
  {
   "cell_type": "code",
   "execution_count": 125,
   "id": "3d724ea9",
   "metadata": {},
   "outputs": [],
   "source": [
    "train_text['target']=train_text['target'].astype (int)"
   ]
  },
  {
   "cell_type": "code",
   "execution_count": 126,
   "id": "902c5fb8",
   "metadata": {},
   "outputs": [
    {
     "name": "stdout",
     "output_type": "stream",
     "text": [
      "<class 'pandas.core.frame.DataFrame'>\n",
      "RangeIndex: 5164 entries, 0 to 5163\n",
      "Data columns (total 7 columns):\n",
      " #   Column        Non-Null Count  Dtype \n",
      "---  ------        --------------  ----- \n",
      " 0   query_id      5164 non-null   object\n",
      " 1   cand_id       5164 non-null   object\n",
      " 2   target        5164 non-null   int32 \n",
      " 3   lyricId       5164 non-null   object\n",
      " 4   text          5164 non-null   object\n",
      " 5   lyricId_cand  5164 non-null   object\n",
      " 6   text_cand     5164 non-null   object\n",
      "dtypes: int32(1), object(6)\n",
      "memory usage: 262.4+ KB\n"
     ]
    }
   ],
   "source": [
    "train_text.info()"
   ]
  },
  {
   "cell_type": "markdown",
   "id": "6f568455",
   "metadata": {},
   "source": [
    "### Модель"
   ]
  },
  {
   "cell_type": "code",
   "execution_count": 127,
   "id": "df46362e",
   "metadata": {},
   "outputs": [
    {
     "name": "stdout",
     "output_type": "stream",
     "text": [
      "(4131, 7)\n"
     ]
    },
    {
     "data": {
      "text/plain": [
       "(1033, 7)"
      ]
     },
     "execution_count": 127,
     "metadata": {},
     "output_type": "execute_result"
    }
   ],
   "source": [
    "X_train, X_test = train_test_split(train_text, test_size=0.2, \\\n",
    "                                stratify=train_text['target'])\n",
    "print(X_train.shape)\n",
    "X_test.shape"
   ]
  },
  {
   "cell_type": "code",
   "execution_count": 128,
   "id": "7cc0d5c5",
   "metadata": {},
   "outputs": [],
   "source": [
    "y_train = X_train['target']                    \n",
    "X_train = X_train.drop(['target'], axis=1)\n",
    "\n",
    "y_test = X_test['target']                    \n",
    "X_test = X_test.drop(['target'], axis=1)"
   ]
  },
  {
   "cell_type": "code",
   "execution_count": 129,
   "id": "c497b084",
   "metadata": {},
   "outputs": [],
   "source": [
    "train_pool = Pool(\n",
    "    data=X_train[['text_cand','text']],\n",
    "    label=y_train,\n",
    "    text_features=['text_cand','text']\n",
    ")\n",
    "\n",
    "eval_pool = Pool(\n",
    "    data=X_test[['text_cand','text']],\n",
    "    label=y_test,\n",
    "    text_features=['text_cand','text']\n",
    ")"
   ]
  },
  {
   "cell_type": "code",
   "execution_count": 130,
   "id": "f57820f7",
   "metadata": {},
   "outputs": [
    {
     "data": {
      "application/vnd.jupyter.widget-view+json": {
       "model_id": "e45e4837343e4fd0b1eadaa7077c3c03",
       "version_major": 2,
       "version_minor": 0
      },
      "text/plain": [
       "MetricVisualizer(layout=Layout(align_self='stretch', height='500px'))"
      ]
     },
     "metadata": {},
     "output_type": "display_data"
    },
    {
     "name": "stdout",
     "output_type": "stream",
     "text": [
      "0:\tlearn: 0.9132691\ttotal: 91.4ms\tremaining: 27.3s\n",
      "100:\tlearn: 0.9557895\ttotal: 12.8s\tremaining: 25.2s\n",
      "200:\tlearn: 0.9761532\ttotal: 25.9s\tremaining: 12.8s\n",
      "299:\tlearn: 0.9951220\ttotal: 38.7s\tremaining: 0us\n",
      "CPU times: total: 4min 40s\n",
      "Wall time: 39.8 s\n"
     ]
    },
    {
     "data": {
      "text/plain": [
       "<catboost.core.CatBoostClassifier at 0x29746b42ca0>"
      ]
     },
     "execution_count": 130,
     "metadata": {},
     "output_type": "execute_result"
    }
   ],
   "source": [
    "%%time\n",
    "model = CatBoostClassifier(iterations=300, learning_rate=0.05, eval_metric='F1',class_weights=(1,4)) #  learning_rate=0.05,\n",
    "\n",
    "model.fit(\n",
    "    train_pool,\n",
    "    plot=True,\n",
    "    verbose=100,\n",
    "    metric_period=50\n",
    ")"
   ]
  },
  {
   "cell_type": "code",
   "execution_count": 131,
   "id": "d8253e11",
   "metadata": {},
   "outputs": [
    {
     "name": "stdout",
     "output_type": "stream",
     "text": [
      "F1 Score on Test Set: 0.9512893982808023\n"
     ]
    }
   ],
   "source": [
    "# посмотрим рзультат на тстовой выборке\n",
    "y_pred = model.predict(eval_pool)\n",
    "f1 = f1_score(y_test, y_pred)\n",
    "print('F1 Score on Test Set:', f1)"
   ]
  },
  {
   "cell_type": "markdown",
   "id": "ddc0cb27",
   "metadata": {},
   "source": [
    "Выводы: гипотеза подтвердилась, на основании текстов можно определить связаны ли треки. Получили хорошую метрику."
   ]
  },
  {
   "cell_type": "markdown",
   "id": "8fdd574b",
   "metadata": {
    "id": "883e311c"
   },
   "source": [
    "## Задача: Поиск связанных треков\n",
    "\n",
    "\n",
    "\n",
    "**Гипотеза:** Для каждого заданного трека (неважно, дан кавер или оригинал) возможно найти все связанные с ним, имеющиеся в базе.\n",
    "\n",
    "**Польза:** Благодаря такой модели можно, например, найти и показать все каверы на любимый трек пользователя;\n",
    "\n",
    "**Задачи:** \n",
    "- векторизация текста\n",
    "- кластеризации в векторном пространстве \n",
    "- ранжирование (если понадобится)\n",
    "\n",
    "**Модели:** \n",
    "- LaBSE ????\n",
    "- Faiss\n",
    "\n",
    "**Метрики:** ?????\n",
    "\n",
    "- усредненный % нашли/должны были найти \n",
    "- усредненный % набрали лишних /должны были найти\n",
    "- какая-то обобщенная метрика, включающая предыдущие две"
   ]
  },
  {
   "cell_type": "markdown",
   "id": "783e3061",
   "metadata": {
    "id": "783e3061"
   },
   "source": [
    "## Итоговый вывод:"
   ]
  },
  {
   "cell_type": "code",
   "execution_count": null,
   "id": "ce40626f",
   "metadata": {
    "id": "ce40626f"
   },
   "outputs": [],
   "source": []
  }
 ],
 "metadata": {
  "accelerator": "GPU",
  "colab": {
   "gpuType": "T4",
   "provenance": []
  },
  "kernelspec": {
   "display_name": "Python 3 (ipykernel)",
   "language": "python",
   "name": "python3"
  },
  "language_info": {
   "codemirror_mode": {
    "name": "ipython",
    "version": 3
   },
   "file_extension": ".py",
   "mimetype": "text/x-python",
   "name": "python",
   "nbconvert_exporter": "python",
   "pygments_lexer": "ipython3",
   "version": "3.9.12"
  },
  "toc": {
   "base_numbering": 1,
   "nav_menu": {},
   "number_sections": true,
   "sideBar": true,
   "skip_h1_title": true,
   "title_cell": "Table of Contents",
   "title_sidebar": "Contents",
   "toc_cell": true,
   "toc_position": {
    "height": "calc(100% - 180px)",
    "left": "10px",
    "top": "150px",
    "width": "332.516px"
   },
   "toc_section_display": true,
   "toc_window_display": true
  }
 },
 "nbformat": 4,
 "nbformat_minor": 5
}
