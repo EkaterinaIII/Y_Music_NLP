{
 "cells": [
  {
   "cell_type": "markdown",
   "id": "2df6361d",
   "metadata": {
    "id": "2df6361d",
    "toc": true
   },
   "source": [
    "<h1>Table of Contents<span class=\"tocSkip\"></span></h1>\n",
    "<div class=\"toc\"><ul class=\"toc-item\"><li><span><a href=\"#EDA\" data-toc-modified-id=\"EDA-1\"><span class=\"toc-item-num\">1&nbsp;&nbsp;</span>EDA</a></span><ul class=\"toc-item\"><li><span><a href=\"#downloads\" data-toc-modified-id=\"downloads-1.1\"><span class=\"toc-item-num\">1.1&nbsp;&nbsp;</span>downloads</a></span></li><li><span><a href=\"#imports\" data-toc-modified-id=\"imports-1.2\"><span class=\"toc-item-num\">1.2&nbsp;&nbsp;</span>imports</a></span></li><li><span><a href=\"#load_date\" data-toc-modified-id=\"load_date-1.3\"><span class=\"toc-item-num\">1.3&nbsp;&nbsp;</span>load_date</a></span></li><li><span><a href=\"#Lyrics\" data-toc-modified-id=\"Lyrics-1.4\"><span class=\"toc-item-num\">1.4&nbsp;&nbsp;</span>Lyrics</a></span></li><li><span><a href=\"#Covers\" data-toc-modified-id=\"Covers-1.5\"><span class=\"toc-item-num\">1.5&nbsp;&nbsp;</span>Covers</a></span></li><li><span><a href=\"#Meta\" data-toc-modified-id=\"Meta-1.6\"><span class=\"toc-item-num\">1.6&nbsp;&nbsp;</span>Meta</a></span><ul class=\"toc-item\"><li><span><a href=\"#meta.track_id\" data-toc-modified-id=\"meta.track_id-1.6.1\"><span class=\"toc-item-num\">1.6.1&nbsp;&nbsp;</span>meta.track_id</a></span></li><li><span><a href=\"#meta.isrc\" data-toc-modified-id=\"meta.isrc-1.6.2\"><span class=\"toc-item-num\">1.6.2&nbsp;&nbsp;</span>meta.isrc</a></span></li><li><span><a href=\"#meta.title\" data-toc-modified-id=\"meta.title-1.6.3\"><span class=\"toc-item-num\">1.6.3&nbsp;&nbsp;</span>meta.title</a></span></li><li><span><a href=\"#meta.duration\" data-toc-modified-id=\"meta.duration-1.6.4\"><span class=\"toc-item-num\">1.6.4&nbsp;&nbsp;</span>meta.duration</a></span></li><li><span><a href=\"#meta.genres\" data-toc-modified-id=\"meta.genres-1.6.5\"><span class=\"toc-item-num\">1.6.5&nbsp;&nbsp;</span>meta.genres</a></span></li><li><span><a href=\"#meta.language\" data-toc-modified-id=\"meta.language-1.6.6\"><span class=\"toc-item-num\">1.6.6&nbsp;&nbsp;</span>meta.language</a></span></li><li><span><a href=\"#Зависимость-признака-кавер-или-оригинал-от-длины-текста\" data-toc-modified-id=\"Зависимость-признака-кавер-или-оригинал-от-длины-текста-1.6.7\"><span class=\"toc-item-num\">1.6.7&nbsp;&nbsp;</span>Зависимость признака кавер или оригинал от длины текста</a></span></li></ul></li><li><span><a href=\"#Выводы:\" data-toc-modified-id=\"Выводы:-1.7\"><span class=\"toc-item-num\">1.7&nbsp;&nbsp;</span>Выводы:</a></span></li></ul></li><li><span><a href=\"#Предоработка-данных\" data-toc-modified-id=\"Предоработка-данных-2\"><span class=\"toc-item-num\">2&nbsp;&nbsp;</span>Предоработка данных</a></span><ul class=\"toc-item\"><li><span><a href=\"#Заполним-пропуски-в-колонке-'language'\" data-toc-modified-id=\"Заполним-пропуски-в-колонке-'language'-2.1\"><span class=\"toc-item-num\">2.1&nbsp;&nbsp;</span>Заполним пропуски в колонке 'language'</a></span></li><li><span><a href=\"#Удалим-дубликаты-текстов-для-lyrics.track_id\" data-toc-modified-id=\"Удалим-дубликаты-текстов-для-lyrics.track_id-2.2\"><span class=\"toc-item-num\">2.2&nbsp;&nbsp;</span>Удалим дубликаты текстов для lyrics.track_id</a></span></li><li><span><a href=\"#Заполним-year-по-isrc\" data-toc-modified-id=\"Заполним-year-по-isrc-2.3\"><span class=\"toc-item-num\">2.3&nbsp;&nbsp;</span>Заполним year по isrc</a></span></li><li><span><a href=\"#Выводы:\" data-toc-modified-id=\"Выводы:-2.4\"><span class=\"toc-item-num\">2.4&nbsp;&nbsp;</span>Выводы:</a></span></li></ul></li><li><span><a href=\"#Фича-инжиниринг:-сгенерировать-дополнительные-признаки\" data-toc-modified-id=\"Фича-инжиниринг:-сгенерировать-дополнительные-признаки-3\"><span class=\"toc-item-num\">3&nbsp;&nbsp;</span>Фича-инжиниринг: сгенерировать дополнительные признаки</a></span><ul class=\"toc-item\"><li><span><a href=\"#Признак-&quot;кавер&quot;-в-наименовании-трека\" data-toc-modified-id=\"Признак-&quot;кавер&quot;-в-наименовании-трека-3.1\"><span class=\"toc-item-num\">3.1&nbsp;&nbsp;</span>Признак \"кавер\" в наименовании трека</a></span></li><li><span><a href=\"#Создани-фичей-для--модли--CatBoost\" data-toc-modified-id=\"Создани-фичей-для--модли--CatBoost-3.2\"><span class=\"toc-item-num\">3.2&nbsp;&nbsp;</span>Создани фичей для  модли  CatBoost</a></span></li></ul></li><li><span><a href=\"#Задача:-Классификация-оригинал/кавер\" data-toc-modified-id=\"Задача:-Классификация-оригинал/кавер-4\"><span class=\"toc-item-num\">4&nbsp;&nbsp;</span>Задача: Классификация оригинал/кавер</a></span><ul class=\"toc-item\"><li><span><a href=\"#Обучение-на--данных,-с-признаком-&quot;текст-песни&quot;\" data-toc-modified-id=\"Обучение-на--данных,-с-признаком-&quot;текст-песни&quot;-4.1\"><span class=\"toc-item-num\">4.1&nbsp;&nbsp;</span>Обучение на  данных, с признаком \"текст песни\"</a></span><ul class=\"toc-item\"><li><span><a href=\"#feature_importances\" data-toc-modified-id=\"feature_importances-4.1.1\"><span class=\"toc-item-num\">4.1.1&nbsp;&nbsp;</span>feature_importances</a></span></li></ul></li><li><span><a href=\"#Обучение-на-всех-данных,-без-признака-&quot;текст-песни&quot;\" data-toc-modified-id=\"Обучение-на-всех-данных,-без-признака-&quot;текст-песни&quot;-4.2\"><span class=\"toc-item-num\">4.2&nbsp;&nbsp;</span>Обучение на всех данных, без признака \"текст песни\"</a></span><ul class=\"toc-item\"><li><span><a href=\"#feature_importances\" data-toc-modified-id=\"feature_importances-4.2.1\"><span class=\"toc-item-num\">4.2.1&nbsp;&nbsp;</span>feature_importances</a></span></li></ul></li><li><span><a href=\"#Выводы:\" data-toc-modified-id=\"Выводы:-4.3\"><span class=\"toc-item-num\">4.3&nbsp;&nbsp;</span>Выводы:</a></span></li></ul></li><li><span><a href=\"#Задача:-Определение-&quot;связности&quot;-треков\" data-toc-modified-id=\"Задача:-Определение-&quot;связности&quot;-треков-5\"><span class=\"toc-item-num\">5&nbsp;&nbsp;</span>Задача: Определение \"связности\" треков</a></span><ul class=\"toc-item\"><li><span><a href=\"#Сборка-датасета-с-разметкой\" data-toc-modified-id=\"Сборка-датасета-с-разметкой-5.1\"><span class=\"toc-item-num\">5.1&nbsp;&nbsp;</span>Сборка датасета с разметкой</a></span><ul class=\"toc-item\"><li><span><a href=\"#Positive\" data-toc-modified-id=\"Positive-5.1.1\"><span class=\"toc-item-num\">5.1.1&nbsp;&nbsp;</span>Positive</a></span></li><li><span><a href=\"#Negative\" data-toc-modified-id=\"Negative-5.1.2\"><span class=\"toc-item-num\">5.1.2&nbsp;&nbsp;</span>Negative</a></span></li><li><span><a href=\"#Concat\" data-toc-modified-id=\"Concat-5.1.3\"><span class=\"toc-item-num\">5.1.3&nbsp;&nbsp;</span>Concat</a></span></li></ul></li><li><span><a href=\"#Модель\" data-toc-modified-id=\"Модель-5.2\"><span class=\"toc-item-num\">5.2&nbsp;&nbsp;</span>Модель</a></span></li><li><span><a href=\"#Выводы:\" data-toc-modified-id=\"Выводы:-5.3\"><span class=\"toc-item-num\">5.3&nbsp;&nbsp;</span>Выводы:</a></span></li></ul></li><li><span><a href=\"#Задача:-Поиск-связанных-треков\" data-toc-modified-id=\"Задача:-Поиск-связанных-треков-6\"><span class=\"toc-item-num\">6&nbsp;&nbsp;</span>Задача: Поиск связанных треков</a></span><ul class=\"toc-item\"><li><ul class=\"toc-item\"><li><span><a href=\"#Метрики\" data-toc-modified-id=\"Метрики-6.0.1\"><span class=\"toc-item-num\">6.0.1&nbsp;&nbsp;</span>Метрики</a></span></li></ul></li><li><span><a href=\"#Поиск-на-векторизованных-текстах\" data-toc-modified-id=\"Поиск-на-векторизованных-текстах-6.1\"><span class=\"toc-item-num\">6.1&nbsp;&nbsp;</span>Поиск на векторизованных текстах</a></span><ul class=\"toc-item\"><li><span><a href=\"#vectors-(base)\" data-toc-modified-id=\"vectors-(base)-6.1.1\"><span class=\"toc-item-num\">6.1.1&nbsp;&nbsp;</span>vectors (base)</a></span></li><li><span><a href=\"#Векторизация\" data-toc-modified-id=\"Векторизация-6.1.2\"><span class=\"toc-item-num\">6.1.2&nbsp;&nbsp;</span>Векторизация</a></span></li><li><span><a href=\"#df_test\" data-toc-modified-id=\"df_test-6.1.3\"><span class=\"toc-item-num\">6.1.3&nbsp;&nbsp;</span>df_test</a></span></li><li><span><a href=\"#Функция-для-поиска-связных-треков\" data-toc-modified-id=\"Функция-для-поиска-связных-треков-6.1.4\"><span class=\"toc-item-num\">6.1.4&nbsp;&nbsp;</span>Функция для поиска связных треков</a></span></li><li><span><a href=\"#Поиск-связных-треков-на-тесте\" data-toc-modified-id=\"Поиск-связных-треков-на-тесте-6.1.5\"><span class=\"toc-item-num\">6.1.5&nbsp;&nbsp;</span>Поиск связных треков на тесте</a></span></li><li><span><a href=\"#Расчет-метрик\" data-toc-modified-id=\"Расчет-метрик-6.1.6\"><span class=\"toc-item-num\">6.1.6&nbsp;&nbsp;</span>Расчет метрик</a></span></li></ul></li><li><span><a href=\"#Поиск-по-расстоянию-Левенштейна\" data-toc-modified-id=\"Поиск-по-расстоянию-Левенштейна-6.2\"><span class=\"toc-item-num\">6.2&nbsp;&nbsp;</span>Поиск по расстоянию Левенштейна</a></span></li><li><span><a href=\"#Выводы:\" data-toc-modified-id=\"Выводы:-6.3\"><span class=\"toc-item-num\">6.3&nbsp;&nbsp;</span>Выводы:</a></span></li></ul></li><li><span><a href=\"#Задача:-Эволюция-трека-с-течением-времени.\" data-toc-modified-id=\"Задача:-Эволюция-трека-с-течением-времени.-7\"><span class=\"toc-item-num\">7&nbsp;&nbsp;</span>Задача: Эволюция трека с течением времени.</a></span></li><li><span><a href=\"#Задача:-Поиск-оригинала-из-всей-базы\" data-toc-modified-id=\"Задача:-Поиск-оригинала-из-всей-базы-8\"><span class=\"toc-item-num\">8&nbsp;&nbsp;</span>Задача: Поиск оригинала из всей базы</a></span></li><li><span><a href=\"#Задача:-Доразметка-связей-каверов-с-оригиналом\" data-toc-modified-id=\"Задача:-Доразметка-связей-каверов-с-оригиналом-9\"><span class=\"toc-item-num\">9&nbsp;&nbsp;</span>Задача: Доразметка связей каверов с оригиналом</a></span></li><li><span><a href=\"#Итоговый-вывод:\" data-toc-modified-id=\"Итоговый-вывод:-10\"><span class=\"toc-item-num\">10&nbsp;&nbsp;</span>Итоговый вывод:</a></span></li></ul></div>"
   ]
  },
  {
   "cell_type": "markdown",
   "id": "5f98fc24",
   "metadata": {
    "id": "5f98fc24"
   },
   "source": [
    "# ЯндексМузыка.Поиск каверов\n",
    "\n",
    "Обнаружение треков каверов - важная продуктовая задача, которая может значительно улучшить качество рекомендаций музыкального сервиса и повысить счастье наших пользователей. Если мы умеем с высокой точностью классифицировать каверы и связывать их между собой, то можно предложить пользователю новые возможности для управления потоком треков. Например:\n",
    "\n",
    "- по желанию пользователя можем полностью исключить каверы из рекомендаций;\n",
    "- показать все каверы на любимый трек пользователя;\n",
    "- контролировать долю каверов в ленте пользователя."
   ]
  },
  {
   "cell_type": "markdown",
   "id": "fa90ee9a",
   "metadata": {
    "id": "fa90ee9a"
   },
   "source": [
    "**Цель проекта:**\n",
    "\n",
    "Улучшение качества рекомендаций музыкального сервиса путем точного определения и\n",
    "классификации каверов.\n",
    "\n",
    "**Задачи:**\n",
    "\n",
    "разработать решение, которое:\n",
    "\n",
    "- может классифицировать треки по признаку кавер-некавер;\n",
    "- связывать (группировать) каверы и исходный трек;\n",
    "- находит исходный трек в цепочке каверов"
   ]
  },
  {
   "cell_type": "markdown",
   "id": "0cc7845b",
   "metadata": {
    "id": "0cc7845b"
   },
   "source": [
    "## EDA"
   ]
  },
  {
   "cell_type": "markdown",
   "id": "161191ab",
   "metadata": {
    "id": "161191ab"
   },
   "source": [
    "### downloads"
   ]
  },
  {
   "cell_type": "code",
   "execution_count": 133,
   "id": "5f572a13",
   "metadata": {
    "colab": {
     "base_uri": "https://localhost:8080/"
    },
    "id": "5f572a13",
    "outputId": "2fc41f31-3f1d-425a-f98d-455ee3c27be7"
   },
   "outputs": [],
   "source": [
    "#!pip install -r requirements.txt -q"
   ]
  },
  {
   "cell_type": "markdown",
   "id": "c308f46d",
   "metadata": {
    "id": "c308f46d"
   },
   "source": [
    "### imports"
   ]
  },
  {
   "cell_type": "code",
   "execution_count": 134,
   "id": "b9a76421",
   "metadata": {
    "id": "b9a76421"
   },
   "outputs": [],
   "source": [
    "import pandas as pd\n",
    "import numpy as np\n",
    "import time\n",
    "from langdetect import detect\n",
    "from nltk.metrics.distance import edit_distance\n",
    "import random\n",
    "from matplotlib import pyplot as plt\n",
    "\n",
    "from catboost import CatBoostClassifier,Pool\n",
    "\n",
    "from sklearn.metrics import f1_score, roc_curve, roc_auc_score\n",
    "from sklearn.model_selection import train_test_split, StratifiedGroupKFold, RandomizedSearchCV\n",
    "\n",
    "from sklearn.metrics import pairwise_distances\n",
    "\n",
    "from scipy.spatial.distance import cosine, euclidean\n",
    "\n",
    "import joblib\n",
    "import re\n",
    "\n",
    "from tqdm.notebook import tqdm\n",
    "tqdm.pandas()\n",
    "# Избавляемся от вывода предупреждений\n",
    "import warnings\n",
    "warnings.simplefilter(\"ignore\")\n",
    "\n",
    "\n",
    "from transformers import AutoTokenizer, AutoModel\n",
    "import torch\n",
    "\n",
    "# Код, чтобы не кушало все ресурсы ПК\n",
    "torch.set_num_threads(2)\n",
    "\n",
    "\n",
    "# Отображение всех колонок\n",
    "pd.set_option('display.max_columns', None)\n",
    "\n",
    "\n",
    "RS = 4132"
   ]
  },
  {
   "cell_type": "markdown",
   "id": "5126ccf9",
   "metadata": {
    "id": "5126ccf9"
   },
   "source": [
    "### load_date"
   ]
  },
  {
   "cell_type": "code",
   "execution_count": 135,
   "id": "3a499208",
   "metadata": {
    "id": "3a499208",
    "scrolled": true
   },
   "outputs": [],
   "source": [
    "covers = pd.read_json('data/covers.json', lines = True)\n",
    "meta = pd.read_json('data/meta.json', lines = True, convert_dates=['dttm'])\n",
    "lyrics = pd.read_json('data/lyrics.json', lines = True)"
   ]
  },
  {
   "cell_type": "markdown",
   "id": "84d57008",
   "metadata": {
    "id": "84d57008"
   },
   "source": [
    "### Lyrics\n",
    "Рассмотрим подробнее датасет \"Текст песен\"\n",
    "- track_id - уникальный идентификатор трека;\n",
    "\n",
    "- lyricId - уникальный идентификатор текста;\n",
    "\n",
    "- text - текст трека."
   ]
  },
  {
   "cell_type": "code",
   "execution_count": 136,
   "id": "6e3c75a2",
   "metadata": {
    "colab": {
     "base_uri": "https://localhost:8080/",
     "height": 430
    },
    "id": "6e3c75a2",
    "outputId": "52c514bc-e197-4e85-bfcb-5e529b3badc6",
    "scrolled": false
   },
   "outputs": [
    {
     "name": "stdout",
     "output_type": "stream",
     "text": [
      "<class 'pandas.core.frame.DataFrame'>\n",
      "RangeIndex: 11414 entries, 0 to 11413\n",
      "Data columns (total 3 columns):\n",
      " #   Column    Non-Null Count  Dtype \n",
      "---  ------    --------------  ----- \n",
      " 0   lyricId   11414 non-null  object\n",
      " 1   text      11414 non-null  object\n",
      " 2   track_id  11414 non-null  object\n",
      "dtypes: object(3)\n",
      "memory usage: 267.6+ KB\n"
     ]
    },
    {
     "data": {
      "text/html": [
       "<div>\n",
       "<style scoped>\n",
       "    .dataframe tbody tr th:only-of-type {\n",
       "        vertical-align: middle;\n",
       "    }\n",
       "\n",
       "    .dataframe tbody tr th {\n",
       "        vertical-align: top;\n",
       "    }\n",
       "\n",
       "    .dataframe thead th {\n",
       "        text-align: right;\n",
       "    }\n",
       "</style>\n",
       "<table border=\"1\" class=\"dataframe\">\n",
       "  <thead>\n",
       "    <tr style=\"text-align: right;\">\n",
       "      <th></th>\n",
       "      <th>lyricId</th>\n",
       "      <th>text</th>\n",
       "      <th>track_id</th>\n",
       "    </tr>\n",
       "  </thead>\n",
       "  <tbody>\n",
       "    <tr>\n",
       "      <th>0</th>\n",
       "      <td>a951f9504e89759e9d23039b7b17ec14</td>\n",
       "      <td>Живу сейчас обломами, обломками не той любви\\n...</td>\n",
       "      <td>1c4b1230f937e4c548ff732523214dcd</td>\n",
       "    </tr>\n",
       "    <tr>\n",
       "      <th>1</th>\n",
       "      <td>0c749bc3f01eb8e6cf986fa14ccfc585</td>\n",
       "      <td>Tell me your fable\\nA fable\\nTell me your fabl...</td>\n",
       "      <td>0faea89b0d7d6235b5b74def72511bd8</td>\n",
       "    </tr>\n",
       "    <tr>\n",
       "      <th>2</th>\n",
       "      <td>e2c8830fbc86e5964478243099eec23a</td>\n",
       "      <td>You're ashamed about all your fears and doubts...</td>\n",
       "      <td>9c6dc41d5ccd9968d07f055da5d8f741</td>\n",
       "    </tr>\n",
       "  </tbody>\n",
       "</table>\n",
       "</div>"
      ],
      "text/plain": [
       "                            lyricId  \\\n",
       "0  a951f9504e89759e9d23039b7b17ec14   \n",
       "1  0c749bc3f01eb8e6cf986fa14ccfc585   \n",
       "2  e2c8830fbc86e5964478243099eec23a   \n",
       "\n",
       "                                                text  \\\n",
       "0  Живу сейчас обломами, обломками не той любви\\n...   \n",
       "1  Tell me your fable\\nA fable\\nTell me your fabl...   \n",
       "2  You're ashamed about all your fears and doubts...   \n",
       "\n",
       "                           track_id  \n",
       "0  1c4b1230f937e4c548ff732523214dcd  \n",
       "1  0faea89b0d7d6235b5b74def72511bd8  \n",
       "2  9c6dc41d5ccd9968d07f055da5d8f741  "
      ]
     },
     "execution_count": 136,
     "metadata": {},
     "output_type": "execute_result"
    }
   ],
   "source": [
    "lyrics.info()\n",
    "lyrics.head(3)"
   ]
  },
  {
   "cell_type": "code",
   "execution_count": 137,
   "id": "bd4663b3",
   "metadata": {
    "colab": {
     "base_uri": "https://localhost:8080/"
    },
    "id": "bd4663b3",
    "outputId": "0b310a66-3bc1-46ce-8d93-d587cab1f522"
   },
   "outputs": [
    {
     "data": {
      "text/plain": [
       "(0, 1137)"
      ]
     },
     "execution_count": 137,
     "metadata": {},
     "output_type": "execute_result"
    }
   ],
   "source": [
    "# Пропуски и дубликаты в track_id\n",
    "lyrics['track_id'].isna().sum(), lyrics['track_id'].duplicated().sum()"
   ]
  },
  {
   "cell_type": "code",
   "execution_count": 138,
   "id": "f10ea7ef",
   "metadata": {
    "colab": {
     "base_uri": "https://localhost:8080/",
     "height": 840
    },
    "id": "f10ea7ef",
    "outputId": "1b9d13d1-8c72-467c-d40c-9dad76cec710"
   },
   "outputs": [
    {
     "data": {
      "text/html": [
       "<div>\n",
       "<style scoped>\n",
       "    .dataframe tbody tr th:only-of-type {\n",
       "        vertical-align: middle;\n",
       "    }\n",
       "\n",
       "    .dataframe tbody tr th {\n",
       "        vertical-align: top;\n",
       "    }\n",
       "\n",
       "    .dataframe thead th {\n",
       "        text-align: right;\n",
       "    }\n",
       "</style>\n",
       "<table border=\"1\" class=\"dataframe\">\n",
       "  <thead>\n",
       "    <tr style=\"text-align: right;\">\n",
       "      <th></th>\n",
       "      <th>lyricId</th>\n",
       "      <th>text</th>\n",
       "      <th>track_id</th>\n",
       "    </tr>\n",
       "  </thead>\n",
       "  <tbody>\n",
       "    <tr>\n",
       "      <th>3305</th>\n",
       "      <td>23fc4e63cb643861138fc62c83c77e99</td>\n",
       "      <td>\"Show me show me show me how you do that trick...</td>\n",
       "      <td>701dc20b28f07b952812d182278a5e55</td>\n",
       "    </tr>\n",
       "    <tr>\n",
       "      <th>3304</th>\n",
       "      <td>23fc4e63cb643861138fc62c83c77e99</td>\n",
       "      <td>\"Show me show me show me how you do that trick...</td>\n",
       "      <td>b6f3fcfc0ca3c5ac84cdb55f916d6b25</td>\n",
       "    </tr>\n",
       "    <tr>\n",
       "      <th>4852</th>\n",
       "      <td>53c10cb6921925856eeefdfa84eb6806</td>\n",
       "      <td>\"Ничто\" на дне, помоги достать мне, и я помогу...</td>\n",
       "      <td>98b6810d5545436a156c7df7f3a861be</td>\n",
       "    </tr>\n",
       "    <tr>\n",
       "      <th>4851</th>\n",
       "      <td>53c10cb6921925856eeefdfa84eb6806</td>\n",
       "      <td>\"Ничто\" на дне, помоги достать мне, и я помогу...</td>\n",
       "      <td>ca85692f15021f3e58ccf518d7ba3c97</td>\n",
       "    </tr>\n",
       "    <tr>\n",
       "      <th>4850</th>\n",
       "      <td>53c10cb6921925856eeefdfa84eb6806</td>\n",
       "      <td>\"Ничто\" на дне, помоги достать мне, и я помогу...</td>\n",
       "      <td>7eaba8513b9401fc1d3d01107ee6a3c6</td>\n",
       "    </tr>\n",
       "    <tr>\n",
       "      <th>...</th>\n",
       "      <td>...</td>\n",
       "      <td>...</td>\n",
       "      <td>...</td>\n",
       "    </tr>\n",
       "    <tr>\n",
       "      <th>4260</th>\n",
       "      <td>2bcd1f2f81ca13348de05d563998af00</td>\n",
       "      <td>Ярость глубинная оживает,\\nСталью сияя, рвётся...</td>\n",
       "      <td>814e2dc18df877e6ccefd95428565973</td>\n",
       "    </tr>\n",
       "    <tr>\n",
       "      <th>2882</th>\n",
       "      <td>93060f74359a18c4d775f39424e3d7d8</td>\n",
       "      <td>รู้ ขอแค่เวลาอีกหน่อย\\nที่จะทำให้ความวุ่นวาย\\n...</td>\n",
       "      <td>2777f6f213a535155f10ccb46014f0e3</td>\n",
       "    </tr>\n",
       "    <tr>\n",
       "      <th>2883</th>\n",
       "      <td>93060f74359a18c4d775f39424e3d7d8</td>\n",
       "      <td>รู้ ขอแค่เวลาอีกหน่อย\\nที่จะทำให้ความวุ่นวาย\\n...</td>\n",
       "      <td>c9010a9e75b9ec48dcf952ef8e268ea9</td>\n",
       "    </tr>\n",
       "    <tr>\n",
       "      <th>9477</th>\n",
       "      <td>5171df14636ba3b6620dc2dd9d6984d0</td>\n",
       "      <td>故事的小黄花\\n从出生那年就飘着\\n童年的荡秋千\\n随记忆一直晃到现在\\nRui sou s...</td>\n",
       "      <td>ef745b6be5ec40b4ae697fc0c7630c73</td>\n",
       "    </tr>\n",
       "    <tr>\n",
       "      <th>9476</th>\n",
       "      <td>5171df14636ba3b6620dc2dd9d6984d0</td>\n",
       "      <td>故事的小黄花\\n从出生那年就飘着\\n童年的荡秋千\\n随记忆一直晃到现在\\nRui sou s...</td>\n",
       "      <td>1fdaca39f72a007ea652d86c35e70c8d</td>\n",
       "    </tr>\n",
       "  </tbody>\n",
       "</table>\n",
       "<p>873 rows × 3 columns</p>\n",
       "</div>"
      ],
      "text/plain": [
       "                               lyricId  \\\n",
       "3305  23fc4e63cb643861138fc62c83c77e99   \n",
       "3304  23fc4e63cb643861138fc62c83c77e99   \n",
       "4852  53c10cb6921925856eeefdfa84eb6806   \n",
       "4851  53c10cb6921925856eeefdfa84eb6806   \n",
       "4850  53c10cb6921925856eeefdfa84eb6806   \n",
       "...                                ...   \n",
       "4260  2bcd1f2f81ca13348de05d563998af00   \n",
       "2882  93060f74359a18c4d775f39424e3d7d8   \n",
       "2883  93060f74359a18c4d775f39424e3d7d8   \n",
       "9477  5171df14636ba3b6620dc2dd9d6984d0   \n",
       "9476  5171df14636ba3b6620dc2dd9d6984d0   \n",
       "\n",
       "                                                   text  \\\n",
       "3305  \"Show me show me show me how you do that trick...   \n",
       "3304  \"Show me show me show me how you do that trick...   \n",
       "4852  \"Ничто\" на дне, помоги достать мне, и я помогу...   \n",
       "4851  \"Ничто\" на дне, помоги достать мне, и я помогу...   \n",
       "4850  \"Ничто\" на дне, помоги достать мне, и я помогу...   \n",
       "...                                                 ...   \n",
       "4260  Ярость глубинная оживает,\\nСталью сияя, рвётся...   \n",
       "2882  รู้ ขอแค่เวลาอีกหน่อย\\nที่จะทำให้ความวุ่นวาย\\n...   \n",
       "2883  รู้ ขอแค่เวลาอีกหน่อย\\nที่จะทำให้ความวุ่นวาย\\n...   \n",
       "9477  故事的小黄花\\n从出生那年就飘着\\n童年的荡秋千\\n随记忆一直晃到现在\\nRui sou s...   \n",
       "9476  故事的小黄花\\n从出生那年就飘着\\n童年的荡秋千\\n随记忆一直晃到现在\\nRui sou s...   \n",
       "\n",
       "                              track_id  \n",
       "3305  701dc20b28f07b952812d182278a5e55  \n",
       "3304  b6f3fcfc0ca3c5ac84cdb55f916d6b25  \n",
       "4852  98b6810d5545436a156c7df7f3a861be  \n",
       "4851  ca85692f15021f3e58ccf518d7ba3c97  \n",
       "4850  7eaba8513b9401fc1d3d01107ee6a3c6  \n",
       "...                                ...  \n",
       "4260  814e2dc18df877e6ccefd95428565973  \n",
       "2882  2777f6f213a535155f10ccb46014f0e3  \n",
       "2883  c9010a9e75b9ec48dcf952ef8e268ea9  \n",
       "9477  ef745b6be5ec40b4ae697fc0c7630c73  \n",
       "9476  1fdaca39f72a007ea652d86c35e70c8d  \n",
       "\n",
       "[873 rows x 3 columns]"
      ]
     },
     "execution_count": 138,
     "metadata": {},
     "output_type": "execute_result"
    }
   ],
   "source": [
    "# не дублированы только track_id\n",
    "lyrics[lyrics['text'].duplicated(keep=False) & lyrics['lyricId'].duplicated(keep=False)].sort_values(by='text')"
   ]
  },
  {
   "cell_type": "code",
   "execution_count": 139,
   "id": "e0560a45",
   "metadata": {
    "colab": {
     "base_uri": "https://localhost:8080/",
     "height": 909
    },
    "id": "e0560a45",
    "outputId": "3c1aedd6-f16f-4774-ecc8-b9f06becb4e3"
   },
   "outputs": [
    {
     "data": {
      "text/html": [
       "<div>\n",
       "<style scoped>\n",
       "    .dataframe tbody tr th:only-of-type {\n",
       "        vertical-align: middle;\n",
       "    }\n",
       "\n",
       "    .dataframe tbody tr th {\n",
       "        vertical-align: top;\n",
       "    }\n",
       "\n",
       "    .dataframe thead th {\n",
       "        text-align: right;\n",
       "    }\n",
       "</style>\n",
       "<table border=\"1\" class=\"dataframe\">\n",
       "  <thead>\n",
       "    <tr style=\"text-align: right;\">\n",
       "      <th></th>\n",
       "      <th>lyricId</th>\n",
       "      <th>text</th>\n",
       "      <th>track_id</th>\n",
       "    </tr>\n",
       "  </thead>\n",
       "  <tbody>\n",
       "    <tr>\n",
       "      <th>10681</th>\n",
       "      <td>039236cf5355b4a81a7d5e689dbbf00a</td>\n",
       "      <td>Hearts go astray\\nLeaving hurt when they go\\nI...</td>\n",
       "      <td>0021519c8533f1116591948bbb349aef</td>\n",
       "    </tr>\n",
       "    <tr>\n",
       "      <th>10686</th>\n",
       "      <td>0abe3bb343894590423064dee2d2a114</td>\n",
       "      <td>Hearts go astray\\nLeaving hurt when they go\\nI...</td>\n",
       "      <td>0021519c8533f1116591948bbb349aef</td>\n",
       "    </tr>\n",
       "    <tr>\n",
       "      <th>10676</th>\n",
       "      <td>745f700051961898c65ffdafd9793584</td>\n",
       "      <td>Hearts go astray\\nLeaving hurt when they go\\nI...</td>\n",
       "      <td>0021519c8533f1116591948bbb349aef</td>\n",
       "    </tr>\n",
       "    <tr>\n",
       "      <th>4796</th>\n",
       "      <td>9ee5ee7522b5b6d045a2d276a040d00c</td>\n",
       "      <td>If I stay with you, if I'm choosing wrong\\nI d...</td>\n",
       "      <td>0102189356af15ad0be804eddd9bc24a</td>\n",
       "    </tr>\n",
       "    <tr>\n",
       "      <th>11306</th>\n",
       "      <td>1682f991cfa94d1440bef2aa417edec7</td>\n",
       "      <td>If I stay with you, if I'm choosing wrong\\nI d...</td>\n",
       "      <td>0102189356af15ad0be804eddd9bc24a</td>\n",
       "    </tr>\n",
       "    <tr>\n",
       "      <th>...</th>\n",
       "      <td>...</td>\n",
       "      <td>...</td>\n",
       "      <td>...</td>\n",
       "    </tr>\n",
       "    <tr>\n",
       "      <th>11229</th>\n",
       "      <td>b2bd7e1c3e5b8987b0a7df143a2c3c0f</td>\n",
       "      <td>I cover the waterfront,\\nI'm watching the sea,...</td>\n",
       "      <td>ff54e3bcd7ef7aeb41c91f9abeac9c68</td>\n",
       "    </tr>\n",
       "    <tr>\n",
       "      <th>11228</th>\n",
       "      <td>ed694fc7bdf247b249020ef155514173</td>\n",
       "      <td>I cover the waterfront,\\nI'm watching the sea,...</td>\n",
       "      <td>ff54e3bcd7ef7aeb41c91f9abeac9c68</td>\n",
       "    </tr>\n",
       "    <tr>\n",
       "      <th>8895</th>\n",
       "      <td>c8af153ec09b0a087e79a0f77f7310bd</td>\n",
       "      <td>Don't go tonight\\nStay here one more time\\nRem...</td>\n",
       "      <td>ff77df3ccccd54654ea4b2209dd6e38c</td>\n",
       "    </tr>\n",
       "    <tr>\n",
       "      <th>8881</th>\n",
       "      <td>d9107cc98fb6dc91853ea69ac98f1d58</td>\n",
       "      <td>Don't go tonight\\nStay here one more time\\nRem...</td>\n",
       "      <td>ff77df3ccccd54654ea4b2209dd6e38c</td>\n",
       "    </tr>\n",
       "    <tr>\n",
       "      <th>8053</th>\n",
       "      <td>6a50f88b4e071c780fa48e059fa9e60b</td>\n",
       "      <td>Don't go tonight\\nStay here one more time\\nRem...</td>\n",
       "      <td>ff77df3ccccd54654ea4b2209dd6e38c</td>\n",
       "    </tr>\n",
       "  </tbody>\n",
       "</table>\n",
       "<p>1774 rows × 3 columns</p>\n",
       "</div>"
      ],
      "text/plain": [
       "                                lyricId  \\\n",
       "10681  039236cf5355b4a81a7d5e689dbbf00a   \n",
       "10686  0abe3bb343894590423064dee2d2a114   \n",
       "10676  745f700051961898c65ffdafd9793584   \n",
       "4796   9ee5ee7522b5b6d045a2d276a040d00c   \n",
       "11306  1682f991cfa94d1440bef2aa417edec7   \n",
       "...                                 ...   \n",
       "11229  b2bd7e1c3e5b8987b0a7df143a2c3c0f   \n",
       "11228  ed694fc7bdf247b249020ef155514173   \n",
       "8895   c8af153ec09b0a087e79a0f77f7310bd   \n",
       "8881   d9107cc98fb6dc91853ea69ac98f1d58   \n",
       "8053   6a50f88b4e071c780fa48e059fa9e60b   \n",
       "\n",
       "                                                    text  \\\n",
       "10681  Hearts go astray\\nLeaving hurt when they go\\nI...   \n",
       "10686  Hearts go astray\\nLeaving hurt when they go\\nI...   \n",
       "10676  Hearts go astray\\nLeaving hurt when they go\\nI...   \n",
       "4796   If I stay with you, if I'm choosing wrong\\nI d...   \n",
       "11306  If I stay with you, if I'm choosing wrong\\nI d...   \n",
       "...                                                  ...   \n",
       "11229  I cover the waterfront,\\nI'm watching the sea,...   \n",
       "11228  I cover the waterfront,\\nI'm watching the sea,...   \n",
       "8895   Don't go tonight\\nStay here one more time\\nRem...   \n",
       "8881   Don't go tonight\\nStay here one more time\\nRem...   \n",
       "8053   Don't go tonight\\nStay here one more time\\nRem...   \n",
       "\n",
       "                               track_id  \n",
       "10681  0021519c8533f1116591948bbb349aef  \n",
       "10686  0021519c8533f1116591948bbb349aef  \n",
       "10676  0021519c8533f1116591948bbb349aef  \n",
       "4796   0102189356af15ad0be804eddd9bc24a  \n",
       "11306  0102189356af15ad0be804eddd9bc24a  \n",
       "...                                 ...  \n",
       "11229  ff54e3bcd7ef7aeb41c91f9abeac9c68  \n",
       "11228  ff54e3bcd7ef7aeb41c91f9abeac9c68  \n",
       "8895   ff77df3ccccd54654ea4b2209dd6e38c  \n",
       "8881   ff77df3ccccd54654ea4b2209dd6e38c  \n",
       "8053   ff77df3ccccd54654ea4b2209dd6e38c  \n",
       "\n",
       "[1774 rows x 3 columns]"
      ]
     },
     "execution_count": 139,
     "metadata": {},
     "output_type": "execute_result"
    }
   ],
   "source": [
    "# Дубли по track_id\n",
    "# при одтнаковых track_id текст разный\n",
    "lyrics[lyrics['track_id'].duplicated(keep=False)].sort_values(by='track_id')"
   ]
  },
  {
   "cell_type": "markdown",
   "id": "51016fa4",
   "metadata": {
    "id": "51016fa4"
   },
   "source": [
    "Заметили, что есть дубликаты текста при этом разные track_id. Пока решили, что это может быть загружена одна песня несколько раз и поэтому, пока не стали удалять, позже выберем те track_id, для которых есть разметка."
   ]
  },
  {
   "cell_type": "markdown",
   "id": "8609e7f3",
   "metadata": {
    "id": "8609e7f3"
   },
   "source": [
    "### Covers\n",
    "Файл covers.json содержит разметку каверов, сделанную редакторами сервиса:\n",
    "- track_id - уникальный идентификатор трека;\n",
    "- track_remake_type - метка, присвоенная редакторами. Может принимать значения ORIGINAL и COVER;\n",
    "- original_track_id - уникальный идентификатор исходного трека."
   ]
  },
  {
   "cell_type": "markdown",
   "id": "d6094087",
   "metadata": {
    "id": "d6094087"
   },
   "source": [
    "Посмотрим долю каверов в датасете"
   ]
  },
  {
   "cell_type": "markdown",
   "id": "9efacaf8",
   "metadata": {},
   "source": [
    "Напишем функцию которая будет строит график, в дальнейшем будем применять её для остальных категориальных значений "
   ]
  },
  {
   "cell_type": "code",
   "execution_count": 140,
   "id": "cfcc42ef",
   "metadata": {},
   "outputs": [],
   "source": [
    "def plot_pie_chart(column, threshold=None, dropna=False):\n",
    "    \"\"\"\n",
    "    Строит круговую диаграмму для распределения значений в указанном столбце и возвращает график.\n",
    "\n",
    "    :param column: Столбец DataFrame, для которого нужно построить круговую диаграмму.\n",
    "    :param threshold: Пороговое значение для объединения редких категорий в \"Other\". По умолчанию None.\n",
    "    :param dropna: Указывает, должны ли пропущенные значения быть учтены при подсчете. По умолчанию False.\n",
    "    :return: Объект графика (matplotlib.pyplot.Figure).\n",
    "    \"\"\"\n",
    "    counts = column.value_counts(dropna=dropna)\n",
    "\n",
    "    # пороговое значение для объединения редких категорий в \"Other\"\n",
    "    if threshold is not None:\n",
    "        total_count = counts.sum()\n",
    "        rare_categories = counts[counts / total_count < threshold].index\n",
    "        column = column.apply(lambda x: 'Other' if x in rare_categories else x)\n",
    "        counts = column.value_counts(dropna=dropna)\n",
    "\n",
    "    labels = counts.index\n",
    "    values = counts.values\n",
    "\n",
    "    # \"None\" в названия\n",
    "    if not dropna:\n",
    "        labels = ['None' if pd.isna(label) else label for label in labels]\n",
    "\n",
    "    fig, ax = plt.subplots(figsize=(8, 8))\n",
    "    ax.pie(values, labels=labels, autopct='%1.1f%%', startangle=140)\n",
    "    ax.axis('equal')\n",
    "    ax.set_title('Распределение значений в столбце')\n",
    "    return"
   ]
  },
  {
   "cell_type": "code",
   "execution_count": 141,
   "id": "a3355a7c",
   "metadata": {
    "colab": {
     "base_uri": "https://localhost:8080/",
     "height": 479
    },
    "id": "a3355a7c",
    "outputId": "78c914c6-1243-4c72-9c7e-b8be008a611d",
    "scrolled": true
   },
   "outputs": [
    {
     "name": "stdout",
     "output_type": "stream",
     "text": [
      "track_remake_type\n",
      "COVER       67304\n",
      "ORIGINAL     4293\n",
      "Name: count, dtype: int64\n"
     ]
    }
   ],
   "source": [
    "print(covers.track_remake_type.value_counts())"
   ]
  },
  {
   "cell_type": "code",
   "execution_count": 142,
   "id": "d18c99b1",
   "metadata": {},
   "outputs": [
    {
     "data": {
      "image/png": "[encoded data removed]",
      "text/plain": [
       "<Figure size 800x800 with 1 Axes>"
      ]
     },
     "metadata": {},
     "output_type": "display_data"
    }
   ],
   "source": [
    "plot_pie_chart(covers.track_remake_type)"
   ]
  },
  {
   "cell_type": "markdown",
   "id": "8a6a445c",
   "metadata": {
    "id": "8a6a445c"
   },
   "source": [
    "Проверим, сколько из всех каверов имеют заполненное поле с оригинальным треком:"
   ]
  },
  {
   "cell_type": "code",
   "execution_count": 143,
   "id": "119fa3b2",
   "metadata": {
    "colab": {
     "base_uri": "https://localhost:8080/",
     "height": 443
    },
    "id": "119fa3b2",
    "outputId": "b6b9b293-e28e-49aa-8824-429f43fa7a78",
    "scrolled": true
   },
   "outputs": [
    {
     "data": {
      "text/html": [
       "<div>\n",
       "<style scoped>\n",
       "    .dataframe tbody tr th:only-of-type {\n",
       "        vertical-align: middle;\n",
       "    }\n",
       "\n",
       "    .dataframe tbody tr th {\n",
       "        vertical-align: top;\n",
       "    }\n",
       "\n",
       "    .dataframe thead th {\n",
       "        text-align: right;\n",
       "    }\n",
       "</style>\n",
       "<table border=\"1\" class=\"dataframe\">\n",
       "  <thead>\n",
       "    <tr style=\"text-align: right;\">\n",
       "      <th></th>\n",
       "      <th>original_track_id</th>\n",
       "      <th>track_id</th>\n",
       "      <th>track_remake_type</th>\n",
       "    </tr>\n",
       "  </thead>\n",
       "  <tbody>\n",
       "    <tr>\n",
       "      <th>33</th>\n",
       "      <td>b9213d37c37deffe8b8af0dac5d0c3c4</td>\n",
       "      <td>58a293c4c86b4c0000b0e683c77432a8</td>\n",
       "      <td>COVER</td>\n",
       "    </tr>\n",
       "    <tr>\n",
       "      <th>40</th>\n",
       "      <td>deb9b9598176a0bab1212d430b10bd04</td>\n",
       "      <td>bfa9c5c62c08a0db763e2a2284e3d1b2</td>\n",
       "      <td>COVER</td>\n",
       "    </tr>\n",
       "    <tr>\n",
       "      <th>51</th>\n",
       "      <td>b9213d37c37deffe8b8af0dac5d0c3c4</td>\n",
       "      <td>79eb48bb4409051aab1602e390c98736</td>\n",
       "      <td>COVER</td>\n",
       "    </tr>\n",
       "    <tr>\n",
       "      <th>60</th>\n",
       "      <td>b9213d37c37deffe8b8af0dac5d0c3c4</td>\n",
       "      <td>a106cea5c02ed8a70b421831cc4e7192</td>\n",
       "      <td>COVER</td>\n",
       "    </tr>\n",
       "    <tr>\n",
       "      <th>67</th>\n",
       "      <td>b9213d37c37deffe8b8af0dac5d0c3c4</td>\n",
       "      <td>7c9052caed90949c46c171951cd9dc3d</td>\n",
       "      <td>COVER</td>\n",
       "    </tr>\n",
       "    <tr>\n",
       "      <th>...</th>\n",
       "      <td>...</td>\n",
       "      <td>...</td>\n",
       "      <td>...</td>\n",
       "    </tr>\n",
       "    <tr>\n",
       "      <th>70720</th>\n",
       "      <td>25b8e40b7fa4df88af70590ee44bb820</td>\n",
       "      <td>af95d0aa50dc1934de870c7cc0adafc7</td>\n",
       "      <td>COVER</td>\n",
       "    </tr>\n",
       "    <tr>\n",
       "      <th>70721</th>\n",
       "      <td>8eb966d9b7b88b0816b70f7d47a963df</td>\n",
       "      <td>0a89e59f9216b80f5619b4faa8e3753a</td>\n",
       "      <td>COVER</td>\n",
       "    </tr>\n",
       "    <tr>\n",
       "      <th>70932</th>\n",
       "      <td>efb09c8e01086753d9ed9119a88d8748</td>\n",
       "      <td>ddcaf83d03b764f17bf3adb35fd93dcf</td>\n",
       "      <td>COVER</td>\n",
       "    </tr>\n",
       "    <tr>\n",
       "      <th>71003</th>\n",
       "      <td>a6bea0f1418b5e768b689604e11d111d</td>\n",
       "      <td>4db9bfa70567a07578ad151df3b7f36c</td>\n",
       "      <td>COVER</td>\n",
       "    </tr>\n",
       "    <tr>\n",
       "      <th>71323</th>\n",
       "      <td>96437a3517f1f408381363bc8d539718</td>\n",
       "      <td>16cd4a1aabf7870afda93320dbd4698c</td>\n",
       "      <td>COVER</td>\n",
       "    </tr>\n",
       "  </tbody>\n",
       "</table>\n",
       "<p>528 rows × 3 columns</p>\n",
       "</div>"
      ],
      "text/plain": [
       "                      original_track_id                          track_id  \\\n",
       "33     b9213d37c37deffe8b8af0dac5d0c3c4  58a293c4c86b4c0000b0e683c77432a8   \n",
       "40     deb9b9598176a0bab1212d430b10bd04  bfa9c5c62c08a0db763e2a2284e3d1b2   \n",
       "51     b9213d37c37deffe8b8af0dac5d0c3c4  79eb48bb4409051aab1602e390c98736   \n",
       "60     b9213d37c37deffe8b8af0dac5d0c3c4  a106cea5c02ed8a70b421831cc4e7192   \n",
       "67     b9213d37c37deffe8b8af0dac5d0c3c4  7c9052caed90949c46c171951cd9dc3d   \n",
       "...                                 ...                               ...   \n",
       "70720  25b8e40b7fa4df88af70590ee44bb820  af95d0aa50dc1934de870c7cc0adafc7   \n",
       "70721  8eb966d9b7b88b0816b70f7d47a963df  0a89e59f9216b80f5619b4faa8e3753a   \n",
       "70932  efb09c8e01086753d9ed9119a88d8748  ddcaf83d03b764f17bf3adb35fd93dcf   \n",
       "71003  a6bea0f1418b5e768b689604e11d111d  4db9bfa70567a07578ad151df3b7f36c   \n",
       "71323  96437a3517f1f408381363bc8d539718  16cd4a1aabf7870afda93320dbd4698c   \n",
       "\n",
       "      track_remake_type  \n",
       "33                COVER  \n",
       "40                COVER  \n",
       "51                COVER  \n",
       "60                COVER  \n",
       "67                COVER  \n",
       "...                 ...  \n",
       "70720             COVER  \n",
       "70721             COVER  \n",
       "70932             COVER  \n",
       "71003             COVER  \n",
       "71323             COVER  \n",
       "\n",
       "[528 rows x 3 columns]"
      ]
     },
     "execution_count": 143,
     "metadata": {},
     "output_type": "execute_result"
    }
   ],
   "source": [
    "covers.loc[(covers.track_remake_type=='COVER') & (covers.original_track_id.isnull()==False)]"
   ]
  },
  {
   "cell_type": "markdown",
   "id": "29215edc",
   "metadata": {
    "id": "29215edc"
   },
   "source": [
    "Выводы:\n",
    "Всего дано 67304 каверов, из низ с известным (размеченным) оригиналом - только 528"
   ]
  },
  {
   "cell_type": "markdown",
   "id": "2fc7a849",
   "metadata": {
    "id": "2fc7a849"
   },
   "source": [
    "### Meta\n",
    "Рассмотрим подробнее датасет - Метаинформация:\n",
    "- track_id - уникальный идентификатор трека;\n",
    "- dttm - первая дата появления информации о треке;\n",
    "- title - название трека;\n",
    "- language - язык исполнения;\n",
    "- isrc - международный уникальный идентификатор трека;\n",
    "- genres - жанры;\n",
    "- duration - длительность трека;"
   ]
  },
  {
   "cell_type": "code",
   "execution_count": 144,
   "id": "e1e835b5",
   "metadata": {
    "colab": {
     "base_uri": "https://localhost:8080/",
     "height": 267
    },
    "id": "e1e835b5",
    "outputId": "93d677d3-bdb8-44c5-f4a0-a7e10333e810"
   },
   "outputs": [
    {
     "data": {
      "text/html": [
       "<div>\n",
       "<style scoped>\n",
       "    .dataframe tbody tr th:only-of-type {\n",
       "        vertical-align: middle;\n",
       "    }\n",
       "\n",
       "    .dataframe tbody tr th {\n",
       "        vertical-align: top;\n",
       "    }\n",
       "\n",
       "    .dataframe thead th {\n",
       "        text-align: right;\n",
       "    }\n",
       "</style>\n",
       "<table border=\"1\" class=\"dataframe\">\n",
       "  <thead>\n",
       "    <tr style=\"text-align: right;\">\n",
       "      <th></th>\n",
       "      <th>track_id</th>\n",
       "      <th>dttm</th>\n",
       "      <th>title</th>\n",
       "      <th>language</th>\n",
       "      <th>isrc</th>\n",
       "      <th>genres</th>\n",
       "      <th>duration</th>\n",
       "    </tr>\n",
       "  </thead>\n",
       "  <tbody>\n",
       "    <tr>\n",
       "      <th>0</th>\n",
       "      <td>c3b9d6a354ca008aa4518329aaa21380</td>\n",
       "      <td>2021-12-16 21:00:00</td>\n",
       "      <td>Happy New Year</td>\n",
       "      <td>EN</td>\n",
       "      <td>RUB422103970</td>\n",
       "      <td>[DANCE]</td>\n",
       "      <td>161120.0</td>\n",
       "    </tr>\n",
       "    <tr>\n",
       "      <th>1</th>\n",
       "      <td>c57e3d13bbbf5322584a7e92e6f1f7ff</td>\n",
       "      <td>2021-11-24 14:00:33</td>\n",
       "      <td>Bad Habits</td>\n",
       "      <td>EN</td>\n",
       "      <td>QZN882178276</td>\n",
       "      <td>[ELECTRONICS]</td>\n",
       "      <td>362260.0</td>\n",
       "    </tr>\n",
       "    <tr>\n",
       "      <th>2</th>\n",
       "      <td>955f2aafe8717908c140bf122ba4172d</td>\n",
       "      <td>2021-11-24 15:37:03</td>\n",
       "      <td>Por Esa Loca Vanidad</td>\n",
       "      <td>None</td>\n",
       "      <td>QZNJZ2122549</td>\n",
       "      <td>[FOLK, LATINFOLK]</td>\n",
       "      <td>260000.0</td>\n",
       "    </tr>\n",
       "  </tbody>\n",
       "</table>\n",
       "</div>"
      ],
      "text/plain": [
       "                           track_id                dttm                 title  \\\n",
       "0  c3b9d6a354ca008aa4518329aaa21380 2021-12-16 21:00:00        Happy New Year   \n",
       "1  c57e3d13bbbf5322584a7e92e6f1f7ff 2021-11-24 14:00:33            Bad Habits   \n",
       "2  955f2aafe8717908c140bf122ba4172d 2021-11-24 15:37:03  Por Esa Loca Vanidad   \n",
       "\n",
       "  language          isrc             genres  duration  \n",
       "0       EN  RUB422103970            [DANCE]  161120.0  \n",
       "1       EN  QZN882178276      [ELECTRONICS]  362260.0  \n",
       "2     None  QZNJZ2122549  [FOLK, LATINFOLK]  260000.0  "
      ]
     },
     "execution_count": 144,
     "metadata": {},
     "output_type": "execute_result"
    }
   ],
   "source": [
    "meta.head(3)"
   ]
  },
  {
   "cell_type": "code",
   "execution_count": 145,
   "id": "59968e30",
   "metadata": {
    "colab": {
     "base_uri": "https://localhost:8080/"
    },
    "id": "59968e30",
    "outputId": "6b58851d-b546-4846-e384-11ba0a692d4c",
    "scrolled": true
   },
   "outputs": [
    {
     "name": "stdout",
     "output_type": "stream",
     "text": [
      "<class 'pandas.core.frame.DataFrame'>\n",
      "RangeIndex: 71769 entries, 0 to 71768\n",
      "Data columns (total 7 columns):\n",
      " #   Column    Non-Null Count  Dtype         \n",
      "---  ------    --------------  -----         \n",
      " 0   track_id  71768 non-null  object        \n",
      " 1   dttm      71768 non-null  datetime64[ns]\n",
      " 2   title     71768 non-null  object        \n",
      " 3   language  21969 non-null  object        \n",
      " 4   isrc      71455 non-null  object        \n",
      " 5   genres    71768 non-null  object        \n",
      " 6   duration  71768 non-null  float64       \n",
      "dtypes: datetime64[ns](1), float64(1), object(5)\n",
      "memory usage: 3.8+ MB\n"
     ]
    }
   ],
   "source": [
    "meta.info()"
   ]
  },
  {
   "cell_type": "markdown",
   "id": "2cbd141d",
   "metadata": {
    "id": "2cbd141d"
   },
   "source": [
    "Есть большое кол-во пропусков в колонке language и немного в isrc."
   ]
  },
  {
   "cell_type": "markdown",
   "id": "11e8e43c",
   "metadata": {
    "id": "11e8e43c"
   },
   "source": [
    "#### meta.track_id"
   ]
  },
  {
   "cell_type": "markdown",
   "id": "343b6ebd",
   "metadata": {
    "id": "343b6ebd"
   },
   "source": [
    "Посмотрим дубли в уникальном идентификаторе track_id:"
   ]
  },
  {
   "cell_type": "code",
   "execution_count": 146,
   "id": "a60d7928",
   "metadata": {
    "colab": {
     "base_uri": "https://localhost:8080/"
    },
    "id": "a60d7928",
    "outputId": "1702acaf-bf3d-4fa6-9eff-595fb2c77a2c"
   },
   "outputs": [
    {
     "data": {
      "text/plain": [
       "0"
      ]
     },
     "execution_count": 146,
     "metadata": {},
     "output_type": "execute_result"
    }
   ],
   "source": [
    " meta['track_id'].duplicated().sum()"
   ]
  },
  {
   "cell_type": "markdown",
   "id": "580ea4d3",
   "metadata": {
    "id": "580ea4d3"
   },
   "source": [
    "#### meta.isrc"
   ]
  },
  {
   "cell_type": "markdown",
   "id": "f18735ba",
   "metadata": {
    "id": "f18735ba"
   },
   "source": [
    "Посмотрим дубли в международном уникальном идентификаторе isrc:"
   ]
  },
  {
   "cell_type": "code",
   "execution_count": 147,
   "id": "df2bd9d0",
   "metadata": {
    "colab": {
     "base_uri": "https://localhost:8080/",
     "height": 790
    },
    "id": "df2bd9d0",
    "outputId": "5609c8f9-9d32-4647-db54-ed42d23d8519",
    "scrolled": true
   },
   "outputs": [
    {
     "data": {
      "text/html": [
       "<div>\n",
       "<style scoped>\n",
       "    .dataframe tbody tr th:only-of-type {\n",
       "        vertical-align: middle;\n",
       "    }\n",
       "\n",
       "    .dataframe tbody tr th {\n",
       "        vertical-align: top;\n",
       "    }\n",
       "\n",
       "    .dataframe thead th {\n",
       "        text-align: right;\n",
       "    }\n",
       "</style>\n",
       "<table border=\"1\" class=\"dataframe\">\n",
       "  <thead>\n",
       "    <tr style=\"text-align: right;\">\n",
       "      <th></th>\n",
       "      <th>track_id</th>\n",
       "      <th>dttm</th>\n",
       "      <th>title</th>\n",
       "      <th>language</th>\n",
       "      <th>isrc</th>\n",
       "      <th>genres</th>\n",
       "      <th>duration</th>\n",
       "    </tr>\n",
       "  </thead>\n",
       "  <tbody>\n",
       "    <tr>\n",
       "      <th>27012</th>\n",
       "      <td>be0233f57dbb59079929ac646b0b9d5c</td>\n",
       "      <td>2021-07-06 16:38:30</td>\n",
       "      <td>Zivot da stane ne sme</td>\n",
       "      <td>None</td>\n",
       "      <td>ATAJ12100470</td>\n",
       "      <td>[FOLK]</td>\n",
       "      <td>151190.0</td>\n",
       "    </tr>\n",
       "    <tr>\n",
       "      <th>26955</th>\n",
       "      <td>8aff9d28865aaf1fa44e46b82cba0f63</td>\n",
       "      <td>2021-07-06 15:38:37</td>\n",
       "      <td>Burma</td>\n",
       "      <td>None</td>\n",
       "      <td>ATAJ12100470</td>\n",
       "      <td>[FOLK]</td>\n",
       "      <td>179300.0</td>\n",
       "    </tr>\n",
       "    <tr>\n",
       "      <th>51052</th>\n",
       "      <td>196a0973d73122891a426f8334105ce7</td>\n",
       "      <td>2019-03-29 21:00:00</td>\n",
       "      <td>Inní mér syngur vitleysingur</td>\n",
       "      <td>EN</td>\n",
       "      <td>ATN261668711</td>\n",
       "      <td>[FOLKMETAL, METAL]</td>\n",
       "      <td>237010.0</td>\n",
       "    </tr>\n",
       "    <tr>\n",
       "      <th>66395</th>\n",
       "      <td>425761c88ebc69e89c748eb537671953</td>\n",
       "      <td>2018-04-28 19:08:26</td>\n",
       "      <td>Inni Mer Syngur Vitleysingur</td>\n",
       "      <td>None</td>\n",
       "      <td>ATN261668711</td>\n",
       "      <td>[FOLKMETAL, METAL]</td>\n",
       "      <td>237010.0</td>\n",
       "    </tr>\n",
       "    <tr>\n",
       "      <th>51053</th>\n",
       "      <td>aa4a1d4d44890cbc7aae285842bd3ce2</td>\n",
       "      <td>2019-03-29 21:00:00</td>\n",
       "      <td>Nattfödd</td>\n",
       "      <td>EN</td>\n",
       "      <td>ATN261668712</td>\n",
       "      <td>[FOLKMETAL, METAL]</td>\n",
       "      <td>255320.0</td>\n",
       "    </tr>\n",
       "    <tr>\n",
       "      <th>...</th>\n",
       "      <td>...</td>\n",
       "      <td>...</td>\n",
       "      <td>...</td>\n",
       "      <td>...</td>\n",
       "      <td>...</td>\n",
       "      <td>...</td>\n",
       "      <td>...</td>\n",
       "    </tr>\n",
       "    <tr>\n",
       "      <th>42673</th>\n",
       "      <td>9ca51834e2b6a7266ebcb10cf9a00409</td>\n",
       "      <td>2014-09-23 12:08:24</td>\n",
       "      <td>How Far We've Come</td>\n",
       "      <td>None</td>\n",
       "      <td>USTCF1018560</td>\n",
       "      <td>[ROCK, ALLROCK]</td>\n",
       "      <td>200820.0</td>\n",
       "    </tr>\n",
       "    <tr>\n",
       "      <th>42671</th>\n",
       "      <td>2e04e2ca902c24028b3a7bcded51deeb</td>\n",
       "      <td>2014-09-23 12:08:24</td>\n",
       "      <td>Angel</td>\n",
       "      <td>None</td>\n",
       "      <td>USTCF1018563</td>\n",
       "      <td>[ROCK, ALLROCK]</td>\n",
       "      <td>261490.0</td>\n",
       "    </tr>\n",
       "    <tr>\n",
       "      <th>67314</th>\n",
       "      <td>7eb1ce7b0e7ce4c053c1c9af0ebd9634</td>\n",
       "      <td>2018-11-08 18:31:51</td>\n",
       "      <td>Angel (2009)</td>\n",
       "      <td>EN</td>\n",
       "      <td>USTCF1018563</td>\n",
       "      <td>[ROCK, ALLROCK]</td>\n",
       "      <td>261450.0</td>\n",
       "    </tr>\n",
       "    <tr>\n",
       "      <th>67315</th>\n",
       "      <td>90117fc7a8a5ef80c4d3e1e6e39b4f06</td>\n",
       "      <td>2018-11-08 18:31:51</td>\n",
       "      <td>Breathe (2009)</td>\n",
       "      <td>EN</td>\n",
       "      <td>USTCF1018565</td>\n",
       "      <td>[ROCK, ALLROCK]</td>\n",
       "      <td>221970.0</td>\n",
       "    </tr>\n",
       "    <tr>\n",
       "      <th>42675</th>\n",
       "      <td>734cfd17d9b91ed5e6040aeef988d8cc</td>\n",
       "      <td>2014-09-23 12:08:24</td>\n",
       "      <td>Breathe</td>\n",
       "      <td>None</td>\n",
       "      <td>USTCF1018565</td>\n",
       "      <td>[ROCK, ALLROCK]</td>\n",
       "      <td>222010.0</td>\n",
       "    </tr>\n",
       "  </tbody>\n",
       "</table>\n",
       "<p>292 rows × 7 columns</p>\n",
       "</div>"
      ],
      "text/plain": [
       "                               track_id                dttm  \\\n",
       "27012  be0233f57dbb59079929ac646b0b9d5c 2021-07-06 16:38:30   \n",
       "26955  8aff9d28865aaf1fa44e46b82cba0f63 2021-07-06 15:38:37   \n",
       "51052  196a0973d73122891a426f8334105ce7 2019-03-29 21:00:00   \n",
       "66395  425761c88ebc69e89c748eb537671953 2018-04-28 19:08:26   \n",
       "51053  aa4a1d4d44890cbc7aae285842bd3ce2 2019-03-29 21:00:00   \n",
       "...                                 ...                 ...   \n",
       "42673  9ca51834e2b6a7266ebcb10cf9a00409 2014-09-23 12:08:24   \n",
       "42671  2e04e2ca902c24028b3a7bcded51deeb 2014-09-23 12:08:24   \n",
       "67314  7eb1ce7b0e7ce4c053c1c9af0ebd9634 2018-11-08 18:31:51   \n",
       "67315  90117fc7a8a5ef80c4d3e1e6e39b4f06 2018-11-08 18:31:51   \n",
       "42675  734cfd17d9b91ed5e6040aeef988d8cc 2014-09-23 12:08:24   \n",
       "\n",
       "                              title language          isrc  \\\n",
       "27012         Zivot da stane ne sme     None  ATAJ12100470   \n",
       "26955                         Burma     None  ATAJ12100470   \n",
       "51052  Inní mér syngur vitleysingur       EN  ATN261668711   \n",
       "66395  Inni Mer Syngur Vitleysingur     None  ATN261668711   \n",
       "51053                      Nattfödd       EN  ATN261668712   \n",
       "...                             ...      ...           ...   \n",
       "42673            How Far We've Come     None  USTCF1018560   \n",
       "42671                         Angel     None  USTCF1018563   \n",
       "67314                  Angel (2009)       EN  USTCF1018563   \n",
       "67315                Breathe (2009)       EN  USTCF1018565   \n",
       "42675                       Breathe     None  USTCF1018565   \n",
       "\n",
       "                   genres  duration  \n",
       "27012              [FOLK]  151190.0  \n",
       "26955              [FOLK]  179300.0  \n",
       "51052  [FOLKMETAL, METAL]  237010.0  \n",
       "66395  [FOLKMETAL, METAL]  237010.0  \n",
       "51053  [FOLKMETAL, METAL]  255320.0  \n",
       "...                   ...       ...  \n",
       "42673     [ROCK, ALLROCK]  200820.0  \n",
       "42671     [ROCK, ALLROCK]  261490.0  \n",
       "67314     [ROCK, ALLROCK]  261450.0  \n",
       "67315     [ROCK, ALLROCK]  221970.0  \n",
       "42675     [ROCK, ALLROCK]  222010.0  \n",
       "\n",
       "[292 rows x 7 columns]"
      ]
     },
     "execution_count": 147,
     "metadata": {},
     "output_type": "execute_result"
    }
   ],
   "source": [
    "# Все дубли (кроме nan) с длительностью больше 0\n",
    "meta[meta['isrc'].duplicated(keep=False) & meta['isrc'].notna() & meta['duration'] > 0].sort_values(by='isrc')"
   ]
  },
  {
   "cell_type": "markdown",
   "id": "7b696af8",
   "metadata": {
    "id": "7b696af8"
   },
   "source": [
    "#### meta.title"
   ]
  },
  {
   "cell_type": "markdown",
   "id": "ffff22dc",
   "metadata": {
    "id": "ffff22dc"
   },
   "source": [
    "Посмотрим дубли в названии:"
   ]
  },
  {
   "cell_type": "code",
   "execution_count": 148,
   "id": "b3978b34",
   "metadata": {
    "colab": {
     "base_uri": "https://localhost:8080/",
     "height": 790
    },
    "id": "b3978b34",
    "outputId": "178777d8-f9aa-4b46-9dbb-86a34c3f12bf",
    "scrolled": false
   },
   "outputs": [
    {
     "data": {
      "text/html": [
       "<div>\n",
       "<style scoped>\n",
       "    .dataframe tbody tr th:only-of-type {\n",
       "        vertical-align: middle;\n",
       "    }\n",
       "\n",
       "    .dataframe tbody tr th {\n",
       "        vertical-align: top;\n",
       "    }\n",
       "\n",
       "    .dataframe thead th {\n",
       "        text-align: right;\n",
       "    }\n",
       "</style>\n",
       "<table border=\"1\" class=\"dataframe\">\n",
       "  <thead>\n",
       "    <tr style=\"text-align: right;\">\n",
       "      <th></th>\n",
       "      <th>track_id</th>\n",
       "      <th>dttm</th>\n",
       "      <th>title</th>\n",
       "      <th>language</th>\n",
       "      <th>isrc</th>\n",
       "      <th>genres</th>\n",
       "      <th>duration</th>\n",
       "    </tr>\n",
       "  </thead>\n",
       "  <tbody>\n",
       "    <tr>\n",
       "      <th>71227</th>\n",
       "      <td>467627a4db0315da8f62791aed705083</td>\n",
       "      <td>2019-05-06 21:20:38</td>\n",
       "      <td>(Don't Fear) The Reaper</td>\n",
       "      <td>None</td>\n",
       "      <td>PLS921753188</td>\n",
       "      <td>[]</td>\n",
       "      <td>186570.0</td>\n",
       "    </tr>\n",
       "    <tr>\n",
       "      <th>71220</th>\n",
       "      <td>48509facf3b4e038527a22fc779bc915</td>\n",
       "      <td>2019-05-06 21:20:23</td>\n",
       "      <td>(Don't Fear) The Reaper</td>\n",
       "      <td>None</td>\n",
       "      <td>PLS921753315</td>\n",
       "      <td>[]</td>\n",
       "      <td>191820.0</td>\n",
       "    </tr>\n",
       "    <tr>\n",
       "      <th>71486</th>\n",
       "      <td>aed647e8d9166429c77e1b0e5342d4e0</td>\n",
       "      <td>2019-05-17 17:51:08</td>\n",
       "      <td>(Don't Fear) The Reaper</td>\n",
       "      <td>None</td>\n",
       "      <td>PLS921753236</td>\n",
       "      <td>[]</td>\n",
       "      <td>200730.0</td>\n",
       "    </tr>\n",
       "    <tr>\n",
       "      <th>70573</th>\n",
       "      <td>0f0f37bab3de6ca18a5930d9ed8c0f38</td>\n",
       "      <td>2019-04-09 21:37:34</td>\n",
       "      <td>(Don't Fear) The Reaper</td>\n",
       "      <td>None</td>\n",
       "      <td>PLS921753271</td>\n",
       "      <td>[RELAX]</td>\n",
       "      <td>243090.0</td>\n",
       "    </tr>\n",
       "    <tr>\n",
       "      <th>58782</th>\n",
       "      <td>60558452b17f2a1ef1ee12627d45a320</td>\n",
       "      <td>2021-03-11 21:00:00</td>\n",
       "      <td>(Everything I Do) I Do It for You</td>\n",
       "      <td>None</td>\n",
       "      <td>TCACT1626721</td>\n",
       "      <td>[POP]</td>\n",
       "      <td>123280.0</td>\n",
       "    </tr>\n",
       "    <tr>\n",
       "      <th>...</th>\n",
       "      <td>...</td>\n",
       "      <td>...</td>\n",
       "      <td>...</td>\n",
       "      <td>...</td>\n",
       "      <td>...</td>\n",
       "      <td>...</td>\n",
       "      <td>...</td>\n",
       "    </tr>\n",
       "    <tr>\n",
       "      <th>24940</th>\n",
       "      <td>5075581209bc27ff20452168285b96c8</td>\n",
       "      <td>2021-06-16 09:50:02</td>\n",
       "      <td>银河与星斗</td>\n",
       "      <td>ZH</td>\n",
       "      <td>FRX202173646</td>\n",
       "      <td>[POP]</td>\n",
       "      <td>155100.0</td>\n",
       "    </tr>\n",
       "    <tr>\n",
       "      <th>33684</th>\n",
       "      <td>361397a39eccdd74f09044769d50d096</td>\n",
       "      <td>2021-09-14 21:00:00</td>\n",
       "      <td>거리에서</td>\n",
       "      <td>None</td>\n",
       "      <td>KRF632104051</td>\n",
       "      <td>[JAZZ]</td>\n",
       "      <td>290940.0</td>\n",
       "    </tr>\n",
       "    <tr>\n",
       "      <th>31735</th>\n",
       "      <td>94dd2de0e572e122fb4b6dd41fdb8402</td>\n",
       "      <td>2021-08-29 21:00:00</td>\n",
       "      <td>거리에서</td>\n",
       "      <td>None</td>\n",
       "      <td>KRF632103686</td>\n",
       "      <td>[JAZZ]</td>\n",
       "      <td>291890.0</td>\n",
       "    </tr>\n",
       "    <tr>\n",
       "      <th>33685</th>\n",
       "      <td>3c306bdc546a89d71c40e549c33e6369</td>\n",
       "      <td>2021-09-14 21:00:00</td>\n",
       "      <td>내 마음에 비친 내 모습</td>\n",
       "      <td>None</td>\n",
       "      <td>KRF632104052</td>\n",
       "      <td>[JAZZ]</td>\n",
       "      <td>279250.0</td>\n",
       "    </tr>\n",
       "    <tr>\n",
       "      <th>31734</th>\n",
       "      <td>0609788efbd5edd0954bbeeb39d2c469</td>\n",
       "      <td>2021-08-29 21:00:00</td>\n",
       "      <td>내 마음에 비친 내 모습</td>\n",
       "      <td>None</td>\n",
       "      <td>KRF632103685</td>\n",
       "      <td>[JAZZ]</td>\n",
       "      <td>280370.0</td>\n",
       "    </tr>\n",
       "  </tbody>\n",
       "</table>\n",
       "<p>35336 rows × 7 columns</p>\n",
       "</div>"
      ],
      "text/plain": [
       "                               track_id                dttm  \\\n",
       "71227  467627a4db0315da8f62791aed705083 2019-05-06 21:20:38   \n",
       "71220  48509facf3b4e038527a22fc779bc915 2019-05-06 21:20:23   \n",
       "71486  aed647e8d9166429c77e1b0e5342d4e0 2019-05-17 17:51:08   \n",
       "70573  0f0f37bab3de6ca18a5930d9ed8c0f38 2019-04-09 21:37:34   \n",
       "58782  60558452b17f2a1ef1ee12627d45a320 2021-03-11 21:00:00   \n",
       "...                                 ...                 ...   \n",
       "24940  5075581209bc27ff20452168285b96c8 2021-06-16 09:50:02   \n",
       "33684  361397a39eccdd74f09044769d50d096 2021-09-14 21:00:00   \n",
       "31735  94dd2de0e572e122fb4b6dd41fdb8402 2021-08-29 21:00:00   \n",
       "33685  3c306bdc546a89d71c40e549c33e6369 2021-09-14 21:00:00   \n",
       "31734  0609788efbd5edd0954bbeeb39d2c469 2021-08-29 21:00:00   \n",
       "\n",
       "                                   title language          isrc   genres  \\\n",
       "71227            (Don't Fear) The Reaper     None  PLS921753188       []   \n",
       "71220            (Don't Fear) The Reaper     None  PLS921753315       []   \n",
       "71486            (Don't Fear) The Reaper     None  PLS921753236       []   \n",
       "70573            (Don't Fear) The Reaper     None  PLS921753271  [RELAX]   \n",
       "58782  (Everything I Do) I Do It for You     None  TCACT1626721    [POP]   \n",
       "...                                  ...      ...           ...      ...   \n",
       "24940                              银河与星斗       ZH  FRX202173646    [POP]   \n",
       "33684                               거리에서     None  KRF632104051   [JAZZ]   \n",
       "31735                               거리에서     None  KRF632103686   [JAZZ]   \n",
       "33685                      내 마음에 비친 내 모습     None  KRF632104052   [JAZZ]   \n",
       "31734                      내 마음에 비친 내 모습     None  KRF632103685   [JAZZ]   \n",
       "\n",
       "       duration  \n",
       "71227  186570.0  \n",
       "71220  191820.0  \n",
       "71486  200730.0  \n",
       "70573  243090.0  \n",
       "58782  123280.0  \n",
       "...         ...  \n",
       "24940  155100.0  \n",
       "33684  290940.0  \n",
       "31735  291890.0  \n",
       "33685  279250.0  \n",
       "31734  280370.0  \n",
       "\n",
       "[35336 rows x 7 columns]"
      ]
     },
     "execution_count": 148,
     "metadata": {},
     "output_type": "execute_result"
    }
   ],
   "source": [
    "meta[meta['title'].duplicated(keep=False)].sort_values(by='title')"
   ]
  },
  {
   "cell_type": "markdown",
   "id": "31335433",
   "metadata": {
    "id": "31335433"
   },
   "source": [
    "#### meta.duration"
   ]
  },
  {
   "cell_type": "code",
   "execution_count": 149,
   "id": "13ffd067",
   "metadata": {
    "colab": {
     "base_uri": "https://localhost:8080/"
    },
    "id": "13ffd067",
    "outputId": "0cd4ba73-071a-4a3f-c7fb-f926d67cafc2"
   },
   "outputs": [
    {
     "data": {
      "text/plain": [
       "count    7.176800e+04\n",
       "mean     2.049187e+05\n",
       "std      8.559854e+04\n",
       "min      0.000000e+00\n",
       "25%      1.613700e+05\n",
       "50%      1.993950e+05\n",
       "75%      2.390700e+05\n",
       "max      5.487300e+06\n",
       "Name: duration, dtype: float64"
      ]
     },
     "execution_count": 149,
     "metadata": {},
     "output_type": "execute_result"
    }
   ],
   "source": [
    "meta['duration'].describe()"
   ]
  },
  {
   "cell_type": "code",
   "execution_count": 150,
   "id": "0216d110",
   "metadata": {
    "colab": {
     "base_uri": "https://localhost:8080/",
     "height": 430
    },
    "id": "0216d110",
    "outputId": "38acca56-b127-4381-d60c-510a9c832204",
    "scrolled": true
   },
   "outputs": [
    {
     "data": {
      "image/png": "[encoded data removed]",
      "text/plain": [
       "<Figure size 640x480 with 1 Axes>"
      ]
     },
     "metadata": {},
     "output_type": "display_data"
    }
   ],
   "source": [
    "# До Q1\n",
    "meta[meta['duration'] < 161370]['duration'].hist(bins=100);"
   ]
  },
  {
   "cell_type": "markdown",
   "id": "9250b07d",
   "metadata": {},
   "source": [
    "Много треков с продолжительностью около 30 секунд\\\n",
    "Много треков с продолжительностью 0"
   ]
  },
  {
   "cell_type": "code",
   "execution_count": 151,
   "id": "1162785e",
   "metadata": {
    "colab": {
     "base_uri": "https://localhost:8080/",
     "height": 451
    },
    "id": "1162785e",
    "outputId": "99813b75-cdb5-4794-8af8-eb0387588ec9"
   },
   "outputs": [
    {
     "data": {
      "image/png": "[encoded data removed]",
      "text/plain": [
       "<Figure size 640x480 with 1 Axes>"
      ]
     },
     "metadata": {},
     "output_type": "display_data"
    }
   ],
   "source": [
    "# После Q3\n",
    "meta[meta['duration'] > 239070]['duration'].hist(bins=50);"
   ]
  },
  {
   "cell_type": "markdown",
   "id": "50167311",
   "metadata": {},
   "source": [
    "треков больше 8 минуи почти не встречается "
   ]
  },
  {
   "cell_type": "code",
   "execution_count": 152,
   "id": "f346e403",
   "metadata": {
    "colab": {
     "base_uri": "https://localhost:8080/"
    },
    "id": "f346e403",
    "outputId": "1e68482b-3003-4d6d-d8ce-17d977cf548a"
   },
   "outputs": [
    {
     "data": {
      "text/plain": [
       "369"
      ]
     },
     "execution_count": 152,
     "metadata": {},
     "output_type": "execute_result"
    }
   ],
   "source": [
    "#  длит.трека==0\n",
    "len(meta.loc[meta['duration']==0])"
   ]
  },
  {
   "cell_type": "code",
   "execution_count": 153,
   "id": "c11c7be3",
   "metadata": {
    "colab": {
     "base_uri": "https://localhost:8080/"
    },
    "id": "c11c7be3",
    "outputId": "caf88d44-455b-4180-f541-524f35a5edbf"
   },
   "outputs": [
    {
     "data": {
      "text/plain": [
       "382"
      ]
     },
     "execution_count": 153,
     "metadata": {},
     "output_type": "execute_result"
    }
   ],
   "source": [
    "# длит.трека < 10 sec\n",
    "len(meta[meta['duration'] < 10000]['duration'])"
   ]
  },
  {
   "cell_type": "code",
   "execution_count": 154,
   "id": "dd1b07d7",
   "metadata": {
    "colab": {
     "base_uri": "https://localhost:8080/"
    },
    "id": "dd1b07d7",
    "outputId": "c4701860-6659-4f71-d778-80ceb287b0c9"
   },
   "outputs": [
    {
     "data": {
      "text/plain": [
       "186"
      ]
     },
     "execution_count": 154,
     "metadata": {},
     "output_type": "execute_result"
    }
   ],
   "source": [
    "# длит.трека > 10 min\n",
    "len(meta[meta['duration'] > 600000]['duration'])"
   ]
  },
  {
   "cell_type": "markdown",
   "id": "53437507",
   "metadata": {
    "id": "53437507"
   },
   "source": [
    "#### meta.genres"
   ]
  },
  {
   "cell_type": "code",
   "execution_count": 155,
   "id": "48d0a8e7",
   "metadata": {
    "colab": {
     "base_uri": "https://localhost:8080/"
    },
    "id": "48d0a8e7",
    "outputId": "cf0ae868-ca53-43eb-80a5-5b569a95e830"
   },
   "outputs": [
    {
     "data": {
      "text/plain": [
       "genres\n",
       "[FOLK, LATINFOLK]    18391\n",
       "[POP]                13157\n",
       "[ROCK, ALLROCK]       5898\n",
       "[ALTERNATIVE]         3570\n",
       "[FOLK]                2645\n",
       "[]                    2352\n",
       "[ELECTRONICS]         2231\n",
       "[SOUNDTRACK]          2181\n",
       "[DANCE]               2166\n",
       "[SPIRITUAL]           1552\n",
       "Name: count, dtype: int64"
      ]
     },
     "execution_count": 155,
     "metadata": {},
     "output_type": "execute_result"
    }
   ],
   "source": [
    "meta.genres.value_counts().head(10)"
   ]
  },
  {
   "cell_type": "markdown",
   "id": "f071a3c8",
   "metadata": {},
   "source": [
    "Очень много треков в жанре латинского фолка\n",
    "\n",
    "Жанры хранятся в списках\\\n",
    "Напишем функцию и посмотрим распределение жанров по всему датасету\\\n",
    "Далее используем её для создания признаков"
   ]
  },
  {
   "cell_type": "code",
   "execution_count": 156,
   "id": "f37b4ad6",
   "metadata": {},
   "outputs": [],
   "source": [
    "def process_dataframe(df, arr_column, count_name):\n",
    "    \"\"\"\n",
    "    Обрабатывает DataFrame, преобразуя информацию из столбца 'arr_column' в отдельные бинарные признаки и добавляя столбец 'count_name' \n",
    "    с количеством значений в списке. Не учитывает пропущеные значения.\n",
    "\n",
    "    :param df: DataFrame для преобразования.\n",
    "    :param arr_column: Имя столбца, в котором находятся списки.\n",
    "    :param count_name: Имя нового столбца, в который будет добавлено количество значений.\n",
    "    :return: Обновленный DataFrame с новыми признаками и список с названиями новых колонок.\n",
    "    \"\"\"\n",
    "    df = df.copy()\n",
    "    # Не учитываем строки с NaN в указанном столбце\n",
    "    df = df[df[arr_column].notna()]\n",
    "    # Добавляем признак с количеством \n",
    "    df[count_name] = df[arr_column].apply(len)\n",
    "    # Разделяем на отдельные столбцы, преобразуя их в бинарные признаки\n",
    "    genres = df[arr_column].apply(lambda x: ','.join(x))\n",
    "    genres = genres.str.get_dummies(',')\n",
    "    df = df.drop(columns=[arr_column])\n",
    "    df = pd.concat([df, genres], axis=1)\n",
    "    genres = genres.columns\n",
    "\n",
    "    return df, genres"
   ]
  },
  {
   "cell_type": "code",
   "execution_count": 157,
   "id": "899f50db",
   "metadata": {},
   "outputs": [],
   "source": [
    "meta_ganre, ganres = process_dataframe(meta, 'genres', 'ganres_count')"
   ]
  },
  {
   "cell_type": "markdown",
   "id": "cb3ad4b3",
   "metadata": {},
   "source": [
    "Построим график"
   ]
  },
  {
   "cell_type": "code",
   "execution_count": 158,
   "id": "93f1d2b3",
   "metadata": {},
   "outputs": [
    {
     "data": {
      "image/png": "[encoded data removed]",
      "text/plain": [
       "<Figure size 800x800 with 1 Axes>"
      ]
     },
     "metadata": {},
     "output_type": "display_data"
    }
   ],
   "source": [
    "sums = meta_ganre[ganres].sum()\n",
    "\n",
    "# Пороговое значение для объединения в категорию \"Other\"\n",
    "threshold = 1500\n",
    "\n",
    "# Объединение всех значений меньше порога в \"Other\"\n",
    "sums['Other'] = sums[sums < threshold].sum()\n",
    "sums = sums[sums >= threshold]\n",
    "\n",
    "plt.figure(figsize=(8, 8))\n",
    "plt.pie(sums, labels=sums.index, autopct='%1.1f%%', startangle=140)\n",
    "plt.axis('equal')\n",
    "\n",
    "plt.title('Распределение жанров')\n",
    "\n",
    "plt.show()"
   ]
  },
  {
   "cell_type": "markdown",
   "id": "8d477b43",
   "metadata": {},
   "source": [
    "Много музыки жанра Фолк"
   ]
  },
  {
   "cell_type": "markdown",
   "id": "8e5582b8",
   "metadata": {
    "id": "8e5582b8"
   },
   "source": [
    "#### meta.language"
   ]
  },
  {
   "cell_type": "code",
   "execution_count": 159,
   "id": "717c2adb",
   "metadata": {
    "colab": {
     "base_uri": "https://localhost:8080/"
    },
    "id": "717c2adb",
    "outputId": "665720a1-b00c-4386-c5f5-a88fca386f01"
   },
   "outputs": [
    {
     "data": {
      "text/plain": [
       "language\n",
       "EN    15322\n",
       "ES     1747\n",
       "RU     1558\n",
       "IT      907\n",
       "HI      285\n",
       "DE      238\n",
       "ZH      212\n",
       "FR      210\n",
       "Name: count, dtype: int64"
      ]
     },
     "execution_count": 159,
     "metadata": {},
     "output_type": "execute_result"
    }
   ],
   "source": [
    "meta.language.value_counts().head(8)"
   ]
  },
  {
   "cell_type": "markdown",
   "id": "4894dc1e",
   "metadata": {},
   "source": [
    "Посмотрим на графике"
   ]
  },
  {
   "cell_type": "code",
   "execution_count": 160,
   "id": "8d70ed7b",
   "metadata": {},
   "outputs": [
    {
     "data": {
      "image/png": "[encoded data removed]",
      "text/plain": [
       "<Figure size 800x800 with 1 Axes>"
      ]
     },
     "metadata": {},
     "output_type": "display_data"
    }
   ],
   "source": [
    "plot_pie_chart(meta.language, 0.01, dropna=False)"
   ]
  },
  {
   "cell_type": "markdown",
   "id": "cb6d8f57",
   "metadata": {},
   "source": [
    "Почти 70% значений пропущено  "
   ]
  },
  {
   "cell_type": "markdown",
   "id": "9e7be02e",
   "metadata": {
    "id": "9e7be02e"
   },
   "source": [
    "#### Зависимость признака кавер или оригинал от длины текста"
   ]
  },
  {
   "cell_type": "code",
   "execution_count": 161,
   "id": "f5b93610",
   "metadata": {
    "id": "f5b93610"
   },
   "outputs": [],
   "source": [
    "covers_met=pd.merge(covers, meta, how='left', on='track_id')"
   ]
  },
  {
   "cell_type": "code",
   "execution_count": 162,
   "id": "25c57e34",
   "metadata": {
    "colab": {
     "base_uri": "https://localhost:8080/",
     "height": 73
    },
    "id": "25c57e34",
    "outputId": "53b8386b-37d0-452b-8f1a-10823b1de5aa"
   },
   "outputs": [
    {
     "data": {
      "text/html": [
       "<div>\n",
       "<style scoped>\n",
       "    .dataframe tbody tr th:only-of-type {\n",
       "        vertical-align: middle;\n",
       "    }\n",
       "\n",
       "    .dataframe tbody tr th {\n",
       "        vertical-align: top;\n",
       "    }\n",
       "\n",
       "    .dataframe thead th {\n",
       "        text-align: right;\n",
       "    }\n",
       "</style>\n",
       "<table border=\"1\" class=\"dataframe\">\n",
       "  <thead>\n",
       "    <tr style=\"text-align: right;\">\n",
       "      <th></th>\n",
       "      <th>original_track_id</th>\n",
       "      <th>track_id</th>\n",
       "      <th>track_remake_type</th>\n",
       "      <th>dttm</th>\n",
       "      <th>title</th>\n",
       "      <th>language</th>\n",
       "      <th>isrc</th>\n",
       "      <th>genres</th>\n",
       "      <th>duration</th>\n",
       "    </tr>\n",
       "  </thead>\n",
       "  <tbody>\n",
       "  </tbody>\n",
       "</table>\n",
       "</div>"
      ],
      "text/plain": [
       "Empty DataFrame\n",
       "Columns: [original_track_id, track_id, track_remake_type, dttm, title, language, isrc, genres, duration]\n",
       "Index: []"
      ]
     },
     "execution_count": 162,
     "metadata": {},
     "output_type": "execute_result"
    }
   ],
   "source": [
    "covers_met.loc[covers_met['track_id'].duplicated(keep=False)] #check"
   ]
  },
  {
   "cell_type": "code",
   "execution_count": 163,
   "id": "76a009ab",
   "metadata": {
    "colab": {
     "base_uri": "https://localhost:8080/",
     "height": 236
    },
    "id": "76a009ab",
    "outputId": "94727b6b-8f38-4cc1-e1b1-351814cb0768"
   },
   "outputs": [
    {
     "data": {
      "text/html": [
       "<div>\n",
       "<style scoped>\n",
       "    .dataframe tbody tr th:only-of-type {\n",
       "        vertical-align: middle;\n",
       "    }\n",
       "\n",
       "    .dataframe tbody tr th {\n",
       "        vertical-align: top;\n",
       "    }\n",
       "\n",
       "    .dataframe thead th {\n",
       "        text-align: right;\n",
       "    }\n",
       "</style>\n",
       "<table border=\"1\" class=\"dataframe\">\n",
       "  <thead>\n",
       "    <tr style=\"text-align: right;\">\n",
       "      <th></th>\n",
       "      <th>original_track_id</th>\n",
       "      <th>track_id</th>\n",
       "      <th>track_remake_type</th>\n",
       "      <th>dttm</th>\n",
       "      <th>title</th>\n",
       "      <th>language</th>\n",
       "      <th>isrc</th>\n",
       "      <th>genres</th>\n",
       "      <th>duration</th>\n",
       "      <th>lyricId</th>\n",
       "      <th>text</th>\n",
       "    </tr>\n",
       "  </thead>\n",
       "  <tbody>\n",
       "    <tr>\n",
       "      <th>0</th>\n",
       "      <td>eeb69a3cb92300456b6a5f4162093851</td>\n",
       "      <td>eeb69a3cb92300456b6a5f4162093851</td>\n",
       "      <td>ORIGINAL</td>\n",
       "      <td>2009-11-11 21:00:00</td>\n",
       "      <td>Proud Mary</td>\n",
       "      <td>EN</td>\n",
       "      <td>USFI86900049</td>\n",
       "      <td>[ROCK, ALLROCK]</td>\n",
       "      <td>187220.0</td>\n",
       "      <td>260f21d9f48e8de874a6e844159ddf28</td>\n",
       "      <td>Left a good job in the city\\nWorkin' for the m...</td>\n",
       "    </tr>\n",
       "    <tr>\n",
       "      <th>1</th>\n",
       "      <td>eeb69a3cb92300456b6a5f4162093851</td>\n",
       "      <td>eeb69a3cb92300456b6a5f4162093851</td>\n",
       "      <td>ORIGINAL</td>\n",
       "      <td>2009-11-11 21:00:00</td>\n",
       "      <td>Proud Mary</td>\n",
       "      <td>EN</td>\n",
       "      <td>USFI86900049</td>\n",
       "      <td>[ROCK, ALLROCK]</td>\n",
       "      <td>187220.0</td>\n",
       "      <td>f3331cf99637ee24559242d13d8cf259</td>\n",
       "      <td>Left a good job in the city\\nWorkin' for the m...</td>\n",
       "    </tr>\n",
       "  </tbody>\n",
       "</table>\n",
       "</div>"
      ],
      "text/plain": [
       "                  original_track_id                          track_id  \\\n",
       "0  eeb69a3cb92300456b6a5f4162093851  eeb69a3cb92300456b6a5f4162093851   \n",
       "1  eeb69a3cb92300456b6a5f4162093851  eeb69a3cb92300456b6a5f4162093851   \n",
       "\n",
       "  track_remake_type                dttm       title language          isrc  \\\n",
       "0          ORIGINAL 2009-11-11 21:00:00  Proud Mary       EN  USFI86900049   \n",
       "1          ORIGINAL 2009-11-11 21:00:00  Proud Mary       EN  USFI86900049   \n",
       "\n",
       "            genres  duration                           lyricId  \\\n",
       "0  [ROCK, ALLROCK]  187220.0  260f21d9f48e8de874a6e844159ddf28   \n",
       "1  [ROCK, ALLROCK]  187220.0  f3331cf99637ee24559242d13d8cf259   \n",
       "\n",
       "                                                text  \n",
       "0  Left a good job in the city\\nWorkin' for the m...  \n",
       "1  Left a good job in the city\\nWorkin' for the m...  "
      ]
     },
     "execution_count": 163,
     "metadata": {},
     "output_type": "execute_result"
    }
   ],
   "source": [
    "covers_met_lyrics=pd.merge(covers_met, lyrics, how='inner', on='track_id')\n",
    "covers_met_lyrics.head(2)"
   ]
  },
  {
   "cell_type": "code",
   "execution_count": 164,
   "id": "0710d8eb",
   "metadata": {
    "id": "0710d8eb"
   },
   "outputs": [],
   "source": [
    "covers_met_lyrics['len_text']=covers_met_lyrics['text'].apply(lambda x: len(x) )"
   ]
  },
  {
   "cell_type": "code",
   "execution_count": 165,
   "id": "799aadd4",
   "metadata": {
    "colab": {
     "base_uri": "https://localhost:8080/",
     "height": 449
    },
    "id": "799aadd4",
    "outputId": "a7980601-cb69-4825-ffd1-f0fbf8e58c38"
   },
   "outputs": [
    {
     "data": {
      "image/png": "[encoded data removed]",
      "text/plain": [
       "<Figure size 640x480 with 1 Axes>"
      ]
     },
     "metadata": {},
     "output_type": "display_data"
    }
   ],
   "source": [
    "covers_met_lyrics.plot(x='duration', y='track_remake_type', kind='scatter');"
   ]
  },
  {
   "cell_type": "markdown",
   "id": "cfc1a188",
   "metadata": {
    "id": "cfc1a188"
   },
   "source": [
    "у каверов больше дисперсия и диапазон максималных и минимальных значений длительности трека"
   ]
  },
  {
   "cell_type": "markdown",
   "id": "02306449",
   "metadata": {
    "id": "02306449"
   },
   "source": [
    "### Выводы:\n",
    "\n",
    "Провели тщательный анализ имеющихся признаков.\n",
    "Выяснили, что очень мало размечено исходников для каверов, всего 528 строк.\n",
    "\n",
    "У каверов больше дисперсия и диапазон максималных и минимальных значений длительности трека"
   ]
  },
  {
   "cell_type": "markdown",
   "id": "0b6d229d",
   "metadata": {
    "id": "0b6d229d"
   },
   "source": [
    "## Предоработка данных"
   ]
  },
  {
   "cell_type": "code",
   "execution_count": 166,
   "id": "fd40d734",
   "metadata": {
    "colab": {
     "base_uri": "https://localhost:8080/"
    },
    "id": "fd40d734",
    "outputId": "2e1fab4b-b307-4b04-d6ee-37ed51f5bf48"
   },
   "outputs": [
    {
     "data": {
      "text/plain": [
       "(71769, 7)"
      ]
     },
     "execution_count": 166,
     "metadata": {},
     "output_type": "execute_result"
    }
   ],
   "source": [
    "meta.shape #check"
   ]
  },
  {
   "cell_type": "markdown",
   "id": "5a33d823",
   "metadata": {
    "id": "5a33d823"
   },
   "source": [
    "Удалим композиции продолжительностью больше 10 минут и менее 10 секунд, т.к. это скорее всего - не музыкальные треки и их немного"
   ]
  },
  {
   "cell_type": "code",
   "execution_count": 167,
   "id": "23e5a48a",
   "metadata": {
    "colab": {
     "base_uri": "https://localhost:8080/"
    },
    "id": "23e5a48a",
    "outputId": "f4c780f8-415d-4223-f3a7-ca36daa448c0",
    "scrolled": true
   },
   "outputs": [
    {
     "data": {
      "text/plain": [
       "(71198, 7)"
      ]
     },
     "execution_count": 167,
     "metadata": {},
     "output_type": "execute_result"
    }
   ],
   "source": [
    "meta=meta.loc[(meta['duration'] < 600000) & (meta['duration'] > 10000) ]\n",
    "meta.shape #check"
   ]
  },
  {
   "cell_type": "markdown",
   "id": "8a8adfb2",
   "metadata": {
    "id": "8a8adfb2"
   },
   "source": [
    "###  Заполним пропуски в колонке 'language'"
   ]
  },
  {
   "cell_type": "code",
   "execution_count": 168,
   "id": "38a8a67d",
   "metadata": {
    "colab": {
     "base_uri": "https://localhost:8080/"
    },
    "id": "38a8a67d",
    "outputId": "3ac94da7-7e6e-4dbe-d357-6ace29a6b0ba"
   },
   "outputs": [
    {
     "data": {
      "text/plain": [
       "49454"
      ]
     },
     "execution_count": 168,
     "metadata": {},
     "output_type": "execute_result"
    }
   ],
   "source": [
    "meta['language'].isna().sum()"
   ]
  },
  {
   "cell_type": "code",
   "execution_count": 169,
   "id": "93d1baa2",
   "metadata": {
    "id": "93d1baa2"
   },
   "outputs": [],
   "source": [
    "def detect_language(text, label):\n",
    "    \"\"\"\n",
    "    Заполняет пропуски.\n",
    "    Определяет язык текста и возвращает метку языка (ISO 639-1), если 'label' равно NaN.\n",
    "\n",
    "    Args:\n",
    "        text (str): Текст, для которого нужно определить язык.\n",
    "        label (str): Столбец, в котором нужно обновить значение, если 'label' равно NaN.\n",
    "    Returns:\n",
    "        str: Метка языка в вернем регистре (ISO 639-1)\n",
    "    \"\"\"\n",
    "    if pd.isna(label):\n",
    "        try:\n",
    "            return detect(text).upper()\n",
    "        except:\n",
    "            return None\n",
    "    else:\n",
    "        return label"
   ]
  },
  {
   "cell_type": "code",
   "execution_count": null,
   "id": "2a7b7f2f",
   "metadata": {
    "colab": {
     "base_uri": "https://localhost:8080/"
    },
    "id": "2a7b7f2f",
    "outputId": "0eaf964c-ae6c-454c-aa0c-ec3da76e94c8"
   },
   "outputs": [],
   "source": [
    "%%time\n",
    "meta['language'] = meta.apply(lambda row: detect_language(row['title'], row['language']), axis=1)\n",
    "meta['language'].isna().sum()"
   ]
  },
  {
   "cell_type": "markdown",
   "id": "8cccc771",
   "metadata": {},
   "source": [
    "Посмотрим на распределение языков после запонения пропусков"
   ]
  },
  {
   "cell_type": "code",
   "execution_count": null,
   "id": "f17b5df1",
   "metadata": {},
   "outputs": [],
   "source": [
    "plot_pie_chart(meta.language, 0.01)"
   ]
  },
  {
   "cell_type": "markdown",
   "id": "8d4271f1",
   "metadata": {},
   "source": [
    "Помимо английского, много португальского и испанского\\\n",
    "Преобладающий жанр латинский фолк, и языки соответственно: англиский и латиноамериканские "
   ]
  },
  {
   "cell_type": "code",
   "execution_count": null,
   "id": "8f5c83a0",
   "metadata": {},
   "outputs": [],
   "source": [
    "meta_ganre"
   ]
  },
  {
   "cell_type": "code",
   "execution_count": null,
   "id": "1bf9bb4a",
   "metadata": {
    "colab": {
     "base_uri": "https://localhost:8080/"
    },
    "id": "1bf9bb4a",
    "outputId": "dcbc4a4b-af2e-4831-f76f-e797098e7519"
   },
   "outputs": [],
   "source": [
    "lyrics.shape"
   ]
  },
  {
   "cell_type": "code",
   "execution_count": null,
   "id": "edfd1a03",
   "metadata": {
    "colab": {
     "base_uri": "https://localhost:8080/"
    },
    "id": "edfd1a03",
    "outputId": "da9c0601-f291-4cc1-8779-a045dc1cdec5"
   },
   "outputs": [],
   "source": [
    "meta.shape"
   ]
  },
  {
   "cell_type": "code",
   "execution_count": null,
   "id": "26cb37c6",
   "metadata": {
    "colab": {
     "base_uri": "https://localhost:8080/"
    },
    "id": "26cb37c6",
    "outputId": "602edc1d-1156-4fe6-ca42-aa1bc62acbe7"
   },
   "outputs": [],
   "source": [
    "covers.shape"
   ]
  },
  {
   "cell_type": "markdown",
   "id": "7e1b55f0",
   "metadata": {
    "id": "7e1b55f0"
   },
   "source": [
    "### Удалим дубликаты текстов для lyrics.track_id"
   ]
  },
  {
   "cell_type": "code",
   "execution_count": null,
   "id": "116fa578",
   "metadata": {
    "id": "116fa578"
   },
   "outputs": [],
   "source": [
    "# Функция для выбора самого длинного текста из текстов в строках с одинаковым track_id.\n",
    "\n",
    "def max_row(track):\n",
    "    max_text = ''                                                          # Переменная со значением длины максимального текста\n",
    "    data_id = lyrics[lyrics['track_id'] == track].reset_index(drop=True)   # Временный датасет из строк с одинаковым track_id\n",
    "    for i in range(len(data_id)):                                          # --> (со сбросом индексов)\n",
    "        if len(data_id['text'][i]) > len(max_text):                        # Сравнение длины текстов с максимальным в max_text\n",
    "            max_text = data_id['text'][i]\n",
    "    return max_text"
   ]
  },
  {
   "cell_type": "code",
   "execution_count": null,
   "id": "543ccb4c",
   "metadata": {
    "colab": {
     "base_uri": "https://localhost:8080/",
     "height": 660
    },
    "id": "543ccb4c",
    "outputId": "f1849884-6484-4396-dca9-64c534d18d7d"
   },
   "outputs": [],
   "source": [
    "# Создание колонки max_text с самым длинным текстом из текстов в строках с одинаковым track_id.\n",
    "\n",
    "lyrics['max_text'] = lyrics['track_id'].apply(max_row)\n",
    "lyrics.head()"
   ]
  },
  {
   "cell_type": "code",
   "execution_count": null,
   "id": "71c3cb20",
   "metadata": {
    "colab": {
     "base_uri": "https://localhost:8080/"
    },
    "id": "71c3cb20",
    "outputId": "faaab31a-62e9-423e-905e-89ff360ba381"
   },
   "outputs": [],
   "source": [
    "lyrics.shape"
   ]
  },
  {
   "cell_type": "code",
   "execution_count": null,
   "id": "2b4f1687",
   "metadata": {
    "colab": {
     "base_uri": "https://localhost:8080/",
     "height": 397
    },
    "id": "2b4f1687",
    "outputId": "42511e5c-169a-410c-f4b5-ed959c8c7dab"
   },
   "outputs": [],
   "source": [
    "# Временный датасет, где дропаем столбец с исходным текстом text.\n",
    "dataset_temp = lyrics.drop(['text'], axis=1)\n",
    "\n",
    "# Итоговый датасет lyrics, где удалили дубликаты по столбцу track_id.\n",
    "result_lyrics = dataset_temp.drop_duplicates(subset=['track_id'], keep='first')\n",
    "result_lyrics.head()"
   ]
  },
  {
   "cell_type": "code",
   "execution_count": null,
   "id": "5f88f7f4",
   "metadata": {
    "colab": {
     "base_uri": "https://localhost:8080/"
    },
    "id": "5f88f7f4",
    "outputId": "6dec0afd-2f49-4165-b30b-0bcc9a0314f7"
   },
   "outputs": [],
   "source": [
    "result_lyrics.shape"
   ]
  },
  {
   "cell_type": "markdown",
   "id": "4e91ad69",
   "metadata": {},
   "source": [
    "\n",
    "###  Заполним year по isrc"
   ]
  },
  {
   "cell_type": "code",
   "execution_count": null,
   "id": "adebb6de",
   "metadata": {},
   "outputs": [],
   "source": [
    "# Функция по изъятию значения года из значения кода ISRC.\n",
    "# При отсутствии значений в ISRC год выгружен из столбца 'dttm'.\n",
    "\n",
    "def year(isrc, date):\n",
    "    try:\n",
    "        year = int(isrc[5:7])\n",
    "        if 23 < year <= 99:\n",
    "            year += 1900\n",
    "        else:\n",
    "            year += 2000       \n",
    "        return year\n",
    "    except:        \n",
    "        return date.year\n",
    "    \n",
    "meta['year'] = meta.progress_apply(lambda row: year(row['isrc'], row['dttm']), axis=1)"
   ]
  },
  {
   "cell_type": "code",
   "execution_count": null,
   "id": "1b4a56c9",
   "metadata": {
    "id": "1b4a56c9"
   },
   "outputs": [],
   "source": [
    "# Сборка общего датасета для обработки текстов (без пропусков в max_text и title )\n",
    "covers_met=pd.merge(covers, meta, how='inner', on='track_id')\n",
    "df = covers_met.merge(result_lyrics, how='inner', on='track_id')"
   ]
  },
  {
   "cell_type": "code",
   "execution_count": null,
   "id": "176fb0f5",
   "metadata": {
    "colab": {
     "base_uri": "https://localhost:8080/"
    },
    "id": "176fb0f5",
    "outputId": "8b56d928-3834-45ae-d1ee-6c88cc7bd3aa"
   },
   "outputs": [],
   "source": [
    "df.info()"
   ]
  },
  {
   "cell_type": "markdown",
   "id": "77785d1e",
   "metadata": {
    "id": "77785d1e"
   },
   "source": [
    "### Выводы:\n",
    "Удалили строки с очень короткой и очень длинной продолжительностью трека, также удалили некоторые дубликаты и пропуски. Заполнили практически все пропуски в колонке \"язык\". Из дубликаттов текстов к одному треку - оставили максимальный. Заполнили дополнительный признак \"год\"."
   ]
  },
  {
   "cell_type": "markdown",
   "id": "0275fc63",
   "metadata": {
    "id": "0275fc63"
   },
   "source": [
    "## Фича-инжиниринг: сгенерировать дополнительные признаки"
   ]
  },
  {
   "cell_type": "markdown",
   "id": "0951e54a",
   "metadata": {
    "id": "0951e54a"
   },
   "source": [
    "### Признак \"кавер\" в наименовании трека\n",
    "\n",
    "Гипотеза:  в наименовании трека могут содержаться слова, синонимы  \"кавер\", по которым можно классифицировать оригинал/кавер.\n",
    "Например: \"cover\", \"cover version\", \"interpretation\", \"version\", \"remake\", \"re-recording\""
   ]
  },
  {
   "cell_type": "code",
   "execution_count": null,
   "id": "f7fc43b9",
   "metadata": {
    "id": "f7fc43b9"
   },
   "outputs": [],
   "source": [
    "# мы создали отдельно список слов которые могут указывать на кавер и перевели на 50 самых встречающихся языков,\n",
    "# и сохранили в файле 'keywords.json' в репозитории \n",
    "keywords = pd.read_json('keywords.json', typ='series').tolist() "
   ]
  },
  {
   "cell_type": "code",
   "execution_count": null,
   "id": "6c2b45bc",
   "metadata": {
    "id": "6c2b45bc"
   },
   "outputs": [],
   "source": [
    "def contains_words(text, word_list):\n",
    "    \"\"\"\n",
    "    Проверяет, содержит ли текст хотя бы одно слово из заданного списка.\n",
    "\n",
    "    Args:\n",
    "        text (str): Текст для проверки.\n",
    "        word_list (list): Список слов, которые нужно найти в тексте.\n",
    "\n",
    "    Returns:\n",
    "        int: Возвращает 1, если хотя бы одно слово из списка найдено в тексте, и 0 в противном случае.\n",
    "    \"\"\"\n",
    "    \n",
    "    if text is None:\n",
    "        return 0  # Обрабатываем значения None, возвращая 0\n",
    "    \n",
    "    text = text.lower()  # Приводим весь текст к нижнему регистру\n",
    "    words = text.split()  # Разделяем текст на слова\n",
    "    for word in words:\n",
    "        if word in word_list:\n",
    "            return 1\n",
    "    return 0"
   ]
  },
  {
   "cell_type": "code",
   "execution_count": null,
   "id": "0a260a5e",
   "metadata": {
    "colab": {
     "base_uri": "https://localhost:8080/"
    },
    "id": "0a260a5e",
    "outputId": "271efd2f-5414-4153-d99b-669b9fb9b0f5"
   },
   "outputs": [],
   "source": [
    "%%time\n",
    "df['cov_in_title'] = df['title'].apply(lambda x: contains_words(x, keywords))"
   ]
  },
  {
   "cell_type": "code",
   "execution_count": null,
   "id": "114675ce",
   "metadata": {
    "colab": {
     "base_uri": "https://localhost:8080/"
    },
    "id": "114675ce",
    "outputId": "e7a476b6-695f-42eb-ea65-c7c9eda934e0",
    "scrolled": true
   },
   "outputs": [],
   "source": [
    "df['cov_in_title'].value_counts()"
   ]
  },
  {
   "cell_type": "code",
   "execution_count": null,
   "id": "2a52c959",
   "metadata": {
    "colab": {
     "base_uri": "https://localhost:8080/"
    },
    "id": "2a52c959",
    "outputId": "93329e1c-ff9c-4df1-dcc6-fb00af50c612"
   },
   "outputs": [],
   "source": [
    "meta['cov_in_title'] = meta['title'].apply(lambda x: contains_words(x, keywords))\n",
    "meta['cov_in_title'].value_counts()"
   ]
  },
  {
   "cell_type": "markdown",
   "id": "ae4b0e29",
   "metadata": {},
   "source": [
    " Выводы: гипотеза не подтвердилась. По имеющимся у нас данным, пометку \"кавер\" в наименовании трека делают в менее 1% случаев. Не будем добавлять этот признак в обучение модели."
   ]
  },
  {
   "cell_type": "markdown",
   "id": "3fc7cc02",
   "metadata": {},
   "source": [
    "### Создани фичей для  модли  CatBoost"
   ]
  },
  {
   "cell_type": "markdown",
   "id": "257b3c98",
   "metadata": {},
   "source": [
    "Учитывая наличие текстовых данных не во всех треках, мы рассмотрим два сценария:\n",
    "- строим модель с использованием текстов не на всех даных\n",
    "- создаем модель на всех данных, но без текстов песен"
   ]
  },
  {
   "cell_type": "markdown",
   "id": "ba7606f8",
   "metadata": {},
   "source": [
    "Скопирум датасеты"
   ]
  },
  {
   "cell_type": "code",
   "execution_count": null,
   "id": "a06954c0",
   "metadata": {},
   "outputs": [],
   "source": [
    "met_cat_df = covers_met.copy()\n",
    "text_cat_df = df.copy()"
   ]
  },
  {
   "cell_type": "markdown",
   "id": "d428c1fc",
   "metadata": {},
   "source": [
    "создадим признаки на основе жанров и также добавим количество жанров как один из признаков"
   ]
  },
  {
   "cell_type": "code",
   "execution_count": null,
   "id": "4f139477",
   "metadata": {},
   "outputs": [],
   "source": [
    "met_cat_df, ganres = process_dataframe(met_cat_df, 'genres', 'genres_count')\n",
    "text_cat_df, ganres = process_dataframe(text_cat_df, 'genres', 'genres_count')"
   ]
  },
  {
   "cell_type": "code",
   "execution_count": null,
   "id": "15ebe648",
   "metadata": {},
   "outputs": [],
   "source": [
    "met_cat_df.head()"
   ]
  },
  {
   "cell_type": "markdown",
   "id": "127a6858",
   "metadata": {
    "id": "127a6858"
   },
   "source": [
    "## Задача: Классификация оригинал/кавер\n",
    "**Польза:** чтобы слушатель смог:\n",
    "\n",
    "- убрать каверы из плейлиста\n",
    "- слушать одни каверы"
   ]
  },
  {
   "cell_type": "markdown",
   "id": "d07a5dd8",
   "metadata": {},
   "source": [
    "Построим модель на датасте с текстами песен\\\n",
    "Будем использовать CatBoost так как от умеет работать с текстовыми данными напрямую"
   ]
  },
  {
   "cell_type": "code",
   "execution_count": null,
   "id": "225203b0",
   "metadata": {},
   "outputs": [],
   "source": [
    "# добавим группу по названию трека\n",
    "text_cat_df['group'] = pd.Categorical(text_cat_df['title']).codes"
   ]
  },
  {
   "cell_type": "code",
   "execution_count": null,
   "id": "27cb95ef",
   "metadata": {
    "id": "27cb95ef"
   },
   "outputs": [],
   "source": [
    "# Меняем COVER и ORIGINAL на 1 и 0\n",
    "text_cat_df['track_remake_type'].replace({'COVER':1,'ORIGINAL':0},inplace=True)"
   ]
  },
  {
   "cell_type": "code",
   "execution_count": null,
   "id": "861a2e68",
   "metadata": {},
   "outputs": [],
   "source": [
    "# Посмотрим баланс классов\n",
    "text_cat_df['track_remake_type'].value_counts()"
   ]
  },
  {
   "cell_type": "markdown",
   "id": "9d7041d8",
   "metadata": {},
   "source": [
    "Отметим дисбаланс классов"
   ]
  },
  {
   "cell_type": "code",
   "execution_count": null,
   "id": "af864fb5",
   "metadata": {
    "id": "af864fb5"
   },
   "outputs": [],
   "source": [
    "# разделим выборки и удалим лишние признаки\n",
    "X = text_cat_df.drop(['track_remake_type','dttm', 'original_track_id', 'track_id', 'isrc', 'lyricId', 'language','year'],axis=1)\n",
    "y = text_cat_df['track_remake_type']"
   ]
  },
  {
   "cell_type": "code",
   "execution_count": null,
   "id": "7414b258",
   "metadata": {
    "id": "7414b258"
   },
   "outputs": [],
   "source": [
    "# выделим тестовую выборку и обозначим категориальные и текстовые фичи, обозначим группы\n",
    "X_train, X_test, y_train, y_test = train_test_split(X, y, test_size=0.3, random_state=RS)\n",
    "\n",
    "text_features = ['title', 'max_text']\n",
    "\n",
    "groups = X_train['group']\n",
    "X_train = X_train.drop(['group'], axis=1)"
   ]
  },
  {
   "cell_type": "markdown",
   "id": "1a31298f",
   "metadata": {},
   "source": [
    "### Обучение на  данных, с признаком \"текст песни\""
   ]
  },
  {
   "cell_type": "markdown",
   "id": "11746b83",
   "metadata": {
    "id": "11746b83"
   },
   "source": [
    "Обучим модель на GPU\\\n",
    "Далее подгрузим рзультат обучения"
   ]
  },
  {
   "cell_type": "markdown",
   "id": "9a425cf7",
   "metadata": {
    "colab": {
     "base_uri": "https://localhost:8080/"
    },
    "id": "eb4f6a59",
    "outputId": "694cc4cb-430e-4d01-b9b4-6bfae9102960"
   },
   "source": [
    "```\n",
    "sgk = StratifiedGroupKFold(n_splits=3)\n",
    "\n",
    "model = CatBoostClassifier(random_seed=RS,\n",
    "                           verbose=False,\n",
    "                           text_features=text_features,\n",
    "                           auto_class_weights = 'Balanced',\n",
    "                           task_type = 'GPU'\n",
    "                           )\n",
    "\n",
    "param_dist = {\n",
    "    'iterations' : range(100, 501, 100),\n",
    "    'learning_rate': [0.01, 0.05, 0.1],\n",
    "    'depth': [5, 6, 7, 8],\n",
    "}\n",
    "\n",
    "random_search = RandomizedSearchCV(model,\n",
    "                                   param_distributions=param_dist,\n",
    "                                   n_iter=3,\n",
    "                                   cv=sgk,\n",
    "                                   scoring='f1')\n",
    "\n",
    "\n",
    "cat = random_search.fit(X_train, y_train, groups=groups)\n",
    " \n",
    "joblib.dump(cat, 'cat_text.pkl')\n",
    "```"
   ]
  },
  {
   "cell_type": "code",
   "execution_count": null,
   "id": "24020c0c",
   "metadata": {},
   "outputs": [],
   "source": [
    "cat_text = joblib.load('cat_text.pkl')"
   ]
  },
  {
   "cell_type": "code",
   "execution_count": null,
   "id": "4d47b054",
   "metadata": {},
   "outputs": [],
   "source": [
    "print('F1 Score on Train Set:', cat_text.best_score_)"
   ]
  },
  {
   "cell_type": "code",
   "execution_count": null,
   "id": "b3240da2",
   "metadata": {
    "colab": {
     "base_uri": "https://localhost:8080/"
    },
    "id": "b3240da2",
    "outputId": "272c5819-a200-48ce-a37b-0a091dbbdb2b"
   },
   "outputs": [],
   "source": [
    "cat_text.best_params_"
   ]
  },
  {
   "cell_type": "code",
   "execution_count": null,
   "id": "5a5ef1e4",
   "metadata": {
    "colab": {
     "base_uri": "https://localhost:8080/"
    },
    "id": "5a5ef1e4",
    "outputId": "fb966aee-e7bc-45ae-910b-9ad2fcea0c09"
   },
   "outputs": [],
   "source": [
    "# посмотрим рeзультат на тeстовой выборке\n",
    "y_pred = cat_text.predict(X_test)\n",
    "f1 = f1_score(y_test, y_pred)\n",
    "print('F1 Score on Test Set:', f1)"
   ]
  },
  {
   "cell_type": "markdown",
   "id": "f2c45ae1",
   "metadata": {},
   "source": [
    "Модель не переобучилась "
   ]
  },
  {
   "cell_type": "markdown",
   "id": "76cbe497",
   "metadata": {
    "id": "76cbe497"
   },
   "source": [
    "Посмотрим feature_importances"
   ]
  },
  {
   "cell_type": "markdown",
   "id": "e58ec9a0",
   "metadata": {},
   "source": [
    "#### feature_importances"
   ]
  },
  {
   "cell_type": "code",
   "execution_count": null,
   "id": "c1cf59cb",
   "metadata": {
    "colab": {
     "base_uri": "https://localhost:8080/",
     "height": 540
    },
    "id": "c1cf59cb",
    "outputId": "575f24c3-eef0-4cce-e3e4-7f3d7c3015cc"
   },
   "outputs": [],
   "source": [
    "best_model = cat_text.best_estimator_\n",
    "\n",
    "feature_importances = pd.DataFrame(index = best_model.feature_names_,\n",
    "                                   data = best_model.feature_importances_)\n",
    "top_feature = feature_importances.sort_values(by = [0], ascending=False).head(20)\n",
    "\n",
    "plt.bar(top_feature.index , top_feature[0]);\n",
    "plt.title('feature importances')\n",
    "plt.xticks(rotation=90)\n",
    "\n",
    "plt.show()"
   ]
  },
  {
   "cell_type": "markdown",
   "id": "3dd9cdb2",
   "metadata": {},
   "source": [
    "Самыми важными признаками оказались тексты песен и продолжительность трека"
   ]
  },
  {
   "cell_type": "markdown",
   "id": "2e01f081",
   "metadata": {
    "id": "2e01f081"
   },
   "source": [
    "Построим график roc_auc"
   ]
  },
  {
   "cell_type": "code",
   "execution_count": null,
   "id": "222b9e9b",
   "metadata": {
    "colab": {
     "base_uri": "https://localhost:8080/",
     "height": 490
    },
    "id": "222b9e9b",
    "outputId": "714f82aa-6fe6-4d8a-962d-72a26c66659f",
    "scrolled": true
   },
   "outputs": [],
   "source": [
    "probabilities_valid = cat_text.predict_proba(X_test)\n",
    "probabilities_one_valid = probabilities_valid[:, 1]\n",
    "\n",
    "fpr, tpr, thresholds = roc_curve(y_test, probabilities_one_valid)\n",
    "\n",
    "plt.figure()\n",
    "plt.plot(fpr, tpr)\n",
    "plt.plot([0, 1], [0, 1], linestyle='--')\n",
    "plt.xlim([0.0, 1.0])\n",
    "plt.ylim([0.0, 1.0])\n",
    "plt.xlabel('False Positive Rate')\n",
    "plt.ylabel('True Positive Rate')\n",
    "plt.title('ROC-curve')\n",
    "plt.show()\n",
    "\n",
    "print('roc_auc_score: ',roc_auc_score(y_test, probabilities_one_valid))"
   ]
  },
  {
   "cell_type": "markdown",
   "id": "97a06bcb",
   "metadata": {},
   "source": [
    "обучим аналогичную модель, но без использования ткстов песен"
   ]
  },
  {
   "cell_type": "code",
   "execution_count": null,
   "id": "485b71a6",
   "metadata": {},
   "outputs": [],
   "source": [
    "X_train = X_train.drop(['max_text'],axis=1)\n",
    "X_test = X_test.drop(['max_text'],axis=1)\n",
    "\n",
    "text_features = ['title']"
   ]
  },
  {
   "cell_type": "markdown",
   "id": "22152fd2",
   "metadata": {},
   "source": [
    "Обучим модель на GPU\n",
    "Далее подгрузим рзультат обучения"
   ]
  },
  {
   "cell_type": "markdown",
   "id": "57ef2c0f",
   "metadata": {},
   "source": [
    "```\n",
    "cat_without_text = random_search.fit(X_train, y_train, groups=groups)\n",
    "\n",
    "joblib.dump(cat, 'cat_without_text.pkl')\n",
    "```"
   ]
  },
  {
   "cell_type": "code",
   "execution_count": null,
   "id": "c66b36df",
   "metadata": {},
   "outputs": [],
   "source": [
    "cat_no_text = joblib.load('cat_without_text.pkl')"
   ]
  },
  {
   "cell_type": "code",
   "execution_count": null,
   "id": "7174a2c6",
   "metadata": {},
   "outputs": [],
   "source": [
    "cat_no_text.best_params_"
   ]
  },
  {
   "cell_type": "code",
   "execution_count": null,
   "id": "b47577b6",
   "metadata": {},
   "outputs": [],
   "source": [
    "print('F1 Score on Train Set:', cat_no_text.best_score_)"
   ]
  },
  {
   "cell_type": "markdown",
   "id": "188601ba",
   "metadata": {},
   "source": [
    "Рзультат не сильно хуже модели с тектами песен"
   ]
  },
  {
   "cell_type": "markdown",
   "id": "a3af3a20",
   "metadata": {},
   "source": [
    "Посмотрим feature_importances"
   ]
  },
  {
   "cell_type": "code",
   "execution_count": null,
   "id": "02acc589",
   "metadata": {},
   "outputs": [],
   "source": [
    "best_model = cat_no_text.best_estimator_\n",
    "\n",
    "feature_importances = pd.DataFrame(index = best_model.feature_names_,\n",
    "                                   data = best_model.feature_importances_)\n",
    "top_feature = feature_importances.sort_values(by = [0], ascending=False).head(20)\n",
    "\n",
    "plt.bar(top_feature.index , top_feature[0]);\n",
    "plt.title('feature importances')\n",
    "plt.xticks(rotation=90)\n",
    "\n",
    "plt.show()"
   ]
  },
  {
   "cell_type": "markdown",
   "id": "8576dcbc",
   "metadata": {},
   "source": [
    "Без учета текстов песен, модель смогла выявить зависимости на основе жанров и названий."
   ]
  },
  {
   "cell_type": "markdown",
   "id": "37d3a099",
   "metadata": {},
   "source": [
    "Построим график roc_auc"
   ]
  },
  {
   "cell_type": "code",
   "execution_count": null,
   "id": "902a9d20",
   "metadata": {},
   "outputs": [],
   "source": [
    "probabilities_valid = cat_no_text.predict_proba(X_test)\n",
    "probabilities_one_valid = probabilities_valid[:, 1]\n",
    "\n",
    "fpr, tpr, thresholds = roc_curve(y_test, probabilities_one_valid)\n",
    "\n",
    "plt.figure()\n",
    "plt.plot(fpr, tpr)\n",
    "plt.plot([0, 1], [0, 1], linestyle='--')\n",
    "plt.xlim([0.0, 1.0])\n",
    "plt.ylim([0.0, 1.0])\n",
    "plt.xlabel('False Positive Rate')\n",
    "plt.ylabel('True Positive Rate')\n",
    "plt.title('ROC-curve')\n",
    "plt.show()\n",
    "\n",
    "print('roc_auc_score: ',roc_auc_score(y_test, probabilities_one_valid))"
   ]
  },
  {
   "cell_type": "markdown",
   "id": "f9c354c7",
   "metadata": {},
   "source": [
    "**Вывод:** Модель может выявлять зависимости, не используя текст песен"
   ]
  },
  {
   "cell_type": "markdown",
   "id": "fc04cfde",
   "metadata": {},
   "source": [
    "### Обучение на всех данных, без признака \"текст песни\""
   ]
  },
  {
   "cell_type": "markdown",
   "id": "aa2ea0f7",
   "metadata": {},
   "source": [
    "Попробуем обучить модель на большем количестве данных\\\n",
    "Поскольку тексты есть не для всех данных, обучать будем без них"
   ]
  },
  {
   "cell_type": "markdown",
   "id": "60f86557",
   "metadata": {},
   "source": [
    "Соберем датасет"
   ]
  },
  {
   "cell_type": "code",
   "execution_count": null,
   "id": "7182ab6c",
   "metadata": {},
   "outputs": [],
   "source": [
    "# Добавим группу по тексту\n",
    "met_cat_df['group'] = pd.Categorical(met_cat_df['title']).codes"
   ]
  },
  {
   "cell_type": "code",
   "execution_count": null,
   "id": "1f5a1e1f",
   "metadata": {},
   "outputs": [],
   "source": [
    "met_cat_df['track_remake_type'].replace({'COVER':1,'ORIGINAL':0},inplace=True)\n",
    "met_cat_df['track_remake_type'].value_counts()"
   ]
  },
  {
   "cell_type": "markdown",
   "id": "e83439f8",
   "metadata": {},
   "source": [
    "Дизбаланс классов сильнее чем в датасте с текстами"
   ]
  },
  {
   "cell_type": "code",
   "execution_count": null,
   "id": "dd49c97a",
   "metadata": {},
   "outputs": [],
   "source": [
    "# разделим выборки и удалим лишние признаки\n",
    "X = met_cat_df.drop(['track_remake_type','dttm', 'original_track_id', 'track_id', 'isrc', 'language', 'year'],axis=1)\n",
    "y = met_cat_df['track_remake_type']"
   ]
  },
  {
   "cell_type": "code",
   "execution_count": null,
   "id": "b6b3bc02",
   "metadata": {},
   "outputs": [],
   "source": [
    "X_train, X_test, y_train, y_test = train_test_split(X, y, test_size=0.3, random_state=RS)\n",
    "\n",
    "text_features = ['title']\n",
    "\n",
    "groups = X_train['group']\n",
    "X_train = X_train.drop(['group'], axis=1)"
   ]
  },
  {
   "cell_type": "markdown",
   "id": "e88fa45a",
   "metadata": {},
   "source": [
    "```\n",
    "cat = random_search.fit(X_train, y_train, groups=groups)\n",
    "\n",
    "joblib.dump(cat, 'met_cat_df.pkl')\n",
    "```"
   ]
  },
  {
   "cell_type": "code",
   "execution_count": null,
   "id": "30d1e266",
   "metadata": {},
   "outputs": [],
   "source": [
    "X_train_columns=X_train.columns"
   ]
  },
  {
   "cell_type": "code",
   "execution_count": null,
   "id": "10a536fd",
   "metadata": {},
   "outputs": [],
   "source": [
    "met_cat = joblib.load('met_cat.pkl')"
   ]
  },
  {
   "cell_type": "code",
   "execution_count": null,
   "id": "b44e94b9",
   "metadata": {},
   "outputs": [],
   "source": [
    "print('F1 Score on Train Set:', met_cat.best_score_)"
   ]
  },
  {
   "cell_type": "code",
   "execution_count": null,
   "id": "b2962af9",
   "metadata": {},
   "outputs": [],
   "source": [
    "met_cat.best_params_"
   ]
  },
  {
   "cell_type": "code",
   "execution_count": null,
   "id": "cd4878c7",
   "metadata": {},
   "outputs": [],
   "source": [
    "# посмотрим рeзультат на тeстовой выборке\n",
    "y_pred = met_cat.predict(X_test)\n",
    "f1 = f1_score(y_test, y_pred)\n",
    "print('F1 Score on Test Set:', f1)"
   ]
  },
  {
   "cell_type": "markdown",
   "id": "a29bea9d",
   "metadata": {},
   "source": [
    "Эта модель показала результат лучше чем модель обученая на меньшй выборке, но с текстами"
   ]
  },
  {
   "cell_type": "markdown",
   "id": "4b6b2ab7",
   "metadata": {},
   "source": [
    "Посмотрим на графики"
   ]
  },
  {
   "cell_type": "markdown",
   "id": "578bd63d",
   "metadata": {},
   "source": [
    "#### feature_importances"
   ]
  },
  {
   "cell_type": "code",
   "execution_count": null,
   "id": "5c61ba5b",
   "metadata": {},
   "outputs": [],
   "source": [
    "best_model = met_cat.best_estimator_\n",
    "\n",
    "feature_importances = pd.DataFrame(index = best_model.feature_names_,\n",
    "                                   data = best_model.feature_importances_)\n",
    "top_feature = feature_importances.sort_values(by = [0], ascending=False).head(20)\n",
    "\n",
    "plt.bar(top_feature.index , top_feature[0]);\n",
    "plt.title('feature importances')\n",
    "plt.xticks(rotation=90)\n",
    "\n",
    "plt.show()"
   ]
  },
  {
   "cell_type": "markdown",
   "id": "98814db0",
   "metadata": {},
   "source": [
    "Самыми важными для модели оказались название трека, длительность и различные жанры"
   ]
  },
  {
   "cell_type": "code",
   "execution_count": null,
   "id": "5baaf5dd",
   "metadata": {},
   "outputs": [],
   "source": [
    "probabilities_valid = best_model.predict_proba(X_test)\n",
    "probabilities_one_valid = probabilities_valid[:, 1]\n",
    "\n",
    "fpr, tpr, thresholds = roc_curve(y_test, probabilities_one_valid)\n",
    "\n",
    "plt.figure()\n",
    "plt.plot(fpr, tpr)\n",
    "plt.plot([0, 1], [0, 1], linestyle='--')\n",
    "plt.xlim([0.0, 1.0])\n",
    "plt.ylim([0.0, 1.0])\n",
    "plt.xlabel('False Positive Rate')\n",
    "plt.ylabel('True Positive Rate')\n",
    "plt.title('ROC-curve')\n",
    "plt.show()\n",
    "\n",
    "print('roc_auc_score: ',roc_auc_score(y_test, probabilities_one_valid))"
   ]
  },
  {
   "cell_type": "markdown",
   "id": "a6a30c10",
   "metadata": {},
   "source": [
    "### Выводы:\n",
    "- Первая модель выделила текст как наиболее важный признак и продемонстрировала хорошие результаты.\n",
    "- Вторая модель, не использующая текст песен, успешно определила зависимости, основываясь на информации о жанрах.\n",
    "- Третья модель, обученная на полных данных без учёта текстов песен, показала лучшие результаты среди всех."
   ]
  },
  {
   "cell_type": "markdown",
   "id": "883e311c",
   "metadata": {
    "id": "883e311c"
   },
   "source": [
    "## Задача: Определение \"связности\" треков\n",
    "\n",
    "**Гипотеза:** на основании текстов треков можно определить, связаны ли треки между собой или нет.\n",
    "\n",
    "Под \"связностью\" понимаем:\n",
    "\n",
    "Пусть дана пара треков. Если это кавер и оригинал одной песни то считаем их связанными. \n",
    "Если два кавера одной песни, то тоже.\n",
    "\n",
    "Во всех остальных случаях - треки не связаны.\n",
    "\n",
    "\n",
    "**Польза:**  если пользователю не нравится какой-то трек/кавер, то сможем добавить проверку на связность с ним, чтобы исключить такие записи в выдаче в моей волне.\n",
    "\n",
    "**Задача:**  бинарная классификация\n",
    "\n",
    "**Модель:** CatBoostClassifier, с параметром text_features\n",
    "\n",
    "**Метрика:** F1, мы выбрали данную метрику, т.к. имеем несбалансированную выборку."
   ]
  },
  {
   "cell_type": "markdown",
   "id": "905b2f9d",
   "metadata": {},
   "source": [
    "### Сборка датасета с разметкой\n",
    "\n",
    "Для проверки качества модели составим датасет, состоящий из пар track_id и разметкой, где будут колонки:\n",
    "\n",
    "- query_id (уникальный идентификатор трека запроса) \n",
    "- cand_id (уникальный идентификатор трека кандидата) \n",
    "- target (1, если кандидат является кавером или оригиналом запроса, 0 - в противном случае )\n",
    "\n",
    "т.е. дана пара треков. Если это кавер и оригинал одной песни то таргет = 1.\n",
    "Если два кавера одной песни, то тоже 1. Во всех остальных случаях - 0.\n",
    "\n",
    "Отдельно соберем данные с позитивным и негативным таргетом, а потом соединим и перемешаем строки \n"
   ]
  },
  {
   "cell_type": "code",
   "execution_count": null,
   "id": "2abd191d",
   "metadata": {},
   "outputs": [],
   "source": [
    "lyrics = pd.read_json('data/lyrics.json', lines = True)  #обновляю"
   ]
  },
  {
   "cell_type": "markdown",
   "id": "19a1d394",
   "metadata": {},
   "source": [
    "#### Positive"
   ]
  },
  {
   "cell_type": "code",
   "execution_count": null,
   "id": "4307fcdf",
   "metadata": {},
   "outputs": [],
   "source": [
    "# Для начала, выделим каверы, для которых уже известен оригинал и разметим эти пары 1\n",
    "\n",
    "df_positive=\\\n",
    "    covers.loc[(covers.track_remake_type=='COVER') & (covers.original_track_id.isnull()==False)].reset_index(drop=True).copy()\n",
    "df_positive.head(2)"
   ]
  },
  {
   "cell_type": "code",
   "execution_count": null,
   "id": "18ee8e57",
   "metadata": {},
   "outputs": [],
   "source": [
    "df_positive.columns=['query_id','cand_id','target'] #переименуем столбцы\n",
    "df_positive['target']=1  #разметим эти пары 1\n",
    "df_positive.head(2)"
   ]
  },
  {
   "cell_type": "code",
   "execution_count": null,
   "id": "a1b6c70d",
   "metadata": {},
   "outputs": [],
   "source": [
    "#присоединим тексты для запроса и посмотрим, сколько будет записей\n",
    "df_positive=df_positive.merge(lyrics, how='inner' , left_on='query_id', right_on='track_id').drop(columns=['track_id'], axis=1) \n",
    "df_positive.head(2)"
   ]
  },
  {
   "cell_type": "code",
   "execution_count": null,
   "id": "b1d368cd",
   "metadata": {},
   "outputs": [],
   "source": [
    "df_positive.query_id.value_counts().head(5)"
   ]
  },
  {
   "cell_type": "code",
   "execution_count": null,
   "id": "c74a1b02",
   "metadata": {},
   "outputs": [],
   "source": [
    "print(df_positive.shape)"
   ]
  },
  {
   "cell_type": "code",
   "execution_count": null,
   "id": "49a37a39",
   "metadata": {},
   "outputs": [],
   "source": [
    "#присоединим тексты для кандидатов \n",
    "df_positive=df_positive.merge(lyrics, how='inner' , left_on='cand_id', right_on='track_id',suffixes=('', '_cand') ).drop(columns=['track_id'], axis=1) \n",
    "df_positive.head(2)"
   ]
  },
  {
   "cell_type": "code",
   "execution_count": null,
   "id": "ab9f18b3",
   "metadata": {},
   "outputs": [],
   "source": [
    "df_positive.info()"
   ]
  },
  {
   "cell_type": "markdown",
   "id": "105f1112",
   "metadata": {},
   "source": [
    "#### Negative\n",
    "Для создания базы с негативным таргетом, можно взять и случайно сопоставить пары, у которых признак ORIGINAL и не равны lyricId и track_id. Будем считать, что два оригинала - не могут быть кавром и оригиналом или двумя каверами - одной песни "
   ]
  },
  {
   "cell_type": "code",
   "execution_count": null,
   "id": "a5fab9df",
   "metadata": {},
   "outputs": [],
   "source": [
    "df_neg= covers.loc[(covers.track_remake_type=='ORIGINAL')].reset_index(drop=True).drop(columns=['original_track_id','track_remake_type'], axis=1).copy()\n",
    "df_neg=df_neg.drop_duplicates()\n",
    "print(df_neg.shape)\n",
    "df_neg.head(2)"
   ]
  },
  {
   "cell_type": "code",
   "execution_count": null,
   "id": "f6a458b8",
   "metadata": {},
   "outputs": [],
   "source": [
    "df_neg=df_neg.merge(lyrics, how='inner',on='track_id').drop_duplicates(subset=['track_id']).reset_index(drop=True) \n",
    "print(df_neg.shape)\n",
    "df_neg.head(2)"
   ]
  },
  {
   "cell_type": "code",
   "execution_count": null,
   "id": "b34ac692",
   "metadata": {},
   "outputs": [],
   "source": [
    "%%time\n",
    "#Создадим шаблон, куда будем добавлять случайные пары из отобранных ранее айдишников\n",
    "df_negative=pd.DataFrame(columns=['query_id','cand_id','target'] )\n",
    "df_negative\n",
    "\n",
    "for i in range(3000):\n",
    "    index_query=random.randint(0,len(df_neg)-1)\n",
    "    index_cand=random.randint(0,len(df_neg)-1)\n",
    "    query_id=df_neg['track_id'][index_query]\n",
    "    cand_id=df_neg['track_id'][index_cand]\n",
    "    if query_id!=cand_id:\n",
    "        df_negative = pd.concat([df_negative,pd.DataFrame(\n",
    "            {'query_id':query_id,\n",
    "             'cand_id':cand_id,\n",
    "             'target':[0]}) ], ignore_index=True)\n"
   ]
  },
  {
   "cell_type": "code",
   "execution_count": null,
   "id": "13747e44",
   "metadata": {},
   "outputs": [],
   "source": [
    "df_negative"
   ]
  },
  {
   "cell_type": "code",
   "execution_count": null,
   "id": "ef2fe668",
   "metadata": {},
   "outputs": [],
   "source": [
    "# присоединим тексты \n",
    "df_negative=df_negative\\\n",
    "  .merge(lyrics, how='inner' , left_on='query_id', right_on='track_id').drop(columns=['track_id'], axis=1) \\\n",
    "    .merge(lyrics, how='inner' , left_on='cand_id', right_on='track_id',suffixes=('', '_cand') )\\\n",
    "        .drop(columns=['track_id'], axis=1) \n",
    "df_negative.head(2)"
   ]
  },
  {
   "cell_type": "markdown",
   "id": "b960180b",
   "metadata": {},
   "source": [
    "#### Concat"
   ]
  },
  {
   "cell_type": "code",
   "execution_count": null,
   "id": "c5998263",
   "metadata": {},
   "outputs": [],
   "source": [
    "train_text=pd.concat([df_positive,df_negative], ignore_index=True).sample(frac=1).reset_index(drop=True)\n",
    "train_text.head(2)"
   ]
  },
  {
   "cell_type": "code",
   "execution_count": null,
   "id": "3d724ea9",
   "metadata": {},
   "outputs": [],
   "source": [
    "train_text['target']=train_text['target'].astype (int)"
   ]
  },
  {
   "cell_type": "code",
   "execution_count": null,
   "id": "902c5fb8",
   "metadata": {},
   "outputs": [],
   "source": [
    "train_text.info()"
   ]
  },
  {
   "cell_type": "markdown",
   "id": "6f568455",
   "metadata": {},
   "source": [
    "### Модель"
   ]
  },
  {
   "cell_type": "code",
   "execution_count": null,
   "id": "df46362e",
   "metadata": {},
   "outputs": [],
   "source": [
    "X_train, X_test = train_test_split(train_text, test_size=0.2, \\\n",
    "                                stratify=train_text['target'])\n",
    "print(X_train.shape)\n",
    "X_test.shape"
   ]
  },
  {
   "cell_type": "code",
   "execution_count": null,
   "id": "7cc0d5c5",
   "metadata": {},
   "outputs": [],
   "source": [
    "y_train = X_train['target']                    \n",
    "X_train = X_train.drop(['target'], axis=1)\n",
    "\n",
    "y_test = X_test['target']                    \n",
    "X_test = X_test.drop(['target'], axis=1)"
   ]
  },
  {
   "cell_type": "code",
   "execution_count": null,
   "id": "c497b084",
   "metadata": {},
   "outputs": [],
   "source": [
    "train_pool = Pool(\n",
    "    data=X_train[['text_cand','text']],\n",
    "    label=y_train,\n",
    "    text_features=['text_cand','text']\n",
    ")\n",
    "\n",
    "eval_pool = Pool(\n",
    "    data=X_test[['text_cand','text']],\n",
    "    label=y_test,\n",
    "    text_features=['text_cand','text']\n",
    ")"
   ]
  },
  {
   "cell_type": "code",
   "execution_count": null,
   "id": "f57820f7",
   "metadata": {},
   "outputs": [],
   "source": [
    "%%time\n",
    "model = CatBoostClassifier(iterations=300, learning_rate=0.05, eval_metric='F1',class_weights=(1,4)) #  learning_rate=0.05,\n",
    "\n",
    "model.fit(\n",
    "    train_pool,\n",
    "    plot=True,\n",
    "    verbose=100,\n",
    "    metric_period=50\n",
    ")"
   ]
  },
  {
   "cell_type": "code",
   "execution_count": null,
   "id": "d8253e11",
   "metadata": {},
   "outputs": [],
   "source": [
    "# посмотрим рзультат на тстовой выборке\n",
    "y_pred = model.predict(eval_pool)\n",
    "f1 = f1_score(y_test, y_pred)\n",
    "print('F1 Score on Test Set:', f1)"
   ]
  },
  {
   "cell_type": "markdown",
   "id": "ddc0cb27",
   "metadata": {},
   "source": [
    "### Выводы:\n",
    "В рамках решения данной задачи: \n",
    "\n",
    "1. Провели многоэтапную сборку датасета:\n",
    "- Чтобы получить связные треки (разметка 1),мы отбрали каверы с заполненными оригиналами и взяли пары оригинал/кавер  \n",
    "- Чтобы получить несвязные треки (разметка 0), мы отделили часть с оригиналами \n",
    "- Написали функцию, которая составляет случайным образом пары из 'track_id' различных оригиналов. Число комбинаций - изменяемый параметр\n",
    "- Соединили и пермешали пары с разной разметкой\n",
    "- Добавили тексты\n",
    "\n",
    "2. Отделили тестовую выборку с учетом дисбаланса. \n",
    "3. Обучили модель и рассчитали значение на тесте\n",
    "\n",
    "Получили хорошую метрику F1 на тестовой выборке.\n",
    "Таким образом, гипотеза подтвердилась, на основании текстов можно определить связаны ли треки. \n",
    "\n"
   ]
  },
  {
   "cell_type": "markdown",
   "id": "8fdd574b",
   "metadata": {
    "id": "883e311c"
   },
   "source": [
    "## Задача: Поиск связанных треков\n",
    "\n",
    "\n",
    "\n",
    "**Гипотеза:** Для каждого заданного трека (неважно, дан кавер или оригинал) возможно найти все связанные с ним, имеющиеся в базе. (группа - все каверы на одну и ту же песню , включая саму песню)\n",
    "\n",
    "**Польза:** Благодаря такой модели можно, например, найти и показать все каверы на любимый трек пользователя;\n",
    "\n",
    "\n",
    "**Задачи:** \n",
    "- векторизация текста\n",
    "- кластеризации в векторном пространстве \n",
    "\n",
    "**Модели:** \n",
    "- LaBSE (768)\n",
    "- Ближайшие соседи по косинусному расстоянию\n",
    "\n",
    "**Метрики:** \n",
    "\n",
    "- Recall means (\"Усредненная полнота, %\"): отношение \"нашли\"/\"должны были найти\", считается для каждого трека, потом усредняется \n",
    "- Extra_cnt - Количество лишних в шт\n",
    "- Jaccard means - обобщенная метрика, учитывающая предыдущие две \n",
    "- accuracy Recall_100% - считает процент треков, для которых полнота максимальная -100%, т.е. модель нашла ВСЕ связные треки\n",
    "\n",
    "**Пример Recall means:** \n",
    "\n",
    "- 1. Отобрали всех, которые по расстоянию ближе какого-то порога (настраиваемый параметр).\n",
    "- 2. Посчитали, сколько нашли из имеющихся в датасете (размеченных). Если 1 из 1, то считаем модель справилась на 100%. Если нашла 1, а было в базе 2, то считаем что на 50% и т.д. \n",
    "- 3. Так для каждого трека из теста, и потом усредняем\n",
    "\n",
    "**Заметка:** про лишних, мы не знаем, не ошибочные ли они , пока нет разметки. Этот признак можно проверять только на урезанном датасете с разметкой.  Предлагается после отладки модели сделать функцию для автоматической разметки. \n",
    "\n",
    "\n",
    "\n"
   ]
  },
  {
   "cell_type": "markdown",
   "id": "1582a2e5",
   "metadata": {},
   "source": [
    "#### Метрики"
   ]
  },
  {
   "cell_type": "code",
   "execution_count": null,
   "id": "08518f6d",
   "metadata": {},
   "outputs": [],
   "source": [
    "#list1 - множество всех истинных связных треков для заданного\n",
    "#list2 - множество треков, которые модель посчитала связными с заданным\n",
    "\n",
    "def jaccard_similarity(list1, list2):\n",
    "    set1 = set(list1)\n",
    "    set2 = set(list2)\n",
    "    intersection = len(set1.intersection(set2))\n",
    "    union = len(set1) + len(set2) - intersection\n",
    "    similarity = intersection / union\n",
    "    return similarity\n",
    "\n",
    "\n",
    "# extra - лишние в шт\n",
    "\n",
    "def extra_cnt(list1, list2):\n",
    "    set1 = set(list1)\n",
    "    set2 = set(list2)\n",
    "    extra= abs(len(set2)-len(set1.intersection(set2)) )\n",
    "    return extra\n",
    "\n",
    "# recall_set показывает, какую долю связных треков из всех связных треков нашел алгоритм\n",
    "\n",
    "def recall_set(list1, list2):\n",
    "    set1 = set(list1)\n",
    "    set2 = set(list2)\n",
    "    intersection = len(set1.intersection(set2))\n",
    "    similarity = intersection / len(set1)\n",
    "    return similarity\n",
    "\n",
    "# объединим в одну функцию и добавим усреднение\n",
    "\n",
    "def metrics_all(df,name_col_target='original_groups_id' ,name_col_predict='predict_id_gr'):\n",
    "    df=df.copy()\n",
    "    df['Jaccard']= \\\n",
    "        df.apply(lambda row: jaccard_similarity(row[name_col_target], row[name_col_predict]), axis=1)\n",
    "    \n",
    "    df['recall']=df.apply(lambda row: recall_set(row[name_col_target], row[name_col_predict]), axis=1)\n",
    "    df['for_acc']=df['recall'].apply(lambda x: 0 if x<1 else 1)\n",
    "    df['extra_cnt']=df.apply(lambda row: extra_cnt(row[name_col_target], row[name_col_predict]), axis=1)\n",
    "    \n",
    "    print('Recall means,%:', round(df['recall'].mean()*100,2 ) )\n",
    "    print('Jaccard means,%:', round(df['Jaccard'].mean()*100,2 ) )\n",
    "    print('Extra_cnt means:', df['extra_cnt'].mean())\n",
    "    print('Accuracy Recall_100%:',round(df['for_acc'].sum()/len(df) *100,2 )  )\n",
    "    return df"
   ]
  },
  {
   "cell_type": "markdown",
   "id": "51bb27f0",
   "metadata": {},
   "source": [
    "### Поиск на векторизованных текстах"
   ]
  },
  {
   "cell_type": "markdown",
   "id": "f77a4d82",
   "metadata": {},
   "source": [
    "####  vectors (base)\n",
    "\n",
    "Для векторизации текстов возьмем только треки, для которых текст известен. "
   ]
  },
  {
   "cell_type": "code",
   "execution_count": null,
   "id": "dccdaff8",
   "metadata": {},
   "outputs": [],
   "source": [
    "#Датафрейм для векторизации текстов\n",
    "lyrics_max=result_lyrics.rename(columns={'max_text':'text'})\n",
    "final_table = lyrics_max.merge(meta, how='inner', on='track_id') \n",
    "final_table = final_table.merge(covers, how='inner', on='track_id')\n",
    "final_table.info()"
   ]
  },
  {
   "cell_type": "markdown",
   "id": "c4c8407b",
   "metadata": {},
   "source": [
    "####  Векторизация\n",
    "Для векторизации была выбрана предобученная модель LaBSE, потому что:\n",
    "\n",
    "\n",
    "она обучена на выборке текстов на 100+ языков в многозадачном режиме. Основная задача – сближать друг с другом эмбеддинги предложений с одинаковым смыслом на разных языках, что, как раз подходит для нашей задачи. Ведь у нас многоязычная выборка, и к одной песни может существовать множество каверов на разных языках, а нам надо найти и объединить их все "
   ]
  },
  {
   "cell_type": "code",
   "execution_count": null,
   "id": "bc8cab8b",
   "metadata": {},
   "outputs": [],
   "source": [
    "# Функция по очистке текста от переносов и символов, приведение всех букв к нижнему регистру.\n",
    "\n",
    "def clear_text(text):    \n",
    "    text = text.replace('\\t', '\\n').split('\\n')\n",
    "    text = \" \".join(text)\n",
    "    text =\" \".join(re.sub(r'\\W+', ' ', text.lower()).split())      \n",
    "    return text  "
   ]
  },
  {
   "cell_type": "markdown",
   "id": "253c435e",
   "metadata": {},
   "source": [
    "**Важно:** при первом запуске необходимо раскомментировать и выполнить код ниже, для создания векторов и сохранения их в файл. "
   ]
  },
  {
   "cell_type": "markdown",
   "id": "487a42b0",
   "metadata": {},
   "source": [
    "\n",
    "```\n",
    "%%time\n",
    "\n",
    "\n",
    "# Создадим новый столбец 'clear', применим функцию по очистке текста к столбцу 'max_text'.\n",
    "\n",
    "final_table['clear'] = final_table['text'].progress_apply(clear_text)\n",
    "\n",
    "\n",
    "# Загрузим предварительно обученную модель LaBSE и токенизатор\n",
    "model_name = \"sentence-transformers/LaBSE\"\n",
    "tokenizer = AutoTokenizer.from_pretrained(model_name)\n",
    "model = AutoModel.from_pretrained(model_name)\n",
    "\n",
    "# Обрежем длину текста до 512 символов\n",
    "final_table['clear_small'] = final_table['clear'].str[:512]\n",
    "\n",
    "# В переменную загрузим список тестов всех песен\n",
    "list_of_sentenses = final_table['clear_small'].tolist()\n",
    "\n",
    "# Текстовые данные\n",
    "texts = list_of_sentenses\n",
    "\n",
    "# Разделите данные на батчи\n",
    "batch_size = 10  # Размер батча\n",
    "batches = [texts[i:i + batch_size] for i in range(0, len(texts), batch_size)]\n",
    "\n",
    "# Векторизуйте тексты с использованием батчей\n",
    "vectors = []\n",
    "\n",
    "# Батчами\n",
    "for batch in batches:\n",
    "    # Токенизация и вложение текстов\n",
    "    inputs = tokenizer(batch, return_tensors=\"pt\", padding=True, truncation=True)\n",
    "    with torch.no_grad():\n",
    "        embeddings = model(**inputs).last_hidden_state.mean(dim=1)\n",
    "    \n",
    "    # Добавление векторов в список  \n",
    "    vectors.append(embeddings) \n",
    "    \n",
    "    \n",
    "# Объедините векторы из батчей в один массив\n",
    "vectors = torch.cat(vectors, dim=0)\n",
    "\n",
    "# Преобразуйте тензор в массив numpy\n",
    "vectors = vectors.numpy()\n",
    "\n",
    "# Результат: vectors содержит векторы для всех текстов\n",
    "\n",
    "# В таблицу добавим колонку 'vectors', в которую поместим значения сформированного numpy-массива\n",
    "final_table['vectors'] = vectors.tolist ()\n",
    "\n",
    "# Выгрузка датасета на диск\n",
    "final_table.to_csv('vectors.csv', index = False)\n",
    "\n",
    "#CPU times: total: 1h 22min 47s\n",
    "#Wall time: 44min 38s\n",
    "```"
   ]
  },
  {
   "cell_type": "code",
   "execution_count": null,
   "id": "a359a0fc",
   "metadata": {},
   "outputs": [],
   "source": [
    "#Загрузим из файла таблицу с векторизованными текстами\n",
    "vectors= pd.read_csv('vectors_full.csv')      \n",
    "vectors.head(1)"
   ]
  },
  {
   "cell_type": "code",
   "execution_count": null,
   "id": "ca83c40c",
   "metadata": {},
   "outputs": [],
   "source": [
    "#переведем строку в массив чисел\n",
    "def parse_probabilities(string):\n",
    "    return [float(value) for value in string[1 : -1].split(',')]\n",
    "vectors['vectors'] = vectors['vectors'].apply(parse_probabilities)\n",
    "vectors['vectors']"
   ]
  },
  {
   "cell_type": "code",
   "execution_count": null,
   "id": "b591a875",
   "metadata": {},
   "outputs": [],
   "source": [
    "vectors.info()"
   ]
  },
  {
   "cell_type": "markdown",
   "id": "e6fa745f",
   "metadata": {},
   "source": [
    "####  df_test\n",
    "\n",
    "Сформируем и заполним колонку \"original_groups_id\",  в нее мы занесем списки со всеми айди трека в группе для каждого уникального оригинала. \n",
    "\n",
    "Исходим из предположения, что треки с идентичным названием - связаны"
   ]
  },
  {
   "cell_type": "code",
   "execution_count": null,
   "id": "0e1010f7",
   "metadata": {},
   "outputs": [],
   "source": [
    "def rem(list_a, b):\n",
    "    try:        list_a.remove(b)\n",
    "    except:        pass    \n",
    "    return list_a\n",
    "\n",
    "def create_groups_id(vectors):\n",
    "    vectors=vectors.copy()\n",
    "    original_groups=vectors.title.unique()\n",
    "    print('count unique groups:',sum(vectors.title.value_counts()>=2))\n",
    "    \n",
    "    list_original_groups=[]\n",
    "    for i in original_groups:\n",
    "        list_cov=list(vectors.loc[vectors.title==i]['track_id'].values)\n",
    "        if len(list_cov)>=2:\n",
    "            list_original_groups.append([i,list_cov])\n",
    "\n",
    "    # и завернем в дф, чтобы примерджить потом к тестовому датасету:    \n",
    "    df_gr=pd.DataFrame(list_original_groups, columns=['title','original_groups_id'])\n",
    "    df_test=vectors.merge(df_gr, how='inner' , on='title')\n",
    "    \n",
    "    # Удалим сам трек из списка всех айдишников группы, для более удобного расчета метрик \n",
    "    df_test['all_groups_id']=df_test['original_groups_id'].copy()\n",
    "    df_test['original_groups_id']=\\\n",
    "           df_test.apply(lambda row: rem(list(row['original_groups_id']),row['track_id']),axis=1) \n",
    "    \n",
    "    return df_test"
   ]
  },
  {
   "cell_type": "code",
   "execution_count": null,
   "id": "793a8467",
   "metadata": {},
   "outputs": [],
   "source": [
    "df_test=create_groups_id(vectors)\n",
    "df_test.info()"
   ]
  },
  {
   "cell_type": "markdown",
   "id": "bb7bf6b3",
   "metadata": {},
   "source": [
    "#### Функция для поиска связных треков\n",
    "по векторам\n",
    "На вход принимает два обязательных параметра:\n",
    "- **df_test**, содержит вектора треков, для которых надо найти связные треки\n",
    "- **base**, содержит всю базу векторов треков, среди которых есть потенциальные связные к запросу\n",
    "\n",
    "и дополнительные:\n",
    "- **red_line** порог расстояния, меньше которого считаем кандидата - связным\n",
    "- **metric** - метрика для расчета матрицы попарных расстояний, по умолчанию - косинусное расстояние\n",
    "- **n** - максимальное количество, сколько связных треков нам достаточно\n",
    "\n",
    "Функция считает матрицу попарных расстояний и формирует списки связных track_id, с заданными ограничениями.\n",
    "\n",
    "Возвращает **df_test** с двумя новыми колонками:\n",
    "- 'nearest_neighbors_id' -  списки связных track_id\n",
    "- 'nearest_neighbors_distances' -  списки расстояний для связных track_id"
   ]
  },
  {
   "cell_type": "code",
   "execution_count": null,
   "id": "2a6c6915",
   "metadata": {},
   "outputs": [],
   "source": [
    "def search_nearest(df_test,base,red_line=0.1,metric='cosine',n=50):\n",
    "    df_test=df_test.copy()\n",
    "    # столбцы массивы\n",
    "    X_type_0 = np.array(df_test['vectors'].tolist())\n",
    "    X_type_1 = np.array(base['vectors'].tolist())\n",
    "\n",
    "    # матрицa попарных расстояний <-- метрики можно брать разные\n",
    "    distances = pairwise_distances(X_type_0, X_type_1, metric=metric)\n",
    "    \n",
    "    # списки для хранения ближайших соседей и расстояний\n",
    "    nearest_neighbors = []\n",
    "    nearest_neighbors_distances = []\n",
    "\n",
    "    # Для каждой строки в `df_test`, ищем ближайших \n",
    "    for i in range(len(distances)):\n",
    "        \n",
    "        dist_indices = np.where(distances[i]<red_line)\n",
    "        sorted_indices = np.argsort(distances[i])[:n]  # Берем n ближайших соседей\n",
    "        k_nearest_indices =np.intersect1d(sorted_indices,dist_indices)       \n",
    "        \n",
    "        k_nearest_neighbors = base.reset_index().loc[k_nearest_indices, 'track_id'].tolist()\n",
    "        nearest_neighbors.append(k_nearest_neighbors)\n",
    "        nearest_neighbors_distances.append(distances[i, sorted_indices])\n",
    "    \n",
    "    # добавляем столбцы\n",
    "    df_test['nearest_neighbors_id'] = nearest_neighbors\n",
    "    df_test['nearest_neighbors_distances'] = nearest_neighbors_distances\n",
    "   \n",
    "   # Удалим сам трек из списка всех айдишников группы, для более удобного расчета метрик \n",
    "    df_test['nearest_neighbors_id']=\\\n",
    "            df_test.apply(lambda row: rem(list(row['nearest_neighbors_id']),row['track_id']),axis=1) \n",
    "  \n",
    "    return df_test"
   ]
  },
  {
   "cell_type": "markdown",
   "id": "4ad9e3ac",
   "metadata": {},
   "source": [
    "#### Поиск связных треков на тесте"
   ]
  },
  {
   "cell_type": "code",
   "execution_count": null,
   "id": "b041bb3f",
   "metadata": {},
   "outputs": [],
   "source": [
    "%%time\n",
    "df_test_new=search_nearest(df_test,vectors,red_line=0.15,metric='cosine',n=100)"
   ]
  },
  {
   "cell_type": "markdown",
   "id": "8a7e178e",
   "metadata": {},
   "source": [
    "#### Расчет метрик\n"
   ]
  },
  {
   "cell_type": "code",
   "execution_count": null,
   "id": "e570e508",
   "metadata": {
    "scrolled": true
   },
   "outputs": [],
   "source": [
    "df_metrics=metrics_all(df_test_new,name_col_predict='nearest_neighbors_id')\n",
    "df_metrics.head(1)"
   ]
  },
  {
   "cell_type": "markdown",
   "id": "46cc7441",
   "metadata": {},
   "source": [
    "### Поиск по расстоянию Левенштейна\n",
    "\n",
    "Посмотрим, как работает алгоритм расчета расстояния Левенштейна по очищенным текстам, и можно ли его использовать для решения нашей задачи"
   ]
  },
  {
   "cell_type": "code",
   "execution_count": null,
   "id": "3dcdc5e0",
   "metadata": {},
   "outputs": [],
   "source": [
    "def levenshtein_distance(text1, text2):\n",
    "    \"\"\"\n",
    "    Функция для расчета расстояния Левенштейна между двумя текстами\n",
    "    :param text1: первый текст\n",
    "    :param text2: второй текст\n",
    "    :return: расстояние Левенштейна между text1 и text2\n",
    "    \"\"\"\n",
    "    return edit_distance(text1, text2)"
   ]
  },
  {
   "cell_type": "code",
   "execution_count": null,
   "id": "d2e26a09",
   "metadata": {},
   "outputs": [],
   "source": [
    "df_test_small=df_test[:100].copy() #протестируем сначала, на небольшой выборке в 100 строк"
   ]
  },
  {
   "cell_type": "code",
   "execution_count": null,
   "id": "d2e0300b",
   "metadata": {
    "scrolled": true
   },
   "outputs": [],
   "source": [
    "all_text_list=df_test_small.clear.tolist()\n",
    "len(all_text_list)"
   ]
  },
  {
   "cell_type": "code",
   "execution_count": null,
   "id": "ce314e56",
   "metadata": {},
   "outputs": [],
   "source": [
    "all_text_list[10]"
   ]
  },
  {
   "cell_type": "code",
   "execution_count": null,
   "id": "5e7d786e",
   "metadata": {},
   "outputs": [],
   "source": [
    "%%time\n",
    "# расчитаем расстояния Левенштейна\n",
    "\n",
    "df_test_small['levenshtein_distance']=df_test_small[\"clear\"].progress_apply(\n",
    "                                                                        lambda x: levenshtein_distance(x,all_text_list[10]) )"
   ]
  },
  {
   "cell_type": "code",
   "execution_count": null,
   "id": "e3add3eb",
   "metadata": {
    "scrolled": true
   },
   "outputs": [],
   "source": [
    "df_test_small.sort_values('levenshtein_distance').head(15)"
   ]
  },
  {
   "cell_type": "markdown",
   "id": "32193eb2",
   "metadata": {},
   "source": [
    "Мы протестировалаи алгоритм на небольшой выборке, и заметили, что он достаточно хорошо разделяет треки с разными треками. Однако, он работает слишком долго. От одной до 10 минут для одного трека, на базе всего из 100 треков. К тому же, он не сможет верно определить кавер, если он будет на языке, отличном от оригинала. Поэтому решили не тестировать его на всей выборке (на это требуется не менее 40 часов) и остановились на первом алгоритме - поиск по вектороизованным текстам."
   ]
  },
  {
   "cell_type": "markdown",
   "id": "94bb0eda",
   "metadata": {},
   "source": [
    "### Выводы:\n",
    "В рамках решения данной задачи: \n",
    "\n",
    "1. Провели многоэтапную сборку датасета, включающую формирование списков с track_id\t связных групп \n",
    "2. Сделали векторизацию \n",
    "3. Разработали и реализовали расчет метрик\n",
    "3. Нашли все связные треки для каждого из тестовой выборки\n",
    "4. Оценили качество поиска по векторам текстов\n",
    "5. Оценили поиск по расстояниям Левенштейна и отвергли его\n",
    "\n",
    "\n",
    "Изменяя порог, при поиске связных треков с помощью косинусного расстояния, можно регулировать соотношение полноты и кол-ва набора \"лишних треков\", взависимости от целей.\n"
   ]
  },
  {
   "cell_type": "markdown",
   "id": "4c71f3ac",
   "metadata": {},
   "source": [
    "## Задача: Эволюция трека с течением времени.\n",
    "\n",
    "**Польза для потребителя:**  \n",
    "Возможность проследить какие изменения происходили со временем с жанрами и форматом исполнения выбранной композиции.\n",
    "\n",
    "Так как, для некоторых, особо старых песен, существует уже тысячи оригиналов, мы решили, что неправильно будет выдавать пользовтелю их все, достаточно будет несколько треков, по одному за один интервал времени, например 5 лет. Этот параметр мы сделали изменяемым.\n",
    "\n",
    "**Идея:** чтобы полученный набор был более интересным, советуем использовать еще и анализ аудио части  и выдавать каждый новый кавер - наиболее отличающийся от предыдущего, при прочих равных - учитывать популярность треков.\n",
    "\n",
    "**Решение:** \n",
    "Из выявленных похожих треков отсечен оригинал (по наиболее раннему году издания), после чего через установленный период (в годах) составлен список произведений.\n",
    "\n",
    "Для обеих задач написана функция ***original_at_year***, которая принимает на вход список композиций *'all_groups_id'*, включая оригинал, а на выходе создает столбец *'original_id'* с оригинальным треком и столбец *'recomendations'* со списком треков, демонстрирующих эволюцию исходного трека через установленные интервалы времени (в годах) - переменная ***years_interval***."
   ]
  },
  {
   "cell_type": "code",
   "execution_count": null,
   "id": "62ce53a0",
   "metadata": {},
   "outputs": [],
   "source": [
    "# Функция по выявлению оригинальной композиции среди всех похожих по году студийной записи (отбор по самому раннему году),\n",
    "# составление списка рекомендаций по каверам и выбору из них самого раннего кавера,\n",
    "# изданного через соответствующий период времени.\n",
    "\n",
    "years_interval = 2 # интервал в годах\n",
    "final_table=df_test_new.copy()\n",
    "\n",
    "def original_at_year(list_of_tracks):\n",
    "    \n",
    "    year_query=final_table.loc[final_table['track_id'].isin(list_of_tracks)] # датасет с track_id - каверами и оригиналами\n",
    "    original_id = year_query.loc[year_query['year'].idxmin()]['track_id']    # отбор оригинала (по самому раннему году)\n",
    "    start_year = year_query['year'].min()\n",
    "    end_year = year_query['year'].max()\n",
    "    interval = years_interval                                                # интервал по подбору рекомендаций из каверов\n",
    "\n",
    "    # Создаем  промежуточный список значений лет\n",
    "    intermediate_years = list(range(start_year + 1, end_year + interval, interval)) # Отсекаем год выпуска оригинала\n",
    "    \n",
    "    # Промежуточный датасет, в котором остаются только первые значения в году.\n",
    "    recomendations_query =\\\n",
    "        year_query.loc[year_query['year'].isin(intermediate_years)].drop_duplicates(subset=['year'], keep='first')\n",
    "    \n",
    "    # Создаем список рекомендованных каверов ('track_id')\n",
    "    recomendations = recomendations_query.sort_values('year')['track_id'].tolist()\n",
    "\n",
    "    if len(recomendations) > 0:\n",
    "        return pd.Series([original_id, recomendations], index=['original_id', 'recomendations'])\n",
    "    else:\n",
    "        recomendations = 'Задайте интервал поменьше'\n",
    "        return pd.Series([original_id, recomendations], index=['original_id', 'recomendations'])  \n",
    "    \n",
    "final_table[['original_id', 'recomendations']] = final_table['all_groups_id'].progress_apply(original_at_year)     "
   ]
  },
  {
   "cell_type": "code",
   "execution_count": null,
   "id": "fdb755cf",
   "metadata": {
    "scrolled": false
   },
   "outputs": [],
   "source": [
    "final_table[['title','original_id', 'recomendations']].sample(5)"
   ]
  },
  {
   "cell_type": "markdown",
   "id": "728dce4f",
   "metadata": {},
   "source": [
    "**Выводы:** для каждого оригинала мы нашли каверы и проранжировали их по дате, выдали по одному за каждые два года, там где это было возможно"
   ]
  },
  {
   "cell_type": "markdown",
   "id": "fea5d34a",
   "metadata": {},
   "source": [
    "## Задача: Поиск оригинала из всей базы\n",
    " \n",
    "\n",
    "**Польза для слушателя:**   \n",
    "Иногда каверы кажутся более \"оригинальными\", чем сам оригинал. Наша модель позволит пользователям сервиса сориентироваться и выяснить, какая композиция действительно является оригиналом.\n",
    "\n",
    "\n",
    "**Решение:**  \n",
    "Мы объединили несколько алгоритмов, разработанных ранее в многоэтапную систему поиска оригинала:\n",
    "- отбор всех связных треков\n",
    "- отбор трека с наименьшим значением года из найденных (если таких треков несколько, то. след пункт)\n",
    "- расчет значений предикт_пробы с помощью классификатора (оригинал/кавер) из первой задачи \n",
    "- выбор оригинала по наименьшему значению предикт_пробы (у нас оригинал размечен 0)\n",
    "\n",
    "**Примечание:** данный алгоритм использует выход предыдущего, а именно заполненный список кандидатов на оригинал - всех связных треков. Разметка кавер/оригинал -не требуется"
   ]
  },
  {
   "cell_type": "code",
   "execution_count": null,
   "id": "c5b335d7",
   "metadata": {
    "scrolled": true
   },
   "outputs": [],
   "source": [
    "# Функция по выявлению оригинальной композиции\n",
    "best_model = cat_no_text.best_estimator_\n",
    "X_train_columns=best_model.feature_names_\n",
    "\n",
    "table=text_cat_df.copy()\n",
    "\n",
    "def original_find(list_of_tracks):\n",
    "    \n",
    "    year_query=table.loc[table['track_id'].isin(list_of_tracks)] # датасет с track_id потенциальной группы\n",
    "    \n",
    "    year_min=int(year_query.loc[year_query['year'].idxmin()][['year']].values)\n",
    "    year_min_table=year_query.loc[year_query['year']==year_min]   # все треки за самый ранний год\n",
    "    if len(year_min_table)==1:\n",
    "        \n",
    "        return year_min_table['track_id'].values\n",
    "    else:\n",
    "        year_min_table['predict_proba']=best_model.predict_proba(year_min_table[X_train_columns])[:,1]\n",
    "        \n",
    "        original=year_min_table.sort_values('predict_proba').head(1)\n",
    "        return original['track_id'].values\n",
    "\n",
    "\n",
    "final_table['original_id'] = final_table['all_groups_id'].progress_apply(original_find)"
   ]
  },
  {
   "cell_type": "code",
   "execution_count": null,
   "id": "e39338ca",
   "metadata": {},
   "outputs": [],
   "source": [
    "final_table[['title','track_id','original_id']].sample(5)"
   ]
  },
  {
   "cell_type": "markdown",
   "id": "3c8d24f7",
   "metadata": {},
   "source": [
    "Выводы: мы сделали трехэтапную систему для поиска оригинала к каверу. Система работает хорошо, но, при условиях - если в базе есть оригинал, и даты проставлены корректно. "
   ]
  },
  {
   "cell_type": "markdown",
   "id": "973572af",
   "metadata": {},
   "source": [
    "## Задача: Доразметка связей каверов с оригиналом\n",
    "Используем датасет covers, с признаком кавер/оригинал\n",
    "\n",
    "**Польза:** \n",
    "- Благодаря такой модели можно, например, найти исходник к каверу и узнать, кто же автор понравившейся композиции или в каком году она была выпущена и т.д.\n",
    "- Доразметка имеющихся данных, связей кавера с оригиналом (колонка 'original_track_id')\n",
    "\n",
    "**Решение:** \n",
    "Используя предыдущую модель, для поиска кандидатов связных треков, мы разработали функцию, которая ищет один самый близкий трек  из базы оригиналов, и если расстояние между запросом и найденным треком меньше порога, то проставляет найденный оригинал в колонку original_track_id.\n",
    "\n",
    "**Примечание:**\n",
    "Для данного алгоритма используется база, с размеченной колонкой кавер/оригинал. Этот алгоритм отличается от предыдущего своей скоростью, т.к. ищет оригинал не из всех имеющихся данных, а только из базы оригиналов. Но, его нельзя использовать, пока нет достоверной разметки кавер/оригинал. Выбор метода зависит от качества и кол-ва имеющихся данных.\n",
    "\n",
    "На вход в функция принимает датасет covers и датасет с векторизованными текстами.\n",
    "Выход: df covers с дозаполненной колонкой original_track_id"
   ]
  },
  {
   "cell_type": "code",
   "execution_count": null,
   "id": "7bc0276d",
   "metadata": {},
   "outputs": [],
   "source": [
    "def find_original(covers,vectors,red_line=0.15,metric='cosine'):\n",
    "    df=covers.copy()\n",
    "    df=df.merge(vectors[['vectors','track_id']], how='inner' , on='track_id') \n",
    "    \n",
    "    type_0_data = df[(df['original_track_id'].isna()) & (df['track_remake_type'] == 'COVER')].copy()\n",
    "    type_1_data = df[df['track_remake_type'] == 'ORIGINAL'].copy()\n",
    "\n",
    "    X_type_0 = np.array(type_0_data['vectors'].tolist())\n",
    "    X_type_1 = np.array(type_1_data['vectors'].tolist())\n",
    "    \n",
    "    # Вычисляем матрицу \n",
    "    distances = pairwise_distances(X_type_0, X_type_1, metric='cosine')\n",
    "\n",
    "    nearest_neighbor_ids = []\n",
    "    nearest_neighbor_distances = []\n",
    "\n",
    "    for i in range(len(distances)):\n",
    "        nearest_neighbor_index = np.argmin(distances[i])\n",
    "        nearest_neighbor_id = type_1_data.iloc[nearest_neighbor_index]['track_id']\n",
    "        nearest_neighbor_distance = distances[i][nearest_neighbor_index]\n",
    "        nearest_neighbor_ids.append(nearest_neighbor_id)\n",
    "        nearest_neighbor_distances.append(nearest_neighbor_distance)\n",
    "\n",
    "    # Создаем новые столбцы в `type_0_data` с информацией о ближайшем соседе типа 1\n",
    "    type_0_data['nearest_neighbor_id'] = nearest_neighbor_ids\n",
    "    type_0_data['nearest_neighbor_distance'] = nearest_neighbor_distances\n",
    "\n",
    "    # Объединяем type_0_data с исходным DataFrame df по столбцу 'track_id'\n",
    "    df = df.merge(type_0_data[['track_id', 'nearest_neighbor_id', 'nearest_neighbor_distance']], on='track_id', how='left')\n",
    "    \n",
    "    print('порог:',red_line )\n",
    "    print('Кол-во треков, для кот-х нашли оригинал:',\\\n",
    "          len(df.loc[(df['nearest_neighbor_distance'] < red_line) & df['original_track_id'].isna()]))\n",
    "    \n",
    "    df.loc[(df['nearest_neighbor_distance'] < red_line) & df['original_track_id'].isna(), 'original_track_id']\\\n",
    "                                                                                          = df['nearest_neighbor_id']\n",
    "    \n",
    "    \n",
    "    return df"
   ]
  },
  {
   "cell_type": "code",
   "execution_count": null,
   "id": "b22ad832",
   "metadata": {},
   "outputs": [],
   "source": [
    "df_covers_new=find_original(covers,vectors)\n",
    "df_covers_new.shape"
   ]
  },
  {
   "cell_type": "code",
   "execution_count": null,
   "id": "97dd37b9",
   "metadata": {},
   "outputs": [],
   "source": [
    "df_covers_new.head(2)"
   ]
  },
  {
   "cell_type": "markdown",
   "id": "e67f075d",
   "metadata": {},
   "source": [
    "**Вывод:** При пороге 0,15 для 1864 каверов смогли найти оригинал в нашей базе"
   ]
  },
  {
   "cell_type": "markdown",
   "id": "a1c6903c",
   "metadata": {
    "id": "783e3061"
   },
   "source": [
    "## Итоговый вывод:\n",
    "В рамках данного хакатона, были выполнены все поставленные организаторами задачи, а также предложено и протестировано несколько дополнительных гипотез.\n",
    " \n",
    "\n",
    "Для этого:\n",
    "\n",
    "была выполнена **предобработка:**\n",
    "- Заполнение 35 тысяч пропусков в колонке language\n",
    "- Выбор наиболее информативного из дубликатов в колонке lyricId.text\n",
    "- сгенерировали 115 дополнительных признаков из колонки 'genre'\n",
    "- сгенерировали новый признак 'year'\n",
    "- сгенерировали новый признак 'наличие синонима слова кавер в наименовании трека'\n",
    "- изучили и удалили единичные выбросы, дубликаты, пропуски\n",
    "\n",
    "были разработаны **алгоритмы для задач:**\n",
    "- Классификация оригинал/кавер\n",
    "- Определение \"связности\" треков\n",
    "- Поиск всех связанных треков\n",
    "- Эволюция трека с течением времени\n",
    "- Поиск оригинала из всей базы\n",
    "- Доразметка связей каверов с оригиналом\n",
    "\n",
    "\n",
    "При сопоставлении каверов и оригиналов по их текстам, мы заметили, что наша модель находит не все треки, а около 70-90%, в зависимсти от настроек порога. Что довольно хорошо, но мы решили подробно изучить группы треков с самой плохой метрикой. Мы выявили несколько причин:\n",
    "\n",
    "**1. Междометья/неполный текст кавера** \n",
    "\n",
    "в некоторых каверах совсем немного текста пересекаетя с оригиналом, например, это может быть только припев или даже одна строка. А остальное это просто междометья,\n",
    "\n",
    "**пример кавера:**\n",
    "\n",
    "'ooh ooh ooh ooh ooh ooh ooh ooh ooh ooh ooh ooh ooh ooh ooh ooh ooh ooh ooh ooh ooh hearts gone astray leaving hurts when they go you went away just when i needed you so finding your way you come back wanting me i m gonna stay loving you endessly open up your eyes then you ll realize here i stand with my everlasting love need you by my side'. \n",
    "\n",
    "\n",
    "**предлагаемое решение:**\n",
    "\n",
    "Сделать суммаризацию текстов, убрать лишние повторяющиеся междометья (или заменить одним) и учитывать дополнительным признаком расстояния между векторизованными предварительно суммаризованными текстами.\n",
    "\n",
    "Подумать, над определениями, т.е. если в кавере используется только припев, то верно ли называть его кавер, или все же это ошибка разметки и такие треки должны быть с пометкой семпл?\n",
    "\n",
    "\n",
    "**2. Ошибки разметки:** \n",
    "\n",
    "К некоторым трекам в базе есть несколько текстов, часть из них дублируется, но также попадаются совсем ошибочные тексты от других песен. Кроме того, в текстах попадаются длинные строки формата **//Источник: сайт .....  //\".....\\\\\\...** \n",
    "\n",
    "Мы предполагаем, что причиной этому плохие источики для парсинга и ошибки последующей обработки этих данных.\n",
    "\n",
    "\n",
    "**предлагаемое решение:** для заполнения текстов песен использовать не парсинг с различных сайтов, а предобученные модели по распознаванию речи.\n",
    "\n",
    "Также, существуют каверы, где популярный текст накладывается на музыку другой очень известной песни,  и неясно, какую разметку в данном случае считать правильной - оригинал текста или музыки. Возможно, к таким трекам нужен новый термин, вместо \"кавер\" и в оригинале указывать не один трек ,  а список\n",
    "\n"
   ]
  },
  {
   "cell_type": "code",
   "execution_count": null,
   "id": "fe5badae",
   "metadata": {},
   "outputs": [],
   "source": []
  },
  {
   "cell_type": "code",
   "execution_count": null,
   "id": "ae086f4c",
   "metadata": {},
   "outputs": [],
   "source": []
  },
  {
   "cell_type": "code",
   "execution_count": null,
   "id": "5d9f0c77",
   "metadata": {},
   "outputs": [],
   "source": []
  }
 ],
 "metadata": {
  "accelerator": "GPU",
  "colab": {
   "gpuType": "T4",
   "provenance": []
  },
  "kernelspec": {
   "display_name": "Python 3 (ipykernel)",
   "language": "python",
   "name": "python3"
  },
  "language_info": {
   "codemirror_mode": {
    "name": "ipython",
    "version": 3
   },
   "file_extension": ".py",
   "mimetype": "text/x-python",
   "name": "python",
   "nbconvert_exporter": "python",
   "pygments_lexer": "ipython3",
   "version": "3.9.18"
  },
  "toc": {
   "base_numbering": 1,
   "nav_menu": {},
   "number_sections": true,
   "sideBar": true,
   "skip_h1_title": true,
   "title_cell": "Table of Contents",
   "title_sidebar": "Contents",
   "toc_cell": true,
   "toc_position": {
    "height": "calc(100% - 180px)",
    "left": "10px",
    "top": "150px",
    "width": "574.516px"
   },
   "toc_section_display": true,
   "toc_window_display": true
  }
 },
 "nbformat": 4,
 "nbformat_minor": 5
}
