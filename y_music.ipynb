{
 "cells": [
  {
   "cell_type": "markdown",
   "id": "2df6361d",
   "metadata": {
    "id": "2df6361d",
    "toc": true
   },
   "source": [
    "<h1>Table of Contents<span class=\"tocSkip\"></span></h1>\n",
    "<div class=\"toc\"><ul class=\"toc-item\"><li><span><a href=\"#EDA\" data-toc-modified-id=\"EDA-1\"><span class=\"toc-item-num\">1&nbsp;&nbsp;</span>EDA</a></span><ul class=\"toc-item\"><li><span><a href=\"#downloads\" data-toc-modified-id=\"downloads-1.1\"><span class=\"toc-item-num\">1.1&nbsp;&nbsp;</span>downloads</a></span></li><li><span><a href=\"#imports\" data-toc-modified-id=\"imports-1.2\"><span class=\"toc-item-num\">1.2&nbsp;&nbsp;</span>imports</a></span></li><li><span><a href=\"#load_date\" data-toc-modified-id=\"load_date-1.3\"><span class=\"toc-item-num\">1.3&nbsp;&nbsp;</span>load_date</a></span></li><li><span><a href=\"#Lyrics\" data-toc-modified-id=\"Lyrics-1.4\"><span class=\"toc-item-num\">1.4&nbsp;&nbsp;</span>Lyrics</a></span></li><li><span><a href=\"#Covers\" data-toc-modified-id=\"Covers-1.5\"><span class=\"toc-item-num\">1.5&nbsp;&nbsp;</span>Covers</a></span></li><li><span><a href=\"#Meta\" data-toc-modified-id=\"Meta-1.6\"><span class=\"toc-item-num\">1.6&nbsp;&nbsp;</span>Meta</a></span><ul class=\"toc-item\"><li><span><a href=\"#meta.track_id\" data-toc-modified-id=\"meta.track_id-1.6.1\"><span class=\"toc-item-num\">1.6.1&nbsp;&nbsp;</span>meta.track_id</a></span></li><li><span><a href=\"#meta.isrc\" data-toc-modified-id=\"meta.isrc-1.6.2\"><span class=\"toc-item-num\">1.6.2&nbsp;&nbsp;</span>meta.isrc</a></span></li><li><span><a href=\"#meta.title\" data-toc-modified-id=\"meta.title-1.6.3\"><span class=\"toc-item-num\">1.6.3&nbsp;&nbsp;</span>meta.title</a></span></li><li><span><a href=\"#meta.duration\" data-toc-modified-id=\"meta.duration-1.6.4\"><span class=\"toc-item-num\">1.6.4&nbsp;&nbsp;</span>meta.duration</a></span></li><li><span><a href=\"#meta.genres\" data-toc-modified-id=\"meta.genres-1.6.5\"><span class=\"toc-item-num\">1.6.5&nbsp;&nbsp;</span>meta.genres</a></span></li><li><span><a href=\"#meta.language\" data-toc-modified-id=\"meta.language-1.6.6\"><span class=\"toc-item-num\">1.6.6&nbsp;&nbsp;</span>meta.language</a></span></li><li><span><a href=\"#Зависимость-признака-кавер-или-оригинал-от-длины-текста\" data-toc-modified-id=\"Зависимость-признака-кавер-или-оригинал-от-длины-текста-1.6.7\"><span class=\"toc-item-num\">1.6.7&nbsp;&nbsp;</span>Зависимость признака кавер или оригинал от длины текста</a></span></li></ul></li><li><span><a href=\"#Выводы:\" data-toc-modified-id=\"Выводы:-1.7\"><span class=\"toc-item-num\">1.7&nbsp;&nbsp;</span>Выводы:</a></span></li></ul></li><li><span><a href=\"#Предоработка-данных\" data-toc-modified-id=\"Предоработка-данных-2\"><span class=\"toc-item-num\">2&nbsp;&nbsp;</span>Предоработка данных</a></span><ul class=\"toc-item\"><li><span><a href=\"#Заполним-пропуски-в-колонке-'language'\" data-toc-modified-id=\"Заполним-пропуски-в-колонке-'language'-2.1\"><span class=\"toc-item-num\">2.1&nbsp;&nbsp;</span>Заполним пропуски в колонке 'language'</a></span></li><li><span><a href=\"#Удалим-дубликаты-текстов-для-lyrics.track_id\" data-toc-modified-id=\"Удалим-дубликаты-текстов-для-lyrics.track_id-2.2\"><span class=\"toc-item-num\">2.2&nbsp;&nbsp;</span>Удалим дубликаты текстов для lyrics.track_id</a></span></li><li><span><a href=\"#Выводы:\" data-toc-modified-id=\"Выводы:-2.3\"><span class=\"toc-item-num\">2.3&nbsp;&nbsp;</span>Выводы:</a></span></li></ul></li><li><span><a href=\"#Фича-инжиниринг:-сгенерировать-дополнительные-признаки\" data-toc-modified-id=\"Фича-инжиниринг:-сгенерировать-дополнительные-признаки-3\"><span class=\"toc-item-num\">3&nbsp;&nbsp;</span>Фича-инжиниринг: сгенерировать дополнительные признаки</a></span><ul class=\"toc-item\"><li><span><a href=\"#Признак-&quot;кавер&quot;-в-наименовании-трека\" data-toc-modified-id=\"Признак-&quot;кавер&quot;-в-наименовании-трека-3.1\"><span class=\"toc-item-num\">3.1&nbsp;&nbsp;</span>Признак \"кавер\" в наименовании трека</a></span></li><li><span><a href=\"#Создани-фичей-для--модли--CatBoost\" data-toc-modified-id=\"Создани-фичей-для--модли--CatBoost-3.2\"><span class=\"toc-item-num\">3.2&nbsp;&nbsp;</span>Создани фичей для  модли  CatBoost</a></span></li></ul></li><li><span><a href=\"#Задача:-Классификация-оригинал/кавер\" data-toc-modified-id=\"Задача:-Классификация-оригинал/кавер-4\"><span class=\"toc-item-num\">4&nbsp;&nbsp;</span>Задача: Классификация оригинал/кавер</a></span><ul class=\"toc-item\"><li><span><a href=\"#Обучение-на--данных,-с-признаком-&quot;текст-песни&quot;\" data-toc-modified-id=\"Обучение-на--данных,-с-признаком-&quot;текст-песни&quot;-4.1\"><span class=\"toc-item-num\">4.1&nbsp;&nbsp;</span>Обучение на  данных, с признаком \"текст песни\"</a></span><ul class=\"toc-item\"><li><span><a href=\"#feature_importances\" data-toc-modified-id=\"feature_importances-4.1.1\"><span class=\"toc-item-num\">4.1.1&nbsp;&nbsp;</span>feature_importances</a></span></li></ul></li><li><span><a href=\"#Обучение-на-всех-данных,-без-признака-&quot;текст-песни&quot;\" data-toc-modified-id=\"Обучение-на-всех-данных,-без-признака-&quot;текст-песни&quot;-4.2\"><span class=\"toc-item-num\">4.2&nbsp;&nbsp;</span>Обучение на всех данных, без признака \"текст песни\"</a></span><ul class=\"toc-item\"><li><span><a href=\"#feature_importances\" data-toc-modified-id=\"feature_importances-4.2.1\"><span class=\"toc-item-num\">4.2.1&nbsp;&nbsp;</span>feature_importances</a></span></li></ul></li><li><span><a href=\"#Выводы:\" data-toc-modified-id=\"Выводы:-4.3\"><span class=\"toc-item-num\">4.3&nbsp;&nbsp;</span>Выводы:</a></span></li></ul></li><li><span><a href=\"#Задача:-Определение-&quot;связности&quot;-треков\" data-toc-modified-id=\"Задача:-Определение-&quot;связности&quot;-треков-5\"><span class=\"toc-item-num\">5&nbsp;&nbsp;</span>Задача: Определение \"связности\" треков</a></span><ul class=\"toc-item\"><li><span><a href=\"#Сборка-датасета-с-разметкой\" data-toc-modified-id=\"Сборка-датасета-с-разметкой-5.1\"><span class=\"toc-item-num\">5.1&nbsp;&nbsp;</span>Сборка датасета с разметкой</a></span><ul class=\"toc-item\"><li><span><a href=\"#Positive\" data-toc-modified-id=\"Positive-5.1.1\"><span class=\"toc-item-num\">5.1.1&nbsp;&nbsp;</span>Positive</a></span></li><li><span><a href=\"#Negative\" data-toc-modified-id=\"Negative-5.1.2\"><span class=\"toc-item-num\">5.1.2&nbsp;&nbsp;</span>Negative</a></span></li><li><span><a href=\"#Concat\" data-toc-modified-id=\"Concat-5.1.3\"><span class=\"toc-item-num\">5.1.3&nbsp;&nbsp;</span>Concat</a></span></li></ul></li><li><span><a href=\"#Модель\" data-toc-modified-id=\"Модель-5.2\"><span class=\"toc-item-num\">5.2&nbsp;&nbsp;</span>Модель</a></span></li><li><span><a href=\"#Выводы:\" data-toc-modified-id=\"Выводы:-5.3\"><span class=\"toc-item-num\">5.3&nbsp;&nbsp;</span>Выводы:</a></span></li></ul></li><li><span><a href=\"#Задача:-Поиск-связанных-треков\" data-toc-modified-id=\"Задача:-Поиск-связанных-треков-6\"><span class=\"toc-item-num\">6&nbsp;&nbsp;</span>Задача: Поиск связанных треков</a></span><ul class=\"toc-item\"><li><ul class=\"toc-item\"><li><span><a href=\"#Метрики\" data-toc-modified-id=\"Метрики-6.0.1\"><span class=\"toc-item-num\">6.0.1&nbsp;&nbsp;</span>Метрики</a></span></li></ul></li><li><span><a href=\"#Сборка-датасета\" data-toc-modified-id=\"Сборка-датасета-6.1\"><span class=\"toc-item-num\">6.1&nbsp;&nbsp;</span>Сборка датасета</a></span><ul class=\"toc-item\"><li><span><a href=\"#base\" data-toc-modified-id=\"base-6.1.1\"><span class=\"toc-item-num\">6.1.1&nbsp;&nbsp;</span>base</a></span></li><li><span><a href=\"#Векторизация\" data-toc-modified-id=\"Векторизация-6.1.2\"><span class=\"toc-item-num\">6.1.2&nbsp;&nbsp;</span>Векторизация</a></span></li><li><span><a href=\"#test\" data-toc-modified-id=\"test-6.1.3\"><span class=\"toc-item-num\">6.1.3&nbsp;&nbsp;</span>test</a></span></li><li><span><a href=\"#Функция-для-поиска-связных-треков\" data-toc-modified-id=\"Функция-для-поиска-связных-треков-6.1.4\"><span class=\"toc-item-num\">6.1.4&nbsp;&nbsp;</span>Функция для поиска связных треков</a></span></li><li><span><a href=\"#Поиск-связных-треков-на-тесте\" data-toc-modified-id=\"Поиск-связных-треков-на-тесте-6.1.5\"><span class=\"toc-item-num\">6.1.5&nbsp;&nbsp;</span>Поиск связных треков на тесте</a></span></li><li><span><a href=\"#Расчет-метрик\" data-toc-modified-id=\"Расчет-метрик-6.1.6\"><span class=\"toc-item-num\">6.1.6&nbsp;&nbsp;</span>Расчет метрик</a></span></li></ul></li><li><span><a href=\"#Выводы:\" data-toc-modified-id=\"Выводы:-6.2\"><span class=\"toc-item-num\">6.2&nbsp;&nbsp;</span>Выводы:</a></span></li></ul></li><li><span><a href=\"#Нахождение-оригинала\" data-toc-modified-id=\"Нахождение-оригинала-7\"><span class=\"toc-item-num\">7&nbsp;&nbsp;</span>Нахождение оригинала</a></span></li><li><span><a href=\"#ДОРАЗАМЕТКА:\" data-toc-modified-id=\"ДОРАЗАМЕТКА:-8\"><span class=\"toc-item-num\">8&nbsp;&nbsp;</span>ДОРАЗАМЕТКА:</a></span></li><li><span><a href=\"#Итоговый-вывод:\" data-toc-modified-id=\"Итоговый-вывод:-9\"><span class=\"toc-item-num\">9&nbsp;&nbsp;</span>Итоговый вывод:</a></span></li></ul></div>"
   ]
  },
  {
   "cell_type": "markdown",
   "id": "5f98fc24",
   "metadata": {
    "id": "5f98fc24"
   },
   "source": [
    "# ЯндексМузыка.Поиск каверов\n",
    "\n",
    "Обнаружение треков каверов - важная продуктовая задача, которая может значительно улучшить качество рекомендаций музыкального сервиса и повысить счастье наших пользователей. Если мы умеем с высокой точностью классифицировать каверы и связывать их между собой, то можно предложить пользователю новые возможности для управления потоком треков. Например:\n",
    "\n",
    "- по желанию пользователя можем полностью исключить каверы из рекомендаций;\n",
    "- показать все каверы на любимый трек пользователя;\n",
    "- контролировать долю каверов в ленте пользователя."
   ]
  },
  {
   "cell_type": "markdown",
   "id": "fa90ee9a",
   "metadata": {
    "id": "fa90ee9a"
   },
   "source": [
    "**Цель проекта:**\n",
    "\n",
    "Улучшение качества рекомендаций музыкального сервиса путем точного определения и\n",
    "классификации каверов.\n",
    "\n",
    "**Задача:**\n",
    "\n",
    "Разработка ML-модели для сопоставления текстов музыкальных произведений и для поиска каверов (вариации обработки оригинала с элементами новой аранжировки) по их текстам"
   ]
  },
  {
   "cell_type": "markdown",
   "id": "bc4accc3",
   "metadata": {
    "id": "bc4accc3"
   },
   "source": [
    "**Гипотеза 1:**\n",
    "\n",
    "По названию трека можно определить оригинал или НЕ ОРИГИНАЛ с точностью не менее 70%.\n",
    "\n",
    "**Постановка задачи:**\n",
    "Построить модели бинарной классификации, которая будет определять, является ли трек кавером или оригиналом на основании наименования и других имеющихся признаков.\n",
    "\n",
    "**Метрика:**\n",
    "\n",
    "**Предлагаемое решение:**\n",
    "\n",
    "Добавить бинарный признак \"содержит синоним слова \"кавер\" \" и используя регулярки заполнить, например если есть что-то из (см. ниже), то ставим единицу, в противном случае -0:\n",
    "\n",
    "- cover version/cover,\n",
    "- интерпретация, обработка, перепевка,\n",
    "- Interpretation\n",
    "- Version\n",
    "- Remake\n",
    "- Re-Recording\n",
    "- Revisitation\n",
    "- Remix\n",
    "- Updated Version и т.д.\n",
    "\n",
    "Само поле с названием тоже оставить как признак.\n",
    "Использовать катбуст"
   ]
  },
  {
   "cell_type": "markdown",
   "id": "3366c72b",
   "metadata": {
    "id": "3366c72b"
   },
   "source": [
    "**Гипотеза 2а:**\n",
    "\n",
    "По тексту песни и другим имеющимся признакам можно определить (для пары: оригинал и кавер), является оригинал исходной песней для кавера - или нет. Бинарная классификация  \n",
    "\n",
    "**Гипотеза 2б:**\n",
    "\n",
    "Для каждого заданного трека (неважно, дан кавер или оригинал) найти все близкие к нему из имеющейся базы. По тексту песни.\n",
    "\n",
    "Понятие \"Близкие\" еще надо расписать , по какому критерию. Например, схожесть по Левенштейну (или евклидовому расстоянию)>0.9\n"
   ]
  },
  {
   "cell_type": "markdown",
   "id": "0cc7845b",
   "metadata": {
    "id": "0cc7845b"
   },
   "source": [
    "## EDA"
   ]
  },
  {
   "cell_type": "markdown",
   "id": "161191ab",
   "metadata": {
    "id": "161191ab"
   },
   "source": [
    "### downloads"
   ]
  },
  {
   "cell_type": "code",
   "execution_count": 214,
   "id": "5f572a13",
   "metadata": {
    "colab": {
     "base_uri": "https://localhost:8080/"
    },
    "id": "5f572a13",
    "outputId": "2fc41f31-3f1d-425a-f98d-455ee3c27be7"
   },
   "outputs": [],
   "source": [
    "#!pip install -q langdetect\n",
    "#!pip install catboost -q\n",
    "#conda install scikit-learn=1.3.0"
   ]
  },
  {
   "cell_type": "markdown",
   "id": "c308f46d",
   "metadata": {
    "id": "c308f46d"
   },
   "source": [
    "### imports"
   ]
  },
  {
   "cell_type": "code",
   "execution_count": 215,
   "id": "b9a76421",
   "metadata": {
    "id": "b9a76421"
   },
   "outputs": [
    {
     "ename": "ModuleNotFoundError",
     "evalue": "No module named 'faiss'",
     "output_type": "error",
     "traceback": [
      "\u001b[1;31m---------------------------------------------------------------------------\u001b[0m",
      "\u001b[1;31mModuleNotFoundError\u001b[0m                       Traceback (most recent call last)",
      "Cell \u001b[1;32mIn[215], line 4\u001b[0m\n\u001b[0;32m      2\u001b[0m \u001b[38;5;28;01mimport\u001b[39;00m \u001b[38;5;21;01mnumpy\u001b[39;00m \u001b[38;5;28;01mas\u001b[39;00m \u001b[38;5;21;01mnp\u001b[39;00m\n\u001b[0;32m      3\u001b[0m \u001b[38;5;28;01mimport\u001b[39;00m \u001b[38;5;21;01mtime\u001b[39;00m\n\u001b[1;32m----> 4\u001b[0m \u001b[38;5;28;01mimport\u001b[39;00m \u001b[38;5;21;01mfaiss\u001b[39;00m\n\u001b[0;32m      5\u001b[0m \u001b[38;5;28;01mfrom\u001b[39;00m \u001b[38;5;21;01mlangdetect\u001b[39;00m \u001b[38;5;28;01mimport\u001b[39;00m detect\n\u001b[0;32m      6\u001b[0m \u001b[38;5;28;01mimport\u001b[39;00m \u001b[38;5;21;01mrandom\u001b[39;00m\n",
      "\u001b[1;31mModuleNotFoundError\u001b[0m: No module named 'faiss'"
     ]
    }
   ],
   "source": [
    "import pandas as pd\n",
    "import numpy as np\n",
    "import time\n",
    "import faiss\n",
    "from langdetect import detect\n",
    "import random\n",
    "from matplotlib import pyplot as plt\n",
    "\n",
    "from catboost import CatBoostClassifier,Pool\n",
    "\n",
    "from sklearn.metrics import f1_score, roc_curve, roc_auc_score\n",
    "from sklearn.model_selection import train_test_split, StratifiedGroupKFold, RandomizedSearchCV\n",
    "\n",
    "from sklearn.metrics import pairwise_distances\n",
    "\n",
    "from scipy.spatial.distance import cosine, euclidean\n",
    "\n",
    "import joblib\n",
    "import re\n",
    "\n",
    "from tqdm.notebook import tqdm\n",
    "tqdm.pandas()\n",
    "# Избавляемся от вывода предупреждений\n",
    "#warnings.simplefilter(\"ignore\")\n",
    "\n",
    "\n",
    "from transformers import AutoTokenizer, AutoModel\n",
    "import torch\n",
    "\n",
    "# Код, чтобы не кушало все ресурсы ПК\n",
    "torch.set_num_threads(2)\n",
    "\n",
    "\n",
    "# Отображение всех колонок\n",
    "pd.set_option('display.max_columns', None)\n",
    "\n",
    "\n",
    "RS = 4132"
   ]
  },
  {
   "cell_type": "markdown",
   "id": "5126ccf9",
   "metadata": {
    "id": "5126ccf9"
   },
   "source": [
    "### load_date"
   ]
  },
  {
   "cell_type": "code",
   "execution_count": 216,
   "id": "3a499208",
   "metadata": {
    "id": "3a499208",
    "scrolled": true
   },
   "outputs": [],
   "source": [
    "covers = pd.read_json('data/covers.json', lines = True)\n",
    "meta = pd.read_json('data/meta.json', lines = True, convert_dates=['dttm'])\n",
    "lyrics = pd.read_json('data/lyrics.json', lines = True)"
   ]
  },
  {
   "cell_type": "markdown",
   "id": "84d57008",
   "metadata": {
    "id": "84d57008"
   },
   "source": [
    "### Lyrics\n",
    "Рассмотрим подробнее датасет \"Текст песен\"\n",
    "- track_id - уникальный идентификатор трека;\n",
    "\n",
    "- lyricId - уникальный идентификатор текста;\n",
    "\n",
    "- text - текст трека."
   ]
  },
  {
   "cell_type": "code",
   "execution_count": 184,
   "id": "6e3c75a2",
   "metadata": {
    "colab": {
     "base_uri": "https://localhost:8080/",
     "height": 430
    },
    "id": "6e3c75a2",
    "outputId": "52c514bc-e197-4e85-bfcb-5e529b3badc6",
    "scrolled": false
   },
   "outputs": [
    {
     "name": "stdout",
     "output_type": "stream",
     "text": [
      "<class 'pandas.core.frame.DataFrame'>\n",
      "RangeIndex: 11414 entries, 0 to 11413\n",
      "Data columns (total 3 columns):\n",
      " #   Column    Non-Null Count  Dtype \n",
      "---  ------    --------------  ----- \n",
      " 0   lyricId   11414 non-null  object\n",
      " 1   text      11414 non-null  object\n",
      " 2   track_id  11414 non-null  object\n",
      "dtypes: object(3)\n",
      "memory usage: 267.6+ KB\n"
     ]
    },
    {
     "data": {
      "text/html": [
       "<div>\n",
       "<style scoped>\n",
       "    .dataframe tbody tr th:only-of-type {\n",
       "        vertical-align: middle;\n",
       "    }\n",
       "\n",
       "    .dataframe tbody tr th {\n",
       "        vertical-align: top;\n",
       "    }\n",
       "\n",
       "    .dataframe thead th {\n",
       "        text-align: right;\n",
       "    }\n",
       "</style>\n",
       "<table border=\"1\" class=\"dataframe\">\n",
       "  <thead>\n",
       "    <tr style=\"text-align: right;\">\n",
       "      <th></th>\n",
       "      <th>lyricId</th>\n",
       "      <th>text</th>\n",
       "      <th>track_id</th>\n",
       "    </tr>\n",
       "  </thead>\n",
       "  <tbody>\n",
       "    <tr>\n",
       "      <th>0</th>\n",
       "      <td>a951f9504e89759e9d23039b7b17ec14</td>\n",
       "      <td>Живу сейчас обломами, обломками не той любви\\n...</td>\n",
       "      <td>1c4b1230f937e4c548ff732523214dcd</td>\n",
       "    </tr>\n",
       "    <tr>\n",
       "      <th>1</th>\n",
       "      <td>0c749bc3f01eb8e6cf986fa14ccfc585</td>\n",
       "      <td>Tell me your fable\\nA fable\\nTell me your fabl...</td>\n",
       "      <td>0faea89b0d7d6235b5b74def72511bd8</td>\n",
       "    </tr>\n",
       "    <tr>\n",
       "      <th>2</th>\n",
       "      <td>e2c8830fbc86e5964478243099eec23a</td>\n",
       "      <td>You're ashamed about all your fears and doubts...</td>\n",
       "      <td>9c6dc41d5ccd9968d07f055da5d8f741</td>\n",
       "    </tr>\n",
       "  </tbody>\n",
       "</table>\n",
       "</div>"
      ],
      "text/plain": [
       "                            lyricId  \\\n",
       "0  a951f9504e89759e9d23039b7b17ec14   \n",
       "1  0c749bc3f01eb8e6cf986fa14ccfc585   \n",
       "2  e2c8830fbc86e5964478243099eec23a   \n",
       "\n",
       "                                                text  \\\n",
       "0  Живу сейчас обломами, обломками не той любви\\n...   \n",
       "1  Tell me your fable\\nA fable\\nTell me your fabl...   \n",
       "2  You're ashamed about all your fears and doubts...   \n",
       "\n",
       "                           track_id  \n",
       "0  1c4b1230f937e4c548ff732523214dcd  \n",
       "1  0faea89b0d7d6235b5b74def72511bd8  \n",
       "2  9c6dc41d5ccd9968d07f055da5d8f741  "
      ]
     },
     "execution_count": 184,
     "metadata": {},
     "output_type": "execute_result"
    }
   ],
   "source": [
    "lyrics.info()\n",
    "lyrics.head(3)"
   ]
  },
  {
   "cell_type": "code",
   "execution_count": 185,
   "id": "bd4663b3",
   "metadata": {
    "colab": {
     "base_uri": "https://localhost:8080/"
    },
    "id": "bd4663b3",
    "outputId": "0b310a66-3bc1-46ce-8d93-d587cab1f522"
   },
   "outputs": [
    {
     "data": {
      "text/plain": [
       "(0, 1137)"
      ]
     },
     "execution_count": 185,
     "metadata": {},
     "output_type": "execute_result"
    }
   ],
   "source": [
    "# Пропуски и дубликаты в track_id\n",
    "lyrics['track_id'].isna().sum(), lyrics['track_id'].duplicated().sum()"
   ]
  },
  {
   "cell_type": "code",
   "execution_count": 186,
   "id": "f10ea7ef",
   "metadata": {
    "colab": {
     "base_uri": "https://localhost:8080/",
     "height": 840
    },
    "id": "f10ea7ef",
    "outputId": "1b9d13d1-8c72-467c-d40c-9dad76cec710"
   },
   "outputs": [
    {
     "data": {
      "text/html": [
       "<div>\n",
       "<style scoped>\n",
       "    .dataframe tbody tr th:only-of-type {\n",
       "        vertical-align: middle;\n",
       "    }\n",
       "\n",
       "    .dataframe tbody tr th {\n",
       "        vertical-align: top;\n",
       "    }\n",
       "\n",
       "    .dataframe thead th {\n",
       "        text-align: right;\n",
       "    }\n",
       "</style>\n",
       "<table border=\"1\" class=\"dataframe\">\n",
       "  <thead>\n",
       "    <tr style=\"text-align: right;\">\n",
       "      <th></th>\n",
       "      <th>lyricId</th>\n",
       "      <th>text</th>\n",
       "      <th>track_id</th>\n",
       "    </tr>\n",
       "  </thead>\n",
       "  <tbody>\n",
       "    <tr>\n",
       "      <th>3305</th>\n",
       "      <td>23fc4e63cb643861138fc62c83c77e99</td>\n",
       "      <td>\"Show me show me show me how you do that trick...</td>\n",
       "      <td>701dc20b28f07b952812d182278a5e55</td>\n",
       "    </tr>\n",
       "    <tr>\n",
       "      <th>3304</th>\n",
       "      <td>23fc4e63cb643861138fc62c83c77e99</td>\n",
       "      <td>\"Show me show me show me how you do that trick...</td>\n",
       "      <td>b6f3fcfc0ca3c5ac84cdb55f916d6b25</td>\n",
       "    </tr>\n",
       "    <tr>\n",
       "      <th>4852</th>\n",
       "      <td>53c10cb6921925856eeefdfa84eb6806</td>\n",
       "      <td>\"Ничто\" на дне, помоги достать мне, и я помогу...</td>\n",
       "      <td>98b6810d5545436a156c7df7f3a861be</td>\n",
       "    </tr>\n",
       "    <tr>\n",
       "      <th>4851</th>\n",
       "      <td>53c10cb6921925856eeefdfa84eb6806</td>\n",
       "      <td>\"Ничто\" на дне, помоги достать мне, и я помогу...</td>\n",
       "      <td>ca85692f15021f3e58ccf518d7ba3c97</td>\n",
       "    </tr>\n",
       "    <tr>\n",
       "      <th>4850</th>\n",
       "      <td>53c10cb6921925856eeefdfa84eb6806</td>\n",
       "      <td>\"Ничто\" на дне, помоги достать мне, и я помогу...</td>\n",
       "      <td>7eaba8513b9401fc1d3d01107ee6a3c6</td>\n",
       "    </tr>\n",
       "    <tr>\n",
       "      <th>...</th>\n",
       "      <td>...</td>\n",
       "      <td>...</td>\n",
       "      <td>...</td>\n",
       "    </tr>\n",
       "    <tr>\n",
       "      <th>4260</th>\n",
       "      <td>2bcd1f2f81ca13348de05d563998af00</td>\n",
       "      <td>Ярость глубинная оживает,\\nСталью сияя, рвётся...</td>\n",
       "      <td>814e2dc18df877e6ccefd95428565973</td>\n",
       "    </tr>\n",
       "    <tr>\n",
       "      <th>2882</th>\n",
       "      <td>93060f74359a18c4d775f39424e3d7d8</td>\n",
       "      <td>รู้ ขอแค่เวลาอีกหน่อย\\nที่จะทำให้ความวุ่นวาย\\n...</td>\n",
       "      <td>2777f6f213a535155f10ccb46014f0e3</td>\n",
       "    </tr>\n",
       "    <tr>\n",
       "      <th>2883</th>\n",
       "      <td>93060f74359a18c4d775f39424e3d7d8</td>\n",
       "      <td>รู้ ขอแค่เวลาอีกหน่อย\\nที่จะทำให้ความวุ่นวาย\\n...</td>\n",
       "      <td>c9010a9e75b9ec48dcf952ef8e268ea9</td>\n",
       "    </tr>\n",
       "    <tr>\n",
       "      <th>9477</th>\n",
       "      <td>5171df14636ba3b6620dc2dd9d6984d0</td>\n",
       "      <td>故事的小黄花\\n从出生那年就飘着\\n童年的荡秋千\\n随记忆一直晃到现在\\nRui sou s...</td>\n",
       "      <td>ef745b6be5ec40b4ae697fc0c7630c73</td>\n",
       "    </tr>\n",
       "    <tr>\n",
       "      <th>9476</th>\n",
       "      <td>5171df14636ba3b6620dc2dd9d6984d0</td>\n",
       "      <td>故事的小黄花\\n从出生那年就飘着\\n童年的荡秋千\\n随记忆一直晃到现在\\nRui sou s...</td>\n",
       "      <td>1fdaca39f72a007ea652d86c35e70c8d</td>\n",
       "    </tr>\n",
       "  </tbody>\n",
       "</table>\n",
       "<p>873 rows × 3 columns</p>\n",
       "</div>"
      ],
      "text/plain": [
       "                               lyricId  \\\n",
       "3305  23fc4e63cb643861138fc62c83c77e99   \n",
       "3304  23fc4e63cb643861138fc62c83c77e99   \n",
       "4852  53c10cb6921925856eeefdfa84eb6806   \n",
       "4851  53c10cb6921925856eeefdfa84eb6806   \n",
       "4850  53c10cb6921925856eeefdfa84eb6806   \n",
       "...                                ...   \n",
       "4260  2bcd1f2f81ca13348de05d563998af00   \n",
       "2882  93060f74359a18c4d775f39424e3d7d8   \n",
       "2883  93060f74359a18c4d775f39424e3d7d8   \n",
       "9477  5171df14636ba3b6620dc2dd9d6984d0   \n",
       "9476  5171df14636ba3b6620dc2dd9d6984d0   \n",
       "\n",
       "                                                   text  \\\n",
       "3305  \"Show me show me show me how you do that trick...   \n",
       "3304  \"Show me show me show me how you do that trick...   \n",
       "4852  \"Ничто\" на дне, помоги достать мне, и я помогу...   \n",
       "4851  \"Ничто\" на дне, помоги достать мне, и я помогу...   \n",
       "4850  \"Ничто\" на дне, помоги достать мне, и я помогу...   \n",
       "...                                                 ...   \n",
       "4260  Ярость глубинная оживает,\\nСталью сияя, рвётся...   \n",
       "2882  รู้ ขอแค่เวลาอีกหน่อย\\nที่จะทำให้ความวุ่นวาย\\n...   \n",
       "2883  รู้ ขอแค่เวลาอีกหน่อย\\nที่จะทำให้ความวุ่นวาย\\n...   \n",
       "9477  故事的小黄花\\n从出生那年就飘着\\n童年的荡秋千\\n随记忆一直晃到现在\\nRui sou s...   \n",
       "9476  故事的小黄花\\n从出生那年就飘着\\n童年的荡秋千\\n随记忆一直晃到现在\\nRui sou s...   \n",
       "\n",
       "                              track_id  \n",
       "3305  701dc20b28f07b952812d182278a5e55  \n",
       "3304  b6f3fcfc0ca3c5ac84cdb55f916d6b25  \n",
       "4852  98b6810d5545436a156c7df7f3a861be  \n",
       "4851  ca85692f15021f3e58ccf518d7ba3c97  \n",
       "4850  7eaba8513b9401fc1d3d01107ee6a3c6  \n",
       "...                                ...  \n",
       "4260  814e2dc18df877e6ccefd95428565973  \n",
       "2882  2777f6f213a535155f10ccb46014f0e3  \n",
       "2883  c9010a9e75b9ec48dcf952ef8e268ea9  \n",
       "9477  ef745b6be5ec40b4ae697fc0c7630c73  \n",
       "9476  1fdaca39f72a007ea652d86c35e70c8d  \n",
       "\n",
       "[873 rows x 3 columns]"
      ]
     },
     "execution_count": 186,
     "metadata": {},
     "output_type": "execute_result"
    }
   ],
   "source": [
    "# не дублированы только track_id\n",
    "lyrics[lyrics['text'].duplicated(keep=False) & lyrics['lyricId'].duplicated(keep=False)].sort_values(by='text')"
   ]
  },
  {
   "cell_type": "code",
   "execution_count": 187,
   "id": "e0560a45",
   "metadata": {
    "colab": {
     "base_uri": "https://localhost:8080/",
     "height": 909
    },
    "id": "e0560a45",
    "outputId": "3c1aedd6-f16f-4774-ecc8-b9f06becb4e3"
   },
   "outputs": [
    {
     "data": {
      "text/html": [
       "<div>\n",
       "<style scoped>\n",
       "    .dataframe tbody tr th:only-of-type {\n",
       "        vertical-align: middle;\n",
       "    }\n",
       "\n",
       "    .dataframe tbody tr th {\n",
       "        vertical-align: top;\n",
       "    }\n",
       "\n",
       "    .dataframe thead th {\n",
       "        text-align: right;\n",
       "    }\n",
       "</style>\n",
       "<table border=\"1\" class=\"dataframe\">\n",
       "  <thead>\n",
       "    <tr style=\"text-align: right;\">\n",
       "      <th></th>\n",
       "      <th>lyricId</th>\n",
       "      <th>text</th>\n",
       "      <th>track_id</th>\n",
       "    </tr>\n",
       "  </thead>\n",
       "  <tbody>\n",
       "    <tr>\n",
       "      <th>10681</th>\n",
       "      <td>039236cf5355b4a81a7d5e689dbbf00a</td>\n",
       "      <td>Hearts go astray\\nLeaving hurt when they go\\nI...</td>\n",
       "      <td>0021519c8533f1116591948bbb349aef</td>\n",
       "    </tr>\n",
       "    <tr>\n",
       "      <th>10686</th>\n",
       "      <td>0abe3bb343894590423064dee2d2a114</td>\n",
       "      <td>Hearts go astray\\nLeaving hurt when they go\\nI...</td>\n",
       "      <td>0021519c8533f1116591948bbb349aef</td>\n",
       "    </tr>\n",
       "    <tr>\n",
       "      <th>10676</th>\n",
       "      <td>745f700051961898c65ffdafd9793584</td>\n",
       "      <td>Hearts go astray\\nLeaving hurt when they go\\nI...</td>\n",
       "      <td>0021519c8533f1116591948bbb349aef</td>\n",
       "    </tr>\n",
       "    <tr>\n",
       "      <th>4796</th>\n",
       "      <td>9ee5ee7522b5b6d045a2d276a040d00c</td>\n",
       "      <td>If I stay with you, if I'm choosing wrong\\nI d...</td>\n",
       "      <td>0102189356af15ad0be804eddd9bc24a</td>\n",
       "    </tr>\n",
       "    <tr>\n",
       "      <th>11306</th>\n",
       "      <td>1682f991cfa94d1440bef2aa417edec7</td>\n",
       "      <td>If I stay with you, if I'm choosing wrong\\nI d...</td>\n",
       "      <td>0102189356af15ad0be804eddd9bc24a</td>\n",
       "    </tr>\n",
       "    <tr>\n",
       "      <th>...</th>\n",
       "      <td>...</td>\n",
       "      <td>...</td>\n",
       "      <td>...</td>\n",
       "    </tr>\n",
       "    <tr>\n",
       "      <th>11229</th>\n",
       "      <td>b2bd7e1c3e5b8987b0a7df143a2c3c0f</td>\n",
       "      <td>I cover the waterfront,\\nI'm watching the sea,...</td>\n",
       "      <td>ff54e3bcd7ef7aeb41c91f9abeac9c68</td>\n",
       "    </tr>\n",
       "    <tr>\n",
       "      <th>11228</th>\n",
       "      <td>ed694fc7bdf247b249020ef155514173</td>\n",
       "      <td>I cover the waterfront,\\nI'm watching the sea,...</td>\n",
       "      <td>ff54e3bcd7ef7aeb41c91f9abeac9c68</td>\n",
       "    </tr>\n",
       "    <tr>\n",
       "      <th>8895</th>\n",
       "      <td>c8af153ec09b0a087e79a0f77f7310bd</td>\n",
       "      <td>Don't go tonight\\nStay here one more time\\nRem...</td>\n",
       "      <td>ff77df3ccccd54654ea4b2209dd6e38c</td>\n",
       "    </tr>\n",
       "    <tr>\n",
       "      <th>8881</th>\n",
       "      <td>d9107cc98fb6dc91853ea69ac98f1d58</td>\n",
       "      <td>Don't go tonight\\nStay here one more time\\nRem...</td>\n",
       "      <td>ff77df3ccccd54654ea4b2209dd6e38c</td>\n",
       "    </tr>\n",
       "    <tr>\n",
       "      <th>8053</th>\n",
       "      <td>6a50f88b4e071c780fa48e059fa9e60b</td>\n",
       "      <td>Don't go tonight\\nStay here one more time\\nRem...</td>\n",
       "      <td>ff77df3ccccd54654ea4b2209dd6e38c</td>\n",
       "    </tr>\n",
       "  </tbody>\n",
       "</table>\n",
       "<p>1774 rows × 3 columns</p>\n",
       "</div>"
      ],
      "text/plain": [
       "                                lyricId  \\\n",
       "10681  039236cf5355b4a81a7d5e689dbbf00a   \n",
       "10686  0abe3bb343894590423064dee2d2a114   \n",
       "10676  745f700051961898c65ffdafd9793584   \n",
       "4796   9ee5ee7522b5b6d045a2d276a040d00c   \n",
       "11306  1682f991cfa94d1440bef2aa417edec7   \n",
       "...                                 ...   \n",
       "11229  b2bd7e1c3e5b8987b0a7df143a2c3c0f   \n",
       "11228  ed694fc7bdf247b249020ef155514173   \n",
       "8895   c8af153ec09b0a087e79a0f77f7310bd   \n",
       "8881   d9107cc98fb6dc91853ea69ac98f1d58   \n",
       "8053   6a50f88b4e071c780fa48e059fa9e60b   \n",
       "\n",
       "                                                    text  \\\n",
       "10681  Hearts go astray\\nLeaving hurt when they go\\nI...   \n",
       "10686  Hearts go astray\\nLeaving hurt when they go\\nI...   \n",
       "10676  Hearts go astray\\nLeaving hurt when they go\\nI...   \n",
       "4796   If I stay with you, if I'm choosing wrong\\nI d...   \n",
       "11306  If I stay with you, if I'm choosing wrong\\nI d...   \n",
       "...                                                  ...   \n",
       "11229  I cover the waterfront,\\nI'm watching the sea,...   \n",
       "11228  I cover the waterfront,\\nI'm watching the sea,...   \n",
       "8895   Don't go tonight\\nStay here one more time\\nRem...   \n",
       "8881   Don't go tonight\\nStay here one more time\\nRem...   \n",
       "8053   Don't go tonight\\nStay here one more time\\nRem...   \n",
       "\n",
       "                               track_id  \n",
       "10681  0021519c8533f1116591948bbb349aef  \n",
       "10686  0021519c8533f1116591948bbb349aef  \n",
       "10676  0021519c8533f1116591948bbb349aef  \n",
       "4796   0102189356af15ad0be804eddd9bc24a  \n",
       "11306  0102189356af15ad0be804eddd9bc24a  \n",
       "...                                 ...  \n",
       "11229  ff54e3bcd7ef7aeb41c91f9abeac9c68  \n",
       "11228  ff54e3bcd7ef7aeb41c91f9abeac9c68  \n",
       "8895   ff77df3ccccd54654ea4b2209dd6e38c  \n",
       "8881   ff77df3ccccd54654ea4b2209dd6e38c  \n",
       "8053   ff77df3ccccd54654ea4b2209dd6e38c  \n",
       "\n",
       "[1774 rows x 3 columns]"
      ]
     },
     "execution_count": 187,
     "metadata": {},
     "output_type": "execute_result"
    }
   ],
   "source": [
    "# Дубли по track_id\n",
    "# при одтнаковых track_id текст разный\n",
    "lyrics[lyrics['track_id'].duplicated(keep=False)].sort_values(by='track_id')"
   ]
  },
  {
   "cell_type": "markdown",
   "id": "51016fa4",
   "metadata": {
    "id": "51016fa4"
   },
   "source": [
    "Заметили, что есть дубликаты текста при этом разные track_id. Пока решили, что это может быть загружена одна песня несколько раз и поэтому, пока не стали удалять, позже выберем те track_id, для которых есть разметка."
   ]
  },
  {
   "cell_type": "markdown",
   "id": "8609e7f3",
   "metadata": {
    "id": "8609e7f3"
   },
   "source": [
    "### Covers\n",
    "Файл covers.json содержит разметку каверов, сделанную редакторами сервиса:\n",
    "- track_id - уникальный идентификатор трека;\n",
    "- track_remake_type - метка, присвоенная редакторами. Может принимать значения ORIGINAL и COVER;\n",
    "- original_track_id - уникальный идентификатор исходного трека."
   ]
  },
  {
   "cell_type": "markdown",
   "id": "d6094087",
   "metadata": {
    "id": "d6094087"
   },
   "source": [
    "Посмотрим долю каверов в датасете"
   ]
  },
  {
   "cell_type": "code",
   "execution_count": 188,
   "id": "a3355a7c",
   "metadata": {
    "colab": {
     "base_uri": "https://localhost:8080/",
     "height": 479
    },
    "id": "a3355a7c",
    "outputId": "78c914c6-1243-4c72-9c7e-b8be008a611d",
    "scrolled": true
   },
   "outputs": [
    {
     "name": "stdout",
     "output_type": "stream",
     "text": [
      "track_remake_type\n",
      "COVER       67304\n",
      "ORIGINAL     4293\n",
      "Name: count, dtype: int64\n"
     ]
    },
    {
     "data": {
      "image/png": "[encoded data removed]",
      "text/plain": [
       "<Figure size 500x600 with 1 Axes>"
      ]
     },
     "metadata": {},
     "output_type": "display_data"
    }
   ],
   "source": [
    "print(covers.track_remake_type.value_counts())\n",
    "covers.track_remake_type.value_counts().plot(kind='pie', figsize=(5,6), label='type');"
   ]
  },
  {
   "cell_type": "markdown",
   "id": "8a6a445c",
   "metadata": {
    "id": "8a6a445c"
   },
   "source": [
    "Проверим, сколько из всех каверов имеют заполненное поле с оригинальным треком:"
   ]
  },
  {
   "cell_type": "code",
   "execution_count": 189,
   "id": "119fa3b2",
   "metadata": {
    "colab": {
     "base_uri": "https://localhost:8080/",
     "height": 443
    },
    "id": "119fa3b2",
    "outputId": "b6b9b293-e28e-49aa-8824-429f43fa7a78",
    "scrolled": true
   },
   "outputs": [
    {
     "data": {
      "text/html": [
       "<div>\n",
       "<style scoped>\n",
       "    .dataframe tbody tr th:only-of-type {\n",
       "        vertical-align: middle;\n",
       "    }\n",
       "\n",
       "    .dataframe tbody tr th {\n",
       "        vertical-align: top;\n",
       "    }\n",
       "\n",
       "    .dataframe thead th {\n",
       "        text-align: right;\n",
       "    }\n",
       "</style>\n",
       "<table border=\"1\" class=\"dataframe\">\n",
       "  <thead>\n",
       "    <tr style=\"text-align: right;\">\n",
       "      <th></th>\n",
       "      <th>original_track_id</th>\n",
       "      <th>track_id</th>\n",
       "      <th>track_remake_type</th>\n",
       "    </tr>\n",
       "  </thead>\n",
       "  <tbody>\n",
       "    <tr>\n",
       "      <th>33</th>\n",
       "      <td>b9213d37c37deffe8b8af0dac5d0c3c4</td>\n",
       "      <td>58a293c4c86b4c0000b0e683c77432a8</td>\n",
       "      <td>COVER</td>\n",
       "    </tr>\n",
       "    <tr>\n",
       "      <th>40</th>\n",
       "      <td>deb9b9598176a0bab1212d430b10bd04</td>\n",
       "      <td>bfa9c5c62c08a0db763e2a2284e3d1b2</td>\n",
       "      <td>COVER</td>\n",
       "    </tr>\n",
       "    <tr>\n",
       "      <th>51</th>\n",
       "      <td>b9213d37c37deffe8b8af0dac5d0c3c4</td>\n",
       "      <td>79eb48bb4409051aab1602e390c98736</td>\n",
       "      <td>COVER</td>\n",
       "    </tr>\n",
       "    <tr>\n",
       "      <th>60</th>\n",
       "      <td>b9213d37c37deffe8b8af0dac5d0c3c4</td>\n",
       "      <td>a106cea5c02ed8a70b421831cc4e7192</td>\n",
       "      <td>COVER</td>\n",
       "    </tr>\n",
       "    <tr>\n",
       "      <th>67</th>\n",
       "      <td>b9213d37c37deffe8b8af0dac5d0c3c4</td>\n",
       "      <td>7c9052caed90949c46c171951cd9dc3d</td>\n",
       "      <td>COVER</td>\n",
       "    </tr>\n",
       "    <tr>\n",
       "      <th>...</th>\n",
       "      <td>...</td>\n",
       "      <td>...</td>\n",
       "      <td>...</td>\n",
       "    </tr>\n",
       "    <tr>\n",
       "      <th>70720</th>\n",
       "      <td>25b8e40b7fa4df88af70590ee44bb820</td>\n",
       "      <td>af95d0aa50dc1934de870c7cc0adafc7</td>\n",
       "      <td>COVER</td>\n",
       "    </tr>\n",
       "    <tr>\n",
       "      <th>70721</th>\n",
       "      <td>8eb966d9b7b88b0816b70f7d47a963df</td>\n",
       "      <td>0a89e59f9216b80f5619b4faa8e3753a</td>\n",
       "      <td>COVER</td>\n",
       "    </tr>\n",
       "    <tr>\n",
       "      <th>70932</th>\n",
       "      <td>efb09c8e01086753d9ed9119a88d8748</td>\n",
       "      <td>ddcaf83d03b764f17bf3adb35fd93dcf</td>\n",
       "      <td>COVER</td>\n",
       "    </tr>\n",
       "    <tr>\n",
       "      <th>71003</th>\n",
       "      <td>a6bea0f1418b5e768b689604e11d111d</td>\n",
       "      <td>4db9bfa70567a07578ad151df3b7f36c</td>\n",
       "      <td>COVER</td>\n",
       "    </tr>\n",
       "    <tr>\n",
       "      <th>71323</th>\n",
       "      <td>96437a3517f1f408381363bc8d539718</td>\n",
       "      <td>16cd4a1aabf7870afda93320dbd4698c</td>\n",
       "      <td>COVER</td>\n",
       "    </tr>\n",
       "  </tbody>\n",
       "</table>\n",
       "<p>528 rows × 3 columns</p>\n",
       "</div>"
      ],
      "text/plain": [
       "                      original_track_id                          track_id  \\\n",
       "33     b9213d37c37deffe8b8af0dac5d0c3c4  58a293c4c86b4c0000b0e683c77432a8   \n",
       "40     deb9b9598176a0bab1212d430b10bd04  bfa9c5c62c08a0db763e2a2284e3d1b2   \n",
       "51     b9213d37c37deffe8b8af0dac5d0c3c4  79eb48bb4409051aab1602e390c98736   \n",
       "60     b9213d37c37deffe8b8af0dac5d0c3c4  a106cea5c02ed8a70b421831cc4e7192   \n",
       "67     b9213d37c37deffe8b8af0dac5d0c3c4  7c9052caed90949c46c171951cd9dc3d   \n",
       "...                                 ...                               ...   \n",
       "70720  25b8e40b7fa4df88af70590ee44bb820  af95d0aa50dc1934de870c7cc0adafc7   \n",
       "70721  8eb966d9b7b88b0816b70f7d47a963df  0a89e59f9216b80f5619b4faa8e3753a   \n",
       "70932  efb09c8e01086753d9ed9119a88d8748  ddcaf83d03b764f17bf3adb35fd93dcf   \n",
       "71003  a6bea0f1418b5e768b689604e11d111d  4db9bfa70567a07578ad151df3b7f36c   \n",
       "71323  96437a3517f1f408381363bc8d539718  16cd4a1aabf7870afda93320dbd4698c   \n",
       "\n",
       "      track_remake_type  \n",
       "33                COVER  \n",
       "40                COVER  \n",
       "51                COVER  \n",
       "60                COVER  \n",
       "67                COVER  \n",
       "...                 ...  \n",
       "70720             COVER  \n",
       "70721             COVER  \n",
       "70932             COVER  \n",
       "71003             COVER  \n",
       "71323             COVER  \n",
       "\n",
       "[528 rows x 3 columns]"
      ]
     },
     "execution_count": 189,
     "metadata": {},
     "output_type": "execute_result"
    }
   ],
   "source": [
    "covers.loc[(covers.track_remake_type=='COVER') & (covers.original_track_id.isnull()==False)]"
   ]
  },
  {
   "cell_type": "markdown",
   "id": "29215edc",
   "metadata": {
    "id": "29215edc"
   },
   "source": [
    "Выводы:\n",
    "Всего дано 67304 каверов, из низ с известным (размеченным) оригиналом - только 528"
   ]
  },
  {
   "cell_type": "markdown",
   "id": "2fc7a849",
   "metadata": {
    "id": "2fc7a849"
   },
   "source": [
    "### Meta\n",
    "Рассмотрим подробнее датасет - Метаинформация:\n",
    "- track_id - уникальный идентификатор трека;\n",
    "- dttm - первая дата появления информации о треке;\n",
    "- title - название трека;\n",
    "- language - язык исполнения;\n",
    "- isrc - международный уникальный идентификатор трека;\n",
    "- genres - жанры;\n",
    "- duration - длительность трека;"
   ]
  },
  {
   "cell_type": "code",
   "execution_count": 190,
   "id": "e1e835b5",
   "metadata": {
    "colab": {
     "base_uri": "https://localhost:8080/",
     "height": 267
    },
    "id": "e1e835b5",
    "outputId": "93d677d3-bdb8-44c5-f4a0-a7e10333e810"
   },
   "outputs": [
    {
     "data": {
      "text/html": [
       "<div>\n",
       "<style scoped>\n",
       "    .dataframe tbody tr th:only-of-type {\n",
       "        vertical-align: middle;\n",
       "    }\n",
       "\n",
       "    .dataframe tbody tr th {\n",
       "        vertical-align: top;\n",
       "    }\n",
       "\n",
       "    .dataframe thead th {\n",
       "        text-align: right;\n",
       "    }\n",
       "</style>\n",
       "<table border=\"1\" class=\"dataframe\">\n",
       "  <thead>\n",
       "    <tr style=\"text-align: right;\">\n",
       "      <th></th>\n",
       "      <th>track_id</th>\n",
       "      <th>dttm</th>\n",
       "      <th>title</th>\n",
       "      <th>language</th>\n",
       "      <th>isrc</th>\n",
       "      <th>genres</th>\n",
       "      <th>duration</th>\n",
       "    </tr>\n",
       "  </thead>\n",
       "  <tbody>\n",
       "    <tr>\n",
       "      <th>0</th>\n",
       "      <td>c3b9d6a354ca008aa4518329aaa21380</td>\n",
       "      <td>2021-12-16 21:00:00</td>\n",
       "      <td>Happy New Year</td>\n",
       "      <td>EN</td>\n",
       "      <td>RUB422103970</td>\n",
       "      <td>[DANCE]</td>\n",
       "      <td>161120.0</td>\n",
       "    </tr>\n",
       "    <tr>\n",
       "      <th>1</th>\n",
       "      <td>c57e3d13bbbf5322584a7e92e6f1f7ff</td>\n",
       "      <td>2021-11-24 14:00:33</td>\n",
       "      <td>Bad Habits</td>\n",
       "      <td>EN</td>\n",
       "      <td>QZN882178276</td>\n",
       "      <td>[ELECTRONICS]</td>\n",
       "      <td>362260.0</td>\n",
       "    </tr>\n",
       "    <tr>\n",
       "      <th>2</th>\n",
       "      <td>955f2aafe8717908c140bf122ba4172d</td>\n",
       "      <td>2021-11-24 15:37:03</td>\n",
       "      <td>Por Esa Loca Vanidad</td>\n",
       "      <td>None</td>\n",
       "      <td>QZNJZ2122549</td>\n",
       "      <td>[FOLK, LATINFOLK]</td>\n",
       "      <td>260000.0</td>\n",
       "    </tr>\n",
       "  </tbody>\n",
       "</table>\n",
       "</div>"
      ],
      "text/plain": [
       "                           track_id                dttm                 title  \\\n",
       "0  c3b9d6a354ca008aa4518329aaa21380 2021-12-16 21:00:00        Happy New Year   \n",
       "1  c57e3d13bbbf5322584a7e92e6f1f7ff 2021-11-24 14:00:33            Bad Habits   \n",
       "2  955f2aafe8717908c140bf122ba4172d 2021-11-24 15:37:03  Por Esa Loca Vanidad   \n",
       "\n",
       "  language          isrc             genres  duration  \n",
       "0       EN  RUB422103970            [DANCE]  161120.0  \n",
       "1       EN  QZN882178276      [ELECTRONICS]  362260.0  \n",
       "2     None  QZNJZ2122549  [FOLK, LATINFOLK]  260000.0  "
      ]
     },
     "execution_count": 190,
     "metadata": {},
     "output_type": "execute_result"
    }
   ],
   "source": [
    "meta.head(3)"
   ]
  },
  {
   "cell_type": "code",
   "execution_count": 191,
   "id": "59968e30",
   "metadata": {
    "colab": {
     "base_uri": "https://localhost:8080/"
    },
    "id": "59968e30",
    "outputId": "6b58851d-b546-4846-e384-11ba0a692d4c",
    "scrolled": true
   },
   "outputs": [
    {
     "name": "stdout",
     "output_type": "stream",
     "text": [
      "<class 'pandas.core.frame.DataFrame'>\n",
      "RangeIndex: 71769 entries, 0 to 71768\n",
      "Data columns (total 7 columns):\n",
      " #   Column    Non-Null Count  Dtype         \n",
      "---  ------    --------------  -----         \n",
      " 0   track_id  71768 non-null  object        \n",
      " 1   dttm      71768 non-null  datetime64[ns]\n",
      " 2   title     71768 non-null  object        \n",
      " 3   language  21969 non-null  object        \n",
      " 4   isrc      71455 non-null  object        \n",
      " 5   genres    71768 non-null  object        \n",
      " 6   duration  71768 non-null  float64       \n",
      "dtypes: datetime64[ns](1), float64(1), object(5)\n",
      "memory usage: 3.8+ MB\n"
     ]
    }
   ],
   "source": [
    "meta.info()"
   ]
  },
  {
   "cell_type": "markdown",
   "id": "2cbd141d",
   "metadata": {
    "id": "2cbd141d"
   },
   "source": [
    "Есть большое кол-во пропусков в колонке language и немного в isrc."
   ]
  },
  {
   "cell_type": "markdown",
   "id": "11e8e43c",
   "metadata": {
    "id": "11e8e43c"
   },
   "source": [
    "#### meta.track_id"
   ]
  },
  {
   "cell_type": "markdown",
   "id": "343b6ebd",
   "metadata": {
    "id": "343b6ebd"
   },
   "source": [
    "Посмотрим дубли в уникальном идентификаторе track_id:"
   ]
  },
  {
   "cell_type": "code",
   "execution_count": 192,
   "id": "a60d7928",
   "metadata": {
    "colab": {
     "base_uri": "https://localhost:8080/"
    },
    "id": "a60d7928",
    "outputId": "1702acaf-bf3d-4fa6-9eff-595fb2c77a2c"
   },
   "outputs": [
    {
     "data": {
      "text/plain": [
       "0"
      ]
     },
     "execution_count": 192,
     "metadata": {},
     "output_type": "execute_result"
    }
   ],
   "source": [
    " meta['track_id'].duplicated().sum()"
   ]
  },
  {
   "cell_type": "markdown",
   "id": "580ea4d3",
   "metadata": {
    "id": "580ea4d3"
   },
   "source": [
    "#### meta.isrc"
   ]
  },
  {
   "cell_type": "markdown",
   "id": "f18735ba",
   "metadata": {
    "id": "f18735ba"
   },
   "source": [
    "Посмотрим дубли в международном уникальном идентификаторе isrc:"
   ]
  },
  {
   "cell_type": "code",
   "execution_count": 193,
   "id": "df2bd9d0",
   "metadata": {
    "colab": {
     "base_uri": "https://localhost:8080/",
     "height": 790
    },
    "id": "df2bd9d0",
    "outputId": "5609c8f9-9d32-4647-db54-ed42d23d8519",
    "scrolled": true
   },
   "outputs": [
    {
     "data": {
      "text/html": [
       "<div>\n",
       "<style scoped>\n",
       "    .dataframe tbody tr th:only-of-type {\n",
       "        vertical-align: middle;\n",
       "    }\n",
       "\n",
       "    .dataframe tbody tr th {\n",
       "        vertical-align: top;\n",
       "    }\n",
       "\n",
       "    .dataframe thead th {\n",
       "        text-align: right;\n",
       "    }\n",
       "</style>\n",
       "<table border=\"1\" class=\"dataframe\">\n",
       "  <thead>\n",
       "    <tr style=\"text-align: right;\">\n",
       "      <th></th>\n",
       "      <th>track_id</th>\n",
       "      <th>dttm</th>\n",
       "      <th>title</th>\n",
       "      <th>language</th>\n",
       "      <th>isrc</th>\n",
       "      <th>genres</th>\n",
       "      <th>duration</th>\n",
       "    </tr>\n",
       "  </thead>\n",
       "  <tbody>\n",
       "    <tr>\n",
       "      <th>27012</th>\n",
       "      <td>be0233f57dbb59079929ac646b0b9d5c</td>\n",
       "      <td>2021-07-06 16:38:30</td>\n",
       "      <td>Zivot da stane ne sme</td>\n",
       "      <td>None</td>\n",
       "      <td>ATAJ12100470</td>\n",
       "      <td>[FOLK]</td>\n",
       "      <td>151190.0</td>\n",
       "    </tr>\n",
       "    <tr>\n",
       "      <th>26955</th>\n",
       "      <td>8aff9d28865aaf1fa44e46b82cba0f63</td>\n",
       "      <td>2021-07-06 15:38:37</td>\n",
       "      <td>Burma</td>\n",
       "      <td>None</td>\n",
       "      <td>ATAJ12100470</td>\n",
       "      <td>[FOLK]</td>\n",
       "      <td>179300.0</td>\n",
       "    </tr>\n",
       "    <tr>\n",
       "      <th>51052</th>\n",
       "      <td>196a0973d73122891a426f8334105ce7</td>\n",
       "      <td>2019-03-29 21:00:00</td>\n",
       "      <td>Inní mér syngur vitleysingur</td>\n",
       "      <td>EN</td>\n",
       "      <td>ATN261668711</td>\n",
       "      <td>[FOLKMETAL, METAL]</td>\n",
       "      <td>237010.0</td>\n",
       "    </tr>\n",
       "    <tr>\n",
       "      <th>66395</th>\n",
       "      <td>425761c88ebc69e89c748eb537671953</td>\n",
       "      <td>2018-04-28 19:08:26</td>\n",
       "      <td>Inni Mer Syngur Vitleysingur</td>\n",
       "      <td>None</td>\n",
       "      <td>ATN261668711</td>\n",
       "      <td>[FOLKMETAL, METAL]</td>\n",
       "      <td>237010.0</td>\n",
       "    </tr>\n",
       "    <tr>\n",
       "      <th>51053</th>\n",
       "      <td>aa4a1d4d44890cbc7aae285842bd3ce2</td>\n",
       "      <td>2019-03-29 21:00:00</td>\n",
       "      <td>Nattfödd</td>\n",
       "      <td>EN</td>\n",
       "      <td>ATN261668712</td>\n",
       "      <td>[FOLKMETAL, METAL]</td>\n",
       "      <td>255320.0</td>\n",
       "    </tr>\n",
       "    <tr>\n",
       "      <th>...</th>\n",
       "      <td>...</td>\n",
       "      <td>...</td>\n",
       "      <td>...</td>\n",
       "      <td>...</td>\n",
       "      <td>...</td>\n",
       "      <td>...</td>\n",
       "      <td>...</td>\n",
       "    </tr>\n",
       "    <tr>\n",
       "      <th>42673</th>\n",
       "      <td>9ca51834e2b6a7266ebcb10cf9a00409</td>\n",
       "      <td>2014-09-23 12:08:24</td>\n",
       "      <td>How Far We've Come</td>\n",
       "      <td>None</td>\n",
       "      <td>USTCF1018560</td>\n",
       "      <td>[ROCK, ALLROCK]</td>\n",
       "      <td>200820.0</td>\n",
       "    </tr>\n",
       "    <tr>\n",
       "      <th>42671</th>\n",
       "      <td>2e04e2ca902c24028b3a7bcded51deeb</td>\n",
       "      <td>2014-09-23 12:08:24</td>\n",
       "      <td>Angel</td>\n",
       "      <td>None</td>\n",
       "      <td>USTCF1018563</td>\n",
       "      <td>[ROCK, ALLROCK]</td>\n",
       "      <td>261490.0</td>\n",
       "    </tr>\n",
       "    <tr>\n",
       "      <th>67314</th>\n",
       "      <td>7eb1ce7b0e7ce4c053c1c9af0ebd9634</td>\n",
       "      <td>2018-11-08 18:31:51</td>\n",
       "      <td>Angel (2009)</td>\n",
       "      <td>EN</td>\n",
       "      <td>USTCF1018563</td>\n",
       "      <td>[ROCK, ALLROCK]</td>\n",
       "      <td>261450.0</td>\n",
       "    </tr>\n",
       "    <tr>\n",
       "      <th>67315</th>\n",
       "      <td>90117fc7a8a5ef80c4d3e1e6e39b4f06</td>\n",
       "      <td>2018-11-08 18:31:51</td>\n",
       "      <td>Breathe (2009)</td>\n",
       "      <td>EN</td>\n",
       "      <td>USTCF1018565</td>\n",
       "      <td>[ROCK, ALLROCK]</td>\n",
       "      <td>221970.0</td>\n",
       "    </tr>\n",
       "    <tr>\n",
       "      <th>42675</th>\n",
       "      <td>734cfd17d9b91ed5e6040aeef988d8cc</td>\n",
       "      <td>2014-09-23 12:08:24</td>\n",
       "      <td>Breathe</td>\n",
       "      <td>None</td>\n",
       "      <td>USTCF1018565</td>\n",
       "      <td>[ROCK, ALLROCK]</td>\n",
       "      <td>222010.0</td>\n",
       "    </tr>\n",
       "  </tbody>\n",
       "</table>\n",
       "<p>292 rows × 7 columns</p>\n",
       "</div>"
      ],
      "text/plain": [
       "                               track_id                dttm  \\\n",
       "27012  be0233f57dbb59079929ac646b0b9d5c 2021-07-06 16:38:30   \n",
       "26955  8aff9d28865aaf1fa44e46b82cba0f63 2021-07-06 15:38:37   \n",
       "51052  196a0973d73122891a426f8334105ce7 2019-03-29 21:00:00   \n",
       "66395  425761c88ebc69e89c748eb537671953 2018-04-28 19:08:26   \n",
       "51053  aa4a1d4d44890cbc7aae285842bd3ce2 2019-03-29 21:00:00   \n",
       "...                                 ...                 ...   \n",
       "42673  9ca51834e2b6a7266ebcb10cf9a00409 2014-09-23 12:08:24   \n",
       "42671  2e04e2ca902c24028b3a7bcded51deeb 2014-09-23 12:08:24   \n",
       "67314  7eb1ce7b0e7ce4c053c1c9af0ebd9634 2018-11-08 18:31:51   \n",
       "67315  90117fc7a8a5ef80c4d3e1e6e39b4f06 2018-11-08 18:31:51   \n",
       "42675  734cfd17d9b91ed5e6040aeef988d8cc 2014-09-23 12:08:24   \n",
       "\n",
       "                              title language          isrc  \\\n",
       "27012         Zivot da stane ne sme     None  ATAJ12100470   \n",
       "26955                         Burma     None  ATAJ12100470   \n",
       "51052  Inní mér syngur vitleysingur       EN  ATN261668711   \n",
       "66395  Inni Mer Syngur Vitleysingur     None  ATN261668711   \n",
       "51053                      Nattfödd       EN  ATN261668712   \n",
       "...                             ...      ...           ...   \n",
       "42673            How Far We've Come     None  USTCF1018560   \n",
       "42671                         Angel     None  USTCF1018563   \n",
       "67314                  Angel (2009)       EN  USTCF1018563   \n",
       "67315                Breathe (2009)       EN  USTCF1018565   \n",
       "42675                       Breathe     None  USTCF1018565   \n",
       "\n",
       "                   genres  duration  \n",
       "27012              [FOLK]  151190.0  \n",
       "26955              [FOLK]  179300.0  \n",
       "51052  [FOLKMETAL, METAL]  237010.0  \n",
       "66395  [FOLKMETAL, METAL]  237010.0  \n",
       "51053  [FOLKMETAL, METAL]  255320.0  \n",
       "...                   ...       ...  \n",
       "42673     [ROCK, ALLROCK]  200820.0  \n",
       "42671     [ROCK, ALLROCK]  261490.0  \n",
       "67314     [ROCK, ALLROCK]  261450.0  \n",
       "67315     [ROCK, ALLROCK]  221970.0  \n",
       "42675     [ROCK, ALLROCK]  222010.0  \n",
       "\n",
       "[292 rows x 7 columns]"
      ]
     },
     "execution_count": 193,
     "metadata": {},
     "output_type": "execute_result"
    }
   ],
   "source": [
    "# Все дубли (кроме nan) с длительностью больше 0\n",
    "meta[meta['isrc'].duplicated(keep=False) & meta['isrc'].notna() & meta['duration'] > 0].sort_values(by='isrc')"
   ]
  },
  {
   "cell_type": "markdown",
   "id": "7b696af8",
   "metadata": {
    "id": "7b696af8"
   },
   "source": [
    "#### meta.title"
   ]
  },
  {
   "cell_type": "markdown",
   "id": "ffff22dc",
   "metadata": {
    "id": "ffff22dc"
   },
   "source": [
    "Посмотрим дубли в названии:"
   ]
  },
  {
   "cell_type": "code",
   "execution_count": 194,
   "id": "b3978b34",
   "metadata": {
    "colab": {
     "base_uri": "https://localhost:8080/",
     "height": 790
    },
    "id": "b3978b34",
    "outputId": "178777d8-f9aa-4b46-9dbb-86a34c3f12bf",
    "scrolled": false
   },
   "outputs": [
    {
     "data": {
      "text/html": [
       "<div>\n",
       "<style scoped>\n",
       "    .dataframe tbody tr th:only-of-type {\n",
       "        vertical-align: middle;\n",
       "    }\n",
       "\n",
       "    .dataframe tbody tr th {\n",
       "        vertical-align: top;\n",
       "    }\n",
       "\n",
       "    .dataframe thead th {\n",
       "        text-align: right;\n",
       "    }\n",
       "</style>\n",
       "<table border=\"1\" class=\"dataframe\">\n",
       "  <thead>\n",
       "    <tr style=\"text-align: right;\">\n",
       "      <th></th>\n",
       "      <th>track_id</th>\n",
       "      <th>dttm</th>\n",
       "      <th>title</th>\n",
       "      <th>language</th>\n",
       "      <th>isrc</th>\n",
       "      <th>genres</th>\n",
       "      <th>duration</th>\n",
       "    </tr>\n",
       "  </thead>\n",
       "  <tbody>\n",
       "    <tr>\n",
       "      <th>71227</th>\n",
       "      <td>467627a4db0315da8f62791aed705083</td>\n",
       "      <td>2019-05-06 21:20:38</td>\n",
       "      <td>(Don't Fear) The Reaper</td>\n",
       "      <td>None</td>\n",
       "      <td>PLS921753188</td>\n",
       "      <td>[]</td>\n",
       "      <td>186570.0</td>\n",
       "    </tr>\n",
       "    <tr>\n",
       "      <th>71220</th>\n",
       "      <td>48509facf3b4e038527a22fc779bc915</td>\n",
       "      <td>2019-05-06 21:20:23</td>\n",
       "      <td>(Don't Fear) The Reaper</td>\n",
       "      <td>None</td>\n",
       "      <td>PLS921753315</td>\n",
       "      <td>[]</td>\n",
       "      <td>191820.0</td>\n",
       "    </tr>\n",
       "    <tr>\n",
       "      <th>71486</th>\n",
       "      <td>aed647e8d9166429c77e1b0e5342d4e0</td>\n",
       "      <td>2019-05-17 17:51:08</td>\n",
       "      <td>(Don't Fear) The Reaper</td>\n",
       "      <td>None</td>\n",
       "      <td>PLS921753236</td>\n",
       "      <td>[]</td>\n",
       "      <td>200730.0</td>\n",
       "    </tr>\n",
       "    <tr>\n",
       "      <th>70573</th>\n",
       "      <td>0f0f37bab3de6ca18a5930d9ed8c0f38</td>\n",
       "      <td>2019-04-09 21:37:34</td>\n",
       "      <td>(Don't Fear) The Reaper</td>\n",
       "      <td>None</td>\n",
       "      <td>PLS921753271</td>\n",
       "      <td>[RELAX]</td>\n",
       "      <td>243090.0</td>\n",
       "    </tr>\n",
       "    <tr>\n",
       "      <th>58782</th>\n",
       "      <td>60558452b17f2a1ef1ee12627d45a320</td>\n",
       "      <td>2021-03-11 21:00:00</td>\n",
       "      <td>(Everything I Do) I Do It for You</td>\n",
       "      <td>None</td>\n",
       "      <td>TCACT1626721</td>\n",
       "      <td>[POP]</td>\n",
       "      <td>123280.0</td>\n",
       "    </tr>\n",
       "    <tr>\n",
       "      <th>...</th>\n",
       "      <td>...</td>\n",
       "      <td>...</td>\n",
       "      <td>...</td>\n",
       "      <td>...</td>\n",
       "      <td>...</td>\n",
       "      <td>...</td>\n",
       "      <td>...</td>\n",
       "    </tr>\n",
       "    <tr>\n",
       "      <th>24940</th>\n",
       "      <td>5075581209bc27ff20452168285b96c8</td>\n",
       "      <td>2021-06-16 09:50:02</td>\n",
       "      <td>银河与星斗</td>\n",
       "      <td>ZH</td>\n",
       "      <td>FRX202173646</td>\n",
       "      <td>[POP]</td>\n",
       "      <td>155100.0</td>\n",
       "    </tr>\n",
       "    <tr>\n",
       "      <th>33684</th>\n",
       "      <td>361397a39eccdd74f09044769d50d096</td>\n",
       "      <td>2021-09-14 21:00:00</td>\n",
       "      <td>거리에서</td>\n",
       "      <td>None</td>\n",
       "      <td>KRF632104051</td>\n",
       "      <td>[JAZZ]</td>\n",
       "      <td>290940.0</td>\n",
       "    </tr>\n",
       "    <tr>\n",
       "      <th>31735</th>\n",
       "      <td>94dd2de0e572e122fb4b6dd41fdb8402</td>\n",
       "      <td>2021-08-29 21:00:00</td>\n",
       "      <td>거리에서</td>\n",
       "      <td>None</td>\n",
       "      <td>KRF632103686</td>\n",
       "      <td>[JAZZ]</td>\n",
       "      <td>291890.0</td>\n",
       "    </tr>\n",
       "    <tr>\n",
       "      <th>33685</th>\n",
       "      <td>3c306bdc546a89d71c40e549c33e6369</td>\n",
       "      <td>2021-09-14 21:00:00</td>\n",
       "      <td>내 마음에 비친 내 모습</td>\n",
       "      <td>None</td>\n",
       "      <td>KRF632104052</td>\n",
       "      <td>[JAZZ]</td>\n",
       "      <td>279250.0</td>\n",
       "    </tr>\n",
       "    <tr>\n",
       "      <th>31734</th>\n",
       "      <td>0609788efbd5edd0954bbeeb39d2c469</td>\n",
       "      <td>2021-08-29 21:00:00</td>\n",
       "      <td>내 마음에 비친 내 모습</td>\n",
       "      <td>None</td>\n",
       "      <td>KRF632103685</td>\n",
       "      <td>[JAZZ]</td>\n",
       "      <td>280370.0</td>\n",
       "    </tr>\n",
       "  </tbody>\n",
       "</table>\n",
       "<p>35336 rows × 7 columns</p>\n",
       "</div>"
      ],
      "text/plain": [
       "                               track_id                dttm  \\\n",
       "71227  467627a4db0315da8f62791aed705083 2019-05-06 21:20:38   \n",
       "71220  48509facf3b4e038527a22fc779bc915 2019-05-06 21:20:23   \n",
       "71486  aed647e8d9166429c77e1b0e5342d4e0 2019-05-17 17:51:08   \n",
       "70573  0f0f37bab3de6ca18a5930d9ed8c0f38 2019-04-09 21:37:34   \n",
       "58782  60558452b17f2a1ef1ee12627d45a320 2021-03-11 21:00:00   \n",
       "...                                 ...                 ...   \n",
       "24940  5075581209bc27ff20452168285b96c8 2021-06-16 09:50:02   \n",
       "33684  361397a39eccdd74f09044769d50d096 2021-09-14 21:00:00   \n",
       "31735  94dd2de0e572e122fb4b6dd41fdb8402 2021-08-29 21:00:00   \n",
       "33685  3c306bdc546a89d71c40e549c33e6369 2021-09-14 21:00:00   \n",
       "31734  0609788efbd5edd0954bbeeb39d2c469 2021-08-29 21:00:00   \n",
       "\n",
       "                                   title language          isrc   genres  \\\n",
       "71227            (Don't Fear) The Reaper     None  PLS921753188       []   \n",
       "71220            (Don't Fear) The Reaper     None  PLS921753315       []   \n",
       "71486            (Don't Fear) The Reaper     None  PLS921753236       []   \n",
       "70573            (Don't Fear) The Reaper     None  PLS921753271  [RELAX]   \n",
       "58782  (Everything I Do) I Do It for You     None  TCACT1626721    [POP]   \n",
       "...                                  ...      ...           ...      ...   \n",
       "24940                              银河与星斗       ZH  FRX202173646    [POP]   \n",
       "33684                               거리에서     None  KRF632104051   [JAZZ]   \n",
       "31735                               거리에서     None  KRF632103686   [JAZZ]   \n",
       "33685                      내 마음에 비친 내 모습     None  KRF632104052   [JAZZ]   \n",
       "31734                      내 마음에 비친 내 모습     None  KRF632103685   [JAZZ]   \n",
       "\n",
       "       duration  \n",
       "71227  186570.0  \n",
       "71220  191820.0  \n",
       "71486  200730.0  \n",
       "70573  243090.0  \n",
       "58782  123280.0  \n",
       "...         ...  \n",
       "24940  155100.0  \n",
       "33684  290940.0  \n",
       "31735  291890.0  \n",
       "33685  279250.0  \n",
       "31734  280370.0  \n",
       "\n",
       "[35336 rows x 7 columns]"
      ]
     },
     "execution_count": 194,
     "metadata": {},
     "output_type": "execute_result"
    }
   ],
   "source": [
    "meta[meta['title'].duplicated(keep=False)].sort_values(by='title')"
   ]
  },
  {
   "cell_type": "markdown",
   "id": "31335433",
   "metadata": {
    "id": "31335433"
   },
   "source": [
    "#### meta.duration"
   ]
  },
  {
   "cell_type": "code",
   "execution_count": 195,
   "id": "13ffd067",
   "metadata": {
    "colab": {
     "base_uri": "https://localhost:8080/"
    },
    "id": "13ffd067",
    "outputId": "0cd4ba73-071a-4a3f-c7fb-f926d67cafc2"
   },
   "outputs": [
    {
     "data": {
      "text/plain": [
       "count    7.176800e+04\n",
       "mean     2.049187e+05\n",
       "std      8.559854e+04\n",
       "min      0.000000e+00\n",
       "25%      1.613700e+05\n",
       "50%      1.993950e+05\n",
       "75%      2.390700e+05\n",
       "max      5.487300e+06\n",
       "Name: duration, dtype: float64"
      ]
     },
     "execution_count": 195,
     "metadata": {},
     "output_type": "execute_result"
    }
   ],
   "source": [
    "meta['duration'].describe()"
   ]
  },
  {
   "cell_type": "code",
   "execution_count": 196,
   "id": "0216d110",
   "metadata": {
    "colab": {
     "base_uri": "https://localhost:8080/",
     "height": 430
    },
    "id": "0216d110",
    "outputId": "38acca56-b127-4381-d60c-510a9c832204",
    "scrolled": true
   },
   "outputs": [
    {
     "data": {
      "image/png": "[encoded data removed]",
      "text/plain": [
       "<Figure size 640x480 with 1 Axes>"
      ]
     },
     "metadata": {},
     "output_type": "display_data"
    }
   ],
   "source": [
    "# До Q1\n",
    "meta[meta['duration'] < 161370]['duration'].hist(bins=100);"
   ]
  },
  {
   "cell_type": "markdown",
   "id": "9250b07d",
   "metadata": {},
   "source": [
    "Много треков с продолжительностью около 30 секунд\\\n",
    "Много треков с продолжительностью 0"
   ]
  },
  {
   "cell_type": "code",
   "execution_count": 197,
   "id": "1162785e",
   "metadata": {
    "colab": {
     "base_uri": "https://localhost:8080/",
     "height": 451
    },
    "id": "1162785e",
    "outputId": "99813b75-cdb5-4794-8af8-eb0387588ec9"
   },
   "outputs": [
    {
     "data": {
      "image/png": "[encoded data removed]",
      "text/plain": [
       "<Figure size 640x480 with 1 Axes>"
      ]
     },
     "metadata": {},
     "output_type": "display_data"
    }
   ],
   "source": [
    "# После Q3\n",
    "meta[meta['duration'] > 239070]['duration'].hist(bins=50);"
   ]
  },
  {
   "cell_type": "markdown",
   "id": "50167311",
   "metadata": {},
   "source": [
    "треков больше 8 минуи почти не встречается "
   ]
  },
  {
   "cell_type": "code",
   "execution_count": 198,
   "id": "f346e403",
   "metadata": {
    "colab": {
     "base_uri": "https://localhost:8080/"
    },
    "id": "f346e403",
    "outputId": "1e68482b-3003-4d6d-d8ce-17d977cf548a"
   },
   "outputs": [
    {
     "data": {
      "text/plain": [
       "369"
      ]
     },
     "execution_count": 198,
     "metadata": {},
     "output_type": "execute_result"
    }
   ],
   "source": [
    "#  длит.трека==0\n",
    "len(meta.loc[meta['duration']==0])"
   ]
  },
  {
   "cell_type": "code",
   "execution_count": 199,
   "id": "c11c7be3",
   "metadata": {
    "colab": {
     "base_uri": "https://localhost:8080/"
    },
    "id": "c11c7be3",
    "outputId": "caf88d44-455b-4180-f541-524f35a5edbf"
   },
   "outputs": [
    {
     "data": {
      "text/plain": [
       "382"
      ]
     },
     "execution_count": 199,
     "metadata": {},
     "output_type": "execute_result"
    }
   ],
   "source": [
    "# длит.трека < 10 sec\n",
    "len(meta[meta['duration'] < 10000]['duration'])"
   ]
  },
  {
   "cell_type": "code",
   "execution_count": 200,
   "id": "dd1b07d7",
   "metadata": {
    "colab": {
     "base_uri": "https://localhost:8080/"
    },
    "id": "dd1b07d7",
    "outputId": "c4701860-6659-4f71-d778-80ceb287b0c9"
   },
   "outputs": [
    {
     "data": {
      "text/plain": [
       "186"
      ]
     },
     "execution_count": 200,
     "metadata": {},
     "output_type": "execute_result"
    }
   ],
   "source": [
    "# длит.трека > 10 min\n",
    "len(meta[meta['duration'] > 600000]['duration'])"
   ]
  },
  {
   "cell_type": "markdown",
   "id": "53437507",
   "metadata": {
    "id": "53437507"
   },
   "source": [
    "#### meta.genres"
   ]
  },
  {
   "cell_type": "code",
   "execution_count": 201,
   "id": "48d0a8e7",
   "metadata": {
    "colab": {
     "base_uri": "https://localhost:8080/"
    },
    "id": "48d0a8e7",
    "outputId": "cf0ae868-ca53-43eb-80a5-5b569a95e830"
   },
   "outputs": [
    {
     "data": {
      "text/plain": [
       "genres\n",
       "[FOLK, LATINFOLK]    18391\n",
       "[POP]                13157\n",
       "[ROCK, ALLROCK]       5898\n",
       "[ALTERNATIVE]         3570\n",
       "[FOLK]                2645\n",
       "[]                    2352\n",
       "[ELECTRONICS]         2231\n",
       "[SOUNDTRACK]          2181\n",
       "[DANCE]               2166\n",
       "[SPIRITUAL]           1552\n",
       "Name: count, dtype: int64"
      ]
     },
     "execution_count": 201,
     "metadata": {},
     "output_type": "execute_result"
    }
   ],
   "source": [
    "meta.genres.value_counts().head(10)"
   ]
  },
  {
   "cell_type": "markdown",
   "id": "8e5582b8",
   "metadata": {
    "id": "8e5582b8"
   },
   "source": [
    "#### meta.language"
   ]
  },
  {
   "cell_type": "code",
   "execution_count": 202,
   "id": "717c2adb",
   "metadata": {
    "colab": {
     "base_uri": "https://localhost:8080/"
    },
    "id": "717c2adb",
    "outputId": "665720a1-b00c-4386-c5f5-a88fca386f01"
   },
   "outputs": [
    {
     "data": {
      "text/plain": [
       "language\n",
       "EN    15322\n",
       "ES     1747\n",
       "RU     1558\n",
       "IT      907\n",
       "HI      285\n",
       "DE      238\n",
       "ZH      212\n",
       "FR      210\n",
       "Name: count, dtype: int64"
      ]
     },
     "execution_count": 202,
     "metadata": {},
     "output_type": "execute_result"
    }
   ],
   "source": [
    "meta.language.value_counts().head(8)"
   ]
  },
  {
   "cell_type": "markdown",
   "id": "9e7be02e",
   "metadata": {
    "id": "9e7be02e"
   },
   "source": [
    "#### Зависимость признака кавер или оригинал от длины текста"
   ]
  },
  {
   "cell_type": "code",
   "execution_count": 203,
   "id": "f5b93610",
   "metadata": {
    "id": "f5b93610"
   },
   "outputs": [],
   "source": [
    "covers_met=pd.merge(covers, meta, how='left', on='track_id')"
   ]
  },
  {
   "cell_type": "code",
   "execution_count": 204,
   "id": "25c57e34",
   "metadata": {
    "colab": {
     "base_uri": "https://localhost:8080/",
     "height": 73
    },
    "id": "25c57e34",
    "outputId": "53b8386b-37d0-452b-8f1a-10823b1de5aa"
   },
   "outputs": [
    {
     "data": {
      "text/html": [
       "<div>\n",
       "<style scoped>\n",
       "    .dataframe tbody tr th:only-of-type {\n",
       "        vertical-align: middle;\n",
       "    }\n",
       "\n",
       "    .dataframe tbody tr th {\n",
       "        vertical-align: top;\n",
       "    }\n",
       "\n",
       "    .dataframe thead th {\n",
       "        text-align: right;\n",
       "    }\n",
       "</style>\n",
       "<table border=\"1\" class=\"dataframe\">\n",
       "  <thead>\n",
       "    <tr style=\"text-align: right;\">\n",
       "      <th></th>\n",
       "      <th>original_track_id</th>\n",
       "      <th>track_id</th>\n",
       "      <th>track_remake_type</th>\n",
       "      <th>dttm</th>\n",
       "      <th>title</th>\n",
       "      <th>language</th>\n",
       "      <th>isrc</th>\n",
       "      <th>genres</th>\n",
       "      <th>duration</th>\n",
       "    </tr>\n",
       "  </thead>\n",
       "  <tbody>\n",
       "  </tbody>\n",
       "</table>\n",
       "</div>"
      ],
      "text/plain": [
       "Empty DataFrame\n",
       "Columns: [original_track_id, track_id, track_remake_type, dttm, title, language, isrc, genres, duration]\n",
       "Index: []"
      ]
     },
     "execution_count": 204,
     "metadata": {},
     "output_type": "execute_result"
    }
   ],
   "source": [
    "covers_met.loc[covers_met['track_id'].duplicated(keep=False)] #check"
   ]
  },
  {
   "cell_type": "code",
   "execution_count": 205,
   "id": "76a009ab",
   "metadata": {
    "colab": {
     "base_uri": "https://localhost:8080/",
     "height": 236
    },
    "id": "76a009ab",
    "outputId": "94727b6b-8f38-4cc1-e1b1-351814cb0768"
   },
   "outputs": [
    {
     "data": {
      "text/html": [
       "<div>\n",
       "<style scoped>\n",
       "    .dataframe tbody tr th:only-of-type {\n",
       "        vertical-align: middle;\n",
       "    }\n",
       "\n",
       "    .dataframe tbody tr th {\n",
       "        vertical-align: top;\n",
       "    }\n",
       "\n",
       "    .dataframe thead th {\n",
       "        text-align: right;\n",
       "    }\n",
       "</style>\n",
       "<table border=\"1\" class=\"dataframe\">\n",
       "  <thead>\n",
       "    <tr style=\"text-align: right;\">\n",
       "      <th></th>\n",
       "      <th>original_track_id</th>\n",
       "      <th>track_id</th>\n",
       "      <th>track_remake_type</th>\n",
       "      <th>dttm</th>\n",
       "      <th>title</th>\n",
       "      <th>language</th>\n",
       "      <th>isrc</th>\n",
       "      <th>genres</th>\n",
       "      <th>duration</th>\n",
       "      <th>lyricId</th>\n",
       "      <th>text</th>\n",
       "    </tr>\n",
       "  </thead>\n",
       "  <tbody>\n",
       "    <tr>\n",
       "      <th>0</th>\n",
       "      <td>eeb69a3cb92300456b6a5f4162093851</td>\n",
       "      <td>eeb69a3cb92300456b6a5f4162093851</td>\n",
       "      <td>ORIGINAL</td>\n",
       "      <td>2009-11-11 21:00:00</td>\n",
       "      <td>Proud Mary</td>\n",
       "      <td>EN</td>\n",
       "      <td>USFI86900049</td>\n",
       "      <td>[ROCK, ALLROCK]</td>\n",
       "      <td>187220.0</td>\n",
       "      <td>260f21d9f48e8de874a6e844159ddf28</td>\n",
       "      <td>Left a good job in the city\\nWorkin' for the m...</td>\n",
       "    </tr>\n",
       "    <tr>\n",
       "      <th>1</th>\n",
       "      <td>eeb69a3cb92300456b6a5f4162093851</td>\n",
       "      <td>eeb69a3cb92300456b6a5f4162093851</td>\n",
       "      <td>ORIGINAL</td>\n",
       "      <td>2009-11-11 21:00:00</td>\n",
       "      <td>Proud Mary</td>\n",
       "      <td>EN</td>\n",
       "      <td>USFI86900049</td>\n",
       "      <td>[ROCK, ALLROCK]</td>\n",
       "      <td>187220.0</td>\n",
       "      <td>f3331cf99637ee24559242d13d8cf259</td>\n",
       "      <td>Left a good job in the city\\nWorkin' for the m...</td>\n",
       "    </tr>\n",
       "  </tbody>\n",
       "</table>\n",
       "</div>"
      ],
      "text/plain": [
       "                  original_track_id                          track_id  \\\n",
       "0  eeb69a3cb92300456b6a5f4162093851  eeb69a3cb92300456b6a5f4162093851   \n",
       "1  eeb69a3cb92300456b6a5f4162093851  eeb69a3cb92300456b6a5f4162093851   \n",
       "\n",
       "  track_remake_type                dttm       title language          isrc  \\\n",
       "0          ORIGINAL 2009-11-11 21:00:00  Proud Mary       EN  USFI86900049   \n",
       "1          ORIGINAL 2009-11-11 21:00:00  Proud Mary       EN  USFI86900049   \n",
       "\n",
       "            genres  duration                           lyricId  \\\n",
       "0  [ROCK, ALLROCK]  187220.0  260f21d9f48e8de874a6e844159ddf28   \n",
       "1  [ROCK, ALLROCK]  187220.0  f3331cf99637ee24559242d13d8cf259   \n",
       "\n",
       "                                                text  \n",
       "0  Left a good job in the city\\nWorkin' for the m...  \n",
       "1  Left a good job in the city\\nWorkin' for the m...  "
      ]
     },
     "execution_count": 205,
     "metadata": {},
     "output_type": "execute_result"
    }
   ],
   "source": [
    "covers_met_lyrics=pd.merge(covers_met, lyrics, how='inner', on='track_id')\n",
    "covers_met_lyrics.head(2)"
   ]
  },
  {
   "cell_type": "code",
   "execution_count": 206,
   "id": "0710d8eb",
   "metadata": {
    "id": "0710d8eb"
   },
   "outputs": [],
   "source": [
    "covers_met_lyrics['len_text']=covers_met_lyrics['text'].apply(lambda x: len(x) )"
   ]
  },
  {
   "cell_type": "code",
   "execution_count": 207,
   "id": "799aadd4",
   "metadata": {
    "colab": {
     "base_uri": "https://localhost:8080/",
     "height": 449
    },
    "id": "799aadd4",
    "outputId": "a7980601-cb69-4825-ffd1-f0fbf8e58c38"
   },
   "outputs": [
    {
     "data": {
      "image/png": "[encoded data removed]",
      "text/plain": [
       "<Figure size 640x480 with 1 Axes>"
      ]
     },
     "metadata": {},
     "output_type": "display_data"
    }
   ],
   "source": [
    "covers_met_lyrics.plot(x='duration', y='track_remake_type', kind='scatter');"
   ]
  },
  {
   "cell_type": "markdown",
   "id": "cfc1a188",
   "metadata": {
    "id": "cfc1a188"
   },
   "source": [
    "у каверов больше дисперсия и диапазон максималных и минимальных значений длительности трека"
   ]
  },
  {
   "cell_type": "markdown",
   "id": "02306449",
   "metadata": {
    "id": "02306449"
   },
   "source": [
    "### Выводы:\n",
    "\n",
    "Провели тщательный анализ имеющихся признаков.\n",
    "Выяснили, что очень мало размечено исходников для каверов, всего 528 строк.\n",
    "\n",
    "У каверов больше дисперсия и диапазон максималных и минимальных значений длительности трека"
   ]
  },
  {
   "cell_type": "markdown",
   "id": "0b6d229d",
   "metadata": {
    "id": "0b6d229d"
   },
   "source": [
    "## Предоработка данных"
   ]
  },
  {
   "cell_type": "code",
   "execution_count": 208,
   "id": "fd40d734",
   "metadata": {
    "colab": {
     "base_uri": "https://localhost:8080/"
    },
    "id": "fd40d734",
    "outputId": "2e1fab4b-b307-4b04-d6ee-37ed51f5bf48"
   },
   "outputs": [
    {
     "data": {
      "text/plain": [
       "(71769, 7)"
      ]
     },
     "execution_count": 208,
     "metadata": {},
     "output_type": "execute_result"
    }
   ],
   "source": [
    "meta.shape #check"
   ]
  },
  {
   "cell_type": "markdown",
   "id": "5a33d823",
   "metadata": {
    "id": "5a33d823"
   },
   "source": [
    "Удалим композиции продолжительностью больше 10 минут и менее 10 секунд, т.к. это скорее всего - не музыкальные треки и их немного"
   ]
  },
  {
   "cell_type": "code",
   "execution_count": 218,
   "id": "23e5a48a",
   "metadata": {
    "colab": {
     "base_uri": "https://localhost:8080/"
    },
    "id": "23e5a48a",
    "outputId": "f4c780f8-415d-4223-f3a7-ca36daa448c0",
    "scrolled": true
   },
   "outputs": [
    {
     "data": {
      "text/plain": [
       "(71198, 7)"
      ]
     },
     "execution_count": 218,
     "metadata": {},
     "output_type": "execute_result"
    }
   ],
   "source": [
    "meta=meta.loc[(meta['duration'] < 600000) & (meta['duration'] > 10000) ]\n",
    "meta.shape #check"
   ]
  },
  {
   "cell_type": "markdown",
   "id": "8a8adfb2",
   "metadata": {
    "id": "8a8adfb2"
   },
   "source": [
    "###  Заполним пропуски в колонке 'language'"
   ]
  },
  {
   "cell_type": "code",
   "execution_count": 221,
   "id": "38a8a67d",
   "metadata": {
    "colab": {
     "base_uri": "https://localhost:8080/"
    },
    "id": "38a8a67d",
    "outputId": "3ac94da7-7e6e-4dbe-d357-6ace29a6b0ba"
   },
   "outputs": [
    {
     "data": {
      "text/plain": [
       "49454"
      ]
     },
     "execution_count": 221,
     "metadata": {},
     "output_type": "execute_result"
    }
   ],
   "source": [
    "meta['language'].isna().sum()"
   ]
  },
  {
   "cell_type": "code",
   "execution_count": 223,
   "id": "93d1baa2",
   "metadata": {
    "id": "93d1baa2"
   },
   "outputs": [],
   "source": [
    "def detect_language(text, label):\n",
    "    \"\"\"\n",
    "    Заполняет пропуски.\n",
    "    Определяет язык текста и возвращает метку языка (ISO 639-1), если 'label' равно NaN.\n",
    "\n",
    "    Args:\n",
    "        text (str): Текст, для которого нужно определить язык.\n",
    "        label (str): Столбец, в котором нужно обновить значение, если 'label' равно NaN.\n",
    "    Returns:\n",
    "        str: Метка языка в вернем регистре (ISO 639-1)\n",
    "    \"\"\"\n",
    "    if pd.isna(label):\n",
    "        try:\n",
    "            return detect(text).upper()\n",
    "        except:\n",
    "            return None\n",
    "    else:\n",
    "        return label"
   ]
  },
  {
   "cell_type": "code",
   "execution_count": 224,
   "id": "2a7b7f2f",
   "metadata": {
    "colab": {
     "base_uri": "https://localhost:8080/"
    },
    "id": "2a7b7f2f",
    "outputId": "0eaf964c-ae6c-454c-aa0c-ec3da76e94c8"
   },
   "outputs": [
    {
     "name": "stdout",
     "output_type": "stream",
     "text": [
      "CPU times: total: 4min 50s\n",
      "Wall time: 4min 52s\n"
     ]
    },
    {
     "data": {
      "text/plain": [
       "69"
      ]
     },
     "execution_count": 224,
     "metadata": {},
     "output_type": "execute_result"
    }
   ],
   "source": [
    "%%time\n",
    "meta['language'] = meta.apply(lambda row: detect_language(row['title'], row['language']), axis=1)\n",
    "meta['language'].isna().sum()"
   ]
  },
  {
   "cell_type": "code",
   "execution_count": 225,
   "id": "1bf9bb4a",
   "metadata": {
    "colab": {
     "base_uri": "https://localhost:8080/"
    },
    "id": "1bf9bb4a",
    "outputId": "dcbc4a4b-af2e-4831-f76f-e797098e7519"
   },
   "outputs": [
    {
     "data": {
      "text/plain": [
       "(11414, 3)"
      ]
     },
     "execution_count": 225,
     "metadata": {},
     "output_type": "execute_result"
    }
   ],
   "source": [
    "lyrics.shape"
   ]
  },
  {
   "cell_type": "code",
   "execution_count": 226,
   "id": "edfd1a03",
   "metadata": {
    "colab": {
     "base_uri": "https://localhost:8080/"
    },
    "id": "edfd1a03",
    "outputId": "da9c0601-f291-4cc1-8779-a045dc1cdec5"
   },
   "outputs": [
    {
     "data": {
      "text/plain": [
       "(71198, 7)"
      ]
     },
     "execution_count": 226,
     "metadata": {},
     "output_type": "execute_result"
    }
   ],
   "source": [
    "meta.shape"
   ]
  },
  {
   "cell_type": "code",
   "execution_count": 227,
   "id": "26cb37c6",
   "metadata": {
    "colab": {
     "base_uri": "https://localhost:8080/"
    },
    "id": "26cb37c6",
    "outputId": "602edc1d-1156-4fe6-ca42-aa1bc62acbe7"
   },
   "outputs": [
    {
     "data": {
      "text/plain": [
       "(71597, 3)"
      ]
     },
     "execution_count": 227,
     "metadata": {},
     "output_type": "execute_result"
    }
   ],
   "source": [
    "covers.shape"
   ]
  },
  {
   "cell_type": "markdown",
   "id": "7e1b55f0",
   "metadata": {
    "id": "7e1b55f0"
   },
   "source": [
    "### Удалим дубликаты текстов для lyrics.track_id"
   ]
  },
  {
   "cell_type": "code",
   "execution_count": 228,
   "id": "116fa578",
   "metadata": {
    "id": "116fa578"
   },
   "outputs": [],
   "source": [
    "# Функция для выбора самого длинного текста из текстов в строках с одинаковым track_id.\n",
    "\n",
    "def max_row(track):\n",
    "    max_text = ''                                                          # Переменная со значением длины максимального текста\n",
    "    data_id = lyrics[lyrics['track_id'] == track].reset_index(drop=True)   # Временный датасет из строк с одинаковым track_id\n",
    "    for i in range(len(data_id)):                                          # --> (со сбросом индексов)\n",
    "        if len(data_id['text'][i]) > len(max_text):                        # Сравнение длины текстов с максимальным в max_text\n",
    "            max_text = data_id['text'][i]\n",
    "    return max_text"
   ]
  },
  {
   "cell_type": "code",
   "execution_count": 229,
   "id": "543ccb4c",
   "metadata": {
    "colab": {
     "base_uri": "https://localhost:8080/",
     "height": 660
    },
    "id": "543ccb4c",
    "outputId": "f1849884-6484-4396-dca9-64c534d18d7d"
   },
   "outputs": [
    {
     "data": {
      "text/html": [
       "<div>\n",
       "<style scoped>\n",
       "    .dataframe tbody tr th:only-of-type {\n",
       "        vertical-align: middle;\n",
       "    }\n",
       "\n",
       "    .dataframe tbody tr th {\n",
       "        vertical-align: top;\n",
       "    }\n",
       "\n",
       "    .dataframe thead th {\n",
       "        text-align: right;\n",
       "    }\n",
       "</style>\n",
       "<table border=\"1\" class=\"dataframe\">\n",
       "  <thead>\n",
       "    <tr style=\"text-align: right;\">\n",
       "      <th></th>\n",
       "      <th>lyricId</th>\n",
       "      <th>text</th>\n",
       "      <th>track_id</th>\n",
       "      <th>max_text</th>\n",
       "    </tr>\n",
       "  </thead>\n",
       "  <tbody>\n",
       "    <tr>\n",
       "      <th>0</th>\n",
       "      <td>a951f9504e89759e9d23039b7b17ec14</td>\n",
       "      <td>Живу сейчас обломами, обломками не той любви\\n...</td>\n",
       "      <td>1c4b1230f937e4c548ff732523214dcd</td>\n",
       "      <td>Живу сейчас обломами, обломками не той любви\\n...</td>\n",
       "    </tr>\n",
       "    <tr>\n",
       "      <th>1</th>\n",
       "      <td>0c749bc3f01eb8e6cf986fa14ccfc585</td>\n",
       "      <td>Tell me your fable\\nA fable\\nTell me your fabl...</td>\n",
       "      <td>0faea89b0d7d6235b5b74def72511bd8</td>\n",
       "      <td>Tell me your fable\\nA fable\\nTell me your fabl...</td>\n",
       "    </tr>\n",
       "    <tr>\n",
       "      <th>2</th>\n",
       "      <td>e2c8830fbc86e5964478243099eec23a</td>\n",
       "      <td>You're ashamed about all your fears and doubts...</td>\n",
       "      <td>9c6dc41d5ccd9968d07f055da5d8f741</td>\n",
       "      <td>You're ashamed about all your fears and doubts...</td>\n",
       "    </tr>\n",
       "    <tr>\n",
       "      <th>3</th>\n",
       "      <td>e2c8830fbc86e5964478243099eec23a</td>\n",
       "      <td>You're ashamed about all your fears and doubts...</td>\n",
       "      <td>bfd04a73e9cffdf0e282c92219a86ea1</td>\n",
       "      <td>You're ashamed about all your fears and doubts...</td>\n",
       "    </tr>\n",
       "    <tr>\n",
       "      <th>4</th>\n",
       "      <td>7624653ca8522ba93470843c74961b7d</td>\n",
       "      <td>You showed him all the best of you,\\nBut I'm a...</td>\n",
       "      <td>8d70930d09cd239c948408d1317d8659</td>\n",
       "      <td>You showed him all the best of you,\\nBut I'm a...</td>\n",
       "    </tr>\n",
       "  </tbody>\n",
       "</table>\n",
       "</div>"
      ],
      "text/plain": [
       "                            lyricId  \\\n",
       "0  a951f9504e89759e9d23039b7b17ec14   \n",
       "1  0c749bc3f01eb8e6cf986fa14ccfc585   \n",
       "2  e2c8830fbc86e5964478243099eec23a   \n",
       "3  e2c8830fbc86e5964478243099eec23a   \n",
       "4  7624653ca8522ba93470843c74961b7d   \n",
       "\n",
       "                                                text  \\\n",
       "0  Живу сейчас обломами, обломками не той любви\\n...   \n",
       "1  Tell me your fable\\nA fable\\nTell me your fabl...   \n",
       "2  You're ashamed about all your fears and doubts...   \n",
       "3  You're ashamed about all your fears and doubts...   \n",
       "4  You showed him all the best of you,\\nBut I'm a...   \n",
       "\n",
       "                           track_id  \\\n",
       "0  1c4b1230f937e4c548ff732523214dcd   \n",
       "1  0faea89b0d7d6235b5b74def72511bd8   \n",
       "2  9c6dc41d5ccd9968d07f055da5d8f741   \n",
       "3  bfd04a73e9cffdf0e282c92219a86ea1   \n",
       "4  8d70930d09cd239c948408d1317d8659   \n",
       "\n",
       "                                            max_text  \n",
       "0  Живу сейчас обломами, обломками не той любви\\n...  \n",
       "1  Tell me your fable\\nA fable\\nTell me your fabl...  \n",
       "2  You're ashamed about all your fears and doubts...  \n",
       "3  You're ashamed about all your fears and doubts...  \n",
       "4  You showed him all the best of you,\\nBut I'm a...  "
      ]
     },
     "execution_count": 229,
     "metadata": {},
     "output_type": "execute_result"
    }
   ],
   "source": [
    "# Создание колонки max_text с самым длинным текстом из текстов в строках с одинаковым track_id.\n",
    "\n",
    "lyrics['max_text'] = lyrics['track_id'].apply(max_row)\n",
    "lyrics.head()"
   ]
  },
  {
   "cell_type": "code",
   "execution_count": 230,
   "id": "71c3cb20",
   "metadata": {
    "colab": {
     "base_uri": "https://localhost:8080/"
    },
    "id": "71c3cb20",
    "outputId": "faaab31a-62e9-423e-905e-89ff360ba381"
   },
   "outputs": [
    {
     "data": {
      "text/plain": [
       "(11414, 4)"
      ]
     },
     "execution_count": 230,
     "metadata": {},
     "output_type": "execute_result"
    }
   ],
   "source": [
    "lyrics.shape"
   ]
  },
  {
   "cell_type": "code",
   "execution_count": 231,
   "id": "2b4f1687",
   "metadata": {
    "colab": {
     "base_uri": "https://localhost:8080/",
     "height": 397
    },
    "id": "2b4f1687",
    "outputId": "42511e5c-169a-410c-f4b5-ed959c8c7dab"
   },
   "outputs": [
    {
     "data": {
      "text/html": [
       "<div>\n",
       "<style scoped>\n",
       "    .dataframe tbody tr th:only-of-type {\n",
       "        vertical-align: middle;\n",
       "    }\n",
       "\n",
       "    .dataframe tbody tr th {\n",
       "        vertical-align: top;\n",
       "    }\n",
       "\n",
       "    .dataframe thead th {\n",
       "        text-align: right;\n",
       "    }\n",
       "</style>\n",
       "<table border=\"1\" class=\"dataframe\">\n",
       "  <thead>\n",
       "    <tr style=\"text-align: right;\">\n",
       "      <th></th>\n",
       "      <th>lyricId</th>\n",
       "      <th>track_id</th>\n",
       "      <th>max_text</th>\n",
       "    </tr>\n",
       "  </thead>\n",
       "  <tbody>\n",
       "    <tr>\n",
       "      <th>0</th>\n",
       "      <td>a951f9504e89759e9d23039b7b17ec14</td>\n",
       "      <td>1c4b1230f937e4c548ff732523214dcd</td>\n",
       "      <td>Живу сейчас обломами, обломками не той любви\\n...</td>\n",
       "    </tr>\n",
       "    <tr>\n",
       "      <th>1</th>\n",
       "      <td>0c749bc3f01eb8e6cf986fa14ccfc585</td>\n",
       "      <td>0faea89b0d7d6235b5b74def72511bd8</td>\n",
       "      <td>Tell me your fable\\nA fable\\nTell me your fabl...</td>\n",
       "    </tr>\n",
       "    <tr>\n",
       "      <th>2</th>\n",
       "      <td>e2c8830fbc86e5964478243099eec23a</td>\n",
       "      <td>9c6dc41d5ccd9968d07f055da5d8f741</td>\n",
       "      <td>You're ashamed about all your fears and doubts...</td>\n",
       "    </tr>\n",
       "    <tr>\n",
       "      <th>3</th>\n",
       "      <td>e2c8830fbc86e5964478243099eec23a</td>\n",
       "      <td>bfd04a73e9cffdf0e282c92219a86ea1</td>\n",
       "      <td>You're ashamed about all your fears and doubts...</td>\n",
       "    </tr>\n",
       "    <tr>\n",
       "      <th>4</th>\n",
       "      <td>7624653ca8522ba93470843c74961b7d</td>\n",
       "      <td>8d70930d09cd239c948408d1317d8659</td>\n",
       "      <td>You showed him all the best of you,\\nBut I'm a...</td>\n",
       "    </tr>\n",
       "  </tbody>\n",
       "</table>\n",
       "</div>"
      ],
      "text/plain": [
       "                            lyricId                          track_id  \\\n",
       "0  a951f9504e89759e9d23039b7b17ec14  1c4b1230f937e4c548ff732523214dcd   \n",
       "1  0c749bc3f01eb8e6cf986fa14ccfc585  0faea89b0d7d6235b5b74def72511bd8   \n",
       "2  e2c8830fbc86e5964478243099eec23a  9c6dc41d5ccd9968d07f055da5d8f741   \n",
       "3  e2c8830fbc86e5964478243099eec23a  bfd04a73e9cffdf0e282c92219a86ea1   \n",
       "4  7624653ca8522ba93470843c74961b7d  8d70930d09cd239c948408d1317d8659   \n",
       "\n",
       "                                            max_text  \n",
       "0  Живу сейчас обломами, обломками не той любви\\n...  \n",
       "1  Tell me your fable\\nA fable\\nTell me your fabl...  \n",
       "2  You're ashamed about all your fears and doubts...  \n",
       "3  You're ashamed about all your fears and doubts...  \n",
       "4  You showed him all the best of you,\\nBut I'm a...  "
      ]
     },
     "execution_count": 231,
     "metadata": {},
     "output_type": "execute_result"
    }
   ],
   "source": [
    "# Временный датасет, где дропаем столбец с исходным текстом text.\n",
    "dataset_temp = lyrics.drop(['text'], axis=1)\n",
    "\n",
    "# Итоговый датасет lyrics, где удалили дубликаты по столбцу track_id.\n",
    "result_lyrics = dataset_temp.drop_duplicates(subset=['track_id'], keep='first')\n",
    "result_lyrics.head()"
   ]
  },
  {
   "cell_type": "code",
   "execution_count": 232,
   "id": "5f88f7f4",
   "metadata": {
    "colab": {
     "base_uri": "https://localhost:8080/"
    },
    "id": "5f88f7f4",
    "outputId": "6dec0afd-2f49-4165-b30b-0bcc9a0314f7"
   },
   "outputs": [
    {
     "data": {
      "text/plain": [
       "(10277, 3)"
      ]
     },
     "execution_count": 232,
     "metadata": {},
     "output_type": "execute_result"
    }
   ],
   "source": [
    "result_lyrics.shape"
   ]
  },
  {
   "cell_type": "code",
   "execution_count": 233,
   "id": "1b4a56c9",
   "metadata": {
    "id": "1b4a56c9"
   },
   "outputs": [],
   "source": [
    "# Сборка общего датасета для обработки текстов (без пропусков в max_text и title )\n",
    "covers_met=pd.merge(covers, meta, how='inner', on='track_id')\n",
    "df = covers_met.merge(result_lyrics, how='inner', on='track_id')"
   ]
  },
  {
   "cell_type": "code",
   "execution_count": 234,
   "id": "176fb0f5",
   "metadata": {
    "colab": {
     "base_uri": "https://localhost:8080/"
    },
    "id": "176fb0f5",
    "outputId": "8b56d928-3834-45ae-d1ee-6c88cc7bd3aa"
   },
   "outputs": [
    {
     "name": "stdout",
     "output_type": "stream",
     "text": [
      "<class 'pandas.core.frame.DataFrame'>\n",
      "RangeIndex: 10076 entries, 0 to 10075\n",
      "Data columns (total 11 columns):\n",
      " #   Column             Non-Null Count  Dtype         \n",
      "---  ------             --------------  -----         \n",
      " 0   original_track_id  3041 non-null   object        \n",
      " 1   track_id           10076 non-null  object        \n",
      " 2   track_remake_type  10076 non-null  object        \n",
      " 3   dttm               10076 non-null  datetime64[ns]\n",
      " 4   title              10076 non-null  object        \n",
      " 5   language           10068 non-null  object        \n",
      " 6   isrc               10016 non-null  object        \n",
      " 7   genres             10076 non-null  object        \n",
      " 8   duration           10076 non-null  float64       \n",
      " 9   lyricId            10076 non-null  object        \n",
      " 10  max_text           10076 non-null  object        \n",
      "dtypes: datetime64[ns](1), float64(1), object(9)\n",
      "memory usage: 866.0+ KB\n"
     ]
    }
   ],
   "source": [
    "df.info()"
   ]
  },
  {
   "cell_type": "markdown",
   "id": "77785d1e",
   "metadata": {
    "id": "77785d1e"
   },
   "source": [
    "### Выводы:\n",
    "Удалили строки с очень короткой и очень длинной продолжительностью трека, также удалили некоторые дубликаты и пропуски."
   ]
  },
  {
   "cell_type": "markdown",
   "id": "0275fc63",
   "metadata": {
    "id": "0275fc63"
   },
   "source": [
    "## Фича-инжиниринг: сгенерировать дополнительные признаки"
   ]
  },
  {
   "cell_type": "markdown",
   "id": "0951e54a",
   "metadata": {
    "id": "0951e54a"
   },
   "source": [
    "### Признак \"кавер\" в наименовании трека\n",
    "\n",
    "Гипотеза:  в наименовании трека могут содержаться слова, синонимы  \"кавер\", по которым можно классифицировать оригинал/кавер.\n",
    "Например: \"cover\", \"cover version\", \"interpretation\", \"version\", \"remake\", \"re-recording\""
   ]
  },
  {
   "cell_type": "code",
   "execution_count": 235,
   "id": "f7fc43b9",
   "metadata": {
    "id": "f7fc43b9"
   },
   "outputs": [],
   "source": [
    "# мы создали отдельно список слов которые могут указывать на кавер и перевели на 50 самых встречающихся языков,\n",
    "# и сохранили в файле 'keywords.json' в репозитории \n",
    "keywords = pd.read_json('keywords.json', typ='series').tolist() "
   ]
  },
  {
   "cell_type": "code",
   "execution_count": 236,
   "id": "6c2b45bc",
   "metadata": {
    "id": "6c2b45bc"
   },
   "outputs": [],
   "source": [
    "def contains_words(text, word_list):\n",
    "    \"\"\"\n",
    "    Проверяет, содержит ли текст хотя бы одно слово из заданного списка.\n",
    "\n",
    "    Args:\n",
    "        text (str): Текст для проверки.\n",
    "        word_list (list): Список слов, которые нужно найти в тексте.\n",
    "\n",
    "    Returns:\n",
    "        int: Возвращает 1, если хотя бы одно слово из списка найдено в тексте, и 0 в противном случае.\n",
    "    \"\"\"\n",
    "    \n",
    "    if text is None:\n",
    "        return 0  # Обрабатываем значения None, возвращая 0\n",
    "    \n",
    "    text = text.lower()  # Приводим весь текст к нижнему регистру\n",
    "    words = text.split()  # Разделяем текст на слова\n",
    "    for word in words:\n",
    "        if word in word_list:\n",
    "            return 1\n",
    "    return 0"
   ]
  },
  {
   "cell_type": "code",
   "execution_count": 237,
   "id": "0a260a5e",
   "metadata": {
    "colab": {
     "base_uri": "https://localhost:8080/"
    },
    "id": "0a260a5e",
    "outputId": "271efd2f-5414-4153-d99b-669b9fb9b0f5"
   },
   "outputs": [
    {
     "name": "stdout",
     "output_type": "stream",
     "text": [
      "CPU times: total: 62.5 ms\n",
      "Wall time: 63.9 ms\n"
     ]
    }
   ],
   "source": [
    "%%time\n",
    "df['cov_in_title'] = df['title'].apply(lambda x: contains_words(x, keywords))"
   ]
  },
  {
   "cell_type": "code",
   "execution_count": 238,
   "id": "114675ce",
   "metadata": {
    "colab": {
     "base_uri": "https://localhost:8080/"
    },
    "id": "114675ce",
    "outputId": "e7a476b6-695f-42eb-ea65-c7c9eda934e0",
    "scrolled": true
   },
   "outputs": [
    {
     "data": {
      "text/plain": [
       "cov_in_title\n",
       "0    10069\n",
       "1        7\n",
       "Name: count, dtype: int64"
      ]
     },
     "execution_count": 238,
     "metadata": {},
     "output_type": "execute_result"
    }
   ],
   "source": [
    "df['cov_in_title'].value_counts()"
   ]
  },
  {
   "cell_type": "code",
   "execution_count": 239,
   "id": "2a52c959",
   "metadata": {
    "colab": {
     "base_uri": "https://localhost:8080/"
    },
    "id": "2a52c959",
    "outputId": "93329e1c-ff9c-4df1-dcc6-fb00af50c612"
   },
   "outputs": [
    {
     "data": {
      "text/plain": [
       "cov_in_title\n",
       "0    71108\n",
       "1       90\n",
       "Name: count, dtype: int64"
      ]
     },
     "execution_count": 239,
     "metadata": {},
     "output_type": "execute_result"
    }
   ],
   "source": [
    "meta['cov_in_title'] = meta['title'].apply(lambda x: contains_words(x, keywords))\n",
    "meta['cov_in_title'].value_counts()"
   ]
  },
  {
   "cell_type": "markdown",
   "id": "ae4b0e29",
   "metadata": {},
   "source": [
    " Выводы: гипотеза не подтвердилась. По имеющимся у нас данным, пометку \"кавер\" в наименовании трека делают в менее 1% случаев. Не будем добавлять этот признак в обучение модели."
   ]
  },
  {
   "cell_type": "markdown",
   "id": "3fc7cc02",
   "metadata": {},
   "source": [
    "### Создани фичей для  модли  CatBoost"
   ]
  },
  {
   "cell_type": "markdown",
   "id": "257b3c98",
   "metadata": {},
   "source": [
    "Учитывая наличие текстовых данных не во всех треках, мы рассмотрим два сценария:\n",
    "- строим модель с использованием текстов не на всех даных\n",
    "- создаем модель на всех данных, но без текстов песен"
   ]
  },
  {
   "cell_type": "markdown",
   "id": "ba7606f8",
   "metadata": {},
   "source": [
    "Скопирум датасеты"
   ]
  },
  {
   "cell_type": "code",
   "execution_count": 240,
   "id": "a06954c0",
   "metadata": {},
   "outputs": [],
   "source": [
    "met_cat_df = covers_met.copy()\n",
    "text_cat_df = df.copy()"
   ]
  },
  {
   "cell_type": "markdown",
   "id": "d428c1fc",
   "metadata": {},
   "source": [
    "создадим признаки на основе жанров и также добавим количество жанров как один из признаков"
   ]
  },
  {
   "cell_type": "code",
   "execution_count": 241,
   "id": "448fd40e",
   "metadata": {},
   "outputs": [],
   "source": [
    "def process_dataframe(df):\n",
    "    # Добавим признак с количеством жанров\n",
    "    df['genres_count'] = df['genres'].apply(len)\n",
    "\n",
    "    # Разделим жанры на отдельные столбцы\n",
    "    genres = df['genres'].apply(lambda x: ','.join(x))\n",
    "    genres = genres.str.get_dummies(',')\n",
    "    df = df.drop(columns=['genres'])\n",
    "    df = pd.concat([df, genres], axis=1)\n",
    "\n",
    "    return df"
   ]
  },
  {
   "cell_type": "code",
   "execution_count": 242,
   "id": "4f139477",
   "metadata": {},
   "outputs": [],
   "source": [
    "met_cat_df = process_dataframe(met_cat_df)\n",
    "text_cat_df = process_dataframe(text_cat_df)"
   ]
  },
  {
   "cell_type": "code",
   "execution_count": 243,
   "id": "15ebe648",
   "metadata": {},
   "outputs": [
    {
     "data": {
      "text/html": [
       "<div>\n",
       "<style scoped>\n",
       "    .dataframe tbody tr th:only-of-type {\n",
       "        vertical-align: middle;\n",
       "    }\n",
       "\n",
       "    .dataframe tbody tr th {\n",
       "        vertical-align: top;\n",
       "    }\n",
       "\n",
       "    .dataframe thead th {\n",
       "        text-align: right;\n",
       "    }\n",
       "</style>\n",
       "<table border=\"1\" class=\"dataframe\">\n",
       "  <thead>\n",
       "    <tr style=\"text-align: right;\">\n",
       "      <th></th>\n",
       "      <th>original_track_id</th>\n",
       "      <th>track_id</th>\n",
       "      <th>track_remake_type</th>\n",
       "      <th>dttm</th>\n",
       "      <th>title</th>\n",
       "      <th>language</th>\n",
       "      <th>isrc</th>\n",
       "      <th>duration</th>\n",
       "      <th>genres_count</th>\n",
       "      <th>AFRICAN</th>\n",
       "      <th>ALLROCK</th>\n",
       "      <th>ALTERNATIVE</th>\n",
       "      <th>ALTERNATIVEMETAL</th>\n",
       "      <th>AMBIENTGENRE</th>\n",
       "      <th>AMERFOLK</th>\n",
       "      <th>ANIMATED</th>\n",
       "      <th>ANIMEMUSIC</th>\n",
       "      <th>ARABESQUEMUSIC</th>\n",
       "      <th>ARABICPOP</th>\n",
       "      <th>ASIAPOP</th>\n",
       "      <th>AZERBAIJANPOP</th>\n",
       "      <th>BALKAN</th>\n",
       "      <th>BARD</th>\n",
       "      <th>BASSGENRE</th>\n",
       "      <th>BEBOPGENRE</th>\n",
       "      <th>BIGBANDS</th>\n",
       "      <th>BLACKMETAL</th>\n",
       "      <th>BLUES</th>\n",
       "      <th>BOLLYWOOD</th>\n",
       "      <th>BOOKSNOTINRUSSIAN</th>\n",
       "      <th>BREAKBEATGENRE</th>\n",
       "      <th>CAUCASIAN</th>\n",
       "      <th>CELTIC</th>\n",
       "      <th>CHILDREN</th>\n",
       "      <th>CLASSICAL</th>\n",
       "      <th>CLASSICALMASTERPIECES</th>\n",
       "      <th>CLASSICALMUSIC</th>\n",
       "      <th>CLASSICMETAL</th>\n",
       "      <th>CONJAZZ</th>\n",
       "      <th>COUNTRY</th>\n",
       "      <th>DANCE</th>\n",
       "      <th>DEATHMETAL</th>\n",
       "      <th>DISCO</th>\n",
       "      <th>DNB</th>\n",
       "      <th>DOOMMETAL</th>\n",
       "      <th>DUB</th>\n",
       "      <th>DUBSTEP</th>\n",
       "      <th>EASTERN</th>\n",
       "      <th>EDMGENRE</th>\n",
       "      <th>ELECTRONICS</th>\n",
       "      <th>EPICMETAL</th>\n",
       "      <th>ESTRADA</th>\n",
       "      <th>EUROFOLK</th>\n",
       "      <th>EXPERIMENTAL</th>\n",
       "      <th>EXTREMEMETAL</th>\n",
       "      <th>FAIRYTALES</th>\n",
       "      <th>FILMS</th>\n",
       "      <th>FOLK</th>\n",
       "      <th>FOLKGENRE</th>\n",
       "      <th>FOLKMETAL</th>\n",
       "      <th>FOLKROCK</th>\n",
       "      <th>FORCHILDREN</th>\n",
       "      <th>FOREIGNBARD</th>\n",
       "      <th>FOREIGNRAP</th>\n",
       "      <th>FUNK</th>\n",
       "      <th>GOTHICMETAL</th>\n",
       "      <th>HARDCORE</th>\n",
       "      <th>HARDROCK</th>\n",
       "      <th>HOUSE</th>\n",
       "      <th>HYPERPOPGENRE</th>\n",
       "      <th>INDIE</th>\n",
       "      <th>INDUSTRIAL</th>\n",
       "      <th>ISRAELIPOP</th>\n",
       "      <th>ISRAELIROCK</th>\n",
       "      <th>JAPANESEPOP</th>\n",
       "      <th>JAZZ</th>\n",
       "      <th>JEWISH</th>\n",
       "      <th>KPOP</th>\n",
       "      <th>LATINFOLK</th>\n",
       "      <th>LOCAL-INDIE</th>\n",
       "      <th>LOUNGE</th>\n",
       "      <th>LULLABY</th>\n",
       "      <th>MEDITATION</th>\n",
       "      <th>METAL</th>\n",
       "      <th>METALCOREGENRE</th>\n",
       "      <th>MIZRAHI</th>\n",
       "      <th>MODERN</th>\n",
       "      <th>MUSICAL</th>\n",
       "      <th>NEWAGE</th>\n",
       "      <th>NEWWAVE</th>\n",
       "      <th>NUMETAL</th>\n",
       "      <th>PHONKGENRE</th>\n",
       "      <th>POEMSFORCHILDREN</th>\n",
       "      <th>POP</th>\n",
       "      <th>POSTHARDCORE</th>\n",
       "      <th>POSTMETAL</th>\n",
       "      <th>POSTPUNK</th>\n",
       "      <th>PROG</th>\n",
       "      <th>PROGMETAL</th>\n",
       "      <th>PUNK</th>\n",
       "      <th>RAP</th>\n",
       "      <th>REGGAE</th>\n",
       "      <th>REGGAETON</th>\n",
       "      <th>RELAX</th>\n",
       "      <th>RNB</th>\n",
       "      <th>RNR</th>\n",
       "      <th>ROCK</th>\n",
       "      <th>RUSBARDS</th>\n",
       "      <th>RUSESTRADA</th>\n",
       "      <th>RUSFOLK</th>\n",
       "      <th>RUSPOP</th>\n",
       "      <th>RUSRAP</th>\n",
       "      <th>RUSROCK</th>\n",
       "      <th>SHANSON</th>\n",
       "      <th>SKA</th>\n",
       "      <th>SMOOTHJAZZ</th>\n",
       "      <th>SOUL</th>\n",
       "      <th>SOUNDTRACK</th>\n",
       "      <th>SPIRITUAL</th>\n",
       "      <th>SPOKEN</th>\n",
       "      <th>SPORT</th>\n",
       "      <th>STONERROCK</th>\n",
       "      <th>TECHNO</th>\n",
       "      <th>THRASHMETAL</th>\n",
       "      <th>TRADJAZZ</th>\n",
       "      <th>TRANCE</th>\n",
       "      <th>TRIPHOPGENRE</th>\n",
       "      <th>TURKISHPOP</th>\n",
       "      <th>TURKISHRAP</th>\n",
       "      <th>TURKISHROCK</th>\n",
       "      <th>TVSERIES</th>\n",
       "      <th>UKRROCK</th>\n",
       "      <th>UZBEKPOP</th>\n",
       "      <th>VIDEOGAME</th>\n",
       "      <th>VOCAL</th>\n",
       "      <th>VOCALJAZZ</th>\n",
       "    </tr>\n",
       "  </thead>\n",
       "  <tbody>\n",
       "    <tr>\n",
       "      <th>0</th>\n",
       "      <td>eeb69a3cb92300456b6a5f4162093851</td>\n",
       "      <td>eeb69a3cb92300456b6a5f4162093851</td>\n",
       "      <td>ORIGINAL</td>\n",
       "      <td>2009-11-11 21:00:00</td>\n",
       "      <td>Proud Mary</td>\n",
       "      <td>EN</td>\n",
       "      <td>USFI86900049</td>\n",
       "      <td>187220.0</td>\n",
       "      <td>2</td>\n",
       "      <td>0</td>\n",
       "      <td>1</td>\n",
       "      <td>0</td>\n",
       "      <td>0</td>\n",
       "      <td>0</td>\n",
       "      <td>0</td>\n",
       "      <td>0</td>\n",
       "      <td>0</td>\n",
       "      <td>0</td>\n",
       "      <td>0</td>\n",
       "      <td>0</td>\n",
       "      <td>0</td>\n",
       "      <td>0</td>\n",
       "      <td>0</td>\n",
       "      <td>0</td>\n",
       "      <td>0</td>\n",
       "      <td>0</td>\n",
       "      <td>0</td>\n",
       "      <td>0</td>\n",
       "      <td>0</td>\n",
       "      <td>0</td>\n",
       "      <td>0</td>\n",
       "      <td>0</td>\n",
       "      <td>0</td>\n",
       "      <td>0</td>\n",
       "      <td>0</td>\n",
       "      <td>0</td>\n",
       "      <td>0</td>\n",
       "      <td>0</td>\n",
       "      <td>0</td>\n",
       "      <td>0</td>\n",
       "      <td>0</td>\n",
       "      <td>0</td>\n",
       "      <td>0</td>\n",
       "      <td>0</td>\n",
       "      <td>0</td>\n",
       "      <td>0</td>\n",
       "      <td>0</td>\n",
       "      <td>0</td>\n",
       "      <td>0</td>\n",
       "      <td>0</td>\n",
       "      <td>0</td>\n",
       "      <td>0</td>\n",
       "      <td>0</td>\n",
       "      <td>0</td>\n",
       "      <td>0</td>\n",
       "      <td>0</td>\n",
       "      <td>0</td>\n",
       "      <td>0</td>\n",
       "      <td>0</td>\n",
       "      <td>0</td>\n",
       "      <td>0</td>\n",
       "      <td>0</td>\n",
       "      <td>0</td>\n",
       "      <td>0</td>\n",
       "      <td>0</td>\n",
       "      <td>0</td>\n",
       "      <td>0</td>\n",
       "      <td>0</td>\n",
       "      <td>0</td>\n",
       "      <td>0</td>\n",
       "      <td>0</td>\n",
       "      <td>0</td>\n",
       "      <td>0</td>\n",
       "      <td>0</td>\n",
       "      <td>0</td>\n",
       "      <td>0</td>\n",
       "      <td>0</td>\n",
       "      <td>0</td>\n",
       "      <td>0</td>\n",
       "      <td>0</td>\n",
       "      <td>0</td>\n",
       "      <td>0</td>\n",
       "      <td>0</td>\n",
       "      <td>0</td>\n",
       "      <td>0</td>\n",
       "      <td>0</td>\n",
       "      <td>0</td>\n",
       "      <td>0</td>\n",
       "      <td>0</td>\n",
       "      <td>0</td>\n",
       "      <td>0</td>\n",
       "      <td>0</td>\n",
       "      <td>0</td>\n",
       "      <td>0</td>\n",
       "      <td>0</td>\n",
       "      <td>0</td>\n",
       "      <td>0</td>\n",
       "      <td>0</td>\n",
       "      <td>0</td>\n",
       "      <td>0</td>\n",
       "      <td>0</td>\n",
       "      <td>0</td>\n",
       "      <td>0</td>\n",
       "      <td>0</td>\n",
       "      <td>0</td>\n",
       "      <td>0</td>\n",
       "      <td>1</td>\n",
       "      <td>0</td>\n",
       "      <td>0</td>\n",
       "      <td>0</td>\n",
       "      <td>0</td>\n",
       "      <td>0</td>\n",
       "      <td>0</td>\n",
       "      <td>0</td>\n",
       "      <td>0</td>\n",
       "      <td>0</td>\n",
       "      <td>0</td>\n",
       "      <td>0</td>\n",
       "      <td>0</td>\n",
       "      <td>0</td>\n",
       "      <td>0</td>\n",
       "      <td>0</td>\n",
       "      <td>0</td>\n",
       "      <td>0</td>\n",
       "      <td>0</td>\n",
       "      <td>0</td>\n",
       "      <td>0</td>\n",
       "      <td>0</td>\n",
       "      <td>0</td>\n",
       "      <td>0</td>\n",
       "      <td>0</td>\n",
       "      <td>0</td>\n",
       "      <td>0</td>\n",
       "      <td>0</td>\n",
       "      <td>0</td>\n",
       "      <td>0</td>\n",
       "    </tr>\n",
       "    <tr>\n",
       "      <th>1</th>\n",
       "      <td>fe7ee8fc1959cc7214fa21c4840dff0a</td>\n",
       "      <td>fe7ee8fc1959cc7214fa21c4840dff0a</td>\n",
       "      <td>ORIGINAL</td>\n",
       "      <td>2009-11-11 21:00:00</td>\n",
       "      <td>Fortunate Son</td>\n",
       "      <td>EN</td>\n",
       "      <td>USFI86900065</td>\n",
       "      <td>137780.0</td>\n",
       "      <td>2</td>\n",
       "      <td>0</td>\n",
       "      <td>1</td>\n",
       "      <td>0</td>\n",
       "      <td>0</td>\n",
       "      <td>0</td>\n",
       "      <td>0</td>\n",
       "      <td>0</td>\n",
       "      <td>0</td>\n",
       "      <td>0</td>\n",
       "      <td>0</td>\n",
       "      <td>0</td>\n",
       "      <td>0</td>\n",
       "      <td>0</td>\n",
       "      <td>0</td>\n",
       "      <td>0</td>\n",
       "      <td>0</td>\n",
       "      <td>0</td>\n",
       "      <td>0</td>\n",
       "      <td>0</td>\n",
       "      <td>0</td>\n",
       "      <td>0</td>\n",
       "      <td>0</td>\n",
       "      <td>0</td>\n",
       "      <td>0</td>\n",
       "      <td>0</td>\n",
       "      <td>0</td>\n",
       "      <td>0</td>\n",
       "      <td>0</td>\n",
       "      <td>0</td>\n",
       "      <td>0</td>\n",
       "      <td>0</td>\n",
       "      <td>0</td>\n",
       "      <td>0</td>\n",
       "      <td>0</td>\n",
       "      <td>0</td>\n",
       "      <td>0</td>\n",
       "      <td>0</td>\n",
       "      <td>0</td>\n",
       "      <td>0</td>\n",
       "      <td>0</td>\n",
       "      <td>0</td>\n",
       "      <td>0</td>\n",
       "      <td>0</td>\n",
       "      <td>0</td>\n",
       "      <td>0</td>\n",
       "      <td>0</td>\n",
       "      <td>0</td>\n",
       "      <td>0</td>\n",
       "      <td>0</td>\n",
       "      <td>0</td>\n",
       "      <td>0</td>\n",
       "      <td>0</td>\n",
       "      <td>0</td>\n",
       "      <td>0</td>\n",
       "      <td>0</td>\n",
       "      <td>0</td>\n",
       "      <td>0</td>\n",
       "      <td>0</td>\n",
       "      <td>0</td>\n",
       "      <td>0</td>\n",
       "      <td>0</td>\n",
       "      <td>0</td>\n",
       "      <td>0</td>\n",
       "      <td>0</td>\n",
       "      <td>0</td>\n",
       "      <td>0</td>\n",
       "      <td>0</td>\n",
       "      <td>0</td>\n",
       "      <td>0</td>\n",
       "      <td>0</td>\n",
       "      <td>0</td>\n",
       "      <td>0</td>\n",
       "      <td>0</td>\n",
       "      <td>0</td>\n",
       "      <td>0</td>\n",
       "      <td>0</td>\n",
       "      <td>0</td>\n",
       "      <td>0</td>\n",
       "      <td>0</td>\n",
       "      <td>0</td>\n",
       "      <td>0</td>\n",
       "      <td>0</td>\n",
       "      <td>0</td>\n",
       "      <td>0</td>\n",
       "      <td>0</td>\n",
       "      <td>0</td>\n",
       "      <td>0</td>\n",
       "      <td>0</td>\n",
       "      <td>0</td>\n",
       "      <td>0</td>\n",
       "      <td>0</td>\n",
       "      <td>0</td>\n",
       "      <td>0</td>\n",
       "      <td>0</td>\n",
       "      <td>0</td>\n",
       "      <td>0</td>\n",
       "      <td>0</td>\n",
       "      <td>1</td>\n",
       "      <td>0</td>\n",
       "      <td>0</td>\n",
       "      <td>0</td>\n",
       "      <td>0</td>\n",
       "      <td>0</td>\n",
       "      <td>0</td>\n",
       "      <td>0</td>\n",
       "      <td>0</td>\n",
       "      <td>0</td>\n",
       "      <td>0</td>\n",
       "      <td>0</td>\n",
       "      <td>0</td>\n",
       "      <td>0</td>\n",
       "      <td>0</td>\n",
       "      <td>0</td>\n",
       "      <td>0</td>\n",
       "      <td>0</td>\n",
       "      <td>0</td>\n",
       "      <td>0</td>\n",
       "      <td>0</td>\n",
       "      <td>0</td>\n",
       "      <td>0</td>\n",
       "      <td>0</td>\n",
       "      <td>0</td>\n",
       "      <td>0</td>\n",
       "      <td>0</td>\n",
       "      <td>0</td>\n",
       "      <td>0</td>\n",
       "      <td>0</td>\n",
       "    </tr>\n",
       "    <tr>\n",
       "      <th>2</th>\n",
       "      <td>cd89fef7ffdd490db800357f47722b20</td>\n",
       "      <td>cd89fef7ffdd490db800357f47722b20</td>\n",
       "      <td>ORIGINAL</td>\n",
       "      <td>2009-09-21 20:00:00</td>\n",
       "      <td>La Camisa Negra</td>\n",
       "      <td>ES</td>\n",
       "      <td>USUL10400965</td>\n",
       "      <td>216840.0</td>\n",
       "      <td>3</td>\n",
       "      <td>0</td>\n",
       "      <td>0</td>\n",
       "      <td>0</td>\n",
       "      <td>0</td>\n",
       "      <td>0</td>\n",
       "      <td>0</td>\n",
       "      <td>0</td>\n",
       "      <td>0</td>\n",
       "      <td>0</td>\n",
       "      <td>0</td>\n",
       "      <td>0</td>\n",
       "      <td>0</td>\n",
       "      <td>0</td>\n",
       "      <td>0</td>\n",
       "      <td>0</td>\n",
       "      <td>0</td>\n",
       "      <td>0</td>\n",
       "      <td>0</td>\n",
       "      <td>0</td>\n",
       "      <td>0</td>\n",
       "      <td>0</td>\n",
       "      <td>0</td>\n",
       "      <td>0</td>\n",
       "      <td>0</td>\n",
       "      <td>0</td>\n",
       "      <td>0</td>\n",
       "      <td>0</td>\n",
       "      <td>0</td>\n",
       "      <td>0</td>\n",
       "      <td>0</td>\n",
       "      <td>0</td>\n",
       "      <td>0</td>\n",
       "      <td>0</td>\n",
       "      <td>0</td>\n",
       "      <td>0</td>\n",
       "      <td>0</td>\n",
       "      <td>0</td>\n",
       "      <td>0</td>\n",
       "      <td>0</td>\n",
       "      <td>0</td>\n",
       "      <td>0</td>\n",
       "      <td>0</td>\n",
       "      <td>0</td>\n",
       "      <td>0</td>\n",
       "      <td>0</td>\n",
       "      <td>0</td>\n",
       "      <td>0</td>\n",
       "      <td>0</td>\n",
       "      <td>1</td>\n",
       "      <td>0</td>\n",
       "      <td>0</td>\n",
       "      <td>0</td>\n",
       "      <td>0</td>\n",
       "      <td>0</td>\n",
       "      <td>0</td>\n",
       "      <td>0</td>\n",
       "      <td>0</td>\n",
       "      <td>0</td>\n",
       "      <td>0</td>\n",
       "      <td>0</td>\n",
       "      <td>0</td>\n",
       "      <td>0</td>\n",
       "      <td>0</td>\n",
       "      <td>0</td>\n",
       "      <td>0</td>\n",
       "      <td>0</td>\n",
       "      <td>0</td>\n",
       "      <td>0</td>\n",
       "      <td>0</td>\n",
       "      <td>1</td>\n",
       "      <td>0</td>\n",
       "      <td>0</td>\n",
       "      <td>0</td>\n",
       "      <td>0</td>\n",
       "      <td>0</td>\n",
       "      <td>0</td>\n",
       "      <td>0</td>\n",
       "      <td>0</td>\n",
       "      <td>0</td>\n",
       "      <td>0</td>\n",
       "      <td>0</td>\n",
       "      <td>0</td>\n",
       "      <td>0</td>\n",
       "      <td>0</td>\n",
       "      <td>1</td>\n",
       "      <td>0</td>\n",
       "      <td>0</td>\n",
       "      <td>0</td>\n",
       "      <td>0</td>\n",
       "      <td>0</td>\n",
       "      <td>0</td>\n",
       "      <td>0</td>\n",
       "      <td>0</td>\n",
       "      <td>0</td>\n",
       "      <td>0</td>\n",
       "      <td>0</td>\n",
       "      <td>0</td>\n",
       "      <td>0</td>\n",
       "      <td>0</td>\n",
       "      <td>0</td>\n",
       "      <td>0</td>\n",
       "      <td>0</td>\n",
       "      <td>0</td>\n",
       "      <td>0</td>\n",
       "      <td>0</td>\n",
       "      <td>0</td>\n",
       "      <td>0</td>\n",
       "      <td>0</td>\n",
       "      <td>0</td>\n",
       "      <td>0</td>\n",
       "      <td>0</td>\n",
       "      <td>0</td>\n",
       "      <td>0</td>\n",
       "      <td>0</td>\n",
       "      <td>0</td>\n",
       "      <td>0</td>\n",
       "      <td>0</td>\n",
       "      <td>0</td>\n",
       "      <td>0</td>\n",
       "      <td>0</td>\n",
       "      <td>0</td>\n",
       "      <td>0</td>\n",
       "      <td>0</td>\n",
       "      <td>0</td>\n",
       "      <td>0</td>\n",
       "      <td>0</td>\n",
       "      <td>0</td>\n",
       "    </tr>\n",
       "    <tr>\n",
       "      <th>3</th>\n",
       "      <td>995665640dc319973d3173a74a03860c</td>\n",
       "      <td>995665640dc319973d3173a74a03860c</td>\n",
       "      <td>ORIGINAL</td>\n",
       "      <td>2009-11-16 21:00:00</td>\n",
       "      <td>The Way I Are</td>\n",
       "      <td>EN</td>\n",
       "      <td>USUM70722806</td>\n",
       "      <td>179660.0</td>\n",
       "      <td>2</td>\n",
       "      <td>0</td>\n",
       "      <td>0</td>\n",
       "      <td>0</td>\n",
       "      <td>0</td>\n",
       "      <td>0</td>\n",
       "      <td>0</td>\n",
       "      <td>0</td>\n",
       "      <td>0</td>\n",
       "      <td>0</td>\n",
       "      <td>0</td>\n",
       "      <td>0</td>\n",
       "      <td>0</td>\n",
       "      <td>0</td>\n",
       "      <td>0</td>\n",
       "      <td>0</td>\n",
       "      <td>0</td>\n",
       "      <td>0</td>\n",
       "      <td>0</td>\n",
       "      <td>0</td>\n",
       "      <td>0</td>\n",
       "      <td>0</td>\n",
       "      <td>0</td>\n",
       "      <td>0</td>\n",
       "      <td>0</td>\n",
       "      <td>0</td>\n",
       "      <td>0</td>\n",
       "      <td>0</td>\n",
       "      <td>0</td>\n",
       "      <td>0</td>\n",
       "      <td>0</td>\n",
       "      <td>0</td>\n",
       "      <td>0</td>\n",
       "      <td>0</td>\n",
       "      <td>0</td>\n",
       "      <td>0</td>\n",
       "      <td>0</td>\n",
       "      <td>0</td>\n",
       "      <td>0</td>\n",
       "      <td>0</td>\n",
       "      <td>0</td>\n",
       "      <td>0</td>\n",
       "      <td>0</td>\n",
       "      <td>0</td>\n",
       "      <td>0</td>\n",
       "      <td>0</td>\n",
       "      <td>0</td>\n",
       "      <td>0</td>\n",
       "      <td>0</td>\n",
       "      <td>0</td>\n",
       "      <td>0</td>\n",
       "      <td>0</td>\n",
       "      <td>0</td>\n",
       "      <td>0</td>\n",
       "      <td>0</td>\n",
       "      <td>1</td>\n",
       "      <td>0</td>\n",
       "      <td>0</td>\n",
       "      <td>0</td>\n",
       "      <td>0</td>\n",
       "      <td>0</td>\n",
       "      <td>0</td>\n",
       "      <td>0</td>\n",
       "      <td>0</td>\n",
       "      <td>0</td>\n",
       "      <td>0</td>\n",
       "      <td>0</td>\n",
       "      <td>0</td>\n",
       "      <td>0</td>\n",
       "      <td>0</td>\n",
       "      <td>0</td>\n",
       "      <td>0</td>\n",
       "      <td>0</td>\n",
       "      <td>0</td>\n",
       "      <td>0</td>\n",
       "      <td>0</td>\n",
       "      <td>0</td>\n",
       "      <td>0</td>\n",
       "      <td>0</td>\n",
       "      <td>0</td>\n",
       "      <td>0</td>\n",
       "      <td>0</td>\n",
       "      <td>0</td>\n",
       "      <td>0</td>\n",
       "      <td>0</td>\n",
       "      <td>0</td>\n",
       "      <td>0</td>\n",
       "      <td>0</td>\n",
       "      <td>0</td>\n",
       "      <td>0</td>\n",
       "      <td>0</td>\n",
       "      <td>0</td>\n",
       "      <td>1</td>\n",
       "      <td>0</td>\n",
       "      <td>0</td>\n",
       "      <td>0</td>\n",
       "      <td>0</td>\n",
       "      <td>0</td>\n",
       "      <td>0</td>\n",
       "      <td>0</td>\n",
       "      <td>0</td>\n",
       "      <td>0</td>\n",
       "      <td>0</td>\n",
       "      <td>0</td>\n",
       "      <td>0</td>\n",
       "      <td>0</td>\n",
       "      <td>0</td>\n",
       "      <td>0</td>\n",
       "      <td>0</td>\n",
       "      <td>0</td>\n",
       "      <td>0</td>\n",
       "      <td>0</td>\n",
       "      <td>0</td>\n",
       "      <td>0</td>\n",
       "      <td>0</td>\n",
       "      <td>0</td>\n",
       "      <td>0</td>\n",
       "      <td>0</td>\n",
       "      <td>0</td>\n",
       "      <td>0</td>\n",
       "      <td>0</td>\n",
       "      <td>0</td>\n",
       "      <td>0</td>\n",
       "      <td>0</td>\n",
       "      <td>0</td>\n",
       "      <td>0</td>\n",
       "      <td>0</td>\n",
       "      <td>0</td>\n",
       "    </tr>\n",
       "    <tr>\n",
       "      <th>4</th>\n",
       "      <td>None</td>\n",
       "      <td>d6288499d0083cc34e60a077b7c4b3e1</td>\n",
       "      <td>COVER</td>\n",
       "      <td>2009-09-17 20:00:00</td>\n",
       "      <td>Extraball</td>\n",
       "      <td>EN</td>\n",
       "      <td>FR8Q10900116</td>\n",
       "      <td>212620.0</td>\n",
       "      <td>1</td>\n",
       "      <td>0</td>\n",
       "      <td>0</td>\n",
       "      <td>0</td>\n",
       "      <td>0</td>\n",
       "      <td>0</td>\n",
       "      <td>0</td>\n",
       "      <td>0</td>\n",
       "      <td>0</td>\n",
       "      <td>0</td>\n",
       "      <td>0</td>\n",
       "      <td>0</td>\n",
       "      <td>0</td>\n",
       "      <td>0</td>\n",
       "      <td>0</td>\n",
       "      <td>0</td>\n",
       "      <td>0</td>\n",
       "      <td>0</td>\n",
       "      <td>0</td>\n",
       "      <td>0</td>\n",
       "      <td>0</td>\n",
       "      <td>0</td>\n",
       "      <td>0</td>\n",
       "      <td>0</td>\n",
       "      <td>0</td>\n",
       "      <td>0</td>\n",
       "      <td>0</td>\n",
       "      <td>0</td>\n",
       "      <td>0</td>\n",
       "      <td>0</td>\n",
       "      <td>0</td>\n",
       "      <td>0</td>\n",
       "      <td>0</td>\n",
       "      <td>0</td>\n",
       "      <td>0</td>\n",
       "      <td>0</td>\n",
       "      <td>0</td>\n",
       "      <td>0</td>\n",
       "      <td>0</td>\n",
       "      <td>0</td>\n",
       "      <td>0</td>\n",
       "      <td>1</td>\n",
       "      <td>0</td>\n",
       "      <td>0</td>\n",
       "      <td>0</td>\n",
       "      <td>0</td>\n",
       "      <td>0</td>\n",
       "      <td>0</td>\n",
       "      <td>0</td>\n",
       "      <td>0</td>\n",
       "      <td>0</td>\n",
       "      <td>0</td>\n",
       "      <td>0</td>\n",
       "      <td>0</td>\n",
       "      <td>0</td>\n",
       "      <td>0</td>\n",
       "      <td>0</td>\n",
       "      <td>0</td>\n",
       "      <td>0</td>\n",
       "      <td>0</td>\n",
       "      <td>0</td>\n",
       "      <td>0</td>\n",
       "      <td>0</td>\n",
       "      <td>0</td>\n",
       "      <td>0</td>\n",
       "      <td>0</td>\n",
       "      <td>0</td>\n",
       "      <td>0</td>\n",
       "      <td>0</td>\n",
       "      <td>0</td>\n",
       "      <td>0</td>\n",
       "      <td>0</td>\n",
       "      <td>0</td>\n",
       "      <td>0</td>\n",
       "      <td>0</td>\n",
       "      <td>0</td>\n",
       "      <td>0</td>\n",
       "      <td>0</td>\n",
       "      <td>0</td>\n",
       "      <td>0</td>\n",
       "      <td>0</td>\n",
       "      <td>0</td>\n",
       "      <td>0</td>\n",
       "      <td>0</td>\n",
       "      <td>0</td>\n",
       "      <td>0</td>\n",
       "      <td>0</td>\n",
       "      <td>0</td>\n",
       "      <td>0</td>\n",
       "      <td>0</td>\n",
       "      <td>0</td>\n",
       "      <td>0</td>\n",
       "      <td>0</td>\n",
       "      <td>0</td>\n",
       "      <td>0</td>\n",
       "      <td>0</td>\n",
       "      <td>0</td>\n",
       "      <td>0</td>\n",
       "      <td>0</td>\n",
       "      <td>0</td>\n",
       "      <td>0</td>\n",
       "      <td>0</td>\n",
       "      <td>0</td>\n",
       "      <td>0</td>\n",
       "      <td>0</td>\n",
       "      <td>0</td>\n",
       "      <td>0</td>\n",
       "      <td>0</td>\n",
       "      <td>0</td>\n",
       "      <td>0</td>\n",
       "      <td>0</td>\n",
       "      <td>0</td>\n",
       "      <td>0</td>\n",
       "      <td>0</td>\n",
       "      <td>0</td>\n",
       "      <td>0</td>\n",
       "      <td>0</td>\n",
       "      <td>0</td>\n",
       "      <td>0</td>\n",
       "      <td>0</td>\n",
       "      <td>0</td>\n",
       "      <td>0</td>\n",
       "      <td>0</td>\n",
       "      <td>0</td>\n",
       "      <td>0</td>\n",
       "      <td>0</td>\n",
       "      <td>0</td>\n",
       "      <td>0</td>\n",
       "    </tr>\n",
       "  </tbody>\n",
       "</table>\n",
       "</div>"
      ],
      "text/plain": [
       "                  original_track_id                          track_id  \\\n",
       "0  eeb69a3cb92300456b6a5f4162093851  eeb69a3cb92300456b6a5f4162093851   \n",
       "1  fe7ee8fc1959cc7214fa21c4840dff0a  fe7ee8fc1959cc7214fa21c4840dff0a   \n",
       "2  cd89fef7ffdd490db800357f47722b20  cd89fef7ffdd490db800357f47722b20   \n",
       "3  995665640dc319973d3173a74a03860c  995665640dc319973d3173a74a03860c   \n",
       "4                              None  d6288499d0083cc34e60a077b7c4b3e1   \n",
       "\n",
       "  track_remake_type                dttm            title language  \\\n",
       "0          ORIGINAL 2009-11-11 21:00:00       Proud Mary       EN   \n",
       "1          ORIGINAL 2009-11-11 21:00:00    Fortunate Son       EN   \n",
       "2          ORIGINAL 2009-09-21 20:00:00  La Camisa Negra       ES   \n",
       "3          ORIGINAL 2009-11-16 21:00:00    The Way I Are       EN   \n",
       "4             COVER 2009-09-17 20:00:00        Extraball       EN   \n",
       "\n",
       "           isrc  duration  genres_count  AFRICAN  ALLROCK  ALTERNATIVE  \\\n",
       "0  USFI86900049  187220.0             2        0        1            0   \n",
       "1  USFI86900065  137780.0             2        0        1            0   \n",
       "2  USUL10400965  216840.0             3        0        0            0   \n",
       "3  USUM70722806  179660.0             2        0        0            0   \n",
       "4  FR8Q10900116  212620.0             1        0        0            0   \n",
       "\n",
       "   ALTERNATIVEMETAL  AMBIENTGENRE  AMERFOLK  ANIMATED  ANIMEMUSIC  \\\n",
       "0                 0             0         0         0           0   \n",
       "1                 0             0         0         0           0   \n",
       "2                 0             0         0         0           0   \n",
       "3                 0             0         0         0           0   \n",
       "4                 0             0         0         0           0   \n",
       "\n",
       "   ARABESQUEMUSIC  ARABICPOP  ASIAPOP  AZERBAIJANPOP  BALKAN  BARD  BASSGENRE  \\\n",
       "0               0          0        0              0       0     0          0   \n",
       "1               0          0        0              0       0     0          0   \n",
       "2               0          0        0              0       0     0          0   \n",
       "3               0          0        0              0       0     0          0   \n",
       "4               0          0        0              0       0     0          0   \n",
       "\n",
       "   BEBOPGENRE  BIGBANDS  BLACKMETAL  BLUES  BOLLYWOOD  BOOKSNOTINRUSSIAN  \\\n",
       "0           0         0           0      0          0                  0   \n",
       "1           0         0           0      0          0                  0   \n",
       "2           0         0           0      0          0                  0   \n",
       "3           0         0           0      0          0                  0   \n",
       "4           0         0           0      0          0                  0   \n",
       "\n",
       "   BREAKBEATGENRE  CAUCASIAN  CELTIC  CHILDREN  CLASSICAL  \\\n",
       "0               0          0       0         0          0   \n",
       "1               0          0       0         0          0   \n",
       "2               0          0       0         0          0   \n",
       "3               0          0       0         0          0   \n",
       "4               0          0       0         0          0   \n",
       "\n",
       "   CLASSICALMASTERPIECES  CLASSICALMUSIC  CLASSICMETAL  CONJAZZ  COUNTRY  \\\n",
       "0                      0               0             0        0        0   \n",
       "1                      0               0             0        0        0   \n",
       "2                      0               0             0        0        0   \n",
       "3                      0               0             0        0        0   \n",
       "4                      0               0             0        0        0   \n",
       "\n",
       "   DANCE  DEATHMETAL  DISCO  DNB  DOOMMETAL  DUB  DUBSTEP  EASTERN  EDMGENRE  \\\n",
       "0      0           0      0    0          0    0        0        0         0   \n",
       "1      0           0      0    0          0    0        0        0         0   \n",
       "2      0           0      0    0          0    0        0        0         0   \n",
       "3      0           0      0    0          0    0        0        0         0   \n",
       "4      0           0      0    0          0    0        0        0         0   \n",
       "\n",
       "   ELECTRONICS  EPICMETAL  ESTRADA  EUROFOLK  EXPERIMENTAL  EXTREMEMETAL  \\\n",
       "0            0          0        0         0             0             0   \n",
       "1            0          0        0         0             0             0   \n",
       "2            0          0        0         0             0             0   \n",
       "3            0          0        0         0             0             0   \n",
       "4            1          0        0         0             0             0   \n",
       "\n",
       "   FAIRYTALES  FILMS  FOLK  FOLKGENRE  FOLKMETAL  FOLKROCK  FORCHILDREN  \\\n",
       "0           0      0     0          0          0         0            0   \n",
       "1           0      0     0          0          0         0            0   \n",
       "2           0      0     1          0          0         0            0   \n",
       "3           0      0     0          0          0         0            0   \n",
       "4           0      0     0          0          0         0            0   \n",
       "\n",
       "   FOREIGNBARD  FOREIGNRAP  FUNK  GOTHICMETAL  HARDCORE  HARDROCK  HOUSE  \\\n",
       "0            0           0     0            0         0         0      0   \n",
       "1            0           0     0            0         0         0      0   \n",
       "2            0           0     0            0         0         0      0   \n",
       "3            0           1     0            0         0         0      0   \n",
       "4            0           0     0            0         0         0      0   \n",
       "\n",
       "   HYPERPOPGENRE  INDIE  INDUSTRIAL  ISRAELIPOP  ISRAELIROCK  JAPANESEPOP  \\\n",
       "0              0      0           0           0            0            0   \n",
       "1              0      0           0           0            0            0   \n",
       "2              0      0           0           0            0            0   \n",
       "3              0      0           0           0            0            0   \n",
       "4              0      0           0           0            0            0   \n",
       "\n",
       "   JAZZ  JEWISH  KPOP  LATINFOLK  LOCAL-INDIE  LOUNGE  LULLABY  MEDITATION  \\\n",
       "0     0       0     0          0            0       0        0           0   \n",
       "1     0       0     0          0            0       0        0           0   \n",
       "2     0       0     0          1            0       0        0           0   \n",
       "3     0       0     0          0            0       0        0           0   \n",
       "4     0       0     0          0            0       0        0           0   \n",
       "\n",
       "   METAL  METALCOREGENRE  MIZRAHI  MODERN  MUSICAL  NEWAGE  NEWWAVE  NUMETAL  \\\n",
       "0      0               0        0       0        0       0        0        0   \n",
       "1      0               0        0       0        0       0        0        0   \n",
       "2      0               0        0       0        0       0        0        0   \n",
       "3      0               0        0       0        0       0        0        0   \n",
       "4      0               0        0       0        0       0        0        0   \n",
       "\n",
       "   PHONKGENRE  POEMSFORCHILDREN  POP  POSTHARDCORE  POSTMETAL  POSTPUNK  PROG  \\\n",
       "0           0                 0    0             0          0         0     0   \n",
       "1           0                 0    0             0          0         0     0   \n",
       "2           0                 0    1             0          0         0     0   \n",
       "3           0                 0    0             0          0         0     0   \n",
       "4           0                 0    0             0          0         0     0   \n",
       "\n",
       "   PROGMETAL  PUNK  RAP  REGGAE  REGGAETON  RELAX  RNB  RNR  ROCK  RUSBARDS  \\\n",
       "0          0     0    0       0          0      0    0    0     1         0   \n",
       "1          0     0    0       0          0      0    0    0     1         0   \n",
       "2          0     0    0       0          0      0    0    0     0         0   \n",
       "3          0     0    1       0          0      0    0    0     0         0   \n",
       "4          0     0    0       0          0      0    0    0     0         0   \n",
       "\n",
       "   RUSESTRADA  RUSFOLK  RUSPOP  RUSRAP  RUSROCK  SHANSON  SKA  SMOOTHJAZZ  \\\n",
       "0           0        0       0       0        0        0    0           0   \n",
       "1           0        0       0       0        0        0    0           0   \n",
       "2           0        0       0       0        0        0    0           0   \n",
       "3           0        0       0       0        0        0    0           0   \n",
       "4           0        0       0       0        0        0    0           0   \n",
       "\n",
       "   SOUL  SOUNDTRACK  SPIRITUAL  SPOKEN  SPORT  STONERROCK  TECHNO  \\\n",
       "0     0           0          0       0      0           0       0   \n",
       "1     0           0          0       0      0           0       0   \n",
       "2     0           0          0       0      0           0       0   \n",
       "3     0           0          0       0      0           0       0   \n",
       "4     0           0          0       0      0           0       0   \n",
       "\n",
       "   THRASHMETAL  TRADJAZZ  TRANCE  TRIPHOPGENRE  TURKISHPOP  TURKISHRAP  \\\n",
       "0            0         0       0             0           0           0   \n",
       "1            0         0       0             0           0           0   \n",
       "2            0         0       0             0           0           0   \n",
       "3            0         0       0             0           0           0   \n",
       "4            0         0       0             0           0           0   \n",
       "\n",
       "   TURKISHROCK  TVSERIES  UKRROCK  UZBEKPOP  VIDEOGAME  VOCAL  VOCALJAZZ  \n",
       "0            0         0        0         0          0      0          0  \n",
       "1            0         0        0         0          0      0          0  \n",
       "2            0         0        0         0          0      0          0  \n",
       "3            0         0        0         0          0      0          0  \n",
       "4            0         0        0         0          0      0          0  "
      ]
     },
     "execution_count": 243,
     "metadata": {},
     "output_type": "execute_result"
    }
   ],
   "source": [
    "met_cat_df.head()"
   ]
  },
  {
   "cell_type": "markdown",
   "id": "127a6858",
   "metadata": {
    "id": "127a6858"
   },
   "source": [
    "## Задача: Классификация оригинал/кавер\n",
    "**Польза:** чтобы слушатель смог:\n",
    "\n",
    "- убрать каверы из плейлиста\n",
    "- слушать одни каверы"
   ]
  },
  {
   "cell_type": "markdown",
   "id": "d07a5dd8",
   "metadata": {},
   "source": [
    "Построим модель на датасте с текстами песен\\\n",
    "Будем использовать CatBoost так как от умеет работать с текстовыми данными напрямую"
   ]
  },
  {
   "cell_type": "code",
   "execution_count": 247,
   "id": "225203b0",
   "metadata": {},
   "outputs": [],
   "source": [
    "# добавим группу по названию трека\n",
    "text_cat_df['group'] = pd.Categorical(text_cat_df['title']).codes"
   ]
  },
  {
   "cell_type": "code",
   "execution_count": 248,
   "id": "27cb95ef",
   "metadata": {
    "id": "27cb95ef"
   },
   "outputs": [],
   "source": [
    "# Меняем COVER и ORIGINAL на 1 и 0\n",
    "text_cat_df['track_remake_type'].replace({'COVER':1,'ORIGINAL':0},inplace=True)"
   ]
  },
  {
   "cell_type": "code",
   "execution_count": 249,
   "id": "861a2e68",
   "metadata": {},
   "outputs": [
    {
     "data": {
      "text/plain": [
       "track_remake_type\n",
       "1    7360\n",
       "0    2716\n",
       "Name: count, dtype: int64"
      ]
     },
     "execution_count": 249,
     "metadata": {},
     "output_type": "execute_result"
    }
   ],
   "source": [
    "# Посмотрим баланс классов\n",
    "text_cat_df['track_remake_type'].value_counts()"
   ]
  },
  {
   "cell_type": "markdown",
   "id": "9d7041d8",
   "metadata": {},
   "source": [
    "Отметим дисбаланс классов"
   ]
  },
  {
   "cell_type": "code",
   "execution_count": 250,
   "id": "af864fb5",
   "metadata": {
    "id": "af864fb5"
   },
   "outputs": [],
   "source": [
    "# разделим выборки и удалим лишние признаки\n",
    "X = text_cat_df.drop(['track_remake_type','dttm', 'original_track_id', 'track_id', 'isrc', 'lyricId', 'language'],axis=1)\n",
    "y = text_cat_df['track_remake_type']"
   ]
  },
  {
   "cell_type": "code",
   "execution_count": 263,
   "id": "7414b258",
   "metadata": {
    "id": "7414b258"
   },
   "outputs": [],
   "source": [
    "# выделим тестовую выборку и обозначим категориальные и текстовые фичи, обозначим группы\n",
    "X_train, X_test, y_train, y_test = train_test_split(X, y, test_size=0.3, random_state=RS)\n",
    "\n",
    "text_features = ['title', 'max_text']\n",
    "\n",
    "groups = X_train['group']\n",
    "X_train = X_train.drop(['group'], axis=1)"
   ]
  },
  {
   "cell_type": "markdown",
   "id": "1a31298f",
   "metadata": {},
   "source": [
    "### Обучение на  данных, с признаком \"текст песни\""
   ]
  },
  {
   "cell_type": "markdown",
   "id": "11746b83",
   "metadata": {
    "id": "11746b83"
   },
   "source": [
    "Обучим модель на GPU\\\n",
    "Далее подгрузим рзультат обучения"
   ]
  },
  {
   "cell_type": "markdown",
   "id": "2374ebef",
   "metadata": {
    "colab": {
     "base_uri": "https://localhost:8080/"
    },
    "id": "eb4f6a59",
    "outputId": "694cc4cb-430e-4d01-b9b4-6bfae9102960"
   },
   "source": [
    "```\n",
    "sgk = StratifiedGroupKFold(n_splits=3)\n",
    "\n",
    "model = CatBoostClassifier(random_seed=RS,\n",
    "                           verbose=False,\n",
    "                           text_features=text_features,\n",
    "                           auto_class_weights = 'Balanced',\n",
    "                           task_type = 'GPU'\n",
    "                           )\n",
    "\n",
    "param_dist = {\n",
    "    'iterations' : range(100, 501, 100),\n",
    "    'learning_rate': [0.01, 0.05, 0.1],\n",
    "    'depth': [5, 6, 7, 8],\n",
    "}\n",
    "\n",
    "random_search = RandomizedSearchCV(model,\n",
    "                                   param_distributions=param_dist,\n",
    "                                   n_iter=3,\n",
    "                                   cv=sgk,\n",
    "                                   scoring='f1')\n",
    "\n",
    "\n",
    "cat = random_search.fit(X_train, y_train, groups=groups)\n",
    " \n",
    "joblib.dump(cat, 'cat_text.pkl')\n",
    "```"
   ]
  },
  {
   "cell_type": "code",
   "execution_count": 258,
   "id": "24020c0c",
   "metadata": {},
   "outputs": [],
   "source": [
    "cat_text = joblib.load('cat_text.pkl')"
   ]
  },
  {
   "cell_type": "code",
   "execution_count": 259,
   "id": "4d47b054",
   "metadata": {},
   "outputs": [
    {
     "name": "stdout",
     "output_type": "stream",
     "text": [
      "F1 Score on Train Set: 0.9165929349075158\n"
     ]
    }
   ],
   "source": [
    "print('F1 Score on Train Set:', cat_text.best_score_)"
   ]
  },
  {
   "cell_type": "code",
   "execution_count": 260,
   "id": "b3240da2",
   "metadata": {
    "colab": {
     "base_uri": "https://localhost:8080/"
    },
    "id": "b3240da2",
    "outputId": "272c5819-a200-48ce-a37b-0a091dbbdb2b"
   },
   "outputs": [
    {
     "data": {
      "text/plain": [
       "{'learning_rate': 0.1, 'iterations': 300, 'depth': 8}"
      ]
     },
     "execution_count": 260,
     "metadata": {},
     "output_type": "execute_result"
    }
   ],
   "source": [
    "cat_text.best_params_"
   ]
  },
  {
   "cell_type": "code",
   "execution_count": 264,
   "id": "5a5ef1e4",
   "metadata": {
    "colab": {
     "base_uri": "https://localhost:8080/"
    },
    "id": "5a5ef1e4",
    "outputId": "fb966aee-e7bc-45ae-910b-9ad2fcea0c09"
   },
   "outputs": [
    {
     "name": "stdout",
     "output_type": "stream",
     "text": [
      "F1 Score on Test Set: 0.9206349206349207\n"
     ]
    }
   ],
   "source": [
    "# посмотрим рeзультат на тeстовой выборке\n",
    "y_pred = cat_text.predict(X_test)\n",
    "f1 = f1_score(y_test, y_pred)\n",
    "print('F1 Score on Test Set:', f1)"
   ]
  },
  {
   "cell_type": "markdown",
   "id": "f2c45ae1",
   "metadata": {},
   "source": [
    "Модель не переобучилась "
   ]
  },
  {
   "cell_type": "markdown",
   "id": "76cbe497",
   "metadata": {
    "id": "76cbe497"
   },
   "source": [
    "Посмотрим feature_importances"
   ]
  },
  {
   "cell_type": "markdown",
   "id": "e58ec9a0",
   "metadata": {},
   "source": [
    "#### feature_importances"
   ]
  },
  {
   "cell_type": "code",
   "execution_count": 265,
   "id": "c1cf59cb",
   "metadata": {
    "colab": {
     "base_uri": "https://localhost:8080/",
     "height": 540
    },
    "id": "c1cf59cb",
    "outputId": "575f24c3-eef0-4cce-e3e4-7f3d7c3015cc"
   },
   "outputs": [
    {
     "data": {
      "image/png": "[encoded data removed]",
      "text/plain": [
       "<Figure size 640x480 with 1 Axes>"
      ]
     },
     "metadata": {},
     "output_type": "display_data"
    }
   ],
   "source": [
    "best_model = cat_text.best_estimator_\n",
    "\n",
    "feature_importances = pd.DataFrame(index = best_model.feature_names_,\n",
    "                                   data = best_model.feature_importances_)\n",
    "top_feature = feature_importances.sort_values(by = [0], ascending=False).head(20)\n",
    "\n",
    "plt.bar(top_feature.index , top_feature[0]);\n",
    "plt.title('feature importances')\n",
    "plt.xticks(rotation=90)\n",
    "\n",
    "plt.show()"
   ]
  },
  {
   "cell_type": "markdown",
   "id": "3dd9cdb2",
   "metadata": {},
   "source": [
    "Самыми важными признаками оказались тексты песен и продолжительность трека"
   ]
  },
  {
   "cell_type": "markdown",
   "id": "2e01f081",
   "metadata": {
    "id": "2e01f081"
   },
   "source": [
    "Построим график roc_auc"
   ]
  },
  {
   "cell_type": "code",
   "execution_count": 266,
   "id": "222b9e9b",
   "metadata": {
    "colab": {
     "base_uri": "https://localhost:8080/",
     "height": 490
    },
    "id": "222b9e9b",
    "outputId": "714f82aa-6fe6-4d8a-962d-72a26c66659f",
    "scrolled": true
   },
   "outputs": [
    {
     "data": {
      "image/png": "[encoded data removed]",
      "text/plain": [
       "<Figure size 640x480 with 1 Axes>"
      ]
     },
     "metadata": {},
     "output_type": "display_data"
    },
    {
     "name": "stdout",
     "output_type": "stream",
     "text": [
      "roc_auc_score:  0.9268785061350377\n"
     ]
    }
   ],
   "source": [
    "probabilities_valid = cat_text.predict_proba(X_test)\n",
    "probabilities_one_valid = probabilities_valid[:, 1]\n",
    "\n",
    "fpr, tpr, thresholds = roc_curve(y_test, probabilities_one_valid)\n",
    "\n",
    "plt.figure()\n",
    "plt.plot(fpr, tpr)\n",
    "plt.plot([0, 1], [0, 1], linestyle='--')\n",
    "plt.xlim([0.0, 1.0])\n",
    "plt.ylim([0.0, 1.0])\n",
    "plt.xlabel('False Positive Rate')\n",
    "plt.ylabel('True Positive Rate')\n",
    "plt.title('ROC-curve')\n",
    "plt.show()\n",
    "\n",
    "print('roc_auc_score: ',roc_auc_score(y_test, probabilities_one_valid))"
   ]
  },
  {
   "cell_type": "markdown",
   "id": "97a06bcb",
   "metadata": {},
   "source": [
    "обучим аналогичную модель, но без использования ткстов песен"
   ]
  },
  {
   "cell_type": "code",
   "execution_count": 267,
   "id": "485b71a6",
   "metadata": {},
   "outputs": [],
   "source": [
    "X_train = X_train.drop(['max_text'],axis=1)\n",
    "X_test = X_test.drop(['max_text'],axis=1)\n",
    "\n",
    "text_features = ['title']"
   ]
  },
  {
   "cell_type": "markdown",
   "id": "22152fd2",
   "metadata": {},
   "source": [
    "Обучим модель на GPU\n",
    "Далее подгрузим рзультат обучения"
   ]
  },
  {
   "cell_type": "markdown",
   "id": "57ef2c0f",
   "metadata": {},
   "source": [
    "```\n",
    "cat_without_text = random_search.fit(X_train, y_train, groups=groups)\n",
    "\n",
    "joblib.dump(cat, 'cat_without_text.pkl')\n",
    "```"
   ]
  },
  {
   "cell_type": "code",
   "execution_count": 288,
   "id": "c66b36df",
   "metadata": {},
   "outputs": [],
   "source": [
    "cat_no_text = joblib.load('cat_without_text.pkl')"
   ]
  },
  {
   "cell_type": "code",
   "execution_count": 289,
   "id": "7174a2c6",
   "metadata": {},
   "outputs": [
    {
     "data": {
      "text/plain": [
       "{'learning_rate': 0.1, 'iterations': 400, 'depth': 7}"
      ]
     },
     "execution_count": 289,
     "metadata": {},
     "output_type": "execute_result"
    }
   ],
   "source": [
    "cat_no_text.best_params_"
   ]
  },
  {
   "cell_type": "code",
   "execution_count": 290,
   "id": "b47577b6",
   "metadata": {},
   "outputs": [
    {
     "name": "stdout",
     "output_type": "stream",
     "text": [
      "F1 Score on Train Set: 0.902038449612539\n"
     ]
    }
   ],
   "source": [
    "print('F1 Score on Train Set:', cat_no_text.best_score_)"
   ]
  },
  {
   "cell_type": "markdown",
   "id": "188601ba",
   "metadata": {},
   "source": [
    "Рзультат не сильно хуже модели с тектами песен"
   ]
  },
  {
   "cell_type": "markdown",
   "id": "a3af3a20",
   "metadata": {},
   "source": [
    "Посмотрим feature_importances"
   ]
  },
  {
   "cell_type": "code",
   "execution_count": 291,
   "id": "02acc589",
   "metadata": {},
   "outputs": [
    {
     "data": {
      "image/png": "[encoded data removed]",
      "text/plain": [
       "<Figure size 640x480 with 1 Axes>"
      ]
     },
     "metadata": {},
     "output_type": "display_data"
    }
   ],
   "source": [
    "best_model = cat_no_text.best_estimator_\n",
    "\n",
    "feature_importances = pd.DataFrame(index = best_model.feature_names_,\n",
    "                                   data = best_model.feature_importances_)\n",
    "top_feature = feature_importances.sort_values(by = [0], ascending=False).head(20)\n",
    "\n",
    "plt.bar(top_feature.index , top_feature[0]);\n",
    "plt.title('feature importances')\n",
    "plt.xticks(rotation=90)\n",
    "\n",
    "plt.show()"
   ]
  },
  {
   "cell_type": "markdown",
   "id": "8576dcbc",
   "metadata": {},
   "source": [
    "Без учета текстов песен, модель смогла выявить зависимости на основе жанров и названий."
   ]
  },
  {
   "cell_type": "markdown",
   "id": "37d3a099",
   "metadata": {},
   "source": [
    "Построим график roc_auc"
   ]
  },
  {
   "cell_type": "code",
   "execution_count": 292,
   "id": "902a9d20",
   "metadata": {},
   "outputs": [
    {
     "data": {
      "image/png": "[encoded data removed]",
      "text/plain": [
       "<Figure size 640x480 with 1 Axes>"
      ]
     },
     "metadata": {},
     "output_type": "display_data"
    },
    {
     "name": "stdout",
     "output_type": "stream",
     "text": [
      "roc_auc_score:  0.9529015509249721\n"
     ]
    }
   ],
   "source": [
    "probabilities_valid = cat_no_text.predict_proba(X_test)\n",
    "probabilities_one_valid = probabilities_valid[:, 1]\n",
    "\n",
    "fpr, tpr, thresholds = roc_curve(y_test, probabilities_one_valid)\n",
    "\n",
    "plt.figure()\n",
    "plt.plot(fpr, tpr)\n",
    "plt.plot([0, 1], [0, 1], linestyle='--')\n",
    "plt.xlim([0.0, 1.0])\n",
    "plt.ylim([0.0, 1.0])\n",
    "plt.xlabel('False Positive Rate')\n",
    "plt.ylabel('True Positive Rate')\n",
    "plt.title('ROC-curve')\n",
    "plt.show()\n",
    "\n",
    "print('roc_auc_score: ',roc_auc_score(y_test, probabilities_one_valid))"
   ]
  },
  {
   "cell_type": "markdown",
   "id": "f9c354c7",
   "metadata": {},
   "source": [
    "**Вывод:** Модель может выявлять зависимости, не используя текст песен"
   ]
  },
  {
   "cell_type": "markdown",
   "id": "fc04cfde",
   "metadata": {},
   "source": [
    "### Обучение на всех данных, без признака \"текст песни\""
   ]
  },
  {
   "cell_type": "markdown",
   "id": "aa2ea0f7",
   "metadata": {},
   "source": [
    "Попробуем обучить модель на большем количестве данных\\\n",
    "Поскольку тексты есть не для всех данных, обучать будем без них"
   ]
  },
  {
   "cell_type": "markdown",
   "id": "60f86557",
   "metadata": {},
   "source": [
    "Соберем датасет"
   ]
  },
  {
   "cell_type": "code",
   "execution_count": 274,
   "id": "7182ab6c",
   "metadata": {},
   "outputs": [],
   "source": [
    "# Добавим группу по тексту\n",
    "met_cat_df['group'] = pd.Categorical(met_cat_df['title']).codes"
   ]
  },
  {
   "cell_type": "code",
   "execution_count": 275,
   "id": "1f5a1e1f",
   "metadata": {},
   "outputs": [
    {
     "data": {
      "text/plain": [
       "track_remake_type\n",
       "1    66735\n",
       "0     4292\n",
       "Name: count, dtype: int64"
      ]
     },
     "execution_count": 275,
     "metadata": {},
     "output_type": "execute_result"
    }
   ],
   "source": [
    "met_cat_df['track_remake_type'].replace({'COVER':1,'ORIGINAL':0},inplace=True)\n",
    "met_cat_df['track_remake_type'].value_counts()"
   ]
  },
  {
   "cell_type": "markdown",
   "id": "e83439f8",
   "metadata": {},
   "source": [
    "Дизбаланс классов сильнее чем в датасте с текстами"
   ]
  },
  {
   "cell_type": "code",
   "execution_count": 276,
   "id": "dd49c97a",
   "metadata": {},
   "outputs": [],
   "source": [
    "# разделим выборки и удалим лишние признаки\n",
    "X = met_cat_df.drop(['track_remake_type','dttm', 'original_track_id', 'track_id', 'isrc', 'language'],axis=1)\n",
    "y = met_cat_df['track_remake_type']"
   ]
  },
  {
   "cell_type": "code",
   "execution_count": 278,
   "id": "b6b3bc02",
   "metadata": {},
   "outputs": [],
   "source": [
    "X_train, X_test, y_train, y_test = train_test_split(X, y, test_size=0.3, random_state=RS)\n",
    "\n",
    "text_features = ['title']\n",
    "\n",
    "groups = X_train['group']\n",
    "X_train = X_train.drop(['group'], axis=1)"
   ]
  },
  {
   "cell_type": "markdown",
   "id": "e88fa45a",
   "metadata": {},
   "source": [
    "```\n",
    "cat = random_search.fit(X_train, y_train, groups=groups)\n",
    "\n",
    "joblib.dump(cat, 'met_cat_df.pkl')\n",
    "```"
   ]
  },
  {
   "cell_type": "code",
   "execution_count": 280,
   "id": "10a536fd",
   "metadata": {},
   "outputs": [],
   "source": [
    "met_cat = joblib.load('met_cat.pkl')"
   ]
  },
  {
   "cell_type": "code",
   "execution_count": 281,
   "id": "b44e94b9",
   "metadata": {},
   "outputs": [
    {
     "name": "stdout",
     "output_type": "stream",
     "text": [
      "F1 Score on Train Set: 0.9539539193768819\n"
     ]
    }
   ],
   "source": [
    "print('F1 Score on Train Set:', met_cat.best_score_)"
   ]
  },
  {
   "cell_type": "code",
   "execution_count": 282,
   "id": "b2962af9",
   "metadata": {},
   "outputs": [
    {
     "data": {
      "text/plain": [
       "{'learning_rate': 0.05, 'iterations': 400, 'depth': 6}"
      ]
     },
     "execution_count": 282,
     "metadata": {},
     "output_type": "execute_result"
    }
   ],
   "source": [
    "met_cat.best_params_"
   ]
  },
  {
   "cell_type": "code",
   "execution_count": 284,
   "id": "cd4878c7",
   "metadata": {},
   "outputs": [
    {
     "name": "stdout",
     "output_type": "stream",
     "text": [
      "F1 Score on Test Set: 0.9554611839038789\n"
     ]
    }
   ],
   "source": [
    "# посмотрим рeзультат на тeстовой выборке\n",
    "y_pred = met_cat.predict(X_test)\n",
    "f1 = f1_score(y_test, y_pred)\n",
    "print('F1 Score on Test Set:', f1)"
   ]
  },
  {
   "cell_type": "markdown",
   "id": "a29bea9d",
   "metadata": {},
   "source": [
    "Эта модель показала результат лучше чем модель обученая на меньшй выборке, но с текстами"
   ]
  },
  {
   "cell_type": "markdown",
   "id": "4b6b2ab7",
   "metadata": {},
   "source": [
    "Посмотрим на графики"
   ]
  },
  {
   "cell_type": "markdown",
   "id": "578bd63d",
   "metadata": {},
   "source": [
    "#### feature_importances"
   ]
  },
  {
   "cell_type": "code",
   "execution_count": 285,
   "id": "5c61ba5b",
   "metadata": {},
   "outputs": [
    {
     "data": {
      "image/png": "[encoded data removed]",
      "text/plain": [
       "<Figure size 640x480 with 1 Axes>"
      ]
     },
     "metadata": {},
     "output_type": "display_data"
    }
   ],
   "source": [
    "best_model = met_cat.best_estimator_\n",
    "\n",
    "feature_importances = pd.DataFrame(index = best_model.feature_names_,\n",
    "                                   data = best_model.feature_importances_)\n",
    "top_feature = feature_importances.sort_values(by = [0], ascending=False).head(20)\n",
    "\n",
    "plt.bar(top_feature.index , top_feature[0]);\n",
    "plt.title('feature importances')\n",
    "plt.xticks(rotation=90)\n",
    "\n",
    "plt.show()"
   ]
  },
  {
   "cell_type": "markdown",
   "id": "98814db0",
   "metadata": {},
   "source": [
    "Самыми важными для модели оказались название трека, длительность и различные жанры"
   ]
  },
  {
   "cell_type": "code",
   "execution_count": 286,
   "id": "5baaf5dd",
   "metadata": {},
   "outputs": [
    {
     "data": {
      "image/png": "[encoded data removed]",
      "text/plain": [
       "<Figure size 640x480 with 1 Axes>"
      ]
     },
     "metadata": {},
     "output_type": "display_data"
    },
    {
     "name": "stdout",
     "output_type": "stream",
     "text": [
      "roc_auc_score:  0.9574669165425429\n"
     ]
    }
   ],
   "source": [
    "probabilities_valid = cat_full_df.predict_proba(X_test)\n",
    "probabilities_one_valid = probabilities_valid[:, 1]\n",
    "\n",
    "fpr, tpr, thresholds = roc_curve(y_test, probabilities_one_valid)\n",
    "\n",
    "plt.figure()\n",
    "plt.plot(fpr, tpr)\n",
    "plt.plot([0, 1], [0, 1], linestyle='--')\n",
    "plt.xlim([0.0, 1.0])\n",
    "plt.ylim([0.0, 1.0])\n",
    "plt.xlabel('False Positive Rate')\n",
    "plt.ylabel('True Positive Rate')\n",
    "plt.title('ROC-curve')\n",
    "plt.show()\n",
    "\n",
    "print('roc_auc_score: ',roc_auc_score(y_test, probabilities_one_valid))"
   ]
  },
  {
   "cell_type": "markdown",
   "id": "a6a30c10",
   "metadata": {},
   "source": [
    "### Выводы:\n",
    "- Первая модель выделила текст как наиболее важный признак и продемонстрировала хорошие результаты.\n",
    "- Вторая модель, не использующая текст песен, успешно определила зависимости, основываясь на информации о жанрах.\n",
    "- Третья модель, обученная на полных данных без учёта текстов песен, показала лучшие результаты среди всех."
   ]
  },
  {
   "cell_type": "markdown",
   "id": "883e311c",
   "metadata": {
    "id": "883e311c"
   },
   "source": [
    "## Задача: Определение \"связности\" треков\n",
    "\n",
    "**Гипотеза:** на основании текстов треков можно определить, связаны ли треки между собой или нет.\n",
    "\n",
    "Под \"связностью\" понимаем:\n",
    "\n",
    "Пусть дана пара треков. Если это кавер и оригинал одной песни то считаем их связанными. \n",
    "Если два кавера одной песни, то тоже.\n",
    "\n",
    "Во всех остальных случаях - треки не связаны.\n",
    "\n",
    "\n",
    "**Польза:**  если пользователю не нравится какой-то трек/кавер, то сможем добавить проверку на связность с ним, чтобы исключить такие записи в выдаче в моей волне.\n",
    "\n",
    "**Задача:**  бинарная классификация\n",
    "\n",
    "**Модель:** CatBoostClassifier, с параметром text_features\n",
    "\n",
    "**Метрика:** F1, мы выбрали данную метрику, т.к. имеем несбалансированную выборку."
   ]
  },
  {
   "cell_type": "markdown",
   "id": "905b2f9d",
   "metadata": {},
   "source": [
    "### Сборка датасета с разметкой\n",
    "\n",
    "Для проверки качества модели составим датасет, состоящий из пар track_id и разметкой, где будут колонки:\n",
    "\n",
    "- query_id (уникальный идентификатор трека запроса) \n",
    "- cand_id (уникальный идентификатор трека кандидата) \n",
    "- target (1, если кандидат является кавером или оригиналом запроса, 0 - в противном случае )\n",
    "\n",
    "т.е. дана пара треков. Если это кавер и оригинал одной песни то таргет = 1.\n",
    "Если два кавера одной песни, то тоже 1. Во всех остальных случаях - 0.\n",
    "\n",
    "Отдельно соберем данные с позитивным и негативным таргетом, а потом соединим и перемешаем строки \n"
   ]
  },
  {
   "cell_type": "code",
   "execution_count": 79,
   "id": "2abd191d",
   "metadata": {},
   "outputs": [],
   "source": [
    "lyrics = pd.read_json('data/lyrics.json', lines = True)  #обновляю"
   ]
  },
  {
   "cell_type": "markdown",
   "id": "19a1d394",
   "metadata": {},
   "source": [
    "#### Positive"
   ]
  },
  {
   "cell_type": "code",
   "execution_count": 80,
   "id": "4307fcdf",
   "metadata": {},
   "outputs": [
    {
     "data": {
      "text/html": [
       "<div>\n",
       "<style scoped>\n",
       "    .dataframe tbody tr th:only-of-type {\n",
       "        vertical-align: middle;\n",
       "    }\n",
       "\n",
       "    .dataframe tbody tr th {\n",
       "        vertical-align: top;\n",
       "    }\n",
       "\n",
       "    .dataframe thead th {\n",
       "        text-align: right;\n",
       "    }\n",
       "</style>\n",
       "<table border=\"1\" class=\"dataframe\">\n",
       "  <thead>\n",
       "    <tr style=\"text-align: right;\">\n",
       "      <th></th>\n",
       "      <th>original_track_id</th>\n",
       "      <th>track_id</th>\n",
       "      <th>track_remake_type</th>\n",
       "    </tr>\n",
       "  </thead>\n",
       "  <tbody>\n",
       "    <tr>\n",
       "      <th>0</th>\n",
       "      <td>b9213d37c37deffe8b8af0dac5d0c3c4</td>\n",
       "      <td>58a293c4c86b4c0000b0e683c77432a8</td>\n",
       "      <td>COVER</td>\n",
       "    </tr>\n",
       "    <tr>\n",
       "      <th>1</th>\n",
       "      <td>deb9b9598176a0bab1212d430b10bd04</td>\n",
       "      <td>bfa9c5c62c08a0db763e2a2284e3d1b2</td>\n",
       "      <td>COVER</td>\n",
       "    </tr>\n",
       "  </tbody>\n",
       "</table>\n",
       "</div>"
      ],
      "text/plain": [
       "                  original_track_id                          track_id  \\\n",
       "0  b9213d37c37deffe8b8af0dac5d0c3c4  58a293c4c86b4c0000b0e683c77432a8   \n",
       "1  deb9b9598176a0bab1212d430b10bd04  bfa9c5c62c08a0db763e2a2284e3d1b2   \n",
       "\n",
       "  track_remake_type  \n",
       "0             COVER  \n",
       "1             COVER  "
      ]
     },
     "execution_count": 80,
     "metadata": {},
     "output_type": "execute_result"
    }
   ],
   "source": [
    "# Для начала, выделим каверы, для которых уже известен оригинал и разметим эти пары 1\n",
    "\n",
    "df_positive=\\\n",
    "    covers.loc[(covers.track_remake_type=='COVER') & (covers.original_track_id.isnull()==False)].reset_index(drop=True).copy()\n",
    "df_positive.head(2)"
   ]
  },
  {
   "cell_type": "code",
   "execution_count": 81,
   "id": "18ee8e57",
   "metadata": {},
   "outputs": [
    {
     "data": {
      "text/html": [
       "<div>\n",
       "<style scoped>\n",
       "    .dataframe tbody tr th:only-of-type {\n",
       "        vertical-align: middle;\n",
       "    }\n",
       "\n",
       "    .dataframe tbody tr th {\n",
       "        vertical-align: top;\n",
       "    }\n",
       "\n",
       "    .dataframe thead th {\n",
       "        text-align: right;\n",
       "    }\n",
       "</style>\n",
       "<table border=\"1\" class=\"dataframe\">\n",
       "  <thead>\n",
       "    <tr style=\"text-align: right;\">\n",
       "      <th></th>\n",
       "      <th>query_id</th>\n",
       "      <th>cand_id</th>\n",
       "      <th>target</th>\n",
       "    </tr>\n",
       "  </thead>\n",
       "  <tbody>\n",
       "    <tr>\n",
       "      <th>0</th>\n",
       "      <td>b9213d37c37deffe8b8af0dac5d0c3c4</td>\n",
       "      <td>58a293c4c86b4c0000b0e683c77432a8</td>\n",
       "      <td>1</td>\n",
       "    </tr>\n",
       "    <tr>\n",
       "      <th>1</th>\n",
       "      <td>deb9b9598176a0bab1212d430b10bd04</td>\n",
       "      <td>bfa9c5c62c08a0db763e2a2284e3d1b2</td>\n",
       "      <td>1</td>\n",
       "    </tr>\n",
       "  </tbody>\n",
       "</table>\n",
       "</div>"
      ],
      "text/plain": [
       "                           query_id                           cand_id  target\n",
       "0  b9213d37c37deffe8b8af0dac5d0c3c4  58a293c4c86b4c0000b0e683c77432a8       1\n",
       "1  deb9b9598176a0bab1212d430b10bd04  bfa9c5c62c08a0db763e2a2284e3d1b2       1"
      ]
     },
     "execution_count": 81,
     "metadata": {},
     "output_type": "execute_result"
    }
   ],
   "source": [
    "df_positive.columns=['query_id','cand_id','target'] #переименуем столбцы\n",
    "df_positive['target']=1  #разметим эти пары 1\n",
    "df_positive.head(2)"
   ]
  },
  {
   "cell_type": "code",
   "execution_count": 82,
   "id": "a1b6c70d",
   "metadata": {},
   "outputs": [
    {
     "data": {
      "text/html": [
       "<div>\n",
       "<style scoped>\n",
       "    .dataframe tbody tr th:only-of-type {\n",
       "        vertical-align: middle;\n",
       "    }\n",
       "\n",
       "    .dataframe tbody tr th {\n",
       "        vertical-align: top;\n",
       "    }\n",
       "\n",
       "    .dataframe thead th {\n",
       "        text-align: right;\n",
       "    }\n",
       "</style>\n",
       "<table border=\"1\" class=\"dataframe\">\n",
       "  <thead>\n",
       "    <tr style=\"text-align: right;\">\n",
       "      <th></th>\n",
       "      <th>query_id</th>\n",
       "      <th>cand_id</th>\n",
       "      <th>target</th>\n",
       "      <th>lyricId</th>\n",
       "      <th>text</th>\n",
       "    </tr>\n",
       "  </thead>\n",
       "  <tbody>\n",
       "    <tr>\n",
       "      <th>0</th>\n",
       "      <td>b9213d37c37deffe8b8af0dac5d0c3c4</td>\n",
       "      <td>58a293c4c86b4c0000b0e683c77432a8</td>\n",
       "      <td>1</td>\n",
       "      <td>e3d8c89c71b34be0f4f28ae62c8f40e8</td>\n",
       "      <td>Hearts go astray, leaving hurt when they go\\nI...</td>\n",
       "    </tr>\n",
       "    <tr>\n",
       "      <th>1</th>\n",
       "      <td>b9213d37c37deffe8b8af0dac5d0c3c4</td>\n",
       "      <td>79eb48bb4409051aab1602e390c98736</td>\n",
       "      <td>1</td>\n",
       "      <td>e3d8c89c71b34be0f4f28ae62c8f40e8</td>\n",
       "      <td>Hearts go astray, leaving hurt when they go\\nI...</td>\n",
       "    </tr>\n",
       "  </tbody>\n",
       "</table>\n",
       "</div>"
      ],
      "text/plain": [
       "                           query_id                           cand_id  target  \\\n",
       "0  b9213d37c37deffe8b8af0dac5d0c3c4  58a293c4c86b4c0000b0e683c77432a8       1   \n",
       "1  b9213d37c37deffe8b8af0dac5d0c3c4  79eb48bb4409051aab1602e390c98736       1   \n",
       "\n",
       "                            lyricId  \\\n",
       "0  e3d8c89c71b34be0f4f28ae62c8f40e8   \n",
       "1  e3d8c89c71b34be0f4f28ae62c8f40e8   \n",
       "\n",
       "                                                text  \n",
       "0  Hearts go astray, leaving hurt when they go\\nI...  \n",
       "1  Hearts go astray, leaving hurt when they go\\nI...  "
      ]
     },
     "execution_count": 82,
     "metadata": {},
     "output_type": "execute_result"
    }
   ],
   "source": [
    "#присоединим тексты для запроса и посмотрим, сколько будет записей\n",
    "df_positive=df_positive.merge(lyrics, how='inner' , left_on='query_id', right_on='track_id').drop(columns=['track_id'], axis=1) \n",
    "df_positive.head(2)"
   ]
  },
  {
   "cell_type": "code",
   "execution_count": 83,
   "id": "b1d368cd",
   "metadata": {},
   "outputs": [
    {
     "data": {
      "text/plain": [
       "query_id\n",
       "17a163f6ab3de102b49599f5577866fc    155\n",
       "53a04991308c2cc9179fdd401fea83a3    120\n",
       "f3e5e9db509f9b6f6d93b9c38e4e1324     74\n",
       "0fcb82fec458a0993f848200548eaaa0     64\n",
       "9050384cce6c221c39d6e25d02561612     48\n",
       "Name: count, dtype: int64"
      ]
     },
     "execution_count": 83,
     "metadata": {},
     "output_type": "execute_result"
    }
   ],
   "source": [
    "df_positive.query_id.value_counts().head(5)"
   ]
  },
  {
   "cell_type": "code",
   "execution_count": 84,
   "id": "c74a1b02",
   "metadata": {},
   "outputs": [
    {
     "name": "stdout",
     "output_type": "stream",
     "text": [
      "(1094, 5)\n"
     ]
    }
   ],
   "source": [
    "print(df_positive.shape)"
   ]
  },
  {
   "cell_type": "code",
   "execution_count": 85,
   "id": "49a37a39",
   "metadata": {},
   "outputs": [
    {
     "data": {
      "text/html": [
       "<div>\n",
       "<style scoped>\n",
       "    .dataframe tbody tr th:only-of-type {\n",
       "        vertical-align: middle;\n",
       "    }\n",
       "\n",
       "    .dataframe tbody tr th {\n",
       "        vertical-align: top;\n",
       "    }\n",
       "\n",
       "    .dataframe thead th {\n",
       "        text-align: right;\n",
       "    }\n",
       "</style>\n",
       "<table border=\"1\" class=\"dataframe\">\n",
       "  <thead>\n",
       "    <tr style=\"text-align: right;\">\n",
       "      <th></th>\n",
       "      <th>query_id</th>\n",
       "      <th>cand_id</th>\n",
       "      <th>target</th>\n",
       "      <th>lyricId</th>\n",
       "      <th>text</th>\n",
       "      <th>lyricId_cand</th>\n",
       "      <th>text_cand</th>\n",
       "    </tr>\n",
       "  </thead>\n",
       "  <tbody>\n",
       "    <tr>\n",
       "      <th>0</th>\n",
       "      <td>b9213d37c37deffe8b8af0dac5d0c3c4</td>\n",
       "      <td>58a293c4c86b4c0000b0e683c77432a8</td>\n",
       "      <td>1</td>\n",
       "      <td>e3d8c89c71b34be0f4f28ae62c8f40e8</td>\n",
       "      <td>Hearts go astray, leaving hurt when they go\\nI...</td>\n",
       "      <td>f400505b257315a8eb73cb85e04c4cdc</td>\n",
       "      <td>Hearts go astray, leaving hurt when they go.\\n...</td>\n",
       "    </tr>\n",
       "    <tr>\n",
       "      <th>1</th>\n",
       "      <td>b9213d37c37deffe8b8af0dac5d0c3c4</td>\n",
       "      <td>79eb48bb4409051aab1602e390c98736</td>\n",
       "      <td>1</td>\n",
       "      <td>e3d8c89c71b34be0f4f28ae62c8f40e8</td>\n",
       "      <td>Hearts go astray, leaving hurt when they go\\nI...</td>\n",
       "      <td>198d57da43f98d1602f4e49df5537c72</td>\n",
       "      <td>Hearts gone astray\\nDeep in her when they go\\n...</td>\n",
       "    </tr>\n",
       "  </tbody>\n",
       "</table>\n",
       "</div>"
      ],
      "text/plain": [
       "                           query_id                           cand_id  target  \\\n",
       "0  b9213d37c37deffe8b8af0dac5d0c3c4  58a293c4c86b4c0000b0e683c77432a8       1   \n",
       "1  b9213d37c37deffe8b8af0dac5d0c3c4  79eb48bb4409051aab1602e390c98736       1   \n",
       "\n",
       "                            lyricId  \\\n",
       "0  e3d8c89c71b34be0f4f28ae62c8f40e8   \n",
       "1  e3d8c89c71b34be0f4f28ae62c8f40e8   \n",
       "\n",
       "                                                text  \\\n",
       "0  Hearts go astray, leaving hurt when they go\\nI...   \n",
       "1  Hearts go astray, leaving hurt when they go\\nI...   \n",
       "\n",
       "                       lyricId_cand  \\\n",
       "0  f400505b257315a8eb73cb85e04c4cdc   \n",
       "1  198d57da43f98d1602f4e49df5537c72   \n",
       "\n",
       "                                           text_cand  \n",
       "0  Hearts go astray, leaving hurt when they go.\\n...  \n",
       "1  Hearts gone astray\\nDeep in her when they go\\n...  "
      ]
     },
     "execution_count": 85,
     "metadata": {},
     "output_type": "execute_result"
    }
   ],
   "source": [
    "#присоединим тексты для кандидатов \n",
    "df_positive=df_positive.merge(lyrics, how='inner' , left_on='cand_id', right_on='track_id',suffixes=('', '_cand') ).drop(columns=['track_id'], axis=1) \n",
    "df_positive.head(2)"
   ]
  },
  {
   "cell_type": "code",
   "execution_count": 86,
   "id": "ab9f18b3",
   "metadata": {},
   "outputs": [
    {
     "name": "stdout",
     "output_type": "stream",
     "text": [
      "<class 'pandas.core.frame.DataFrame'>\n",
      "RangeIndex: 892 entries, 0 to 891\n",
      "Data columns (total 7 columns):\n",
      " #   Column        Non-Null Count  Dtype \n",
      "---  ------        --------------  ----- \n",
      " 0   query_id      892 non-null    object\n",
      " 1   cand_id       892 non-null    object\n",
      " 2   target        892 non-null    int64 \n",
      " 3   lyricId       892 non-null    object\n",
      " 4   text          892 non-null    object\n",
      " 5   lyricId_cand  892 non-null    object\n",
      " 6   text_cand     892 non-null    object\n",
      "dtypes: int64(1), object(6)\n",
      "memory usage: 48.9+ KB\n"
     ]
    }
   ],
   "source": [
    "df_positive.info()"
   ]
  },
  {
   "cell_type": "markdown",
   "id": "105f1112",
   "metadata": {},
   "source": [
    "#### Negative\n",
    "Для создания базы с негативным таргетом, можно взять и случайно сопоставить пары, у которых признак ORIGINAL и не равны lyricId и track_id. Будем считать, что два оригинала - не могут быть кавром и оригиналом или двумя каверами - одной песни "
   ]
  },
  {
   "cell_type": "code",
   "execution_count": 87,
   "id": "a5fab9df",
   "metadata": {},
   "outputs": [
    {
     "name": "stdout",
     "output_type": "stream",
     "text": [
      "(4293, 1)\n"
     ]
    },
    {
     "data": {
      "text/html": [
       "<div>\n",
       "<style scoped>\n",
       "    .dataframe tbody tr th:only-of-type {\n",
       "        vertical-align: middle;\n",
       "    }\n",
       "\n",
       "    .dataframe tbody tr th {\n",
       "        vertical-align: top;\n",
       "    }\n",
       "\n",
       "    .dataframe thead th {\n",
       "        text-align: right;\n",
       "    }\n",
       "</style>\n",
       "<table border=\"1\" class=\"dataframe\">\n",
       "  <thead>\n",
       "    <tr style=\"text-align: right;\">\n",
       "      <th></th>\n",
       "      <th>track_id</th>\n",
       "    </tr>\n",
       "  </thead>\n",
       "  <tbody>\n",
       "    <tr>\n",
       "      <th>0</th>\n",
       "      <td>eeb69a3cb92300456b6a5f4162093851</td>\n",
       "    </tr>\n",
       "    <tr>\n",
       "      <th>1</th>\n",
       "      <td>fe7ee8fc1959cc7214fa21c4840dff0a</td>\n",
       "    </tr>\n",
       "  </tbody>\n",
       "</table>\n",
       "</div>"
      ],
      "text/plain": [
       "                           track_id\n",
       "0  eeb69a3cb92300456b6a5f4162093851\n",
       "1  fe7ee8fc1959cc7214fa21c4840dff0a"
      ]
     },
     "execution_count": 87,
     "metadata": {},
     "output_type": "execute_result"
    }
   ],
   "source": [
    "df_neg= covers.loc[(covers.track_remake_type=='ORIGINAL')].reset_index(drop=True).drop(columns=['original_track_id','track_remake_type'], axis=1).copy()\n",
    "df_neg=df_neg.drop_duplicates()\n",
    "print(df_neg.shape)\n",
    "df_neg.head(2)"
   ]
  },
  {
   "cell_type": "code",
   "execution_count": 88,
   "id": "f6a458b8",
   "metadata": {},
   "outputs": [
    {
     "name": "stdout",
     "output_type": "stream",
     "text": [
      "(2717, 3)\n"
     ]
    },
    {
     "data": {
      "text/html": [
       "<div>\n",
       "<style scoped>\n",
       "    .dataframe tbody tr th:only-of-type {\n",
       "        vertical-align: middle;\n",
       "    }\n",
       "\n",
       "    .dataframe tbody tr th {\n",
       "        vertical-align: top;\n",
       "    }\n",
       "\n",
       "    .dataframe thead th {\n",
       "        text-align: right;\n",
       "    }\n",
       "</style>\n",
       "<table border=\"1\" class=\"dataframe\">\n",
       "  <thead>\n",
       "    <tr style=\"text-align: right;\">\n",
       "      <th></th>\n",
       "      <th>track_id</th>\n",
       "      <th>lyricId</th>\n",
       "      <th>text</th>\n",
       "    </tr>\n",
       "  </thead>\n",
       "  <tbody>\n",
       "    <tr>\n",
       "      <th>0</th>\n",
       "      <td>eeb69a3cb92300456b6a5f4162093851</td>\n",
       "      <td>260f21d9f48e8de874a6e844159ddf28</td>\n",
       "      <td>Left a good job in the city\\nWorkin' for the m...</td>\n",
       "    </tr>\n",
       "    <tr>\n",
       "      <th>1</th>\n",
       "      <td>fe7ee8fc1959cc7214fa21c4840dff0a</td>\n",
       "      <td>2498827bd11eca5846270487e4960080</td>\n",
       "      <td>Some folks are born made to wave the flag\\nOoh...</td>\n",
       "    </tr>\n",
       "  </tbody>\n",
       "</table>\n",
       "</div>"
      ],
      "text/plain": [
       "                           track_id                           lyricId  \\\n",
       "0  eeb69a3cb92300456b6a5f4162093851  260f21d9f48e8de874a6e844159ddf28   \n",
       "1  fe7ee8fc1959cc7214fa21c4840dff0a  2498827bd11eca5846270487e4960080   \n",
       "\n",
       "                                                text  \n",
       "0  Left a good job in the city\\nWorkin' for the m...  \n",
       "1  Some folks are born made to wave the flag\\nOoh...  "
      ]
     },
     "execution_count": 88,
     "metadata": {},
     "output_type": "execute_result"
    }
   ],
   "source": [
    "df_neg=df_neg.merge(lyrics, how='inner',on='track_id').drop_duplicates(subset=['track_id']).reset_index(drop=True) \n",
    "print(df_neg.shape)\n",
    "df_neg.head(2)"
   ]
  },
  {
   "cell_type": "code",
   "execution_count": 89,
   "id": "b34ac692",
   "metadata": {},
   "outputs": [
    {
     "name": "stdout",
     "output_type": "stream",
     "text": [
      "CPU times: total: 1.2 s\n",
      "Wall time: 1.21 s\n"
     ]
    }
   ],
   "source": [
    "%%time\n",
    "#Создадим шаблон, куда будем добавлять случайные пары из отобранных ранее айдишников\n",
    "df_negative=pd.DataFrame(columns=['query_id','cand_id','target'] )\n",
    "df_negative\n",
    "\n",
    "for i in range(3000):\n",
    "    index_query=random.randint(0,len(df_neg)-1)\n",
    "    index_cand=random.randint(0,len(df_neg)-1)\n",
    "    query_id=df_neg['track_id'][index_query]\n",
    "    cand_id=df_neg['track_id'][index_cand]\n",
    "    if query_id!=cand_id:\n",
    "        df_negative = pd.concat([df_negative,pd.DataFrame(\n",
    "            {'query_id':query_id,\n",
    "             'cand_id':cand_id,\n",
    "             'target':[0]}) ], ignore_index=True)\n"
   ]
  },
  {
   "cell_type": "code",
   "execution_count": 90,
   "id": "13747e44",
   "metadata": {},
   "outputs": [
    {
     "data": {
      "text/html": [
       "<div>\n",
       "<style scoped>\n",
       "    .dataframe tbody tr th:only-of-type {\n",
       "        vertical-align: middle;\n",
       "    }\n",
       "\n",
       "    .dataframe tbody tr th {\n",
       "        vertical-align: top;\n",
       "    }\n",
       "\n",
       "    .dataframe thead th {\n",
       "        text-align: right;\n",
       "    }\n",
       "</style>\n",
       "<table border=\"1\" class=\"dataframe\">\n",
       "  <thead>\n",
       "    <tr style=\"text-align: right;\">\n",
       "      <th></th>\n",
       "      <th>query_id</th>\n",
       "      <th>cand_id</th>\n",
       "      <th>target</th>\n",
       "    </tr>\n",
       "  </thead>\n",
       "  <tbody>\n",
       "    <tr>\n",
       "      <th>0</th>\n",
       "      <td>6cea1139ec1f9a7dce72425cc2e936f8</td>\n",
       "      <td>f432eb49e0def8fa3ae70ee067126849</td>\n",
       "      <td>0</td>\n",
       "    </tr>\n",
       "    <tr>\n",
       "      <th>1</th>\n",
       "      <td>609a147fc2d88469123a93bd5f1a20f3</td>\n",
       "      <td>cbdbd68363aea06b331476621ade56cd</td>\n",
       "      <td>0</td>\n",
       "    </tr>\n",
       "    <tr>\n",
       "      <th>2</th>\n",
       "      <td>aba0d5c8e28f9c8f263a75e54a1bfae0</td>\n",
       "      <td>2966e13c883e27d029c91d4b33a9ecfd</td>\n",
       "      <td>0</td>\n",
       "    </tr>\n",
       "    <tr>\n",
       "      <th>3</th>\n",
       "      <td>3716307d2ede6813c2e7511b2cb957cd</td>\n",
       "      <td>84c13cda17b8a672b4be8f15ad7d411c</td>\n",
       "      <td>0</td>\n",
       "    </tr>\n",
       "    <tr>\n",
       "      <th>4</th>\n",
       "      <td>e27c1ec66cb9527bdd0736a60c9de49a</td>\n",
       "      <td>b040cd84e641ac890804ce978015daad</td>\n",
       "      <td>0</td>\n",
       "    </tr>\n",
       "    <tr>\n",
       "      <th>...</th>\n",
       "      <td>...</td>\n",
       "      <td>...</td>\n",
       "      <td>...</td>\n",
       "    </tr>\n",
       "    <tr>\n",
       "      <th>2993</th>\n",
       "      <td>238a7bc2892993462b470a8705552f53</td>\n",
       "      <td>17060b9e7b760d2953e08718207baee0</td>\n",
       "      <td>0</td>\n",
       "    </tr>\n",
       "    <tr>\n",
       "      <th>2994</th>\n",
       "      <td>15b33666ee2809ea78c23add807469d9</td>\n",
       "      <td>3e5910281a1ca064ee29efe42e9c1195</td>\n",
       "      <td>0</td>\n",
       "    </tr>\n",
       "    <tr>\n",
       "      <th>2995</th>\n",
       "      <td>0fcb82fec458a0993f848200548eaaa0</td>\n",
       "      <td>4b5789215ed36b9a95b58f847aa7bf69</td>\n",
       "      <td>0</td>\n",
       "    </tr>\n",
       "    <tr>\n",
       "      <th>2996</th>\n",
       "      <td>9da5fd62b45ff988057eb267199d4087</td>\n",
       "      <td>d9d68d8fc28d30017b5f8484d9d66389</td>\n",
       "      <td>0</td>\n",
       "    </tr>\n",
       "    <tr>\n",
       "      <th>2997</th>\n",
       "      <td>c5a04b23f6e5e8b4fe755f8ea6de41dc</td>\n",
       "      <td>aaab2bed47344aad9b26dbec6db987b1</td>\n",
       "      <td>0</td>\n",
       "    </tr>\n",
       "  </tbody>\n",
       "</table>\n",
       "<p>2998 rows × 3 columns</p>\n",
       "</div>"
      ],
      "text/plain": [
       "                              query_id                           cand_id  \\\n",
       "0     6cea1139ec1f9a7dce72425cc2e936f8  f432eb49e0def8fa3ae70ee067126849   \n",
       "1     609a147fc2d88469123a93bd5f1a20f3  cbdbd68363aea06b331476621ade56cd   \n",
       "2     aba0d5c8e28f9c8f263a75e54a1bfae0  2966e13c883e27d029c91d4b33a9ecfd   \n",
       "3     3716307d2ede6813c2e7511b2cb957cd  84c13cda17b8a672b4be8f15ad7d411c   \n",
       "4     e27c1ec66cb9527bdd0736a60c9de49a  b040cd84e641ac890804ce978015daad   \n",
       "...                                ...                               ...   \n",
       "2993  238a7bc2892993462b470a8705552f53  17060b9e7b760d2953e08718207baee0   \n",
       "2994  15b33666ee2809ea78c23add807469d9  3e5910281a1ca064ee29efe42e9c1195   \n",
       "2995  0fcb82fec458a0993f848200548eaaa0  4b5789215ed36b9a95b58f847aa7bf69   \n",
       "2996  9da5fd62b45ff988057eb267199d4087  d9d68d8fc28d30017b5f8484d9d66389   \n",
       "2997  c5a04b23f6e5e8b4fe755f8ea6de41dc  aaab2bed47344aad9b26dbec6db987b1   \n",
       "\n",
       "     target  \n",
       "0         0  \n",
       "1         0  \n",
       "2         0  \n",
       "3         0  \n",
       "4         0  \n",
       "...     ...  \n",
       "2993      0  \n",
       "2994      0  \n",
       "2995      0  \n",
       "2996      0  \n",
       "2997      0  \n",
       "\n",
       "[2998 rows x 3 columns]"
      ]
     },
     "execution_count": 90,
     "metadata": {},
     "output_type": "execute_result"
    }
   ],
   "source": [
    "df_negative"
   ]
  },
  {
   "cell_type": "code",
   "execution_count": 91,
   "id": "ef2fe668",
   "metadata": {},
   "outputs": [
    {
     "data": {
      "text/html": [
       "<div>\n",
       "<style scoped>\n",
       "    .dataframe tbody tr th:only-of-type {\n",
       "        vertical-align: middle;\n",
       "    }\n",
       "\n",
       "    .dataframe tbody tr th {\n",
       "        vertical-align: top;\n",
       "    }\n",
       "\n",
       "    .dataframe thead th {\n",
       "        text-align: right;\n",
       "    }\n",
       "</style>\n",
       "<table border=\"1\" class=\"dataframe\">\n",
       "  <thead>\n",
       "    <tr style=\"text-align: right;\">\n",
       "      <th></th>\n",
       "      <th>query_id</th>\n",
       "      <th>cand_id</th>\n",
       "      <th>target</th>\n",
       "      <th>lyricId</th>\n",
       "      <th>text</th>\n",
       "      <th>lyricId_cand</th>\n",
       "      <th>text_cand</th>\n",
       "    </tr>\n",
       "  </thead>\n",
       "  <tbody>\n",
       "    <tr>\n",
       "      <th>0</th>\n",
       "      <td>6cea1139ec1f9a7dce72425cc2e936f8</td>\n",
       "      <td>f432eb49e0def8fa3ae70ee067126849</td>\n",
       "      <td>0</td>\n",
       "      <td>1a7001a1b54d70c7ed17a32972bc2489</td>\n",
       "      <td>Обещал, что так больше не буду\\nОбещал, что те...</td>\n",
       "      <td>77a32039871348cfb978a133dd480a51</td>\n",
       "      <td>Чую, чую, я кочую\\nТопчет неспеша пустыню кара...</td>\n",
       "    </tr>\n",
       "    <tr>\n",
       "      <th>1</th>\n",
       "      <td>e752d595f16d2ec3e34e1d79a85ddd9a</td>\n",
       "      <td>f432eb49e0def8fa3ae70ee067126849</td>\n",
       "      <td>0</td>\n",
       "      <td>2aae2764b12139f8d4862cb7feaba95d</td>\n",
       "      <td>Тот, кто погас, будет ярче светить, чем кометы...</td>\n",
       "      <td>77a32039871348cfb978a133dd480a51</td>\n",
       "      <td>Чую, чую, я кочую\\nТопчет неспеша пустыню кара...</td>\n",
       "    </tr>\n",
       "  </tbody>\n",
       "</table>\n",
       "</div>"
      ],
      "text/plain": [
       "                           query_id                           cand_id target  \\\n",
       "0  6cea1139ec1f9a7dce72425cc2e936f8  f432eb49e0def8fa3ae70ee067126849      0   \n",
       "1  e752d595f16d2ec3e34e1d79a85ddd9a  f432eb49e0def8fa3ae70ee067126849      0   \n",
       "\n",
       "                            lyricId  \\\n",
       "0  1a7001a1b54d70c7ed17a32972bc2489   \n",
       "1  2aae2764b12139f8d4862cb7feaba95d   \n",
       "\n",
       "                                                text  \\\n",
       "0  Обещал, что так больше не буду\\nОбещал, что те...   \n",
       "1  Тот, кто погас, будет ярче светить, чем кометы...   \n",
       "\n",
       "                       lyricId_cand  \\\n",
       "0  77a32039871348cfb978a133dd480a51   \n",
       "1  77a32039871348cfb978a133dd480a51   \n",
       "\n",
       "                                           text_cand  \n",
       "0  Чую, чую, я кочую\\nТопчет неспеша пустыню кара...  \n",
       "1  Чую, чую, я кочую\\nТопчет неспеша пустыню кара...  "
      ]
     },
     "execution_count": 91,
     "metadata": {},
     "output_type": "execute_result"
    }
   ],
   "source": [
    "# присоединим тексты \n",
    "df_negative=df_negative\\\n",
    "  .merge(lyrics, how='inner' , left_on='query_id', right_on='track_id').drop(columns=['track_id'], axis=1) \\\n",
    "    .merge(lyrics, how='inner' , left_on='cand_id', right_on='track_id',suffixes=('', '_cand') )\\\n",
    "        .drop(columns=['track_id'], axis=1) \n",
    "df_negative.head(2)"
   ]
  },
  {
   "cell_type": "markdown",
   "id": "b960180b",
   "metadata": {},
   "source": [
    "#### Concat"
   ]
  },
  {
   "cell_type": "code",
   "execution_count": 92,
   "id": "c5998263",
   "metadata": {},
   "outputs": [
    {
     "data": {
      "text/html": [
       "<div>\n",
       "<style scoped>\n",
       "    .dataframe tbody tr th:only-of-type {\n",
       "        vertical-align: middle;\n",
       "    }\n",
       "\n",
       "    .dataframe tbody tr th {\n",
       "        vertical-align: top;\n",
       "    }\n",
       "\n",
       "    .dataframe thead th {\n",
       "        text-align: right;\n",
       "    }\n",
       "</style>\n",
       "<table border=\"1\" class=\"dataframe\">\n",
       "  <thead>\n",
       "    <tr style=\"text-align: right;\">\n",
       "      <th></th>\n",
       "      <th>query_id</th>\n",
       "      <th>cand_id</th>\n",
       "      <th>target</th>\n",
       "      <th>lyricId</th>\n",
       "      <th>text</th>\n",
       "      <th>lyricId_cand</th>\n",
       "      <th>text_cand</th>\n",
       "    </tr>\n",
       "  </thead>\n",
       "  <tbody>\n",
       "    <tr>\n",
       "      <th>0</th>\n",
       "      <td>fd93fa564461b42fea969d6cc1d16c18</td>\n",
       "      <td>b08d39708fd657f84794d306a5fe9764</td>\n",
       "      <td>0</td>\n",
       "      <td>b48c26ba7186a8de9de9f3121a783da4</td>\n",
       "      <td>I got lost in the wilderness\\nI thought I was ...</td>\n",
       "      <td>4fd50548da3a3d124157b137d4f2a428</td>\n",
       "      <td>I'm at another party again\\nDon't wanna be her...</td>\n",
       "    </tr>\n",
       "    <tr>\n",
       "      <th>1</th>\n",
       "      <td>87b0578122b0ec5f80f2dcfd5d6f05b7</td>\n",
       "      <td>25af623ed3bbb17aca496a14e74d6f56</td>\n",
       "      <td>0</td>\n",
       "      <td>ac8af3068a5218d7945f2cd6c9b657dc</td>\n",
       "      <td>Yeah\\nI know sometimes things may not\\nAlways ...</td>\n",
       "      <td>531d633d96b32566304bdca1515bd179</td>\n",
       "      <td>А мы пьяные, счастливые как будто по 16\\nМы за...</td>\n",
       "    </tr>\n",
       "  </tbody>\n",
       "</table>\n",
       "</div>"
      ],
      "text/plain": [
       "                           query_id                           cand_id target  \\\n",
       "0  fd93fa564461b42fea969d6cc1d16c18  b08d39708fd657f84794d306a5fe9764      0   \n",
       "1  87b0578122b0ec5f80f2dcfd5d6f05b7  25af623ed3bbb17aca496a14e74d6f56      0   \n",
       "\n",
       "                            lyricId  \\\n",
       "0  b48c26ba7186a8de9de9f3121a783da4   \n",
       "1  ac8af3068a5218d7945f2cd6c9b657dc   \n",
       "\n",
       "                                                text  \\\n",
       "0  I got lost in the wilderness\\nI thought I was ...   \n",
       "1  Yeah\\nI know sometimes things may not\\nAlways ...   \n",
       "\n",
       "                       lyricId_cand  \\\n",
       "0  4fd50548da3a3d124157b137d4f2a428   \n",
       "1  531d633d96b32566304bdca1515bd179   \n",
       "\n",
       "                                           text_cand  \n",
       "0  I'm at another party again\\nDon't wanna be her...  \n",
       "1  А мы пьяные, счастливые как будто по 16\\nМы за...  "
      ]
     },
     "execution_count": 92,
     "metadata": {},
     "output_type": "execute_result"
    }
   ],
   "source": [
    "train_text=pd.concat([df_positive,df_negative], ignore_index=True).sample(frac=1).reset_index(drop=True)\n",
    "train_text.head(2)"
   ]
  },
  {
   "cell_type": "code",
   "execution_count": 93,
   "id": "3d724ea9",
   "metadata": {},
   "outputs": [],
   "source": [
    "train_text['target']=train_text['target'].astype (int)"
   ]
  },
  {
   "cell_type": "code",
   "execution_count": 94,
   "id": "902c5fb8",
   "metadata": {},
   "outputs": [
    {
     "name": "stdout",
     "output_type": "stream",
     "text": [
      "<class 'pandas.core.frame.DataFrame'>\n",
      "RangeIndex: 5165 entries, 0 to 5164\n",
      "Data columns (total 7 columns):\n",
      " #   Column        Non-Null Count  Dtype \n",
      "---  ------        --------------  ----- \n",
      " 0   query_id      5165 non-null   object\n",
      " 1   cand_id       5165 non-null   object\n",
      " 2   target        5165 non-null   int32 \n",
      " 3   lyricId       5165 non-null   object\n",
      " 4   text          5165 non-null   object\n",
      " 5   lyricId_cand  5165 non-null   object\n",
      " 6   text_cand     5165 non-null   object\n",
      "dtypes: int32(1), object(6)\n",
      "memory usage: 262.4+ KB\n"
     ]
    }
   ],
   "source": [
    "train_text.info()"
   ]
  },
  {
   "cell_type": "markdown",
   "id": "6f568455",
   "metadata": {},
   "source": [
    "### Модель"
   ]
  },
  {
   "cell_type": "code",
   "execution_count": 95,
   "id": "df46362e",
   "metadata": {},
   "outputs": [
    {
     "name": "stdout",
     "output_type": "stream",
     "text": [
      "(4132, 7)\n"
     ]
    },
    {
     "data": {
      "text/plain": [
       "(1033, 7)"
      ]
     },
     "execution_count": 95,
     "metadata": {},
     "output_type": "execute_result"
    }
   ],
   "source": [
    "X_train, X_test = train_test_split(train_text, test_size=0.2, \\\n",
    "                                stratify=train_text['target'])\n",
    "print(X_train.shape)\n",
    "X_test.shape"
   ]
  },
  {
   "cell_type": "code",
   "execution_count": 96,
   "id": "7cc0d5c5",
   "metadata": {},
   "outputs": [],
   "source": [
    "y_train = X_train['target']                    \n",
    "X_train = X_train.drop(['target'], axis=1)\n",
    "\n",
    "y_test = X_test['target']                    \n",
    "X_test = X_test.drop(['target'], axis=1)"
   ]
  },
  {
   "cell_type": "code",
   "execution_count": 97,
   "id": "c497b084",
   "metadata": {},
   "outputs": [],
   "source": [
    "train_pool = Pool(\n",
    "    data=X_train[['text_cand','text']],\n",
    "    label=y_train,\n",
    "    text_features=['text_cand','text']\n",
    ")\n",
    "\n",
    "eval_pool = Pool(\n",
    "    data=X_test[['text_cand','text']],\n",
    "    label=y_test,\n",
    "    text_features=['text_cand','text']\n",
    ")"
   ]
  },
  {
   "cell_type": "code",
   "execution_count": 98,
   "id": "f57820f7",
   "metadata": {},
   "outputs": [
    {
     "data": {
      "application/vnd.jupyter.widget-view+json": {
       "model_id": "0cb44bf993564f67b6482e02d77fd673",
       "version_major": 2,
       "version_minor": 0
      },
      "text/plain": [
       "MetricVisualizer(layout=Layout(align_self='stretch', height='500px'))"
      ]
     },
     "metadata": {},
     "output_type": "display_data"
    },
    {
     "name": "stdout",
     "output_type": "stream",
     "text": [
      "0:\tlearn: 0.9109127\ttotal: 231ms\tremaining: 1m 9s\n",
      "100:\tlearn: 0.9588225\ttotal: 12.3s\tremaining: 24.2s\n",
      "200:\tlearn: 0.9746193\ttotal: 25.3s\tremaining: 12.5s\n",
      "299:\tlearn: 0.9916201\ttotal: 38.3s\tremaining: 0us\n",
      "CPU times: total: 4min 51s\n",
      "Wall time: 39.3 s\n"
     ]
    },
    {
     "data": {
      "text/plain": [
       "<catboost.core.CatBoostClassifier at 0x1354634de20>"
      ]
     },
     "execution_count": 98,
     "metadata": {},
     "output_type": "execute_result"
    }
   ],
   "source": [
    "%%time\n",
    "model = CatBoostClassifier(iterations=300, learning_rate=0.05, eval_metric='F1',class_weights=(1,4)) #  learning_rate=0.05,\n",
    "\n",
    "model.fit(\n",
    "    train_pool,\n",
    "    plot=True,\n",
    "    verbose=100,\n",
    "    metric_period=50\n",
    ")"
   ]
  },
  {
   "cell_type": "code",
   "execution_count": 99,
   "id": "d8253e11",
   "metadata": {},
   "outputs": [
    {
     "name": "stdout",
     "output_type": "stream",
     "text": [
      "F1 Score on Test Set: 0.9595375722543353\n"
     ]
    }
   ],
   "source": [
    "# посмотрим рзультат на тстовой выборке\n",
    "y_pred = model.predict(eval_pool)\n",
    "f1 = f1_score(y_test, y_pred)\n",
    "print('F1 Score on Test Set:', f1)"
   ]
  },
  {
   "cell_type": "markdown",
   "id": "ddc0cb27",
   "metadata": {},
   "source": [
    "### Выводы:\n",
    "В рамках решения данной задачи: \n",
    "\n",
    "1. Провели многоэтапную сборку датасета:\n",
    "- Чтобы получить связные треки (разметка 1),мы отбрали каверы с заполненными оригиналами и взяли пары оригинал/кавер  \n",
    "- Чтобы получить несвязные треки (разметка 0), мы отделили часть с оригиналами \n",
    "- Написали функцию, которая составляет случайным образом пары из 'track_id' различных оригиналов. Число комбинаций - изменяемый параметр\n",
    "- Соединили и пермешали пары с разной разметкой\n",
    "- Добавили тексты\n",
    "\n",
    "2. Отделили тестовую выборку с учетом дисбаланса. \n",
    "3. Обучили модель и рассчитали значение на тесте\n",
    "\n",
    "Получили хорошую метрику F1 на тестовой выборке.\n",
    "Таким образом, гипотеза подтвердилась, на основании текстов можно определить связаны ли треки. \n",
    "\n"
   ]
  },
  {
   "cell_type": "markdown",
   "id": "8fdd574b",
   "metadata": {
    "id": "883e311c"
   },
   "source": [
    "## Задача: Поиск связанных треков\n",
    "\n",
    "\n",
    "\n",
    "**Гипотеза:** Для каждого заданного трека (неважно, дан кавер или оригинал) возможно найти все связанные с ним, имеющиеся в базе. (группа - все каверы на одну и ту же песню , включая саму песню)\n",
    "\n",
    "**Польза:** Благодаря такой модели можно, например, найти и показать все каверы на любимый трек пользователя;\n",
    "\n",
    "\n",
    "**Задачи:** \n",
    "- векторизация текста\n",
    "- кластеризации в векторном пространстве \n",
    "\n",
    "**Модели:** \n",
    "- LaBSE (768)\n",
    "- Ближайшие соседи по косинусному расстоянию\n",
    "\n",
    "**Метрики:** \n",
    "\n",
    "- Recall means (\"Усредненная полнота, %\"): отношение \"нашли\"/\"должны были найти\", считается для каждого трека, потом усредняется \n",
    "- Extra_cnt - Количество лишних в шт\n",
    "- Jaccard means - обобщенная метрика, учитывающая предыдущие две \n",
    "- accuracy Recall_100% - считает процент треков, для которых полнота максимальная -100%, т.е. модель нашла ВСЕ связные треки\n",
    "\n",
    "**Пример Recall means:** \n",
    "\n",
    "- 1. Отобрали всех, которые по расстоянию ближе какого-то порога (настраиваемый параметр).\n",
    "- 2. Посчитали, сколько нашли из имеющихся в датасете (размеченных). Если 1 из 1, то считаем модель справилась на 100%. Если нашла 1, а было в базе 2, то считаем что на 50% и т.д. \n",
    "- 3. Так для каждого трека из теста, и потом усредняем\n",
    "\n",
    "**Заметка:** про лишних, мы не знаем, не ошибочные ли они , пока нет разметки. Этот признак можно проверять только на урезанном датасете с разметкой.  Предлагается после отладки модели сделать функцию для автоматической разметки. \n",
    "\n",
    "\n",
    "\n"
   ]
  },
  {
   "cell_type": "markdown",
   "id": "1582a2e5",
   "metadata": {},
   "source": [
    "#### Метрики"
   ]
  },
  {
   "cell_type": "code",
   "execution_count": 142,
   "id": "08518f6d",
   "metadata": {},
   "outputs": [],
   "source": [
    "#list1 - множество всех истинных связных треков для заданного\n",
    "#list2 - множество треков, которые модель посчитала связными с заданным\n",
    "\n",
    "def jaccard_similarity(list1, list2):\n",
    "    set1 = set(list1)\n",
    "    set2 = set(list2)\n",
    "    intersection = len(set1.intersection(set2))\n",
    "    union = len(set1) + len(set2) - intersection\n",
    "    similarity = intersection / union\n",
    "    return similarity\n",
    "\n",
    "\n",
    "# extra - лишние в шт\n",
    "\n",
    "def extra_cnt(list1, list2):\n",
    "    set1 = set(list1)\n",
    "    set2 = set(list2)\n",
    "    extra= abs(len(set2)-len(set1.intersection(set2)) )\n",
    "    return extra\n",
    "\n",
    "# recall_set показывает, какую долю связных треков из всех связных треков нашел алгоритм\n",
    "\n",
    "def recall_set(list1, list2):\n",
    "    set1 = set(list1)\n",
    "    set2 = set(list2)\n",
    "    intersection = len(set1.intersection(set2))\n",
    "    similarity = intersection / len(set1)\n",
    "    return similarity\n",
    "\n",
    "# объединим в одну функцию и добавим усреднение\n",
    "\n",
    "def metrics_all(df,name_col_target='original_groups_id' ,name_col_predict='predict_id_gr'):\n",
    "    df=df.copy()\n",
    "    df['Jaccard']= \\\n",
    "        df.apply(lambda row: jaccard_similarity(row[name_col_target], row[name_col_predict]), axis=1)\n",
    "    \n",
    "    df['recall']=df.apply(lambda row: recall_set(row[name_col_target], row[name_col_predict]), axis=1)\n",
    "    df['for_acc']=df['recall'].apply(lambda x: 0 if x<1 else 1)\n",
    "    df['extra_cnt']=df.apply(lambda row: extra_cnt(row[name_col_target], row[name_col_predict]), axis=1)\n",
    "    \n",
    "    print('Recall means,%:', round(df['recall'].mean()*100,2 ) )\n",
    "    print('Jaccard means,%:', round(df['Jaccard'].mean()*100,2 ) )\n",
    "    print('Extra_cnt means:', df['extra_cnt'].mean())\n",
    "    print('Accuracy Recall_100%:',round(df['for_acc'].sum()/len(df) *100,2 )  )\n",
    "    return df"
   ]
  },
  {
   "cell_type": "markdown",
   "id": "aa3a3683",
   "metadata": {},
   "source": [
    "### Сборка датасета\n",
    "\n",
    "Для векторизации текстов возьмем только треки, для которых текст известен. "
   ]
  },
  {
   "cell_type": "markdown",
   "id": "f77a4d82",
   "metadata": {},
   "source": [
    "####  base"
   ]
  },
  {
   "cell_type": "code",
   "execution_count": 101,
   "id": "dccdaff8",
   "metadata": {},
   "outputs": [],
   "source": [
    "#Датафрейм для векторизации текстов\n",
    "lyrics_max =result_lyrics.copy() #где несколько текстов, берем максимальный\n",
    "lyrics_max=lyrics_max.rename(columns={'max_text':'text'})\n",
    "final_table = lyrics_max "
   ]
  },
  {
   "cell_type": "markdown",
   "id": "c4c8407b",
   "metadata": {},
   "source": [
    "####  Векторизация\n",
    "Для векторизации была выбрана предобученная модель LaBSE, потому что:\n",
    "\n",
    "\n",
    "она обучена на выборке текстов на 100+ языков в многозадачном режиме. Основная задача – сближать друг с другом эмбеддинги предложений с одинаковым смыслом на разных языках, что, как раз подходит для нашей задачи. Ведь у нас многоязычная выборка, и к одной песни может существовать множество каверов на разных языках, а нам надо найти и объединить их все "
   ]
  },
  {
   "cell_type": "code",
   "execution_count": 102,
   "id": "bc8cab8b",
   "metadata": {},
   "outputs": [],
   "source": [
    "# Функция по очистке текста от переносов и символов, приведение всех букв к нижнему регистру.\n",
    "\n",
    "def clear_text(text):    \n",
    "    text = text.replace('\\t', '\\n').split('\\n')\n",
    "    text = \" \".join(text)\n",
    "    text =\" \".join(re.sub(r'\\W+', ' ', text.lower()).split())      \n",
    "    return text  "
   ]
  },
  {
   "cell_type": "markdown",
   "id": "253c435e",
   "metadata": {},
   "source": [
    "**Важно:** при первом запуске необходимо раскомментировать и выполнить код ниже, для создания векторов и сохранения их в файл. "
   ]
  },
  {
   "cell_type": "markdown",
   "id": "487a42b0",
   "metadata": {},
   "source": [
    "\n",
    "```\n",
    "%%time\n",
    "\n",
    "\n",
    "# Создадим новый столбец 'clear', применим функцию по очистке текста к столбцу 'max_text'.\n",
    "\n",
    "final_table['clear'] = final_table['text'].progress_apply(clear_text)\n",
    "\n",
    "\n",
    "# Загрузим предварительно обученную модель LaBSE и токенизатор\n",
    "model_name = \"sentence-transformers/LaBSE\"\n",
    "tokenizer = AutoTokenizer.from_pretrained(model_name)\n",
    "model = AutoModel.from_pretrained(model_name)\n",
    "\n",
    "# Обрежем длину текста до 512 символов\n",
    "final_table['clear_small'] = final_table['clear'].str[:512]\n",
    "\n",
    "# В переменную загрузим список тестов всех песен\n",
    "list_of_sentenses = final_table['clear_small'].tolist()\n",
    "\n",
    "# Текстовые данные\n",
    "texts = list_of_sentenses\n",
    "\n",
    "# Разделите данные на батчи\n",
    "batch_size = 10  # Размер батча\n",
    "batches = [texts[i:i + batch_size] for i in range(0, len(texts), batch_size)]\n",
    "\n",
    "# Векторизуйте тексты с использованием батчей\n",
    "vectors = []\n",
    "\n",
    "# Батчами\n",
    "for batch in batches:\n",
    "    # Токенизация и вложение текстов\n",
    "    inputs = tokenizer(batch, return_tensors=\"pt\", padding=True, truncation=True)\n",
    "    with torch.no_grad():\n",
    "        embeddings = model(**inputs).last_hidden_state.mean(dim=1)\n",
    "    \n",
    "    # Добавление векторов в список  \n",
    "    vectors.append(embeddings) \n",
    "    \n",
    "    \n",
    "# Объедините векторы из батчей в один массив\n",
    "vectors = torch.cat(vectors, dim=0)\n",
    "\n",
    "# Преобразуйте тензор в массив numpy\n",
    "vectors = vectors.numpy()\n",
    "\n",
    "# Результат: vectors содержит векторы для всех текстов\n",
    "\n",
    "# В таблицу добавим колонку 'vectors', в которую поместим значения сформированного numpy-массива\n",
    "final_table['vectors'] = vectors.tolist ()\n",
    "\n",
    "# Выгрузка датасета на диск\n",
    "final_table.to_csv('vectors_2.csv', index = False)\n",
    "\n",
    "#CPU times: total: 1h 22min 47s\n",
    "#Wall time: 44min 38s\n",
    "```"
   ]
  },
  {
   "cell_type": "code",
   "execution_count": 103,
   "id": "a359a0fc",
   "metadata": {},
   "outputs": [
    {
     "data": {
      "text/html": [
       "<div>\n",
       "<style scoped>\n",
       "    .dataframe tbody tr th:only-of-type {\n",
       "        vertical-align: middle;\n",
       "    }\n",
       "\n",
       "    .dataframe tbody tr th {\n",
       "        vertical-align: top;\n",
       "    }\n",
       "\n",
       "    .dataframe thead th {\n",
       "        text-align: right;\n",
       "    }\n",
       "</style>\n",
       "<table border=\"1\" class=\"dataframe\">\n",
       "  <thead>\n",
       "    <tr style=\"text-align: right;\">\n",
       "      <th></th>\n",
       "      <th>track_id</th>\n",
       "      <th>dttm</th>\n",
       "      <th>title</th>\n",
       "      <th>language</th>\n",
       "      <th>isrc</th>\n",
       "      <th>genres</th>\n",
       "      <th>duration</th>\n",
       "      <th>lyricId</th>\n",
       "      <th>max_text</th>\n",
       "      <th>original_track_id</th>\n",
       "      <th>track_remake_type</th>\n",
       "      <th>clear</th>\n",
       "      <th>vector</th>\n",
       "      <th>final_table</th>\n",
       "      <th>clear_small</th>\n",
       "      <th>vectors</th>\n",
       "    </tr>\n",
       "  </thead>\n",
       "  <tbody>\n",
       "    <tr>\n",
       "      <th>0</th>\n",
       "      <td>c3b9d6a354ca008aa4518329aaa21380</td>\n",
       "      <td>2021-12-16 21:00:00</td>\n",
       "      <td>happy new year</td>\n",
       "      <td>EN</td>\n",
       "      <td>RUB422103970</td>\n",
       "      <td>['DANCE']</td>\n",
       "      <td>161120.0</td>\n",
       "      <td>36777cce0740d1e3d37a5a221c71d859</td>\n",
       "      <td>No more champagne\\nAnd the fireworks are throu...</td>\n",
       "      <td>NaN</td>\n",
       "      <td>1.0</td>\n",
       "      <td>no more champagne and the fireworks are throug...</td>\n",
       "      <td>[ 0.5406379  -1.1268547  -0.258062    0.708837...</td>\n",
       "      <td>[ 0.7735327   0.29807243 -0.07493063 -0.194525...</td>\n",
       "      <td>no more champagne and the fireworks are throug...</td>\n",
       "      <td>[0.3946268558502197, -0.19938762485980988, -0....</td>\n",
       "    </tr>\n",
       "  </tbody>\n",
       "</table>\n",
       "</div>"
      ],
      "text/plain": [
       "                           track_id                 dttm           title  \\\n",
       "0  c3b9d6a354ca008aa4518329aaa21380  2021-12-16 21:00:00  happy new year   \n",
       "\n",
       "  language          isrc     genres  duration  \\\n",
       "0       EN  RUB422103970  ['DANCE']  161120.0   \n",
       "\n",
       "                            lyricId  \\\n",
       "0  36777cce0740d1e3d37a5a221c71d859   \n",
       "\n",
       "                                            max_text original_track_id  \\\n",
       "0  No more champagne\\nAnd the fireworks are throu...               NaN   \n",
       "\n",
       "   track_remake_type                                              clear  \\\n",
       "0                1.0  no more champagne and the fireworks are throug...   \n",
       "\n",
       "                                              vector  \\\n",
       "0  [ 0.5406379  -1.1268547  -0.258062    0.708837...   \n",
       "\n",
       "                                         final_table  \\\n",
       "0  [ 0.7735327   0.29807243 -0.07493063 -0.194525...   \n",
       "\n",
       "                                         clear_small  \\\n",
       "0  no more champagne and the fireworks are throug...   \n",
       "\n",
       "                                             vectors  \n",
       "0  [0.3946268558502197, -0.19938762485980988, -0....  "
      ]
     },
     "execution_count": 103,
     "metadata": {},
     "output_type": "execute_result"
    }
   ],
   "source": [
    "#Загрузим из файла таблицу с векторизованными текстами\n",
    "vectors= pd.read_csv('vectors.csv')      \n",
    "vectors.head(1)"
   ]
  },
  {
   "cell_type": "code",
   "execution_count": 104,
   "id": "ca83c40c",
   "metadata": {},
   "outputs": [
    {
     "data": {
      "text/plain": [
       "0        [0.3946268558502197, -0.19938762485980988, -0....\n",
       "1        [0.005651385057717562, -0.5745561718940735, 0....\n",
       "2        [0.028901170939207077, -0.5061464905738831, 0....\n",
       "3        [-0.4862735867500305, -0.427009254693985, 1.12...\n",
       "4        [-0.19295912981033325, -1.6712805032730103, 1....\n",
       "                               ...                        \n",
       "10011    [0.5002255439758301, -0.9090144634246826, 1.15...\n",
       "10012    [-0.02434004284441471, -0.08570588380098343, 1...\n",
       "10013    [0.06473346799612045, -0.7343732118606567, 0.6...\n",
       "10014    [-0.34230637550354004, -1.1097768545150757, 0....\n",
       "10015    [0.5384540557861328, -0.8222340941429138, -0.3...\n",
       "Name: vectors, Length: 10016, dtype: object"
      ]
     },
     "execution_count": 104,
     "metadata": {},
     "output_type": "execute_result"
    }
   ],
   "source": [
    "#переведем строку в массив чисел\n",
    "def parse_probabilities(string):\n",
    "    return [float(value) for value in string[1 : -1].split(',')]\n",
    "vectors['vectors'] = vectors['vectors'].apply(parse_probabilities)\n",
    "vectors['vectors']"
   ]
  },
  {
   "cell_type": "code",
   "execution_count": 105,
   "id": "b591a875",
   "metadata": {},
   "outputs": [
    {
     "name": "stdout",
     "output_type": "stream",
     "text": [
      "<class 'pandas.core.frame.DataFrame'>\n",
      "RangeIndex: 10016 entries, 0 to 10015\n",
      "Data columns (total 16 columns):\n",
      " #   Column             Non-Null Count  Dtype  \n",
      "---  ------             --------------  -----  \n",
      " 0   track_id           10016 non-null  object \n",
      " 1   dttm               10016 non-null  object \n",
      " 2   title              10016 non-null  object \n",
      " 3   language           6244 non-null   object \n",
      " 4   isrc               9955 non-null   object \n",
      " 5   genres             10016 non-null  object \n",
      " 6   duration           10016 non-null  float64\n",
      " 7   lyricId            10016 non-null  object \n",
      " 8   max_text           10016 non-null  object \n",
      " 9   original_track_id  3014 non-null   object \n",
      " 10  track_remake_type  9866 non-null   float64\n",
      " 11  clear              10016 non-null  object \n",
      " 12  vector             10016 non-null  object \n",
      " 13  final_table        10016 non-null  object \n",
      " 14  clear_small        10016 non-null  object \n",
      " 15  vectors            10016 non-null  object \n",
      "dtypes: float64(2), object(14)\n",
      "memory usage: 1.2+ MB\n"
     ]
    }
   ],
   "source": [
    "vectors.info()"
   ]
  },
  {
   "cell_type": "markdown",
   "id": "e6fa745f",
   "metadata": {},
   "source": [
    "####  test\n",
    "Сформируем и заполним колонку \"original_groups_id\",  в нее мы занесем списки со всеми айди трека в группе для каждого уникального оригинала. \n",
    "\n",
    "Создадим функцию для этого:\n"
   ]
  },
  {
   "cell_type": "code",
   "execution_count": 106,
   "id": "0e1010f7",
   "metadata": {},
   "outputs": [],
   "source": [
    "def rem(list_a, b):\n",
    "    try:        list_a.remove(b)\n",
    "    except:        pass    \n",
    "    return list_a\n",
    "\n",
    "def create_groups_id(covers,lyrics_max):\n",
    "    \n",
    "    #Для тестовой выборки возьмем только каверы, с заполненным оригиналом и добавим к ним эти оригиналы.\n",
    "    # cover_razm - размеченные каверы  \n",
    "    cover_razm= \\\n",
    "            covers.loc[(covers.track_remake_type=='COVER') & (covers.original_track_id.isnull()==False)]\\\n",
    "                                                                                 .reset_index(drop=True).copy()\n",
    "    \n",
    "    #выделим индексы oригиналов, для которых существуют размеченные каверы, чтобы добавить их в тестовый датасет\n",
    "    origina_unique=cover_razm['original_track_id'].unique()                                                                               \n",
    "    \n",
    "    \n",
    "    print(\"len(origina_unique):\", len(origina_unique))\n",
    "  \n",
    "\n",
    "    #выделим индексы covers\n",
    "    covers_unique=cover_razm['track_id'].unique()\n",
    "    print(\" len(covers_unique):\",  len(covers_unique))\n",
    "    \n",
    "    \n",
    "    # original_rzm - оригиналы, для которых существуют размеченные каверы\n",
    "    original_rzm=covers.loc[(covers.track_id.isin(origina_unique) ) ].reset_index(drop=True).copy()\n",
    "    original_rzm=original_rzm.dropna()\n",
    "    print('original_rzm.track_remake_type.value_counts()',original_rzm.track_remake_type.value_counts())\n",
    "    \n",
    "    original_rzm_text=lyrics_max.loc[(lyrics_max.track_id.isin(origina_unique) ) ].reset_index(drop=True).copy()\n",
    "    original_rzm_text_unique=original_rzm_text['track_id'].unique()\n",
    " \n",
    "    #cov_rzm_text=lyrics_max.loc[(lyrics_max.track_id.isin(covers_unique) ) ].reset_index(drop=True).copy()\n",
    "    \n",
    "    cover_razm_text=cover_razm.merge(lyrics_max, how='inner' , on='track_id') #.drop(columns=['track_id'], axis=1)\n",
    "    cover_razm_text=cover_razm_text.merge(lyrics_max, how='inner',\\\n",
    "                                          left_on='original_track_id', right_on='track_id',suffixes=('_cover', '_original')) \n",
    "   # print(cover_razm_text)\n",
    "    \n",
    "    # соберем списки со всеми айди трека в группе для каждого уникального оригинала\n",
    "\n",
    "    list_original_groups=[]\n",
    "    for i in cover_razm_text.original_track_id.unique():\n",
    "\n",
    "        list_cov=list(cover_razm_text.loc[cover_razm_text.original_track_id==i]['track_id_cover'].values)\n",
    "        list_cov.append(i)\n",
    "        list_original_groups.append([i,list_cov])\n",
    "\n",
    "    # и завернем в дф, чтобы примерджить потом к тестовому датасету:    \n",
    "    df_gr=pd.DataFrame(list_original_groups, columns=['original_track_id','original_groups_id'])\n",
    "\n",
    "\n",
    "    #нужны только айдишники\n",
    "    \n",
    "    orig_for_concat = df_gr[['original_track_id']]\n",
    "    orig_for_concat['track_id_cover']=orig_for_concat['original_track_id']\n",
    "    orig_for_concat.columns=['original_track_id','track_id']\n",
    "\n",
    "    cover_for_concat= cover_razm_text[['original_track_id','track_id_cover']]\n",
    "    cover_for_concat.columns=['original_track_id','track_id']\n",
    "    #соединим оригиналы и каверы\n",
    "    df_test=pd.concat([orig_for_concat, cover_for_concat ], \\\n",
    "                                                 ignore_index=True).sample(frac=1).reset_index(drop=True)\n",
    "    # присоединим списки с айдишниками группы, которые сгруппировали выше (df_gr)\n",
    "\n",
    "    df_test=df_test.merge(df_gr, how='left' , on='original_track_id')\n",
    "    \n",
    "    # Удалим сам трек из списка всех айдишников группы, для более удобного расчета метрик \n",
    "    \n",
    "    df_test['all_groups_id']=df_test['original_groups_id'].copy()\n",
    "    df_test['original_groups_id']=\\\n",
    "        df_test.apply(lambda row: rem(list(row['original_groups_id']),row['track_id']),axis=1) \n",
    "    \n",
    "    \n",
    "    # заполним кол-во треков в группе\n",
    "    df_test['gr_covers_count']= df_test['original_groups_id'].apply(lambda x: len(x))\n",
    "\n",
    "    \n",
    "    return df_test"
   ]
  },
  {
   "cell_type": "code",
   "execution_count": 107,
   "id": "6fb7d465",
   "metadata": {},
   "outputs": [
    {
     "name": "stdout",
     "output_type": "stream",
     "text": [
      "len(origina_unique): 228\n",
      " len(covers_unique): 528\n",
      "original_rzm.track_remake_type.value_counts() track_remake_type\n",
      "ORIGINAL    53\n",
      "COVER        2\n",
      "Name: count, dtype: int64\n"
     ]
    },
    {
     "data": {
      "text/html": [
       "<div>\n",
       "<style scoped>\n",
       "    .dataframe tbody tr th:only-of-type {\n",
       "        vertical-align: middle;\n",
       "    }\n",
       "\n",
       "    .dataframe tbody tr th {\n",
       "        vertical-align: top;\n",
       "    }\n",
       "\n",
       "    .dataframe thead th {\n",
       "        text-align: right;\n",
       "    }\n",
       "</style>\n",
       "<table border=\"1\" class=\"dataframe\">\n",
       "  <thead>\n",
       "    <tr style=\"text-align: right;\">\n",
       "      <th></th>\n",
       "      <th>original_track_id</th>\n",
       "      <th>track_id</th>\n",
       "      <th>original_groups_id</th>\n",
       "      <th>all_groups_id</th>\n",
       "      <th>gr_covers_count</th>\n",
       "    </tr>\n",
       "  </thead>\n",
       "  <tbody>\n",
       "    <tr>\n",
       "      <th>0</th>\n",
       "      <td>f3e5e9db509f9b6f6d93b9c38e4e1324</td>\n",
       "      <td>572e11a3b4b1cad7375625d34a81c537</td>\n",
       "      <td>[9e20fd52b21566494b8d6586a39033c9, d71bd79936e...</td>\n",
       "      <td>[9e20fd52b21566494b8d6586a39033c9, d71bd79936e...</td>\n",
       "      <td>31</td>\n",
       "    </tr>\n",
       "    <tr>\n",
       "      <th>1</th>\n",
       "      <td>17d7017dc7c7209af086203723776436</td>\n",
       "      <td>da3100bf59562ec131051daf0de4705e</td>\n",
       "      <td>[17d7017dc7c7209af086203723776436]</td>\n",
       "      <td>[da3100bf59562ec131051daf0de4705e, 17d7017dc7c...</td>\n",
       "      <td>1</td>\n",
       "    </tr>\n",
       "  </tbody>\n",
       "</table>\n",
       "</div>"
      ],
      "text/plain": [
       "                  original_track_id                          track_id  \\\n",
       "0  f3e5e9db509f9b6f6d93b9c38e4e1324  572e11a3b4b1cad7375625d34a81c537   \n",
       "1  17d7017dc7c7209af086203723776436  da3100bf59562ec131051daf0de4705e   \n",
       "\n",
       "                                  original_groups_id  \\\n",
       "0  [9e20fd52b21566494b8d6586a39033c9, d71bd79936e...   \n",
       "1                 [17d7017dc7c7209af086203723776436]   \n",
       "\n",
       "                                       all_groups_id  gr_covers_count  \n",
       "0  [9e20fd52b21566494b8d6586a39033c9, d71bd79936e...               31  \n",
       "1  [da3100bf59562ec131051daf0de4705e, 17d7017dc7c...                1  "
      ]
     },
     "execution_count": 107,
     "metadata": {},
     "output_type": "execute_result"
    }
   ],
   "source": [
    "df_test=create_groups_id(covers,lyrics_max)\n",
    "df_test.head(2)"
   ]
  },
  {
   "cell_type": "markdown",
   "id": "fed7a57b",
   "metadata": {},
   "source": [
    "Почему-то, в колонке с исходным оригиналом к каверу попалось несколько треков с типом \"кавер\". Удалим их и зададим вопрос заказчику о причинах. Может ли быть кавер сделан на кавер или это ошибка? \n",
    "К тому же, в базе covers всего 55 оригиналов из 228. Посмотрим, сколько их в базе с текстами"
   ]
  },
  {
   "cell_type": "code",
   "execution_count": 108,
   "id": "c1acec32",
   "metadata": {},
   "outputs": [
    {
     "data": {
      "text/html": [
       "<div>\n",
       "<style scoped>\n",
       "    .dataframe tbody tr th:only-of-type {\n",
       "        vertical-align: middle;\n",
       "    }\n",
       "\n",
       "    .dataframe tbody tr th {\n",
       "        vertical-align: top;\n",
       "    }\n",
       "\n",
       "    .dataframe thead th {\n",
       "        text-align: right;\n",
       "    }\n",
       "</style>\n",
       "<table border=\"1\" class=\"dataframe\">\n",
       "  <thead>\n",
       "    <tr style=\"text-align: right;\">\n",
       "      <th></th>\n",
       "      <th>original_track_id</th>\n",
       "      <th>track_id</th>\n",
       "      <th>original_groups_id</th>\n",
       "      <th>all_groups_id</th>\n",
       "      <th>gr_covers_count</th>\n",
       "      <th>vectors</th>\n",
       "    </tr>\n",
       "  </thead>\n",
       "  <tbody>\n",
       "    <tr>\n",
       "      <th>0</th>\n",
       "      <td>f3e5e9db509f9b6f6d93b9c38e4e1324</td>\n",
       "      <td>572e11a3b4b1cad7375625d34a81c537</td>\n",
       "      <td>[9e20fd52b21566494b8d6586a39033c9, d71bd79936e...</td>\n",
       "      <td>[9e20fd52b21566494b8d6586a39033c9, d71bd79936e...</td>\n",
       "      <td>31</td>\n",
       "      <td>[0.1024962067604065, -0.9705983400344849, -0.3...</td>\n",
       "    </tr>\n",
       "  </tbody>\n",
       "</table>\n",
       "</div>"
      ],
      "text/plain": [
       "                  original_track_id                          track_id  \\\n",
       "0  f3e5e9db509f9b6f6d93b9c38e4e1324  572e11a3b4b1cad7375625d34a81c537   \n",
       "\n",
       "                                  original_groups_id  \\\n",
       "0  [9e20fd52b21566494b8d6586a39033c9, d71bd79936e...   \n",
       "\n",
       "                                       all_groups_id  gr_covers_count  \\\n",
       "0  [9e20fd52b21566494b8d6586a39033c9, d71bd79936e...               31   \n",
       "\n",
       "                                             vectors  \n",
       "0  [0.1024962067604065, -0.9705983400344849, -0.3...  "
      ]
     },
     "execution_count": 108,
     "metadata": {},
     "output_type": "execute_result"
    }
   ],
   "source": [
    "#присоединим тексты для запроса и посмотрим, сколько будет записей\n",
    "df_test=df_test.merge(vectors[['vectors','track_id']], how='inner' , on='track_id') \n",
    "df_test.head(1)"
   ]
  },
  {
   "cell_type": "code",
   "execution_count": 109,
   "id": "6939c370",
   "metadata": {},
   "outputs": [
    {
     "name": "stdout",
     "output_type": "stream",
     "text": [
      "<class 'pandas.core.frame.DataFrame'>\n",
      "RangeIndex: 453 entries, 0 to 452\n",
      "Data columns (total 6 columns):\n",
      " #   Column              Non-Null Count  Dtype \n",
      "---  ------              --------------  ----- \n",
      " 0   original_track_id   453 non-null    object\n",
      " 1   track_id            453 non-null    object\n",
      " 2   original_groups_id  453 non-null    object\n",
      " 3   all_groups_id       453 non-null    object\n",
      " 4   gr_covers_count     453 non-null    int64 \n",
      " 5   vectors             453 non-null    object\n",
      "dtypes: int64(1), object(5)\n",
      "memory usage: 21.4+ KB\n"
     ]
    }
   ],
   "source": [
    "df_test.info()"
   ]
  },
  {
   "cell_type": "markdown",
   "id": "bb7bf6b3",
   "metadata": {},
   "source": [
    "#### Функция для поиска связных треков\n",
    "На вход принимает два обязательных параметра:\n",
    "- **df_test**, содержит вектора треков, для которых надо найти связные треки\n",
    "- **base**, содержит всю базу векторов треков, среди которых есть потенциальные связные к запросу\n",
    "\n",
    "и дополнительные:\n",
    "- **red_line** порог расстояния, меньше которого считаем кандидата - связным\n",
    "- **metric** - метрика для расчета матрицы попарных расстояний, по умолчанию - косинусное расстояние\n",
    "- **n** - максимальное количество, сколько связных треков нам достаточно\n",
    "\n",
    "Функция считает матрицу попарных расстояний и формирует списки связных track_id, с заданными ограничениями.\n",
    "\n",
    "Возвращает **df_test** с двумя новыми колонками:\n",
    "- 'nearest_neighbors_id' -  списки связных track_id\n",
    "- 'nearest_neighbors_distances' -  списки расстояний для связных track_id"
   ]
  },
  {
   "cell_type": "code",
   "execution_count": 110,
   "id": "2a6c6915",
   "metadata": {},
   "outputs": [],
   "source": [
    "def search_nearest(df_test,base,red_line=0.1,metric='cosine',n=50):\n",
    "    df_test=df_test.copy()\n",
    "    # столбцы массивы\n",
    "    X_type_0 = np.array(df_test['vectors'].tolist())\n",
    "    X_type_1 = np.array(base['vectors'].tolist())\n",
    "\n",
    "    # матрицa попарных расстояний <-- метрики можно брать разные\n",
    "    distances = pairwise_distances(X_type_0, X_type_1, metric=metric)\n",
    "    \n",
    "    # списки для хранения ближайших соседей и расстояний\n",
    "    nearest_neighbors = []\n",
    "    nearest_neighbors_distances = []\n",
    "\n",
    "    # Для каждой строки в `df_test`, ищем ближайших \n",
    "    for i in range(len(distances)):\n",
    "        \n",
    "        dist_indices = np.where(distances[i]<red_line)\n",
    "        sorted_indices = np.argsort(distances[i])[:n]  # Берем n ближайших соседей\n",
    "        k_nearest_indices =np.intersect1d(sorted_indices,dist_indices)       \n",
    "        \n",
    "        k_nearest_neighbors = base.reset_index().loc[k_nearest_indices, 'track_id'].tolist()\n",
    "        nearest_neighbors.append(k_nearest_neighbors)\n",
    "        nearest_neighbors_distances.append(distances[i, sorted_indices])\n",
    "    \n",
    "    # добавляем столбцы\n",
    "    df_test['nearest_neighbors_id'] = nearest_neighbors\n",
    "    df_test['nearest_neighbors_distances'] = nearest_neighbors_distances\n",
    "   \n",
    "   # Удалим сам трек из списка всех айдишников группы, для более удобного расчета метрик \n",
    "    df_test['nearest_neighbors_id']=\\\n",
    "            df_test.apply(lambda row: rem(list(row['nearest_neighbors_id']),row['track_id']),axis=1) \n",
    "  \n",
    "    return df_test"
   ]
  },
  {
   "cell_type": "markdown",
   "id": "4ad9e3ac",
   "metadata": {},
   "source": [
    "#### Поиск связных треков на тесте"
   ]
  },
  {
   "cell_type": "code",
   "execution_count": 136,
   "id": "b041bb3f",
   "metadata": {},
   "outputs": [],
   "source": [
    "df_test_new=search_nearest(df_test,vectors,red_line=12.5,metric='cosine',n=500)"
   ]
  },
  {
   "cell_type": "markdown",
   "id": "8a7e178e",
   "metadata": {},
   "source": [
    "#### Расчет метрик\n"
   ]
  },
  {
   "cell_type": "code",
   "execution_count": 143,
   "id": "e570e508",
   "metadata": {},
   "outputs": [
    {
     "name": "stdout",
     "output_type": "stream",
     "text": [
      "Recall means,%: 90.61\n",
      "Jaccard means,%: 49.51\n",
      "Extra_cnt means: 17.5364238410596\n",
      "Accuracy Recall_100%: 74.83\n"
     ]
    },
    {
     "data": {
      "text/html": [
       "<div>\n",
       "<style scoped>\n",
       "    .dataframe tbody tr th:only-of-type {\n",
       "        vertical-align: middle;\n",
       "    }\n",
       "\n",
       "    .dataframe tbody tr th {\n",
       "        vertical-align: top;\n",
       "    }\n",
       "\n",
       "    .dataframe thead th {\n",
       "        text-align: right;\n",
       "    }\n",
       "</style>\n",
       "<table border=\"1\" class=\"dataframe\">\n",
       "  <thead>\n",
       "    <tr style=\"text-align: right;\">\n",
       "      <th></th>\n",
       "      <th>original_track_id</th>\n",
       "      <th>track_id</th>\n",
       "      <th>original_groups_id</th>\n",
       "      <th>all_groups_id</th>\n",
       "      <th>gr_covers_count</th>\n",
       "      <th>vectors</th>\n",
       "      <th>nearest_neighbors_id</th>\n",
       "      <th>nearest_neighbors_distances</th>\n",
       "      <th>Jaccard</th>\n",
       "      <th>recall</th>\n",
       "      <th>for_acc</th>\n",
       "      <th>extra_cnt</th>\n",
       "    </tr>\n",
       "  </thead>\n",
       "  <tbody>\n",
       "    <tr>\n",
       "      <th>0</th>\n",
       "      <td>f3e5e9db509f9b6f6d93b9c38e4e1324</td>\n",
       "      <td>572e11a3b4b1cad7375625d34a81c537</td>\n",
       "      <td>[9e20fd52b21566494b8d6586a39033c9, d71bd79936e...</td>\n",
       "      <td>[9e20fd52b21566494b8d6586a39033c9, d71bd79936e...</td>\n",
       "      <td>31</td>\n",
       "      <td>[0.1024962067604065, -0.9705983400344849, -0.3...</td>\n",
       "      <td>[e97ef4bf886cd850d083aec1cc54da22, b3c421773da...</td>\n",
       "      <td>[0.0, 2.3552095585570516, 2.3777638146664786, ...</td>\n",
       "      <td>0.666667</td>\n",
       "      <td>0.903226</td>\n",
       "      <td>0</td>\n",
       "      <td>11</td>\n",
       "    </tr>\n",
       "    <tr>\n",
       "      <th>1</th>\n",
       "      <td>17d7017dc7c7209af086203723776436</td>\n",
       "      <td>da3100bf59562ec131051daf0de4705e</td>\n",
       "      <td>[17d7017dc7c7209af086203723776436]</td>\n",
       "      <td>[da3100bf59562ec131051daf0de4705e, 17d7017dc7c...</td>\n",
       "      <td>1</td>\n",
       "      <td>[0.3692583441734314, -0.040233537554740906, 0....</td>\n",
       "      <td>[4a28b56fae46f5673f21fc42706cec59, 8e59b795e02...</td>\n",
       "      <td>[4.76837158203125e-07, 2.5747871572052254, 2.9...</td>\n",
       "      <td>0.200000</td>\n",
       "      <td>1.000000</td>\n",
       "      <td>1</td>\n",
       "      <td>4</td>\n",
       "    </tr>\n",
       "    <tr>\n",
       "      <th>2</th>\n",
       "      <td>53a04991308c2cc9179fdd401fea83a3</td>\n",
       "      <td>c737fecb6e8202be063a26b62a369bb4</td>\n",
       "      <td>[7933ee0128ac4ffd24f9a72f1e24b20b, 436e710c5ef...</td>\n",
       "      <td>[7933ee0128ac4ffd24f9a72f1e24b20b, 436e710c5ef...</td>\n",
       "      <td>20</td>\n",
       "      <td>[-0.0004092740418855101, -0.6311866044998169, ...</td>\n",
       "      <td>[0b9cf15952c98bda8f09a2341e1a195e, 8ddfd9f0545...</td>\n",
       "      <td>[4.76837158203125e-07, 0.14516852762385632, 1....</td>\n",
       "      <td>0.500000</td>\n",
       "      <td>1.000000</td>\n",
       "      <td>1</td>\n",
       "      <td>20</td>\n",
       "    </tr>\n",
       "    <tr>\n",
       "      <th>3</th>\n",
       "      <td>d2c3639b606e561f470be2e527d6eb8e</td>\n",
       "      <td>8aa6d0c635b450e994475cf5d8d8411b</td>\n",
       "      <td>[d2c3639b606e561f470be2e527d6eb8e]</td>\n",
       "      <td>[8aa6d0c635b450e994475cf5d8d8411b, d2c3639b606...</td>\n",
       "      <td>1</td>\n",
       "      <td>[-0.05860385671257973, -0.6743095517158508, 0....</td>\n",
       "      <td>[d2c3639b606e561f470be2e527d6eb8e]</td>\n",
       "      <td>[4.76837158203125e-07, 6.938490875999573, 14.2...</td>\n",
       "      <td>1.000000</td>\n",
       "      <td>1.000000</td>\n",
       "      <td>1</td>\n",
       "      <td>0</td>\n",
       "    </tr>\n",
       "    <tr>\n",
       "      <th>4</th>\n",
       "      <td>7041e571b759bd54f25281de3c8b80f6</td>\n",
       "      <td>e3f7aeb41158e002449187408f768286</td>\n",
       "      <td>[7041e571b759bd54f25281de3c8b80f6]</td>\n",
       "      <td>[e3f7aeb41158e002449187408f768286, 7041e571b75...</td>\n",
       "      <td>1</td>\n",
       "      <td>[0.07223959267139435, -0.15064863860607147, 0....</td>\n",
       "      <td>[e1f21d5f09c67bd8e4409de4206c05bb, 8b4a4336354...</td>\n",
       "      <td>[0.0, 2.1703674590299356, 6.53633970671279, 10...</td>\n",
       "      <td>0.018519</td>\n",
       "      <td>1.000000</td>\n",
       "      <td>1</td>\n",
       "      <td>53</td>\n",
       "    </tr>\n",
       "    <tr>\n",
       "      <th>...</th>\n",
       "      <td>...</td>\n",
       "      <td>...</td>\n",
       "      <td>...</td>\n",
       "      <td>...</td>\n",
       "      <td>...</td>\n",
       "      <td>...</td>\n",
       "      <td>...</td>\n",
       "      <td>...</td>\n",
       "      <td>...</td>\n",
       "      <td>...</td>\n",
       "      <td>...</td>\n",
       "      <td>...</td>\n",
       "    </tr>\n",
       "    <tr>\n",
       "      <th>448</th>\n",
       "      <td>17a163f6ab3de102b49599f5577866fc</td>\n",
       "      <td>8e88f4005376efa0ae69b104f282f2d5</td>\n",
       "      <td>[ed8ad4615cc2962d842889968884ba99, be01cc4f35b...</td>\n",
       "      <td>[8e88f4005376efa0ae69b104f282f2d5, ed8ad4615cc...</td>\n",
       "      <td>16</td>\n",
       "      <td>[0.22209532558918, -0.8211886286735535, 0.0268...</td>\n",
       "      <td>[42639cf37d0704c973edc73b3a24ab80, 2afbcb2cb42...</td>\n",
       "      <td>[0.0, 1.7403606951989363, 1.8949141641103344, ...</td>\n",
       "      <td>0.163265</td>\n",
       "      <td>1.000000</td>\n",
       "      <td>1</td>\n",
       "      <td>82</td>\n",
       "    </tr>\n",
       "    <tr>\n",
       "      <th>449</th>\n",
       "      <td>bd87557425a4027812554c39ead464f5</td>\n",
       "      <td>bd87557425a4027812554c39ead464f5</td>\n",
       "      <td>[e03cd95fb663ffaf0c420731534ad088]</td>\n",
       "      <td>[e03cd95fb663ffaf0c420731534ad088, bd87557425a...</td>\n",
       "      <td>1</td>\n",
       "      <td>[-0.45520368218421936, -1.0316730737686157, -0...</td>\n",
       "      <td>[42639cf37d0704c973edc73b3a24ab80, e1f21d5f09c...</td>\n",
       "      <td>[5.840038639982171e-07, 5.7461540765265555, 10...</td>\n",
       "      <td>0.009091</td>\n",
       "      <td>1.000000</td>\n",
       "      <td>1</td>\n",
       "      <td>109</td>\n",
       "    </tr>\n",
       "    <tr>\n",
       "      <th>450</th>\n",
       "      <td>17a163f6ab3de102b49599f5577866fc</td>\n",
       "      <td>815633cf7b2abcea4467ed905dc6cd69</td>\n",
       "      <td>[8e88f4005376efa0ae69b104f282f2d5, ed8ad4615cc...</td>\n",
       "      <td>[8e88f4005376efa0ae69b104f282f2d5, ed8ad4615cc...</td>\n",
       "      <td>16</td>\n",
       "      <td>[0.3302250802516937, -0.9096531867980957, 0.15...</td>\n",
       "      <td>[42639cf37d0704c973edc73b3a24ab80, 2afbcb2cb42...</td>\n",
       "      <td>[4.76837158203125e-07, 1.7813164183606085, 1.7...</td>\n",
       "      <td>0.192771</td>\n",
       "      <td>1.000000</td>\n",
       "      <td>1</td>\n",
       "      <td>67</td>\n",
       "    </tr>\n",
       "    <tr>\n",
       "      <th>451</th>\n",
       "      <td>5b85a7024058ef25b743117eef2a446a</td>\n",
       "      <td>5b85a7024058ef25b743117eef2a446a</td>\n",
       "      <td>[68e1821d4bc49baee676fef211375825]</td>\n",
       "      <td>[68e1821d4bc49baee676fef211375825, 5b85a702405...</td>\n",
       "      <td>1</td>\n",
       "      <td>[1.1431483030319214, -0.3891851007938385, 0.37...</td>\n",
       "      <td>[396a12e41909fd34b35729dd88741c9e, 68e1821d4bc...</td>\n",
       "      <td>[6.743495761743046e-07, 2.985761817385608, 5.0...</td>\n",
       "      <td>0.333333</td>\n",
       "      <td>1.000000</td>\n",
       "      <td>1</td>\n",
       "      <td>2</td>\n",
       "    </tr>\n",
       "    <tr>\n",
       "      <th>452</th>\n",
       "      <td>0fcb82fec458a0993f848200548eaaa0</td>\n",
       "      <td>7cfb417a38db19631d8ee6f5e3f9243e</td>\n",
       "      <td>[06f2df4b7430b6353d4eacac5e39885b, 292724f1405...</td>\n",
       "      <td>[06f2df4b7430b6353d4eacac5e39885b, 292724f1405...</td>\n",
       "      <td>15</td>\n",
       "      <td>[0.45892098546028137, -0.9470623731613159, 1.2...</td>\n",
       "      <td>[64d1026760f8533e85e49b80fce8e643, 2210014d476...</td>\n",
       "      <td>[0.0, 3.6857633622919397, 3.7903837514948657, ...</td>\n",
       "      <td>0.619048</td>\n",
       "      <td>0.866667</td>\n",
       "      <td>0</td>\n",
       "      <td>6</td>\n",
       "    </tr>\n",
       "  </tbody>\n",
       "</table>\n",
       "<p>453 rows × 12 columns</p>\n",
       "</div>"
      ],
      "text/plain": [
       "                    original_track_id                          track_id  \\\n",
       "0    f3e5e9db509f9b6f6d93b9c38e4e1324  572e11a3b4b1cad7375625d34a81c537   \n",
       "1    17d7017dc7c7209af086203723776436  da3100bf59562ec131051daf0de4705e   \n",
       "2    53a04991308c2cc9179fdd401fea83a3  c737fecb6e8202be063a26b62a369bb4   \n",
       "3    d2c3639b606e561f470be2e527d6eb8e  8aa6d0c635b450e994475cf5d8d8411b   \n",
       "4    7041e571b759bd54f25281de3c8b80f6  e3f7aeb41158e002449187408f768286   \n",
       "..                                ...                               ...   \n",
       "448  17a163f6ab3de102b49599f5577866fc  8e88f4005376efa0ae69b104f282f2d5   \n",
       "449  bd87557425a4027812554c39ead464f5  bd87557425a4027812554c39ead464f5   \n",
       "450  17a163f6ab3de102b49599f5577866fc  815633cf7b2abcea4467ed905dc6cd69   \n",
       "451  5b85a7024058ef25b743117eef2a446a  5b85a7024058ef25b743117eef2a446a   \n",
       "452  0fcb82fec458a0993f848200548eaaa0  7cfb417a38db19631d8ee6f5e3f9243e   \n",
       "\n",
       "                                    original_groups_id  \\\n",
       "0    [9e20fd52b21566494b8d6586a39033c9, d71bd79936e...   \n",
       "1                   [17d7017dc7c7209af086203723776436]   \n",
       "2    [7933ee0128ac4ffd24f9a72f1e24b20b, 436e710c5ef...   \n",
       "3                   [d2c3639b606e561f470be2e527d6eb8e]   \n",
       "4                   [7041e571b759bd54f25281de3c8b80f6]   \n",
       "..                                                 ...   \n",
       "448  [ed8ad4615cc2962d842889968884ba99, be01cc4f35b...   \n",
       "449                 [e03cd95fb663ffaf0c420731534ad088]   \n",
       "450  [8e88f4005376efa0ae69b104f282f2d5, ed8ad4615cc...   \n",
       "451                 [68e1821d4bc49baee676fef211375825]   \n",
       "452  [06f2df4b7430b6353d4eacac5e39885b, 292724f1405...   \n",
       "\n",
       "                                         all_groups_id  gr_covers_count  \\\n",
       "0    [9e20fd52b21566494b8d6586a39033c9, d71bd79936e...               31   \n",
       "1    [da3100bf59562ec131051daf0de4705e, 17d7017dc7c...                1   \n",
       "2    [7933ee0128ac4ffd24f9a72f1e24b20b, 436e710c5ef...               20   \n",
       "3    [8aa6d0c635b450e994475cf5d8d8411b, d2c3639b606...                1   \n",
       "4    [e3f7aeb41158e002449187408f768286, 7041e571b75...                1   \n",
       "..                                                 ...              ...   \n",
       "448  [8e88f4005376efa0ae69b104f282f2d5, ed8ad4615cc...               16   \n",
       "449  [e03cd95fb663ffaf0c420731534ad088, bd87557425a...                1   \n",
       "450  [8e88f4005376efa0ae69b104f282f2d5, ed8ad4615cc...               16   \n",
       "451  [68e1821d4bc49baee676fef211375825, 5b85a702405...                1   \n",
       "452  [06f2df4b7430b6353d4eacac5e39885b, 292724f1405...               15   \n",
       "\n",
       "                                               vectors  \\\n",
       "0    [0.1024962067604065, -0.9705983400344849, -0.3...   \n",
       "1    [0.3692583441734314, -0.040233537554740906, 0....   \n",
       "2    [-0.0004092740418855101, -0.6311866044998169, ...   \n",
       "3    [-0.05860385671257973, -0.6743095517158508, 0....   \n",
       "4    [0.07223959267139435, -0.15064863860607147, 0....   \n",
       "..                                                 ...   \n",
       "448  [0.22209532558918, -0.8211886286735535, 0.0268...   \n",
       "449  [-0.45520368218421936, -1.0316730737686157, -0...   \n",
       "450  [0.3302250802516937, -0.9096531867980957, 0.15...   \n",
       "451  [1.1431483030319214, -0.3891851007938385, 0.37...   \n",
       "452  [0.45892098546028137, -0.9470623731613159, 1.2...   \n",
       "\n",
       "                                  nearest_neighbors_id  \\\n",
       "0    [e97ef4bf886cd850d083aec1cc54da22, b3c421773da...   \n",
       "1    [4a28b56fae46f5673f21fc42706cec59, 8e59b795e02...   \n",
       "2    [0b9cf15952c98bda8f09a2341e1a195e, 8ddfd9f0545...   \n",
       "3                   [d2c3639b606e561f470be2e527d6eb8e]   \n",
       "4    [e1f21d5f09c67bd8e4409de4206c05bb, 8b4a4336354...   \n",
       "..                                                 ...   \n",
       "448  [42639cf37d0704c973edc73b3a24ab80, 2afbcb2cb42...   \n",
       "449  [42639cf37d0704c973edc73b3a24ab80, e1f21d5f09c...   \n",
       "450  [42639cf37d0704c973edc73b3a24ab80, 2afbcb2cb42...   \n",
       "451  [396a12e41909fd34b35729dd88741c9e, 68e1821d4bc...   \n",
       "452  [64d1026760f8533e85e49b80fce8e643, 2210014d476...   \n",
       "\n",
       "                           nearest_neighbors_distances   Jaccard    recall  \\\n",
       "0    [0.0, 2.3552095585570516, 2.3777638146664786, ...  0.666667  0.903226   \n",
       "1    [4.76837158203125e-07, 2.5747871572052254, 2.9...  0.200000  1.000000   \n",
       "2    [4.76837158203125e-07, 0.14516852762385632, 1....  0.500000  1.000000   \n",
       "3    [4.76837158203125e-07, 6.938490875999573, 14.2...  1.000000  1.000000   \n",
       "4    [0.0, 2.1703674590299356, 6.53633970671279, 10...  0.018519  1.000000   \n",
       "..                                                 ...       ...       ...   \n",
       "448  [0.0, 1.7403606951989363, 1.8949141641103344, ...  0.163265  1.000000   \n",
       "449  [5.840038639982171e-07, 5.7461540765265555, 10...  0.009091  1.000000   \n",
       "450  [4.76837158203125e-07, 1.7813164183606085, 1.7...  0.192771  1.000000   \n",
       "451  [6.743495761743046e-07, 2.985761817385608, 5.0...  0.333333  1.000000   \n",
       "452  [0.0, 3.6857633622919397, 3.7903837514948657, ...  0.619048  0.866667   \n",
       "\n",
       "     for_acc  extra_cnt  \n",
       "0          0         11  \n",
       "1          1          4  \n",
       "2          1         20  \n",
       "3          1          0  \n",
       "4          1         53  \n",
       "..       ...        ...  \n",
       "448        1         82  \n",
       "449        1        109  \n",
       "450        1         67  \n",
       "451        1          2  \n",
       "452        0          6  \n",
       "\n",
       "[453 rows x 12 columns]"
      ]
     },
     "execution_count": 143,
     "metadata": {},
     "output_type": "execute_result"
    }
   ],
   "source": [
    "metrics_all(df_test_new,name_col_predict='nearest_neighbors_id')"
   ]
  },
  {
   "cell_type": "markdown",
   "id": "54bec500",
   "metadata": {},
   "source": [
    "```\n",
    "red_line=0.15,metric='cosine',n=500\n",
    "\n",
    "Recall means: 0.9092503596895569\n",
    "Jaccard means: 0.4985296604095853\n",
    "Extra_cnt means: 7.717439293598234\n",
    "Extra means: 4.314703467747788\n",
    "Accuracy Recall_100%: 0.7527593818984547\n",
    "\n",
    "\n",
    "red_line=12.5,metric='euclidean',n=500\n",
    "Recall means: 0.9061422589401779\n",
    "Jaccard means: 0.49508640097574536\n",
    "Extra_cnt means: 17.5364238410596\n",
    "Extra means: 11.790743567101288\n",
    "Accuracy Recall_100%: 0.7483443708609272\n",
    "\n",
    "\n",
    "\n",
    "\n",
    "```"
   ]
  },
  {
   "cell_type": "markdown",
   "id": "d7627c70",
   "metadata": {},
   "source": [
    "Мы провели мини-исследование по подбору порога косинусного расстояния для отбора связных треков.\n",
    "Остановились на пороге 0.15, опираясь, в основном, на метрику Recall(полнота). т.к.\n",
    "Jaccard учитывает и кол-во лишних, но пока у нас неполная доразметка, мы предполагаем, что лишние - на самом деле верные, но, пока не размеченные каверы."
   ]
  },
  {
   "cell_type": "markdown",
   "id": "94bb0eda",
   "metadata": {},
   "source": [
    "### Выводы:\n",
    "В рамках решения данной задачи: \n",
    "\n",
    "1. Провели многоэтапную сборку датасета, включающую формирование списков с track_id\t связных групп \n",
    "2. Сделали векторизацию \n",
    "3. Разработали и реализовали расчет метрик\n",
    "3. Нашли все связные треки для каждого из тестовой выборки\n",
    "4. Оценили качество\n",
    "\n",
    "\n",
    "Мы получили хорошую метрику Recall на тестовой выборке, более 90%. При определенном пороге - 95%.\n",
    "Таким образом, на основании текстов можно определить связаны ли треки. Для 75% треков удалось найти абсолютно все связные треки.\n",
    "\n"
   ]
  },
  {
   "cell_type": "code",
   "execution_count": null,
   "id": "9301b501",
   "metadata": {},
   "outputs": [],
   "source": []
  },
  {
   "cell_type": "markdown",
   "id": "973572af",
   "metadata": {},
   "source": [
    "## Нахождение оригинала\n",
    "\n",
    "**Гипотеза 2:** Для каждого заданного кавера, модель находит оригинал.\n",
    "\n",
    "**Польза:** Благодаря такой модели можно, например, найти исходник к каверу и узнать, кто же автор понравившейся композиции или в кком году она была выпущена и т.д.\n",
    "\n",
    "**Решение:** Можно использовать предыдущую модель, только искать среди отфильтрованного датасета из одних оригиналов. И ограничивать выдачу модели 1, самым близким треком.\n"
   ]
  },
  {
   "cell_type": "markdown",
   "id": "783e3061",
   "metadata": {
    "id": "783e3061"
   },
   "source": [
    "## ДОРАЗАМЕТКА:"
   ]
  },
  {
   "cell_type": "code",
   "execution_count": 113,
   "id": "d18fa624",
   "metadata": {},
   "outputs": [
    {
     "ename": "IndentationError",
     "evalue": "expected an indented block (3408563532.py, line 3)",
     "output_type": "error",
     "traceback": [
      "\u001b[1;36m  Cell \u001b[1;32mIn[113], line 3\u001b[1;36m\u001b[0m\n\u001b[1;33m    final_table=base.copy()\u001b[0m\n\u001b[1;37m    ^\u001b[0m\n\u001b[1;31mIndentationError\u001b[0m\u001b[1;31m:\u001b[0m expected an indented block\n"
     ]
    }
   ],
   "source": [
    "  \n",
    "    \n",
    "    \n",
    "    def cosin_best(id_query,red_line):\n",
    "\n",
    "    final_table=base.copy()\n",
    "    vec_query=df_test.loc[df_test['track_id'] == id_query]['vectors'].values[0] #вектор \n",
    "\n",
    "    final_table['cosin_dist'] = final_table['vectors'].apply(lambda x: cosine(vec_query,x)) \n",
    "\n",
    "    dist = red_line # порог\n",
    "\n",
    "    # Соберем в лист отобранные айдишники\n",
    "    result_list=final_table[final_table['cosin_dist'] <= dist].sort_values('cosin_dist')['track_id'].tolist()\n",
    "   \n",
    "    try:\n",
    "        result_list.remove(id_query)  # Удалим сам трек-запрос\n",
    "    except: print('cant remove id')\n",
    "  \n",
    "    # ЗДЕСЬ НАДО ВЫБРАТЬ ОДИН ЛУЧШИЙ, ЕСЛИ НЕ НАЙДЕНО, ТО ВЕРНУТЬ \"НЕИЗВЕСТЕН\"\n",
    "  \n",
    "    return result_list \n",
    "\n",
    "\n",
    "\n",
    "# base оригиналы с текстом\n",
    "# df_test каверы с текстом но без разметки в original_track_id\n",
    "\n",
    "\n",
    "def dorazm(base=base,df_test=df_test,count=1, red_line=0.1):\n",
    "    \n",
    "\n",
    "    base=base.copy()\n",
    "    df_test_2=df_test.copy()\n",
    "    \n",
    "    #заполним лучшего по косиносному расстоянию из оригиналов\n",
    "\n",
    "    df_test_2['original_track_id']=base['track_id'].progress_apply(lambda x: cosin_best(x,red_line))\n",
    "    \n",
    "    print(посчитать кол-во не  заполненных)\n",
    "  \n",
    "    return df_test_2 "
   ]
  },
  {
   "cell_type": "code",
   "execution_count": null,
   "id": "24e195dc",
   "metadata": {},
   "outputs": [],
   "source": []
  },
  {
   "cell_type": "code",
   "execution_count": null,
   "id": "0f4be41c",
   "metadata": {},
   "outputs": [],
   "source": []
  },
  {
   "cell_type": "code",
   "execution_count": null,
   "id": "76c93b33",
   "metadata": {},
   "outputs": [],
   "source": []
  },
  {
   "cell_type": "code",
   "execution_count": null,
   "id": "668e5330",
   "metadata": {},
   "outputs": [],
   "source": []
  },
  {
   "cell_type": "code",
   "execution_count": null,
   "id": "f9b89018",
   "metadata": {},
   "outputs": [],
   "source": []
  },
  {
   "cell_type": "markdown",
   "id": "a1c6903c",
   "metadata": {
    "id": "783e3061"
   },
   "source": [
    "## Итоговый вывод:"
   ]
  },
  {
   "cell_type": "markdown",
   "id": "19b626dc",
   "metadata": {},
   "source": [
    "Подумать, средняя длина текста трека: 1216.4, а мы векторизуем первые 512"
   ]
  },
  {
   "cell_type": "code",
   "execution_count": null,
   "id": "25ea5b15",
   "metadata": {},
   "outputs": [],
   "source": [
    "vectors['len_clear']=vectors['clear'].apply(lambda x: len(x))\n",
    "vectors['len_clear'].mean()"
   ]
  },
  {
   "cell_type": "code",
   "execution_count": null,
   "id": "88356f80",
   "metadata": {},
   "outputs": [],
   "source": []
  },
  {
   "cell_type": "code",
   "execution_count": null,
   "id": "047f63e4",
   "metadata": {},
   "outputs": [],
   "source": []
  },
  {
   "cell_type": "code",
   "execution_count": null,
   "id": "1e5373ad",
   "metadata": {},
   "outputs": [],
   "source": []
  },
  {
   "cell_type": "code",
   "execution_count": null,
   "id": "4f7d7bd4",
   "metadata": {},
   "outputs": [],
   "source": []
  },
  {
   "cell_type": "code",
   "execution_count": null,
   "id": "ce40626f",
   "metadata": {
    "id": "ce40626f"
   },
   "outputs": [],
   "source": []
  }
 ],
 "metadata": {
  "accelerator": "GPU",
  "colab": {
   "gpuType": "T4",
   "provenance": []
  },
  "kernelspec": {
   "display_name": "Python 3 (ipykernel)",
   "language": "python",
   "name": "python3"
  },
  "language_info": {
   "codemirror_mode": {
    "name": "ipython",
    "version": 3
   },
   "file_extension": ".py",
   "mimetype": "text/x-python",
   "name": "python",
   "nbconvert_exporter": "python",
   "pygments_lexer": "ipython3",
   "version": "3.11.5"
  },
  "toc": {
   "base_numbering": 1,
   "nav_menu": {},
   "number_sections": true,
   "sideBar": true,
   "skip_h1_title": true,
   "title_cell": "Table of Contents",
   "title_sidebar": "Contents",
   "toc_cell": true,
   "toc_position": {
    "height": "calc(100% - 180px)",
    "left": "10px",
    "top": "150px",
    "width": "481.516px"
   },
   "toc_section_display": true,
   "toc_window_display": true
  }
 },
 "nbformat": 4,
 "nbformat_minor": 5
}
